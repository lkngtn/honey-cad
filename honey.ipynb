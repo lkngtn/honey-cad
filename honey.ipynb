{
 "cells": [
  {
   "cell_type": "markdown",
   "metadata": {},
   "source": [
    "# Honey Supply Policy \n",
    "\n",
    "The current Honey supply policy depends on governance to adjust a per block issuance rate. This is not ideal because it requires administrative governance to modulate the issuance rate, making it difficult for participants who do not have a controlling interest in governance to have confidence that issuance will be handled responsibly and predictably over time. \n",
    "\n",
    "We would like to design and implement a dynamic issuance policy that minimizes the need for governance decisions over issuance while ensuring that the system is attractive to both more passive speculators that want to understand the upper bounds of issuance as well as active contributors who want to ensure that the system can provide adequate and consistent rewards for the value they produce.  \n",
    "    \n",
    "For the purpose of this model we differentiate the honey supply into two buckets, the common pool and the circulating supply. We model inflows to the system as parameter to show how the system would behave when inflows exceed outflows, and we treat conviction outflows as a fixed percent rate from the common pool over time. This abstraction of conviction outflows represents a **maximum possible rate for a given parameterization of conviction voting**, though in practice the real outflow rate would tend to be much lower due to the ability for participants to support signaling proposals (eg abstain), or for proposal to recieve some support but ultimately fail to reach sufficient support to execute. Never the less, this creates an outlfow boundary, and by modulating issuance based on inflows and outflows, we can also understand it as an issuance boundary. \n",
    "\n",
    "## State Variables\n",
    "\n",
    "We define three state variables, the common pool balance, the circulating supply. All of these variables are denominated in honey.  \n"
   ]
  },
  {
   "cell_type": "code",
   "execution_count": 1,
   "metadata": {},
   "outputs": [],
   "source": [
    "import random as rand"
   ]
  },
  {
   "cell_type": "code",
   "execution_count": 2,
   "metadata": {},
   "outputs": [],
   "source": [
    "# # # # # # # # # # # # # # # # # # # # # # # # # # # # # # # # # # # # # # # # # # # # # # # # \n",
    "# List of all the state variables in the system and their initial values\n",
    "genesis_states = {\n",
    "    'reserve': 7473, # Current common pool balance\n",
    "    'circulation': 18765, # Total honey supply minus common pool balance (26238 - 7473)\n",
    "    'netflow': 0.0,\n",
    "    'adjustment':0.0\n",
    "}\n",
    "# # # # # # # # # # # # # # # # # # # # # # # # # # # # # # # # # # # # # # # # # # # # # # # # "
   ]
  },
  {
   "source": [
    "# Model Params\n",
    "We define some parameters which can be used to tune the behavior of issuance and distribution in the model. Paramters assume that each time step of the model relfect 1 month of real time, the simulation will run for 120 timesteps giving the model as a whole a 10 year time horizon.  "
   ],
   "cell_type": "markdown",
   "metadata": {}
  },
  {
   "cell_type": "code",
   "execution_count": 3,
   "metadata": {},
   "outputs": [],
   "source": [
    "# # # # # # # # # # # # # # # # # # # # # # # # # # # # # # # # # # # # # # # # # # # # # # # # \n",
    "# List of all the state variables in the system and their initial values\n",
    "params = {\n",
    "    'outflow_rate': [0.05, 0.05, 0.025, 0.05], # proportion of common pool funds that leave each timestep (month), \n",
    "    'inflow': [0.0, 0.0, 0.0, 0.02], # proportion of circulating supply that is moved to the common pool each timestep, used to show how burning kicks in when inflows exceed outflows while. \n",
    "    'throttle': [0.0, 0.004, 0.0, 0.0], # maximimum proportion of the total supply that can be issued or burned in each timestep (month) \n",
    "    'target_reserve_ratio': [0.20, 0.20, 0.20, 0.20] # target ratio of common pool funds to total supply\n",
    "}\n",
    "# # # # # # # # # # # # # # # # # # # # # # # # # # # # # # # # # # # # # # # # # # # # # # # # "
   ]
  },
  {
   "cell_type": "markdown",
   "metadata": {},
   "source": [
    "# Timestep\n",
    "We assume that each timestep in cadcad represents 1 month in real time, scaling model parameters to reflect that timescale. \n",
    "\n",
    "# Policies and State Update Functions\n",
    "\n",
    "We define a supply policy and four state update fuctions. \n"
   ]
  },
  {
   "cell_type": "code",
   "execution_count": 4,
   "metadata": {},
   "outputs": [],
   "source": [
    "def supply_policy(params, step, sH, s):\n",
    "    # first we calculate net flows\n",
    "    outflow_rate = params['outflow_rate']\n",
    "    # outflow = s['reserve'] * rand.triangular(0, outflow_rate, outflow_rate/5)\n",
    "    outflow = s['reserve'] * outflow_rate\n",
    "    netflow = params['inflow'] * s['circulation'] - outflow\n",
    "\n",
    "    # then we calculate supply adjustments \n",
    "    reserve = s['reserve'] + netflow \n",
    "    circulation = s['circulation'] - netflow\n",
    "    supply = reserve + circulation\n",
    "    ratio = reserve / supply\n",
    "    \n",
    "\n",
    "    # Proportional control https://en.wikipedia.org/wiki/Proportional_control\n",
    "    # corrections are made proportionally to the difference between the target and the current value\n",
    "\n",
    "    e = (params['target_reserve_ratio'] - ratio) / 12\n",
    "\n",
    "    if params['throttle'] != 0: \n",
    "        # Corrections bounded by a maximum issuance rate parameter \n",
    "        if e < 0:\n",
    "            adjustment = max(e, -params['throttle']) * supply\n",
    "        else:\n",
    "            adjustment = min(e, params['throttle']) * supply \n",
    "    else:\n",
    "        # Corrections are unbounded, issuance is bounded by the maximum outflow rate \n",
    "        adjustment = e * supply \n",
    "\n",
    "\n",
    "    return ({'netflow':netflow, 'adjustment':adjustment})\n",
    "\n",
    "\n",
    "def update_reserve(params, step, sH, s, _input):\n",
    "    key = 'reserve'\n",
    "    value = s['reserve'] + _input['netflow'] + _input['adjustment']\n",
    "    return (key, value)\n",
    "\n",
    "def update_circulation(params, step, sH, s, _input):\n",
    "    key = 'circulation'\n",
    "    value = s['circulation'] - _input['netflow']\n",
    "    return (key, value)\n",
    "\n",
    "def update_netflow(params, step, sH, s, _input):\n",
    "    key = 'netflow'\n",
    "    value =  _input['netflow']\n",
    "    return (key, value)\n",
    "\n",
    "def update_adjustment(params, step, sH, s, _input):\n",
    "    key = 'adjustment'\n",
    "    value =  _input['adjustment']\n",
    "    return (key, value)"
   ]
  },
  {
   "cell_type": "markdown",
   "metadata": {},
   "source": [
    "# Partial State Update Blocks\n"
   ]
  },
  {
   "cell_type": "code",
   "execution_count": 5,
   "metadata": {},
   "outputs": [],
   "source": [
    "# # # # # # # # # # # # # # # # # # # # # # # # # # # # # # # # # # # # # # # # # # # # # # # # \n",
    "# In the Partial State Update Blocks, the user specifies if state update functions will be run in series or in parallel\n",
    "partial_state_update_blocks = [\n",
    "    { \n",
    "        'policies': {\n",
    "            'driver': supply_policy\n",
    "        },\n",
    "        'variables': { # The following state variables will be updated simultaneously\n",
    "            'reserve': update_reserve,\n",
    "            'circulation': update_circulation,\n",
    "            'netflow': update_netflow,\n",
    "            'adjustment': update_adjustment\n",
    "        }\n",
    "    }\n",
    "]\n",
    "# # # # # # # # # # # # # # # # # # # # # # # # # # # # # # # # # # # # # # # # # # # # # # # # "
   ]
  },
  {
   "cell_type": "markdown",
   "metadata": {},
   "source": [
    "# Simulation Configuration Parameters\n",
    "Lastly, we define the number of timesteps and the number of Monte Carlo runs of the simulation. These parameters must be passed in a dictionary, in `dict_keys` `T` and `N`, respectively. In our example, we'll run the simulation for 10 timesteps. And because we are dealing with a deterministic system, it makes no sense to have multiple Monte Carlo runs, so we set `N=1`. We'll ignore the `M` key for now and set it to an empty `dict`"
   ]
  },
  {
   "cell_type": "code",
   "execution_count": 6,
   "metadata": {},
   "outputs": [],
   "source": [
    "# # # # # # # # # # # # # # # # # # # # # # # # # # # # # # # # # # # # # # # # # # # # # # # # \n",
    "# Settings of general simulation parameters, unrelated to the system itself\n",
    "# `T` is a range with the number of discrete units of time the simulation will run for;\n",
    "# `N` is the number of times the simulation will be run (Monte Carlo runs)\n",
    "# In this example, we'll run the simulation once (N=1) and its duration will be of 10 timesteps\n",
    "# We'll cover the `M` key in a future article. For now, let's omit it\n",
    "sim_config_dict = {\n",
    "    'T': range(120),\n",
    "    'N': 1,\n",
    "    'M': params\n",
    "}\n",
    "# # # # # # # # # # # # # # # # # # # # # # # # # # # # # # # # # # # # # # # # # # # # # # # # "
   ]
  },
  {
   "cell_type": "markdown",
   "metadata": {},
   "source": [
    "# Putting it all together\n",
    "We have defined the state variables of our system and their initial conditions, as well as the state update functions, which have been grouped in a single state update block. We have also specified the parameters of the simulation (number of timesteps and runs). We are now ready to put all those pieces together in a `Configuration` object."
   ]
  },
  {
   "cell_type": "code",
   "execution_count": 7,
   "metadata": {},
   "outputs": [],
   "source": [
    "#imported some addition utilities to help with configuration set-up\n",
    "from cadCAD.configuration.utils import config_sim\n",
    "from cadCAD.configuration import Experiment\n",
    "from cadCAD import configs\n",
    "\n",
    "exp = Experiment()\n",
    "c = config_sim(sim_config_dict)\n",
    "# # # # # # # # # # # # # # # # # # # # # # # # # # # # # # # # # # # # # # # # # # # # # # # # \n",
    "# The configurations above are then packaged into a `Configuration` object\n",
    "del configs[:]\n",
    "exp.append_configs(initial_state=genesis_states, #dict containing variable names and initial values\n",
    "                       partial_state_update_blocks=partial_state_update_blocks, #dict containing state update functions\n",
    "                       sim_configs=c #preprocessed dictionaries containing simulation parameters\n",
    "                      )"
   ]
  },
  {
   "cell_type": "markdown",
   "metadata": {},
   "source": [
    "# Running the engine\n",
    "We are now ready to run the engine with the configuration defined above. Instantiate an ExecutionMode, an ExecutionContext and an Executor objects, passing the Configuration object to the latter. Then run the `execute()` method of the Executor object, which returns the results of the experiment in the first element of a tuple."
   ]
  },
  {
   "cell_type": "code",
   "execution_count": 8,
   "metadata": {},
   "outputs": [],
   "source": [
    "%%capture\n",
    "from cadCAD.engine import ExecutionMode, ExecutionContext\n",
    "exec_mode = ExecutionMode()\n",
    "local_mode_ctx = ExecutionContext(exec_mode.local_mode)\n",
    "\n",
    "from cadCAD.engine import Executor\n",
    "\n",
    "simulation = Executor(exec_context=local_mode_ctx, configs=configs) # Pass the configuration object inside an array\n",
    "raw_system_events, tensor_field, sessions = simulation.execute() # The `execute()` method returns a tuple; its first elements contains the raw results\n"
   ]
  },
  {
   "cell_type": "markdown",
   "metadata": {},
   "source": [
    "# Analyzing the results\n",
    "We can now convert the raw results into a DataFrame for analysis"
   ]
  },
  {
   "cell_type": "code",
   "execution_count": 9,
   "metadata": {},
   "outputs": [
    {
     "output_type": "execute_result",
     "data": {
      "text/plain": [
       "                                 reserve   circulation     netflow  \\\n",
       "subset run timestep substep                                          \n",
       "0      1   0        0        7473.000000  18765.000000    0.000000   \n",
       "           1        1        6945.037500  19138.650000 -373.650000   \n",
       "           2        1        6482.698281  19485.901875 -347.251875   \n",
       "           3        1        6078.159756  19810.036789 -324.134914   \n",
       "           4        1        5724.534063  20113.944777 -303.907988   \n",
       "...                                  ...           ...         ...   \n",
       "3      3   116      1        3965.849142  12306.862024   48.031512   \n",
       "           117      1        3950.431285  12259.017241   47.844783   \n",
       "           118      1        3935.073369  12211.358460   47.658781   \n",
       "           119      1        3919.775161  12163.884959   47.473501   \n",
       "           120      1        3904.536429  12116.596018   47.288941   \n",
       "\n",
       "                             adjustment  simulation  \n",
       "subset run timestep substep                          \n",
       "0      1   0        0          0.000000           0  \n",
       "           1        1       -154.312500           0  \n",
       "           2        1       -115.087344           0  \n",
       "           3        1        -80.403611           0  \n",
       "           4        1        -49.717705           0  \n",
       "...                                 ...         ...  \n",
       "3      3   116      1        -63.509545           0  \n",
       "           117      1        -63.262641           0  \n",
       "           118      1        -63.016697           0  \n",
       "           119      1        -62.771709           0  \n",
       "           120      1        -62.527673           0  \n",
       "\n",
       "[484 rows x 5 columns]"
      ],
      "text/html": "<div>\n<style scoped>\n    .dataframe tbody tr th:only-of-type {\n        vertical-align: middle;\n    }\n\n    .dataframe tbody tr th {\n        vertical-align: top;\n    }\n\n    .dataframe thead th {\n        text-align: right;\n    }\n</style>\n<table border=\"1\" class=\"dataframe\">\n  <thead>\n    <tr style=\"text-align: right;\">\n      <th></th>\n      <th></th>\n      <th></th>\n      <th></th>\n      <th>reserve</th>\n      <th>circulation</th>\n      <th>netflow</th>\n      <th>adjustment</th>\n      <th>simulation</th>\n    </tr>\n    <tr>\n      <th>subset</th>\n      <th>run</th>\n      <th>timestep</th>\n      <th>substep</th>\n      <th></th>\n      <th></th>\n      <th></th>\n      <th></th>\n      <th></th>\n    </tr>\n  </thead>\n  <tbody>\n    <tr>\n      <th rowspan=\"5\" valign=\"top\">0</th>\n      <th rowspan=\"5\" valign=\"top\">1</th>\n      <th>0</th>\n      <th>0</th>\n      <td>7473.000000</td>\n      <td>18765.000000</td>\n      <td>0.000000</td>\n      <td>0.000000</td>\n      <td>0</td>\n    </tr>\n    <tr>\n      <th>1</th>\n      <th>1</th>\n      <td>6945.037500</td>\n      <td>19138.650000</td>\n      <td>-373.650000</td>\n      <td>-154.312500</td>\n      <td>0</td>\n    </tr>\n    <tr>\n      <th>2</th>\n      <th>1</th>\n      <td>6482.698281</td>\n      <td>19485.901875</td>\n      <td>-347.251875</td>\n      <td>-115.087344</td>\n      <td>0</td>\n    </tr>\n    <tr>\n      <th>3</th>\n      <th>1</th>\n      <td>6078.159756</td>\n      <td>19810.036789</td>\n      <td>-324.134914</td>\n      <td>-80.403611</td>\n      <td>0</td>\n    </tr>\n    <tr>\n      <th>4</th>\n      <th>1</th>\n      <td>5724.534063</td>\n      <td>20113.944777</td>\n      <td>-303.907988</td>\n      <td>-49.717705</td>\n      <td>0</td>\n    </tr>\n    <tr>\n      <th>...</th>\n      <th>...</th>\n      <th>...</th>\n      <th>...</th>\n      <td>...</td>\n      <td>...</td>\n      <td>...</td>\n      <td>...</td>\n      <td>...</td>\n    </tr>\n    <tr>\n      <th rowspan=\"5\" valign=\"top\">3</th>\n      <th rowspan=\"5\" valign=\"top\">3</th>\n      <th>116</th>\n      <th>1</th>\n      <td>3965.849142</td>\n      <td>12306.862024</td>\n      <td>48.031512</td>\n      <td>-63.509545</td>\n      <td>0</td>\n    </tr>\n    <tr>\n      <th>117</th>\n      <th>1</th>\n      <td>3950.431285</td>\n      <td>12259.017241</td>\n      <td>47.844783</td>\n      <td>-63.262641</td>\n      <td>0</td>\n    </tr>\n    <tr>\n      <th>118</th>\n      <th>1</th>\n      <td>3935.073369</td>\n      <td>12211.358460</td>\n      <td>47.658781</td>\n      <td>-63.016697</td>\n      <td>0</td>\n    </tr>\n    <tr>\n      <th>119</th>\n      <th>1</th>\n      <td>3919.775161</td>\n      <td>12163.884959</td>\n      <td>47.473501</td>\n      <td>-62.771709</td>\n      <td>0</td>\n    </tr>\n    <tr>\n      <th>120</th>\n      <th>1</th>\n      <td>3904.536429</td>\n      <td>12116.596018</td>\n      <td>47.288941</td>\n      <td>-62.527673</td>\n      <td>0</td>\n    </tr>\n  </tbody>\n</table>\n<p>484 rows × 5 columns</p>\n</div>"
     },
     "metadata": {},
     "execution_count": 9
    }
   ],
   "source": [
    "%matplotlib inline\n",
    "import pandas as pd\n",
    "simulation_result = pd.DataFrame(raw_system_events)\n",
    "simulation_result.set_index(['subset', 'run', 'timestep', 'substep'])"
   ]
  },
  {
   "source": [
    "# Analysis \n",
    "\n",
    "We have 4 different subsets of data based on different parameters. \n",
    "\n",
    "* subset 0: 20% reserve target, 0.05 outlfow rate from common pool per month, no throttle, no inflows\n",
    "* subset 1: 20% reserve target, 0.05 outflow rate from common pool per month, 0.004 per month throttle, no inflows\n",
    "* subset 2: 20% reserve target, 0.025 outflow rate from common pool per month, no throttle, no inflows\n",
    "* subset 3: 20% reserve target, 0.05 outflow rate from the common pool per month, no throttle, and 0.02 inflows\n",
    "\n",
    "I used a 20% reserve target and 0.05 maxiumum outflow rate as a baseline. Even with a 20% reserve target, the outflow rate and lack of inflows result in a equilibrium reserve of around 12%, if we conservatively assume the maximum outflow rate of 0.05 of the common pool, we end up with a max of 7.2% issuance per year. \n",
    "\n",
    "In the base case we do not specify the issuance rate, we only specify the target and conviction voting parameters that control the maximum outflow. However, if we want to define a maximum issuance rate directly we can use the throttle paramter. In subset 1, this is set to 0.004 or 4.8% per year, resulting in a reserve that stabilizes around 7.5%. It's worth noting that separting the max issuance rate from the conviction parameters, we can potentially remove governance over the max issuance (throttle), while retaining the ability to adjust conviction parameterization as needed, and we can more easily explain the maximum issuance rate without having to explain conviction voting parameterization in-depth. \n",
    "\n",
    "In practice we would expect the actual outflows to be much lower than theoretical maximum allows by a given set of conviction parameters. In subset 2, I turned the throttle back off but reduced the outflow rate by half. Reducing outflow rate results in slower overall supply growth, and the reserve stabilizing at a bit higher. From a system perspective, this means that if Honey holders choose to stake honey on the abstain proposals they would effectively be voting to reduce both the spending and the issuance rate. This ensures that honey holders do not have an incentive to overspend, because they always have the option to abstain and reduce issuance and outflows if they do not think any of the current proposals provide positive expected future value. \n",
    "\n",
    "Finally, in subset 4, I've set inflows to be greater than outflows, showing how over time this results in the reserves increasing beyond the target, and the supply of Honey decreasing as honey is burned from the common pool. Inflows are specified as a fixed ratio of the circulating supply in the model, which is completely arbitrary, but does help illustrate how consistent net inflows would impact both the total supply and reserves. Total supply would become deflationary, while the reserve would stabilize above the target reserve ratio. \n",
    "\n",
    "\n",
    "\n",
    "\n"
   ],
   "cell_type": "markdown",
   "metadata": {}
  },
  {
   "cell_type": "code",
   "execution_count": 12,
   "metadata": {},
   "outputs": [
    {
     "output_type": "display_data",
     "data": {
      "application/vnd.plotly.v1+json": {
       "config": {
        "plotlyServerURL": "https://plot.ly"
       },
       "data": [
        {
         "hovertemplate": "variable=total_supply<br>subset=0<br>timestep=%{x}<br>value=%{y}<extra></extra>",
         "legendgroup": "total_supply",
         "line": {
          "color": "rgb(76,114,176)",
          "dash": "solid"
         },
         "mode": "lines",
         "name": "total_supply",
         "showlegend": true,
         "type": "scattergl",
         "x": [
          0,
          1,
          2,
          3,
          4,
          5,
          6,
          7,
          8,
          9,
          10,
          11,
          12,
          13,
          14,
          15,
          16,
          17,
          18,
          19,
          20,
          21,
          22,
          23,
          24,
          25,
          26,
          27,
          28,
          29,
          30,
          31,
          32,
          33,
          34,
          35,
          36,
          37,
          38,
          39,
          40,
          41,
          42,
          43,
          44,
          45,
          46,
          47,
          48,
          49,
          50,
          51,
          52,
          53,
          54,
          55,
          56,
          57,
          58,
          59,
          60,
          61,
          62,
          63,
          64,
          65,
          66,
          67,
          68,
          69,
          70,
          71,
          72,
          73,
          74,
          75,
          76,
          77,
          78,
          79,
          80,
          81,
          82,
          83,
          84,
          85,
          86,
          87,
          88,
          89,
          90,
          91,
          92,
          93,
          94,
          95,
          96,
          97,
          98,
          99,
          100,
          101,
          102,
          103,
          104,
          105,
          106,
          107,
          108,
          109,
          110,
          111,
          112,
          113,
          114,
          115,
          116,
          117,
          118,
          119,
          120
         ],
         "xaxis": "x4",
         "y": [
          26238,
          26083.6875,
          25968.600156250002,
          25888.196544921877,
          25838.478839998374,
          25815.927873999535,
          25817.445957375563,
          25840.306529600122,
          25882.10982574723,
          25940.743839852454,
          26014.34995222563,
          26101.292663490036,
          26200.132944697383,
          26309.604771488477,
          26428.594461886158,
          26556.122482757004,
          26691.32742999812,
          26833.451922743574,
          26981.830182913498,
          27135.877098749923,
          27295.07859504051,
          27458.983153914036,
          27627.19434874349,
          27799.36427011622,
          27975.18773729181,
          28154.397201301905,
          28336.75825705861,
          28522.065691710435,
          28710.14000517815,
          28900.824346457164,
          29093.981816013278,
          29289.493090533044,
          29487.25433151601,
          29687.17534379717,
          29889.17795413963,
          30093.194583605065,
          30299.166990550748,
          30507.04516386805,
          30716.786348512614,
          30928.354187521218,
          31141.71796659845,
          31356.851949019096,
          31573.734790056253,
          31792.349021434246,
          32012.68059744059,
          32234.71849533075,
          32458.45436353947,
          32683.882211987482,
          32910.99813945471,
          33139.80009359186,
          33370.28765967146,
          33602.46187464511,
          33836.32506348394,
          34071.88069514061,
          34309.1332557888,
          34548.088137276696,
          34788.75153897702,
          35031.13038143379,
          35275.23223039666,
          35521.065230002394,
          35768.63804401115,
          36017.95980413559,
          36269.04006461604,
          36521.88876229589,
          36776.5161815406,
          37032.932923422195,
          37291.14987866006,
          37551.17820386985,
          37813.02930072576,
          38076.71479768859,
          38342.24653399372,
          38609.63654562926,
          38878.89705306746,
          39150.040450540226,
          39423.079296674856,
          39698.02630632813,
          39974.89434347597,
          40253.696415033286,
          40534.445665493295,
          40817.15537228909,
          41101.83894179159,
          41388.50990586864,
          41677.18191893851,
          41967.86875545958,
          42260.58430780448,
          42555.34258447346,
          42852.15770860701,
          43151.0439167626,
          43452.01555792453,
          43755.08709271971,
          44060.273092815376,
          44367.58824047754,
          44677.04732827172,
          44988.66525888946,
          45302.45704508626,
          45618.43780971833,
          45936.62278586686,
          46257.02731704011,
          46579.666857444594,
          46904.556972317776,
          47231.713338315596,
          47561.151743948925,
          47892.88809006377,
          48226.93839036065,
          48563.31877194918,
          48902.04547593431,
          49243.134858031066,
          49586.60338920522,
          49932.4676563373,
          50280.74436290802,
          50631.45032970316,
          50984.602495536266,
          51340.2179179879,
          51698.31377416001,
          52058.907361444406,
          52422.01609830445,
          52787.657525068935,
          53155.84930473767,
          53526.6092237979,
          53899.95519305114,
          54275.905248449875
         ],
         "yaxis": "y4"
        },
        {
         "hovertemplate": "variable=total_supply<br>subset=1<br>timestep=%{x}<br>value=%{y}<extra></extra>",
         "legendgroup": "total_supply",
         "line": {
          "color": "rgb(76,114,176)",
          "dash": "solid"
         },
         "mode": "lines",
         "name": "total_supply",
         "showlegend": false,
         "type": "scattergl",
         "x": [
          0,
          1,
          2,
          3,
          4,
          5,
          6,
          7,
          8,
          9,
          10,
          11,
          12,
          13,
          14,
          15,
          16,
          17,
          18,
          19,
          20,
          21,
          22,
          23,
          24,
          25,
          26,
          27,
          28,
          29,
          30,
          31,
          32,
          33,
          34,
          35,
          36,
          37,
          38,
          39,
          40,
          41,
          42,
          43,
          44,
          45,
          46,
          47,
          48,
          49,
          50,
          51,
          52,
          53,
          54,
          55,
          56,
          57,
          58,
          59,
          60,
          61,
          62,
          63,
          64,
          65,
          66,
          67,
          68,
          69,
          70,
          71,
          72,
          73,
          74,
          75,
          76,
          77,
          78,
          79,
          80,
          81,
          82,
          83,
          84,
          85,
          86,
          87,
          88,
          89,
          90,
          91,
          92,
          93,
          94,
          95,
          96,
          97,
          98,
          99,
          100,
          101,
          102,
          103,
          104,
          105,
          106,
          107,
          108,
          109,
          110,
          111,
          112,
          113,
          114,
          115,
          116,
          117,
          118,
          119,
          120
         ],
         "xaxis": "x3",
         "y": [
          26238,
          26133.048000000003,
          26028.515808000004,
          25944.56285375,
          25891.745036693126,
          25866.489693099942,
          25865.652029858233,
          25886.4640118088,
          25926.48935581481,
          25983.58390196332,
          26055.860719466637,
          26141.6593815858,
          26239.518911482774,
          26344.476987128706,
          26449.85489507722,
          26555.654314657528,
          26661.87693191616,
          26768.52443964382,
          26875.5985374024,
          26983.100931552006,
          27091.033335278218,
          27199.39746861933,
          27308.195058493806,
          27417.42783872778,
          27527.097550082693,
          27637.205940283024,
          27747.754764044155,
          27858.745783100334,
          27970.180766232734,
          28082.061489297666,
          28194.389735254856,
          28307.167294195875,
          28420.39596337266,
          28534.07754722615,
          28648.213857415056,
          28762.806712844715,
          28877.857939696092,
          28993.369371454875,
          29109.342848940694,
          29225.78022033646,
          29342.683341217802,
          29460.054074582673,
          29577.894290881002,
          29696.20586804453,
          29814.990691516705,
          29934.250654282772,
          30053.987656899903,
          30174.203607527503,
          30294.900421957613,
          30416.08002364544,
          30537.744343740025,
          30659.895321114986,
          30782.534902399442,
          30905.66504200904,
          31029.28770217708,
          31153.40485298579,
          31278.01847239773,
          31403.13054628732,
          31528.74306847247,
          31654.858040746363,
          31781.477472909348,
          31908.603382800986,
          32036.23779633219,
          32164.382747517517,
          32293.040278507586,
          32422.212439621617,
          32551.9012893801,
          32682.108894537625,
          32812.83733011578,
          32944.08867943624,
          33075.86503415398,
          33208.1684942906,
          33341.00116826776,
          33474.36517294083,
          33608.26263363259,
          33742.69568416712,
          33877.66646690379,
          34013.17713277141,
          34149.22984130249,
          34285.826760667704,
          34422.970067710376,
          34560.661947981214,
          34698.904595773136,
          34837.70021415623,
          34977.051015012854,
          35116.9592190729,
          35257.4270559492,
          35398.456764172995,
          35540.05059122969,
          35682.210793594604,
          35824.939636768984,
          35968.23939531606,
          36112.11235289732,
          36256.56080230891,
          36401.58704551814,
          36547.19339370021,
          36693.38216727501,
          36840.155695944115,
          36987.51631872789,
          37135.46638400281,
          37284.00824953882,
          37433.144282536974,
          37582.87685966712,
          37733.20836710579,
          37884.14120057422,
          38035.67776537652,
          38187.82047643803,
          38340.57175834378,
          38493.93404537716,
          38647.909781558665,
          38802.5014206849,
          38957.71142636764,
          39113.54227207311,
          39269.9964411614,
          39427.07642692604,
          39584.78473263375,
          39743.12387156428,
          39902.09636705054,
          40061.70475251874,
          40221.951571528814,
          40382.83937781493
         ],
         "yaxis": "y3"
        },
        {
         "hovertemplate": "variable=total_supply<br>subset=2<br>timestep=%{x}<br>value=%{y}<extra></extra>",
         "legendgroup": "total_supply",
         "line": {
          "color": "rgb(76,114,176)",
          "dash": "solid"
         },
         "mode": "lines",
         "name": "total_supply",
         "showlegend": false,
         "type": "scattergl",
         "x": [
          0,
          1,
          2,
          3,
          4,
          5,
          6,
          7,
          8,
          9,
          10,
          11,
          12,
          13,
          14,
          15,
          16,
          17,
          18,
          19,
          20,
          21,
          22,
          23,
          24,
          25,
          26,
          27,
          28,
          29,
          30,
          31,
          32,
          33,
          34,
          35,
          36,
          37,
          38,
          39,
          40,
          41,
          42,
          43,
          44,
          45,
          46,
          47,
          48,
          49,
          50,
          51,
          52,
          53,
          54,
          55,
          56,
          57,
          58,
          59,
          60,
          61,
          62,
          63,
          64,
          65,
          66,
          67,
          68,
          69,
          70,
          71,
          72,
          73,
          74,
          75,
          76,
          77,
          78,
          79,
          80,
          81,
          82,
          83,
          84,
          85,
          86,
          87,
          88,
          89,
          90,
          91,
          92,
          93,
          94,
          95,
          96,
          97,
          98,
          99,
          100,
          101,
          102,
          103,
          104,
          105,
          106,
          107,
          108,
          109,
          110,
          111,
          112,
          113,
          114,
          115,
          116,
          117,
          118,
          119,
          120
         ],
         "xaxis": "x2",
         "y": [
          26238,
          26068.11875,
          25924.388528645835,
          25804.395855767147,
          25705.95435505411,
          25627.08340371985,
          25565.988789423893,
          25521.045185743496,
          25490.780275221732,
          25473.860365094934,
          25469.077355365003,
          25475.336932075505,
          25491.647870603756,
          25517.112344610552,
          25550.91714610032,
          25592.325730933553,
          25640.67101218635,
          25695.34883104814,
          25755.81204155864,
          25821.565151473846,
          25892.15946697646,
          25967.18869386175,
          26046.28495228314,
          26129.115166176718,
          26215.377792139116,
          26304.799855844958,
          26397.134267090543,
          26492.157387268646,
          26589.66682554208,
          26689.479442214884,
          26791.429539821387,
          26895.3672242849,
          27001.156920156813,
          27108.67602545032,
          27217.813692944685,
          27328.469726069947,
          27440.5535785998,
          27553.98344839305,
          27668.68545634174,
          27784.592902515185,
          27901.645592242407,
          28019.78922555761,
          28138.974844051765,
          28259.15832973313,
          28380.29995100723,
          28502.363951346244,
          28625.318176634475,
          28749.1337375537,
          28873.784703714173,
          28999.24782654675,
          29125.502288252126,
          29252.529474357456,
          29380.31276766095,
          29508.83736155366,
          29638.09009089667,
          29768.05927880335,
          29898.734597831266,
          30030.106944229097,
          30162.16832401122,
          30294.911749747956,
          30428.331147064113,
          30562.421269933096,
          30697.177623939675,
          30832.5963967623,
          30968.674395196205,
          31105.408988102394,
          31242.7980547254,
          31380.839937875142,
          31519.53340151552,
          31658.87759234556,
          31798.87200499771,
          31939.51645051325,
          32080.811027786767,
          32222.75609770058,
          32365.352259696196,
          32508.60033055374,
          32652.501325171837,
          32797.056439159795,
          32942.267033071825,
          33088.134618128875,
          33234.66084328835,
          33381.84748353484,
          33529.69642927729,
          33678.20967674845,
          33827.38931931251,
          33977.237539595524,
          34127.75660236124,
          34278.94884806235,
          34430.81668700372,
          34583.362594059945,
          34736.58910389531,
          34890.49880663878,
          35045.09434397144,
          35200.37840558748,
          35356.35372599373,
          35513.023081615924,
          35670.38928818279,
          35828.455198362055,
          35987.2236996245,
          36146.69771231483,
          36306.88018790984,
          36467.774107446254,
          36629.38248010249,
          36791.708341919715,
          36954.754754649184,
          37118.52480471411,
          37283.02160227515,
          37448.24828038998,
          37614.20799425797,
          37780.90392054212,
          37948.33925676092,
          38116.51722074368,
          38285.441050143294,
          38455.11400200117,
          38625.539352359345,
          38796.72039591543,
          38968.660445716436,
          39141.362832887724,
          39314.830906393974,
          39489.06803282899,
          39664.077596231866
         ],
         "yaxis": "y2"
        },
        {
         "hovertemplate": "variable=total_supply<br>subset=3<br>timestep=%{x}<br>value=%{y}<extra></extra>",
         "legendgroup": "total_supply",
         "line": {
          "color": "rgb(76,114,176)",
          "dash": "solid"
         },
         "mode": "lines",
         "name": "total_supply",
         "showlegend": false,
         "type": "scattergl",
         "x": [
          0,
          1,
          2,
          3,
          4,
          5,
          6,
          7,
          8,
          9,
          10,
          11,
          12,
          13,
          14,
          15,
          16,
          17,
          18,
          19,
          20,
          21,
          22,
          23,
          24,
          25,
          26,
          27,
          28,
          29,
          30,
          31,
          32,
          33,
          34,
          35,
          36,
          37,
          38,
          39,
          40,
          41,
          42,
          43,
          44,
          45,
          46,
          47,
          48,
          49,
          50,
          51,
          52,
          53,
          54,
          55,
          56,
          57,
          58,
          59,
          60,
          61,
          62,
          63,
          64,
          65,
          66,
          67,
          68,
          69,
          70,
          71,
          72,
          73,
          74,
          75,
          76,
          77,
          78,
          79,
          80,
          81,
          82,
          83,
          84,
          85,
          86,
          87,
          88,
          89,
          90,
          91,
          92,
          93,
          94,
          95,
          96,
          97,
          98,
          99,
          100,
          101,
          102,
          103,
          104,
          105,
          106,
          107,
          108,
          109,
          110,
          111,
          112,
          113,
          114,
          115,
          116,
          117,
          118,
          119,
          120
         ],
         "xaxis": "x",
         "y": [
          26238,
          26052.4125,
          25878.29634375,
          25714.224371953125,
          25558.95278824746,
          25411.397577196818,
          25270.613955216264,
          25135.778464359537,
          25006.173369063716,
          24881.17305966241,
          24760.232204572247,
          24642.8754262517,
          24528.68830495634,
          24417.30953951949,
          24308.424116350543,
          24201.75735698172,
          24097.069731171094,
          23994.152337101885,
          23892.82296288126,
          23792.922654576316,
          23694.312725640335,
          23596.872150961084,
          23500.495296064015,
          23405.089938365323,
          23310.575542913677,
          23216.881759890195,
          23123.947115345865,
          23031.717870323715,
          22940.147026709325,
          22849.193460938684,
          22758.821169119296,
          22668.998609235507,
          22579.698127951757,
          22490.895461133492,
          22402.569298604667,
          22314.70090488035,
          22227.273788675197,
          22140.273414914787,
          22053.686953783297,
          21967.50306204427,
          21881.711692483772,
          21796.303927859022,
          21711.271836200805,
          21626.608344723372,
          21542.3071299486,
          21458.362521959123,
          21374.76942096328,
          21291.523224588404,
          21208.619764522715,
          21126.055251303438,
          21043.826226203455,
          20961.929519303565,
          20880.36221295481,
          20799.121609937614,
          20718.20520571372,
          20637.610664244523,
          20557.335796917134,
          20477.378544178508,
          20397.736959529288,
          20318.409195574,
          20239.393491863026,
          20160.688164295967,
          20082.29159588561,
          20004.20222870748,
          19926.418556882505,
          19848.93912045999,
          19771.762500085017,
          19694.8873123495,
          19618.312205738894,
          19542.035857098017,
          19466.05696854919,
          19390.37426480453,
          19314.986490821768,
          19239.892409759315,
          19165.09080119223,
          19090.5804595554,
          19016.360192784854,
          18942.42882113163,
          18868.785176126064,
          18795.42809967317,
          18722.356443262222,
          18649.569067275886,
          18577.064840386112,
          18504.842639025595,
          18432.90134692515,
          18361.239854708503,
          18289.8570595371,
          18218.751864798556,
          18147.923179833095,
          18077.369919693163,
          18007.091004931855,
          17937.085361416568,
          17867.351920164594,
          17797.889617197798,
          17728.69739341402,
          17659.774194472993,
          17591.118970694948,
          17522.730676970255,
          17454.608272678735,
          17386.75072161736,
          17319.156991935277,
          17251.82605607526,
          17184.756890720728,
          17117.948476747635,
          17051.399799180617,
          16985.109847152853,
          16919.07761386918,
          16853.302096572013,
          16787.782296509788,
          16722.517218907524,
          16657.505872939302,
          16592.747271702417,
          16528.24043219295,
          16463.984375282635,
          16399.978125696838,
          16336.220711993521,
          16272.711166543044,
          16209.44852550876,
          16146.431828828245,
          16083.660120195145,
          16021.132447041518
         ],
         "yaxis": "y"
        },
        {
         "hovertemplate": "variable=circulation<br>subset=0<br>timestep=%{x}<br>value=%{y}<extra></extra>",
         "legendgroup": "circulation",
         "line": {
          "color": "rgb(221,132,82)",
          "dash": "solid"
         },
         "mode": "lines",
         "name": "circulation",
         "showlegend": true,
         "type": "scattergl",
         "x": [
          0,
          1,
          2,
          3,
          4,
          5,
          6,
          7,
          8,
          9,
          10,
          11,
          12,
          13,
          14,
          15,
          16,
          17,
          18,
          19,
          20,
          21,
          22,
          23,
          24,
          25,
          26,
          27,
          28,
          29,
          30,
          31,
          32,
          33,
          34,
          35,
          36,
          37,
          38,
          39,
          40,
          41,
          42,
          43,
          44,
          45,
          46,
          47,
          48,
          49,
          50,
          51,
          52,
          53,
          54,
          55,
          56,
          57,
          58,
          59,
          60,
          61,
          62,
          63,
          64,
          65,
          66,
          67,
          68,
          69,
          70,
          71,
          72,
          73,
          74,
          75,
          76,
          77,
          78,
          79,
          80,
          81,
          82,
          83,
          84,
          85,
          86,
          87,
          88,
          89,
          90,
          91,
          92,
          93,
          94,
          95,
          96,
          97,
          98,
          99,
          100,
          101,
          102,
          103,
          104,
          105,
          106,
          107,
          108,
          109,
          110,
          111,
          112,
          113,
          114,
          115,
          116,
          117,
          118,
          119,
          120
         ],
         "xaxis": "x4",
         "y": [
          18765,
          19138.65,
          19485.901875000003,
          19810.036789062502,
          20113.94477685547,
          20400.171480012617,
          20670.95929971196,
          20928.283632595143,
          21173.884777445393,
          21409.296029860485,
          21635.868420360082,
          21854.79249695336,
          22067.117505280192,
          22273.768277251052,
          22475.560101962925,
          22673.211819959088,
          22867.357353098985,
          23058.55585694394,
          23247.300660233923,
          23434.027136367902,
          23619.119634487004,
          23802.91758251468,
          23985.72086108465,
          24167.79453546759,
          24349.373022200023,
          24530.66375795461,
          24711.850430121976,
          24893.095821468807,
          25074.54431498089,
          25256.32409949075,
          25438.54911183907,
          25621.320747047783,
          25804.729364222047,
          25988.855612586744,
          26173.771599147265,
          26359.541916896884,
          26546.22455023229,
          26733.871672248213,
          26922.530346829204,
          27112.243146913373,
          27303.048698943767,
          27494.9821623265,
          27688.075651661133,
          27882.35860858089,
          28077.858129223558,
          28274.59925263441,
          28472.605214769224,
          28671.897672207735,
          28872.49689919672,
          29074.42196120962,
          29277.690867828733,
          29482.32070742087,
          29688.32776578208,
          29895.727630667174,
          30104.535283890844,
          30314.765182485742,
          30526.43133022529,
          30739.547340662873,
          30954.12649270142,
          31170.181779586183,
          31387.725952106994,
          31606.771556702202,
          31827.33096907387,
          32049.41642385098,
          32273.040040773227,
          32498.213847811596,
          32724.949801592127,
          32953.25980544552,
          33183.15572536674,
          33414.64940413469,
          33647.752673812385,
          33882.477366821455,
          34118.835325761844,
          34356.83841212712,
          34596.49851404778,
          34837.82755317914,
          35080.83749083659,
          35325.540333468554,
          35571.94813754679,
          35820.073013944115,
          36069.92713186136,
          36321.52272235787,
          36574.87208153341,
          36829.98757340366,
          37086.881632506454,
          37345.56676627135,
          37606.055557181455,
          37868.360664752734,
          38132.49482735323,
          38398.47086388179,
          38666.30167532369,
          38936.00024619827,
          39207.579645912236,
          39481.05303003021,
          39756.43364147317,
          40033.73481165383,
          40312.96996155705,
          40594.15260277254,
          40877.29633848592,
          41162.41486443385,
          41449.52196982805,
          41738.631538252426,
          42029.75754853725,
          42322.914075613575,
          42618.11529135093,
          42915.37546538084,
          43214.70896590852,
          43516.13026051465,
          43819.65391694917,
          44125.29460391858,
          44433.06709186805,
          44742.9862537598,
          45055.06706584863,
          45369.324608455594,
          45685.774066740814,
          46004.43073147599,
          46325.309999817415,
          46648.42737607999,
          46973.79847251288,
          47301.43901007713,
          47631.364819225826
         ],
         "yaxis": "y4"
        },
        {
         "hovertemplate": "variable=circulation<br>subset=1<br>timestep=%{x}<br>value=%{y}<extra></extra>",
         "legendgroup": "circulation",
         "line": {
          "color": "rgb(221,132,82)",
          "dash": "solid"
         },
         "mode": "lines",
         "name": "circulation",
         "showlegend": false,
         "type": "scattergl",
         "x": [
          0,
          1,
          2,
          3,
          4,
          5,
          6,
          7,
          8,
          9,
          10,
          11,
          12,
          13,
          14,
          15,
          16,
          17,
          18,
          19,
          20,
          21,
          22,
          23,
          24,
          25,
          26,
          27,
          28,
          29,
          30,
          31,
          32,
          33,
          34,
          35,
          36,
          37,
          38,
          39,
          40,
          41,
          42,
          43,
          44,
          45,
          46,
          47,
          48,
          49,
          50,
          51,
          52,
          53,
          54,
          55,
          56,
          57,
          58,
          59,
          60,
          61,
          62,
          63,
          64,
          65,
          66,
          67,
          68,
          69,
          70,
          71,
          72,
          73,
          74,
          75,
          76,
          77,
          78,
          79,
          80,
          81,
          82,
          83,
          84,
          85,
          86,
          87,
          88,
          89,
          90,
          91,
          92,
          93,
          94,
          95,
          96,
          97,
          98,
          99,
          100,
          101,
          102,
          103,
          104,
          105,
          106,
          107,
          108,
          109,
          110,
          111,
          112,
          113,
          114,
          115,
          116,
          117,
          118,
          119,
          120
         ],
         "xaxis": "x3",
         "y": [
          18765,
          19138.65,
          19488.3699,
          19815.3771954,
          20121.836478317502,
          20410.331906236283,
          20683.139795579464,
          20942.265407293402,
          21189.475337519172,
          21426.326038433956,
          21654.188931610424,
          21874.272521003237,
          22087.641864032365,
          22295.235716404884,
          22497.697779941074,
          22695.30563569788,
          22888.323069645863,
          23077.000762759377,
          23261.5769466036,
          23442.27802614354,
          23619.319171413965,
          23792.904879607177,
          23963.229509057783,
          24130.477786529584,
          24294.825289139495,
          24456.438902186655,
          24615.477254091475,
          24772.09112958911,
          24926.42386226467,
          25078.611707463075,
          25228.784196554803,
          25377.064473489805,
          25523.56961452511,
          25668.410931967486,
          25811.69426273042,
          25953.520242464652,
          26093.984565983654,
          26233.178234669274,
          26371.187791508553,
          26508.09554438016,
          26643.979778177974,
          26778.914956329965,
          26912.9719122426,
          27046.21803117452,
          27178.71742301802,
          27310.531086442956,
          27441.717064834946,
          27572.330594438194,
          27702.424245092658,
          27832.048053935905,
          27961.249652421382,
          28090.074386987315,
          28218.565433693697,
          28346.763907128985,
          28474.70896387299,
          28602.437900788194,
          28729.986248398072,
          28857.387859598057,
          28984.67499393252,
          29111.87839765952,
          29239.027379813862,
          29366.149884468636,
          29493.272559385252,
          29620.420821232598,
          29747.618917546843,
          29874.88998559488,
          30002.256108296217,
          30129.738367350412,
          30257.356893709773,
          30385.130915530073,
          30513.07880372538,
          30641.21811524681,
          30769.565634199,
          30898.137410902436,
          31026.948799004356,
          31156.014490735768,
          31285.348550407336,
          31414.96444623216,
          31544.875080559123,
          31675.09281859629,
          31805.62951569986,
          31936.496543300385,
          32067.704813534427,
          32199.26480264636,
          32331.186573221854,
          32463.479795311403,
          32596.15376649948,
          32729.217430971967,
          32862.67939763202,
          32996.5479573119,
          33130.83109912604,
          33265.53652600818,
          33400.67166947357,
          33536.24370364476,
          33672.25955857796,
          33808.72593292497,
          33945.649305963736,
          34083.0359490293,
          34220.89193637504,
          34359.223155492684,
          34498.03531691819,
          34637.33396354922,
          34777.12447949861,
          34917.41209850704,
          35058.20191193698,
          35199.498876368845,
          35341.30782081923,
          35483.633453600174,
          35626.48036883736,
          35769.853052664344,
          35913.75588910906,
          36058.19316568785,
          36203.16907872184,
          36348.6877383894,
          36494.753173528,
          36641.3693361979,
          36788.5401060197,
          36936.26929429692,
          37084.5606479346,
          37233.41785316381,
          37382.84453908206
         ],
         "yaxis": "y3"
        },
        {
         "hovertemplate": "variable=circulation<br>subset=2<br>timestep=%{x}<br>value=%{y}<extra></extra>",
         "legendgroup": "circulation",
         "line": {
          "color": "rgb(221,132,82)",
          "dash": "solid"
         },
         "mode": "lines",
         "name": "circulation",
         "showlegend": false,
         "type": "scattergl",
         "x": [
          0,
          1,
          2,
          3,
          4,
          5,
          6,
          7,
          8,
          9,
          10,
          11,
          12,
          13,
          14,
          15,
          16,
          17,
          18,
          19,
          20,
          21,
          22,
          23,
          24,
          25,
          26,
          27,
          28,
          29,
          30,
          31,
          32,
          33,
          34,
          35,
          36,
          37,
          38,
          39,
          40,
          41,
          42,
          43,
          44,
          45,
          46,
          47,
          48,
          49,
          50,
          51,
          52,
          53,
          54,
          55,
          56,
          57,
          58,
          59,
          60,
          61,
          62,
          63,
          64,
          65,
          66,
          67,
          68,
          69,
          70,
          71,
          72,
          73,
          74,
          75,
          76,
          77,
          78,
          79,
          80,
          81,
          82,
          83,
          84,
          85,
          86,
          87,
          88,
          89,
          90,
          91,
          92,
          93,
          94,
          95,
          96,
          97,
          98,
          99,
          100,
          101,
          102,
          103,
          104,
          105,
          106,
          107,
          108,
          109,
          110,
          111,
          112,
          113,
          114,
          115,
          116,
          117,
          118,
          119,
          120
         ],
         "xaxis": "x2",
         "y": [
          18765,
          18951.825,
          19129.73234375,
          19299.5987483724,
          19462.218676057266,
          19618.312068032188,
          19768.53135142438,
          19913.467787374368,
          20053.657222333597,
          20189.585298655802,
          20321.69217531678,
          20450.376804817988,
          20576.000807999426,
          20698.891984564536,
          20819.347493565685,
          20937.63673487905,
          21054.003959780413,
          21168.670636090563,
          21281.837590964504,
          21393.686952229356,
          21504.383907210467,
          21614.078296204618,
          21722.906056146046,
          21830.990528549475,
          21938.443644490155,
          22045.36699818138,
          22151.85281962297,
          22257.98485580966,
          22363.839169096136,
          22469.484860507284,
          22574.984725049973,
          22680.395845419258,
          22785.770129890898,
          22891.154799647546,
          22996.592830292615,
          23102.123351858918,
          23207.782011214193,
          23313.601300398834,
          23419.61085409869,
          23525.837719154766,
          23632.306598738778,
          23739.04007357637,
          23846.0588023759,
          23953.3817034178,
          24061.026119075683,
          24169.00796487397,
          24277.341864535778,
          24386.041272338247,
          24495.118583968633,
          24604.585236962273,
          24714.451801701885,
          24824.72806386564,
          24935.423099127936,
          25046.54534084126,
          25158.10264135907,
          25270.10232759751,
          25382.551251377656,
          25495.455835038996,
          25608.82211276875,
          25722.65576804981,
          25836.962167592264,
          25951.74639207906,
          26067.013264025412,
          26182.767373023267,
          26299.013098616742,
          26415.75463103123,
          26532.995989958006,
          26650.741041577192,
          26768.993513984642,
          26887.757011172915,
          27007.03502570223,
          27126.830950184616,
          27247.148087692833,
          27367.98966119518,
          27489.358822107817,
          27611.258658047525,
          27733.69219986018,
          27856.66242799297,
          27980.17227827214,
          28104.22464714213,
          28228.8223964168,
          28353.968357588587,
          28479.66533573724,
          28605.916113075742,
          28732.72345216756,
          28860.090098846184,
          28988.01878486492,
          29116.512230302327,
          29245.573145746326,
          29375.20423427776,
          29505.408193272317,
          29636.18771603789,
          29767.54549330291,
          29899.484214569624,
          30032.00656934507,
          30165.11524826129,
          30298.812944095156,
          30433.102352697348,
          30567.986173838966,
          30703.467111983606,
          30839.54787699189,
          30976.231184764838,
          31113.519757831873,
          31251.41632588864,
          31389.923626289416,
          31529.04440449841,
          31668.781414503803,
          31809.137419198087,
          31950.115190727884,
          32091.717510816135,
          32233.947171059284,
          32376.806973201827,
          32520.29972939037,
          32664.428262409194,
          32809.195405898994,
          32954.604004560504,
          33100.65691434438,
          33247.357002628676,
          33394.707148385154,
          33542.71024233537,
          33691.36918709771
         ],
         "yaxis": "y2"
        },
        {
         "hovertemplate": "variable=circulation<br>subset=3<br>timestep=%{x}<br>value=%{y}<extra></extra>",
         "legendgroup": "circulation",
         "line": {
          "color": "rgb(221,132,82)",
          "dash": "solid"
         },
         "mode": "lines",
         "name": "circulation",
         "showlegend": false,
         "type": "scattergl",
         "x": [
          0,
          1,
          2,
          3,
          4,
          5,
          6,
          7,
          8,
          9,
          10,
          11,
          12,
          13,
          14,
          15,
          16,
          17,
          18,
          19,
          20,
          21,
          22,
          23,
          24,
          25,
          26,
          27,
          28,
          29,
          30,
          31,
          32,
          33,
          34,
          35,
          36,
          37,
          38,
          39,
          40,
          41,
          42,
          43,
          44,
          45,
          46,
          47,
          48,
          49,
          50,
          51,
          52,
          53,
          54,
          55,
          56,
          57,
          58,
          59,
          60,
          61,
          62,
          63,
          64,
          65,
          66,
          67,
          68,
          69,
          70,
          71,
          72,
          73,
          74,
          75,
          76,
          77,
          78,
          79,
          80,
          81,
          82,
          83,
          84,
          85,
          86,
          87,
          88,
          89,
          90,
          91,
          92,
          93,
          94,
          95,
          96,
          97,
          98,
          99,
          100,
          101,
          102,
          103,
          104,
          105,
          106,
          107,
          108,
          109,
          110,
          111,
          112,
          113,
          114,
          115,
          116,
          117,
          118,
          119,
          120
         ],
         "xaxis": "x",
         "y": [
          18765,
          18763.35,
          18752.536125,
          18733.7734134375,
          18708.12049309453,
          18676.499697990286,
          18639.714597990805,
          18598.465273892263,
          18553.361627937782,
          18504.934982435323,
          18453.64818664797,
          18399.904423811226,
          18344.054885457026,
          18286.405458722853,
          18227.222553588228,
          18166.738180654578,
          18105.154375857845,
          18042.64705610635,
          17979.369379034,
          17915.454670645682,
          17851.0189764293,
          17786.163284361264,
          17720.97546200403,
          17655.531944466948,
          17589.899205272526,
          17524.135038049135,
          17458.289673380204,
          17392.406752010884,
          17326.524172886307,
          17260.674832119734,
          17194.887266918286,
          17129.18621668997,
          17063.593111983446,
          16998.126500542192,
          16932.802418560914,
          16867.634714191885,
          16802.63532944247,
          16737.814545815258,
          16673.18119835393,
          16608.74286215832,
          16544.50601490945,
          16480.47617848998,
          16416.65804238863,
          16353.055571231465,
          16289.672098481431,
          16226.510408085162,
          16163.572805617156,
          16100.861180272119,
          16038.37705888249,
          15976.12165298685,
          15914.095899842943,
          15852.30049816411,
          15790.7359392578,
          15729.402534157494,
          15668.300437263351,
          15607.429666940603,
          15546.790123466986,
          15486.381604670154,
          15426.203819552169,
          15366.256400159982,
          15306.538911927484,
          15247.050862685712,
          15187.79171051251,
          15128.760870570915,
          15069.957721066325,
          15011.381608435808,
          14953.031851868302,
          14894.907747241772,
          14837.008570552323,
          14779.333580900606,
          14721.882023092465,
          14664.653129903452,
          14607.646124050438,
          14550.860219907996,
          14494.294625002402,
          14437.948541311845,
          14381.821166397785,
          14325.911694389184,
          14270.219316838522,
          14214.743223466128,
          14159.482602807158,
          14104.436642773768,
          14049.604531143399,
          13994.985455982667,
          13940.57860601516,
          13886.383170940357,
          13832.398341709957,
          13778.623310767116,
          13725.057272253345,
          13671.699422187266,
          13618.548958618816,
          13565.60508176209,
          13512.866994109572,
          13460.333900530131,
          13408.005008352911,
          13355.879527438909,
          13303.956670241834,
          13252.235651859653,
          13200.71569007799,
          13149.396005406468,
          13098.275821108884,
          13047.354363228025,
          12996.630860605826,
          12946.104544899456,
          12895.774650593876,
          12845.640415011336,
          12795.701078318185,
          12745.95588352937,
          12696.404076510915,
          12647.04490598064,
          12597.877623507371,
          12548.90148350882,
          12500.115743248323,
          12451.519662830588,
          12403.112505196577,
          12354.89353611766,
          12306.862024189099,
          12259.017240823014,
          12211.358460240841,
          12163.884959465395,
          12116.596018312575
         ],
         "yaxis": "y"
        },
        {
         "hovertemplate": "variable=reserve<br>subset=0<br>timestep=%{x}<br>value=%{y}<extra></extra>",
         "legendgroup": "reserve",
         "line": {
          "color": "rgb(85,168,104)",
          "dash": "solid"
         },
         "mode": "lines",
         "name": "reserve",
         "showlegend": true,
         "type": "scattergl",
         "x": [
          0,
          1,
          2,
          3,
          4,
          5,
          6,
          7,
          8,
          9,
          10,
          11,
          12,
          13,
          14,
          15,
          16,
          17,
          18,
          19,
          20,
          21,
          22,
          23,
          24,
          25,
          26,
          27,
          28,
          29,
          30,
          31,
          32,
          33,
          34,
          35,
          36,
          37,
          38,
          39,
          40,
          41,
          42,
          43,
          44,
          45,
          46,
          47,
          48,
          49,
          50,
          51,
          52,
          53,
          54,
          55,
          56,
          57,
          58,
          59,
          60,
          61,
          62,
          63,
          64,
          65,
          66,
          67,
          68,
          69,
          70,
          71,
          72,
          73,
          74,
          75,
          76,
          77,
          78,
          79,
          80,
          81,
          82,
          83,
          84,
          85,
          86,
          87,
          88,
          89,
          90,
          91,
          92,
          93,
          94,
          95,
          96,
          97,
          98,
          99,
          100,
          101,
          102,
          103,
          104,
          105,
          106,
          107,
          108,
          109,
          110,
          111,
          112,
          113,
          114,
          115,
          116,
          117,
          118,
          119,
          120
         ],
         "xaxis": "x4",
         "y": [
          7473,
          6945.0375,
          6482.69828125,
          6078.159755859376,
          5724.534063142904,
          5415.756393986919,
          5146.4866576636,
          4912.0228970049775,
          4708.225048301837,
          4531.447809991971,
          4378.481531865549,
          4246.500166536676,
          4133.01543941719,
          4035.836494237426,
          3953.034359923233,
          3882.910662797918,
          3823.970076899137,
          3774.8960657996336,
          3734.529522679574,
          3701.8499623820203,
          3675.958960553508,
          3656.065571399355,
          3641.473487658839,
          3631.5697346486304,
          3625.814715091786,
          3623.7334433472943,
          3624.907826936634,
          3628.969870241629,
          3635.5956901972595,
          3644.500246966416,
          3655.4327041742067,
          3668.1723434852597,
          3682.5249672939644,
          3698.3197312104276,
          3715.4063549923667,
          3733.65266670818,
          3752.942440318458,
          3773.1734916198366,
          3794.2560016834086,
          3816.111040607845,
          3838.6692676546854,
          3861.869786692596,
          3885.6591383951204,
          3909.990412853355,
          3934.822468217034,
          3960.1192426963435,
          3985.849148770245,
          4011.984539779746,
          4038.501240257987,
          4065.3781323822423,
          4092.596791842734,
          4120.141167224238,
          4147.99729770186,
          4176.153064473435,
          4204.59797189796,
          4233.322954790953,
          4262.320208751733,
          4291.583040770918,
          4321.105737695238,
          4350.883450416214,
          4380.91209190416,
          4411.188247433392,
          4441.709095542172,
          4472.472338444909,
          4503.476140767373,
          4534.719075610597,
          4566.200077067932,
          4597.9183984243255,
          4629.8735753590145,
          4662.065393553904,
          4694.493860181334,
          4727.159178807807,
          4760.061727305619,
          4793.202038413101,
          4826.580782627079,
          4860.198753148996,
          4894.056852639386,
          4928.156081564732,
          4962.497527946508,
          4997.082358344972,
          5031.91180993023,
          5066.987183510769,
          5102.309837405105,
          5137.881182055921,
          5173.702675298025,
          5209.775818202104,
          5246.102151425556,
          5282.683252009872,
          5319.5207305713075,
          5356.616228837922,
          5393.971417491685,
          5431.587994279265,
          5469.4676823594855,
          5507.612228859248,
          5546.023403613086,
          5584.7029980645,
          5623.652824309808,
          5662.874714267572,
          5702.37051895868,
          5742.142107883927,
          5782.19136848755,
          5822.520205696502,
          5863.130541526519,
          5904.024314747073,
          5945.203480598253,
          5986.6700105534655,
          6028.425892122548,
          6070.473128690571,
          6112.813739388125,
          6155.449758989447,
          6198.383237835111,
          6241.616241776462,
          6285.150852139273,
          6328.989165704415,
          6373.133294703595,
          6417.585366828454,
          6462.34752525152,
          6507.421928657681,
          6552.810751285026,
          6598.516182974008,
          6644.540429224051
         ],
         "yaxis": "y4"
        },
        {
         "hovertemplate": "variable=reserve<br>subset=1<br>timestep=%{x}<br>value=%{y}<extra></extra>",
         "legendgroup": "reserve",
         "line": {
          "color": "rgb(85,168,104)",
          "dash": "solid"
         },
         "mode": "lines",
         "name": "reserve",
         "showlegend": false,
         "type": "scattergl",
         "x": [
          0,
          1,
          2,
          3,
          4,
          5,
          6,
          7,
          8,
          9,
          10,
          11,
          12,
          13,
          14,
          15,
          16,
          17,
          18,
          19,
          20,
          21,
          22,
          23,
          24,
          25,
          26,
          27,
          28,
          29,
          30,
          31,
          32,
          33,
          34,
          35,
          36,
          37,
          38,
          39,
          40,
          41,
          42,
          43,
          44,
          45,
          46,
          47,
          48,
          49,
          50,
          51,
          52,
          53,
          54,
          55,
          56,
          57,
          58,
          59,
          60,
          61,
          62,
          63,
          64,
          65,
          66,
          67,
          68,
          69,
          70,
          71,
          72,
          73,
          74,
          75,
          76,
          77,
          78,
          79,
          80,
          81,
          82,
          83,
          84,
          85,
          86,
          87,
          88,
          89,
          90,
          91,
          92,
          93,
          94,
          95,
          96,
          97,
          98,
          99,
          100,
          101,
          102,
          103,
          104,
          105,
          106,
          107,
          108,
          109,
          110,
          111,
          112,
          113,
          114,
          115,
          116,
          117,
          118,
          119,
          120
         ],
         "xaxis": "x3",
         "y": [
          7473,
          6994.398,
          6540.145908,
          6129.18565835,
          5769.908558375625,
          5456.157786863659,
          5182.512234278768,
          4944.198604515398,
          4737.014018295639,
          4557.257863529367,
          4401.671787856212,
          4267.386860582562,
          4151.877047450411,
          4049.241270723822,
          3952.1571151361454,
          3860.3486789596473,
          3773.553862270295,
          3691.523676884445,
          3614.021590798798,
          3540.8229054084677,
          3471.7141638642524,
          3406.4925890121526,
          3344.9655494360222,
          3286.9500521981963,
          3232.2722609431976,
          3180.767038096368,
          3132.277509952682,
          3086.6546535112248,
          3043.7569039680648,
          3003.4497818345926,
          2965.605538700054,
          2930.1028207060704,
          2896.8263488475504,
          2865.6666152586636,
          2836.519594684635,
          2809.2864703800637,
          2783.8733737124394,
          2760.191136785602,
          2738.1550574321413,
          2717.6846759562973,
          2698.703563039828,
          2681.139118252708,
          2664.9223786384036,
          2649.9878368700074,
          2636.2732684986854,
          2623.719567839818,
          2612.2705920649582,
          2601.87301308931,
          2592.4761768649546,
          2584.0319697095374,
          2576.4946913186423,
          2569.82093412767,
          2563.9694687057463,
          2558.901134880057,
          2554.57873830409,
          2550.966952197594,
          2548.032223999657,
          2545.7426866892656,
          2544.068074539952,
          2542.979643086844,
          2542.4500930954873,
          2542.4534983323506,
          2542.965236946937,
          2543.9619262849187,
          2545.4213609607427,
          2547.3224540267356,
          2549.6451810838853,
          2552.3705271872113,
          2555.480436406001,
          2558.9577639061645,
          2562.7862304286014,
          2566.950379043787,
          2571.4355340687603,
          2576.2277620383934,
          2581.3138346282367,
          2586.6811934313555,
          2592.317916496456,
          2598.212686539248,
          2604.354760743371,
          2610.7339420714125,
          2617.3405520105125,
          2624.1654046808285,
          2631.199782238712,
          2638.435411509869,
          2645.8644417910004,
          2653.479423761502,
          2661.2732894497185,
          2669.2393332010292,
          2677.37119359767,
          2685.662836282705,
          2694.1085376429482,
          2702.7028693078764,
          2711.440683423747,
          2720.317098664149,
          2729.3274869401776,
          2738.4674607752413,
          2747.73286131128,
          2757.119746914816,
          2766.6243823528516,
          2776.243228510121,
          2785.972932620626,
          2795.81031898775,
          2805.7523801685106,
          2815.7962685987536,
          2825.9392886372393,
          2836.1788890076746,
          2846.5126556187965,
          2856.9383047436086,
          2867.4536765398034,
          2878.0567288943216,
          2888.74553157584,
          2899.518260679787,
          2910.373193351268,
          2921.308702771997,
          2932.323253398043,
          2943.415396435845,
          2954.5837655445875,
          2965.8270727536155,
          2977.1441045841366,
          2988.5337183650045,
          2999.9948387328695
         ],
         "yaxis": "y3"
        },
        {
         "hovertemplate": "variable=reserve<br>subset=2<br>timestep=%{x}<br>value=%{y}<extra></extra>",
         "legendgroup": "reserve",
         "line": {
          "color": "rgb(85,168,104)",
          "dash": "solid"
         },
         "mode": "lines",
         "name": "reserve",
         "showlegend": false,
         "type": "scattergl",
         "x": [
          0,
          1,
          2,
          3,
          4,
          5,
          6,
          7,
          8,
          9,
          10,
          11,
          12,
          13,
          14,
          15,
          16,
          17,
          18,
          19,
          20,
          21,
          22,
          23,
          24,
          25,
          26,
          27,
          28,
          29,
          30,
          31,
          32,
          33,
          34,
          35,
          36,
          37,
          38,
          39,
          40,
          41,
          42,
          43,
          44,
          45,
          46,
          47,
          48,
          49,
          50,
          51,
          52,
          53,
          54,
          55,
          56,
          57,
          58,
          59,
          60,
          61,
          62,
          63,
          64,
          65,
          66,
          67,
          68,
          69,
          70,
          71,
          72,
          73,
          74,
          75,
          76,
          77,
          78,
          79,
          80,
          81,
          82,
          83,
          84,
          85,
          86,
          87,
          88,
          89,
          90,
          91,
          92,
          93,
          94,
          95,
          96,
          97,
          98,
          99,
          100,
          101,
          102,
          103,
          104,
          105,
          106,
          107,
          108,
          109,
          110,
          111,
          112,
          113,
          114,
          115,
          116,
          117,
          118,
          119,
          120
         ],
         "xaxis": "x2",
         "y": [
          7473,
          7116.29375,
          6794.656184895834,
          6504.797107394748,
          6243.735678996843,
          6008.771335687663,
          5797.457437999513,
          5607.57739836913,
          5437.123052888134,
          5284.275066439132,
          5147.385180048223,
          5024.960127257516,
          4915.64706260433,
          4818.220360046016,
          4731.569652534636,
          4654.688996054502,
          4586.667052405937,
          4526.678194957579,
          4473.974450594139,
          4427.878199244489,
          4387.775559765993,
          4353.110397657131,
          4323.37889613709,
          4298.124637627244,
          4276.934147648961,
          4259.432857663577,
          4245.2814474675715,
          4234.172531458985,
          4225.827656445946,
          4219.994581707599,
          4216.444814771414,
          4214.971378865641,
          4215.386790265915,
          4217.521225802775,
          4221.220862652069,
          4226.346374211031,
          4232.771567385608,
          4240.382147994217,
          4249.074602243049,
          4258.755183360421,
          4269.33899350363,
          4280.749151981243,
          4292.916041675862,
          4305.776626315332,
          4319.273831931546,
          4333.355986472273,
          4347.976312098698,
          4363.092465215453,
          4378.66611974554,
          4394.662589584479,
          4411.050486550241,
          4427.801410491813,
          4444.8896685330155,
          4462.292020712398,
          4479.9874495376,
          4497.9569512058415,
          4516.183346453609,
          4534.651109190101,
          4553.346211242471,
          4572.255981698146,
          4591.36897947185,
          4610.674877854035,
          4630.164359914262,
          4649.829023739032,
          4669.661296579465,
          4689.6543570711665,
          4709.802064767395,
          4730.098896297949,
          4750.539887530878,
          4771.120581172649,
          4791.836979295481,
          4812.685500328631,
          4833.662940093935,
          4854.766436505401,
          4875.993437588378,
          4897.341672506216,
          4918.809125311659,
          4940.394011166825,
          4962.09475479968,
          4983.909970986744,
          5005.83844687155,
          5027.879125946253,
          5050.031093540045,
          5072.2935636727025,
          5094.665867144951,
          5117.147440749342,
          5139.737817496317,
          5162.43661776002,
          5185.2435412573905,
          5208.158359782188,
          5231.180910622997,
          5254.3110906008915,
          5277.548850668526,
          5300.894191017852,
          5324.347156648662,
          5347.907833354638,
          5371.57634408764,
          5395.352845664708,
          5419.237525785534,
          5443.230600331229,
          5467.33231091795,
          5491.542922681415,
          5515.862722270619,
          5540.292016031074,
          5564.831128359768,
          5589.480400215695,
          5614.240187771346,
          5639.1108611918935,
          5664.0928035300885,
          5689.186409725983,
          5714.392085701633,
          5739.71024754185,
          5765.141320752923,
          5790.68573959198,
          5816.343946460352,
          5842.116391354928,
          5868.003531372057,
          5894.0058302590505,
          5920.123758008822,
          5946.357790493617,
          5972.708409134154
         ],
         "yaxis": "y2"
        },
        {
         "hovertemplate": "variable=reserve<br>subset=3<br>timestep=%{x}<br>value=%{y}<extra></extra>",
         "legendgroup": "reserve",
         "line": {
          "color": "rgb(85,168,104)",
          "dash": "solid"
         },
         "mode": "lines",
         "name": "reserve",
         "showlegend": false,
         "type": "scattergl",
         "x": [
          0,
          1,
          2,
          3,
          4,
          5,
          6,
          7,
          8,
          9,
          10,
          11,
          12,
          13,
          14,
          15,
          16,
          17,
          18,
          19,
          20,
          21,
          22,
          23,
          24,
          25,
          26,
          27,
          28,
          29,
          30,
          31,
          32,
          33,
          34,
          35,
          36,
          37,
          38,
          39,
          40,
          41,
          42,
          43,
          44,
          45,
          46,
          47,
          48,
          49,
          50,
          51,
          52,
          53,
          54,
          55,
          56,
          57,
          58,
          59,
          60,
          61,
          62,
          63,
          64,
          65,
          66,
          67,
          68,
          69,
          70,
          71,
          72,
          73,
          74,
          75,
          76,
          77,
          78,
          79,
          80,
          81,
          82,
          83,
          84,
          85,
          86,
          87,
          88,
          89,
          90,
          91,
          92,
          93,
          94,
          95,
          96,
          97,
          98,
          99,
          100,
          101,
          102,
          103,
          104,
          105,
          106,
          107,
          108,
          109,
          110,
          111,
          112,
          113,
          114,
          115,
          116,
          117,
          118,
          119,
          120
         ],
         "xaxis": "x",
         "y": [
          7473,
          7289.0625,
          7125.76021875,
          6980.450958515625,
          6850.83229515293,
          6734.897879206534,
          6630.8993572254585,
          6537.313190467273,
          6452.8117411259345,
          6376.238077227089,
          6306.584017924278,
          6242.971002440475,
          6184.633419499314,
          6130.904080796638,
          6081.201562762316,
          6035.019176327143,
          5991.91535531325,
          5951.505280995534,
          5913.453583847258,
          5877.467983930632,
          5843.293749211035,
          5810.708866599819,
          5779.519834059984,
          5749.5579938983765,
          5720.676337641153,
          5692.746721841062,
          5665.657441965662,
          5639.311118312831,
          5613.622853823019,
          5588.518628818951,
          5563.93390220101,
          5539.812392545537,
          5516.105015968313,
          5492.768960591298,
          5469.766880043754,
          5447.066190688463,
          5424.638459232727,
          5402.4588690995315,
          5380.505755429368,
          5358.760199885952,
          5337.205677574323,
          5315.827749369043,
          5294.613793812175,
          5273.552773491907,
          5252.635031467169,
          5231.8521138739625,
          5211.196615346123,
          5190.662044316284,
          5170.242705640226,
          5149.933598316587,
          5129.730326360511,
          5109.629021139456,
          5089.626273697011,
          5069.719075780121,
          5049.904768450369,
          5030.18099730392,
          5010.5456734501495,
          4990.996939508352,
          4971.533139977118,
          4952.152795414018,
          4932.854579935541,
          4913.637301610254,
          4894.4998853731,
          4875.441358136564,
          4856.460835816182,
          4837.557512024183,
          4818.730648216716,
          4799.979565107727,
          4781.303635186569,
          4762.702276197411,
          4744.174945456724,
          4725.7211349010795,
          4707.340366771329,
          4689.03218985132,
          4670.796176189826,
          4652.6319182435545,
          4634.5390263870695,
          4616.517126742447,
          4598.5658592875425,
          4580.684876207042,
          4562.873840455065,
          4545.132424502121,
          4527.460309242714,
          4509.857183042927,
          4492.322740909991,
          4474.856683768147,
          4457.458717827143,
          4440.128554031438,
          4422.865907579751,
          4405.6704975058965,
          4388.542046313038,
          4371.480279654479,
          4354.484926055023,
          4337.555716667667,
          4320.692385061109,
          4303.8946670340865,
          4287.162300453113,
          4270.495025110602,
          4253.892582600747,
          4237.3547162108935,
          4220.881170826394,
          4204.471692847235,
          4188.126030114902,
          4171.843931848181,
          4155.625148586741,
          4139.469432141518,
          4123.376535550994,
          4107.346213042643,
          4091.378219998874,
          4075.4723129268828,
          4059.6282494319303,
          4043.845788193596,
          4028.1246889446247,
          4012.4647124520457,
          3996.865620500261,
          3981.327175875862,
          3965.849142353946,
          3950.4312846857456,
          3935.0733685874047,
          3919.7751607297514,
          3904.536428728943
         ],
         "yaxis": "y"
        }
       ],
       "layout": {
        "annotations": [
         {
          "font": {},
          "showarrow": false,
          "text": "subset=3",
          "textangle": 90,
          "x": 0.98,
          "xanchor": "left",
          "xref": "paper",
          "y": 0.11375,
          "yanchor": "middle",
          "yref": "paper"
         },
         {
          "font": {},
          "showarrow": false,
          "text": "subset=2",
          "textangle": 90,
          "x": 0.98,
          "xanchor": "left",
          "xref": "paper",
          "y": 0.37124999999999997,
          "yanchor": "middle",
          "yref": "paper"
         },
         {
          "font": {},
          "showarrow": false,
          "text": "subset=1",
          "textangle": 90,
          "x": 0.98,
          "xanchor": "left",
          "xref": "paper",
          "y": 0.62875,
          "yanchor": "middle",
          "yref": "paper"
         },
         {
          "font": {},
          "showarrow": false,
          "text": "subset=0",
          "textangle": 90,
          "x": 0.98,
          "xanchor": "left",
          "xref": "paper",
          "y": 0.88625,
          "yanchor": "middle",
          "yref": "paper"
         }
        ],
        "height": 800,
        "legend": {
         "title": {
          "text": "variable"
         },
         "tracegroupgap": 0
        },
        "margin": {
         "b": 20,
         "l": 20,
         "r": 20,
         "t": 20
        },
        "template": {
         "data": {
          "bar": [
           {
            "error_x": {
             "color": "rgb(36,36,36)"
            },
            "error_y": {
             "color": "rgb(36,36,36)"
            },
            "marker": {
             "line": {
              "color": "rgb(234,234,242)",
              "width": 0.5
             }
            },
            "type": "bar"
           }
          ],
          "barpolar": [
           {
            "marker": {
             "line": {
              "color": "rgb(234,234,242)",
              "width": 0.5
             }
            },
            "type": "barpolar"
           }
          ],
          "carpet": [
           {
            "aaxis": {
             "endlinecolor": "rgb(36,36,36)",
             "gridcolor": "white",
             "linecolor": "white",
             "minorgridcolor": "white",
             "startlinecolor": "rgb(36,36,36)"
            },
            "baxis": {
             "endlinecolor": "rgb(36,36,36)",
             "gridcolor": "white",
             "linecolor": "white",
             "minorgridcolor": "white",
             "startlinecolor": "rgb(36,36,36)"
            },
            "type": "carpet"
           }
          ],
          "choropleth": [
           {
            "colorbar": {
             "outlinewidth": 0,
             "tickcolor": "rgb(36,36,36)",
             "ticklen": 8,
             "ticks": "outside",
             "tickwidth": 2
            },
            "type": "choropleth"
           }
          ],
          "contour": [
           {
            "colorbar": {
             "outlinewidth": 0,
             "tickcolor": "rgb(36,36,36)",
             "ticklen": 8,
             "ticks": "outside",
             "tickwidth": 2
            },
            "colorscale": [
             [
              0,
              "rgb(2,4,25)"
             ],
             [
              0.06274509803921569,
              "rgb(24,15,41)"
             ],
             [
              0.12549019607843137,
              "rgb(47,23,57)"
             ],
             [
              0.18823529411764706,
              "rgb(71,28,72)"
             ],
             [
              0.25098039215686274,
              "rgb(97,30,82)"
             ],
             [
              0.3137254901960784,
              "rgb(123,30,89)"
             ],
             [
              0.3764705882352941,
              "rgb(150,27,91)"
             ],
             [
              0.4392156862745098,
              "rgb(177,22,88)"
             ],
             [
              0.5019607843137255,
              "rgb(203,26,79)"
             ],
             [
              0.5647058823529412,
              "rgb(223,47,67)"
             ],
             [
              0.6274509803921569,
              "rgb(236,76,61)"
             ],
             [
              0.6901960784313725,
              "rgb(242,107,73)"
             ],
             [
              0.7529411764705882,
              "rgb(244,135,95)"
             ],
             [
              0.8156862745098039,
              "rgb(245,162,122)"
             ],
             [
              0.8784313725490196,
              "rgb(246,188,153)"
             ],
             [
              0.9411764705882353,
              "rgb(247,212,187)"
             ],
             [
              1,
              "rgb(250,234,220)"
             ]
            ],
            "type": "contour"
           }
          ],
          "contourcarpet": [
           {
            "colorbar": {
             "outlinewidth": 0,
             "tickcolor": "rgb(36,36,36)",
             "ticklen": 8,
             "ticks": "outside",
             "tickwidth": 2
            },
            "type": "contourcarpet"
           }
          ],
          "heatmap": [
           {
            "colorbar": {
             "outlinewidth": 0,
             "tickcolor": "rgb(36,36,36)",
             "ticklen": 8,
             "ticks": "outside",
             "tickwidth": 2
            },
            "colorscale": [
             [
              0,
              "rgb(2,4,25)"
             ],
             [
              0.06274509803921569,
              "rgb(24,15,41)"
             ],
             [
              0.12549019607843137,
              "rgb(47,23,57)"
             ],
             [
              0.18823529411764706,
              "rgb(71,28,72)"
             ],
             [
              0.25098039215686274,
              "rgb(97,30,82)"
             ],
             [
              0.3137254901960784,
              "rgb(123,30,89)"
             ],
             [
              0.3764705882352941,
              "rgb(150,27,91)"
             ],
             [
              0.4392156862745098,
              "rgb(177,22,88)"
             ],
             [
              0.5019607843137255,
              "rgb(203,26,79)"
             ],
             [
              0.5647058823529412,
              "rgb(223,47,67)"
             ],
             [
              0.6274509803921569,
              "rgb(236,76,61)"
             ],
             [
              0.6901960784313725,
              "rgb(242,107,73)"
             ],
             [
              0.7529411764705882,
              "rgb(244,135,95)"
             ],
             [
              0.8156862745098039,
              "rgb(245,162,122)"
             ],
             [
              0.8784313725490196,
              "rgb(246,188,153)"
             ],
             [
              0.9411764705882353,
              "rgb(247,212,187)"
             ],
             [
              1,
              "rgb(250,234,220)"
             ]
            ],
            "type": "heatmap"
           }
          ],
          "heatmapgl": [
           {
            "colorbar": {
             "outlinewidth": 0,
             "tickcolor": "rgb(36,36,36)",
             "ticklen": 8,
             "ticks": "outside",
             "tickwidth": 2
            },
            "colorscale": [
             [
              0,
              "rgb(2,4,25)"
             ],
             [
              0.06274509803921569,
              "rgb(24,15,41)"
             ],
             [
              0.12549019607843137,
              "rgb(47,23,57)"
             ],
             [
              0.18823529411764706,
              "rgb(71,28,72)"
             ],
             [
              0.25098039215686274,
              "rgb(97,30,82)"
             ],
             [
              0.3137254901960784,
              "rgb(123,30,89)"
             ],
             [
              0.3764705882352941,
              "rgb(150,27,91)"
             ],
             [
              0.4392156862745098,
              "rgb(177,22,88)"
             ],
             [
              0.5019607843137255,
              "rgb(203,26,79)"
             ],
             [
              0.5647058823529412,
              "rgb(223,47,67)"
             ],
             [
              0.6274509803921569,
              "rgb(236,76,61)"
             ],
             [
              0.6901960784313725,
              "rgb(242,107,73)"
             ],
             [
              0.7529411764705882,
              "rgb(244,135,95)"
             ],
             [
              0.8156862745098039,
              "rgb(245,162,122)"
             ],
             [
              0.8784313725490196,
              "rgb(246,188,153)"
             ],
             [
              0.9411764705882353,
              "rgb(247,212,187)"
             ],
             [
              1,
              "rgb(250,234,220)"
             ]
            ],
            "type": "heatmapgl"
           }
          ],
          "histogram": [
           {
            "marker": {
             "colorbar": {
              "outlinewidth": 0,
              "tickcolor": "rgb(36,36,36)",
              "ticklen": 8,
              "ticks": "outside",
              "tickwidth": 2
             }
            },
            "type": "histogram"
           }
          ],
          "histogram2d": [
           {
            "colorbar": {
             "outlinewidth": 0,
             "tickcolor": "rgb(36,36,36)",
             "ticklen": 8,
             "ticks": "outside",
             "tickwidth": 2
            },
            "colorscale": [
             [
              0,
              "rgb(2,4,25)"
             ],
             [
              0.06274509803921569,
              "rgb(24,15,41)"
             ],
             [
              0.12549019607843137,
              "rgb(47,23,57)"
             ],
             [
              0.18823529411764706,
              "rgb(71,28,72)"
             ],
             [
              0.25098039215686274,
              "rgb(97,30,82)"
             ],
             [
              0.3137254901960784,
              "rgb(123,30,89)"
             ],
             [
              0.3764705882352941,
              "rgb(150,27,91)"
             ],
             [
              0.4392156862745098,
              "rgb(177,22,88)"
             ],
             [
              0.5019607843137255,
              "rgb(203,26,79)"
             ],
             [
              0.5647058823529412,
              "rgb(223,47,67)"
             ],
             [
              0.6274509803921569,
              "rgb(236,76,61)"
             ],
             [
              0.6901960784313725,
              "rgb(242,107,73)"
             ],
             [
              0.7529411764705882,
              "rgb(244,135,95)"
             ],
             [
              0.8156862745098039,
              "rgb(245,162,122)"
             ],
             [
              0.8784313725490196,
              "rgb(246,188,153)"
             ],
             [
              0.9411764705882353,
              "rgb(247,212,187)"
             ],
             [
              1,
              "rgb(250,234,220)"
             ]
            ],
            "type": "histogram2d"
           }
          ],
          "histogram2dcontour": [
           {
            "colorbar": {
             "outlinewidth": 0,
             "tickcolor": "rgb(36,36,36)",
             "ticklen": 8,
             "ticks": "outside",
             "tickwidth": 2
            },
            "colorscale": [
             [
              0,
              "rgb(2,4,25)"
             ],
             [
              0.06274509803921569,
              "rgb(24,15,41)"
             ],
             [
              0.12549019607843137,
              "rgb(47,23,57)"
             ],
             [
              0.18823529411764706,
              "rgb(71,28,72)"
             ],
             [
              0.25098039215686274,
              "rgb(97,30,82)"
             ],
             [
              0.3137254901960784,
              "rgb(123,30,89)"
             ],
             [
              0.3764705882352941,
              "rgb(150,27,91)"
             ],
             [
              0.4392156862745098,
              "rgb(177,22,88)"
             ],
             [
              0.5019607843137255,
              "rgb(203,26,79)"
             ],
             [
              0.5647058823529412,
              "rgb(223,47,67)"
             ],
             [
              0.6274509803921569,
              "rgb(236,76,61)"
             ],
             [
              0.6901960784313725,
              "rgb(242,107,73)"
             ],
             [
              0.7529411764705882,
              "rgb(244,135,95)"
             ],
             [
              0.8156862745098039,
              "rgb(245,162,122)"
             ],
             [
              0.8784313725490196,
              "rgb(246,188,153)"
             ],
             [
              0.9411764705882353,
              "rgb(247,212,187)"
             ],
             [
              1,
              "rgb(250,234,220)"
             ]
            ],
            "type": "histogram2dcontour"
           }
          ],
          "mesh3d": [
           {
            "colorbar": {
             "outlinewidth": 0,
             "tickcolor": "rgb(36,36,36)",
             "ticklen": 8,
             "ticks": "outside",
             "tickwidth": 2
            },
            "type": "mesh3d"
           }
          ],
          "parcoords": [
           {
            "line": {
             "colorbar": {
              "outlinewidth": 0,
              "tickcolor": "rgb(36,36,36)",
              "ticklen": 8,
              "ticks": "outside",
              "tickwidth": 2
             }
            },
            "type": "parcoords"
           }
          ],
          "pie": [
           {
            "automargin": true,
            "type": "pie"
           }
          ],
          "scatter": [
           {
            "marker": {
             "colorbar": {
              "outlinewidth": 0,
              "tickcolor": "rgb(36,36,36)",
              "ticklen": 8,
              "ticks": "outside",
              "tickwidth": 2
             }
            },
            "type": "scatter"
           }
          ],
          "scatter3d": [
           {
            "line": {
             "colorbar": {
              "outlinewidth": 0,
              "tickcolor": "rgb(36,36,36)",
              "ticklen": 8,
              "ticks": "outside",
              "tickwidth": 2
             }
            },
            "marker": {
             "colorbar": {
              "outlinewidth": 0,
              "tickcolor": "rgb(36,36,36)",
              "ticklen": 8,
              "ticks": "outside",
              "tickwidth": 2
             }
            },
            "type": "scatter3d"
           }
          ],
          "scattercarpet": [
           {
            "marker": {
             "colorbar": {
              "outlinewidth": 0,
              "tickcolor": "rgb(36,36,36)",
              "ticklen": 8,
              "ticks": "outside",
              "tickwidth": 2
             }
            },
            "type": "scattercarpet"
           }
          ],
          "scattergeo": [
           {
            "marker": {
             "colorbar": {
              "outlinewidth": 0,
              "tickcolor": "rgb(36,36,36)",
              "ticklen": 8,
              "ticks": "outside",
              "tickwidth": 2
             }
            },
            "type": "scattergeo"
           }
          ],
          "scattergl": [
           {
            "marker": {
             "colorbar": {
              "outlinewidth": 0,
              "tickcolor": "rgb(36,36,36)",
              "ticklen": 8,
              "ticks": "outside",
              "tickwidth": 2
             }
            },
            "type": "scattergl"
           }
          ],
          "scattermapbox": [
           {
            "marker": {
             "colorbar": {
              "outlinewidth": 0,
              "tickcolor": "rgb(36,36,36)",
              "ticklen": 8,
              "ticks": "outside",
              "tickwidth": 2
             }
            },
            "type": "scattermapbox"
           }
          ],
          "scatterpolar": [
           {
            "marker": {
             "colorbar": {
              "outlinewidth": 0,
              "tickcolor": "rgb(36,36,36)",
              "ticklen": 8,
              "ticks": "outside",
              "tickwidth": 2
             }
            },
            "type": "scatterpolar"
           }
          ],
          "scatterpolargl": [
           {
            "marker": {
             "colorbar": {
              "outlinewidth": 0,
              "tickcolor": "rgb(36,36,36)",
              "ticklen": 8,
              "ticks": "outside",
              "tickwidth": 2
             }
            },
            "type": "scatterpolargl"
           }
          ],
          "scatterternary": [
           {
            "marker": {
             "colorbar": {
              "outlinewidth": 0,
              "tickcolor": "rgb(36,36,36)",
              "ticklen": 8,
              "ticks": "outside",
              "tickwidth": 2
             }
            },
            "type": "scatterternary"
           }
          ],
          "surface": [
           {
            "colorbar": {
             "outlinewidth": 0,
             "tickcolor": "rgb(36,36,36)",
             "ticklen": 8,
             "ticks": "outside",
             "tickwidth": 2
            },
            "colorscale": [
             [
              0,
              "rgb(2,4,25)"
             ],
             [
              0.06274509803921569,
              "rgb(24,15,41)"
             ],
             [
              0.12549019607843137,
              "rgb(47,23,57)"
             ],
             [
              0.18823529411764706,
              "rgb(71,28,72)"
             ],
             [
              0.25098039215686274,
              "rgb(97,30,82)"
             ],
             [
              0.3137254901960784,
              "rgb(123,30,89)"
             ],
             [
              0.3764705882352941,
              "rgb(150,27,91)"
             ],
             [
              0.4392156862745098,
              "rgb(177,22,88)"
             ],
             [
              0.5019607843137255,
              "rgb(203,26,79)"
             ],
             [
              0.5647058823529412,
              "rgb(223,47,67)"
             ],
             [
              0.6274509803921569,
              "rgb(236,76,61)"
             ],
             [
              0.6901960784313725,
              "rgb(242,107,73)"
             ],
             [
              0.7529411764705882,
              "rgb(244,135,95)"
             ],
             [
              0.8156862745098039,
              "rgb(245,162,122)"
             ],
             [
              0.8784313725490196,
              "rgb(246,188,153)"
             ],
             [
              0.9411764705882353,
              "rgb(247,212,187)"
             ],
             [
              1,
              "rgb(250,234,220)"
             ]
            ],
            "type": "surface"
           }
          ],
          "table": [
           {
            "cells": {
             "fill": {
              "color": "rgb(231,231,240)"
             },
             "line": {
              "color": "white"
             }
            },
            "header": {
             "fill": {
              "color": "rgb(183,183,191)"
             },
             "line": {
              "color": "white"
             }
            },
            "type": "table"
           }
          ]
         },
         "layout": {
          "annotationdefaults": {
           "arrowcolor": "rgb(67,103,167)"
          },
          "coloraxis": {
           "colorbar": {
            "outlinewidth": 0,
            "tickcolor": "rgb(36,36,36)",
            "ticklen": 8,
            "ticks": "outside",
            "tickwidth": 2
           }
          },
          "colorscale": {
           "sequential": [
            [
             0,
             "rgb(2,4,25)"
            ],
            [
             0.06274509803921569,
             "rgb(24,15,41)"
            ],
            [
             0.12549019607843137,
             "rgb(47,23,57)"
            ],
            [
             0.18823529411764706,
             "rgb(71,28,72)"
            ],
            [
             0.25098039215686274,
             "rgb(97,30,82)"
            ],
            [
             0.3137254901960784,
             "rgb(123,30,89)"
            ],
            [
             0.3764705882352941,
             "rgb(150,27,91)"
            ],
            [
             0.4392156862745098,
             "rgb(177,22,88)"
            ],
            [
             0.5019607843137255,
             "rgb(203,26,79)"
            ],
            [
             0.5647058823529412,
             "rgb(223,47,67)"
            ],
            [
             0.6274509803921569,
             "rgb(236,76,61)"
            ],
            [
             0.6901960784313725,
             "rgb(242,107,73)"
            ],
            [
             0.7529411764705882,
             "rgb(244,135,95)"
            ],
            [
             0.8156862745098039,
             "rgb(245,162,122)"
            ],
            [
             0.8784313725490196,
             "rgb(246,188,153)"
            ],
            [
             0.9411764705882353,
             "rgb(247,212,187)"
            ],
            [
             1,
             "rgb(250,234,220)"
            ]
           ],
           "sequentialminus": [
            [
             0,
             "rgb(2,4,25)"
            ],
            [
             0.06274509803921569,
             "rgb(24,15,41)"
            ],
            [
             0.12549019607843137,
             "rgb(47,23,57)"
            ],
            [
             0.18823529411764706,
             "rgb(71,28,72)"
            ],
            [
             0.25098039215686274,
             "rgb(97,30,82)"
            ],
            [
             0.3137254901960784,
             "rgb(123,30,89)"
            ],
            [
             0.3764705882352941,
             "rgb(150,27,91)"
            ],
            [
             0.4392156862745098,
             "rgb(177,22,88)"
            ],
            [
             0.5019607843137255,
             "rgb(203,26,79)"
            ],
            [
             0.5647058823529412,
             "rgb(223,47,67)"
            ],
            [
             0.6274509803921569,
             "rgb(236,76,61)"
            ],
            [
             0.6901960784313725,
             "rgb(242,107,73)"
            ],
            [
             0.7529411764705882,
             "rgb(244,135,95)"
            ],
            [
             0.8156862745098039,
             "rgb(245,162,122)"
            ],
            [
             0.8784313725490196,
             "rgb(246,188,153)"
            ],
            [
             0.9411764705882353,
             "rgb(247,212,187)"
            ],
            [
             1,
             "rgb(250,234,220)"
            ]
           ]
          },
          "colorway": [
           "rgb(76,114,176)",
           "rgb(221,132,82)",
           "rgb(85,168,104)",
           "rgb(196,78,82)",
           "rgb(129,114,179)",
           "rgb(147,120,96)",
           "rgb(218,139,195)",
           "rgb(140,140,140)",
           "rgb(204,185,116)",
           "rgb(100,181,205)"
          ],
          "font": {
           "color": "rgb(36,36,36)"
          },
          "geo": {
           "bgcolor": "white",
           "lakecolor": "white",
           "landcolor": "rgb(234,234,242)",
           "showlakes": true,
           "showland": true,
           "subunitcolor": "white"
          },
          "hoverlabel": {
           "align": "left"
          },
          "hovermode": "closest",
          "paper_bgcolor": "white",
          "plot_bgcolor": "rgb(234,234,242)",
          "polar": {
           "angularaxis": {
            "gridcolor": "white",
            "linecolor": "white",
            "showgrid": true,
            "ticks": ""
           },
           "bgcolor": "rgb(234,234,242)",
           "radialaxis": {
            "gridcolor": "white",
            "linecolor": "white",
            "showgrid": true,
            "ticks": ""
           }
          },
          "scene": {
           "xaxis": {
            "backgroundcolor": "rgb(234,234,242)",
            "gridcolor": "white",
            "gridwidth": 2,
            "linecolor": "white",
            "showbackground": true,
            "showgrid": true,
            "ticks": "",
            "zerolinecolor": "white"
           },
           "yaxis": {
            "backgroundcolor": "rgb(234,234,242)",
            "gridcolor": "white",
            "gridwidth": 2,
            "linecolor": "white",
            "showbackground": true,
            "showgrid": true,
            "ticks": "",
            "zerolinecolor": "white"
           },
           "zaxis": {
            "backgroundcolor": "rgb(234,234,242)",
            "gridcolor": "white",
            "gridwidth": 2,
            "linecolor": "white",
            "showbackground": true,
            "showgrid": true,
            "ticks": "",
            "zerolinecolor": "white"
           }
          },
          "shapedefaults": {
           "fillcolor": "rgb(67,103,167)",
           "line": {
            "width": 0
           },
           "opacity": 0.5
          },
          "ternary": {
           "aaxis": {
            "gridcolor": "white",
            "linecolor": "white",
            "showgrid": true,
            "ticks": ""
           },
           "baxis": {
            "gridcolor": "white",
            "linecolor": "white",
            "showgrid": true,
            "ticks": ""
           },
           "bgcolor": "rgb(234,234,242)",
           "caxis": {
            "gridcolor": "white",
            "linecolor": "white",
            "showgrid": true,
            "ticks": ""
           }
          },
          "xaxis": {
           "automargin": true,
           "gridcolor": "white",
           "linecolor": "white",
           "showgrid": true,
           "ticks": "",
           "title": {
            "standoff": 15
           },
           "zerolinecolor": "white"
          },
          "yaxis": {
           "automargin": true,
           "gridcolor": "white",
           "linecolor": "white",
           "showgrid": true,
           "ticks": "",
           "title": {
            "standoff": 15
           },
           "zerolinecolor": "white"
          }
         }
        },
        "xaxis": {
         "anchor": "y",
         "domain": [
          0,
          0.98
         ],
         "title": {
          "text": "timestep"
         }
        },
        "xaxis2": {
         "anchor": "y2",
         "domain": [
          0,
          0.98
         ],
         "matches": "x",
         "showticklabels": false
        },
        "xaxis3": {
         "anchor": "y3",
         "domain": [
          0,
          0.98
         ],
         "matches": "x",
         "showticklabels": false
        },
        "xaxis4": {
         "anchor": "y4",
         "domain": [
          0,
          0.98
         ],
         "matches": "x",
         "showticklabels": false
        },
        "yaxis": {
         "anchor": "x",
         "domain": [
          0,
          0.2275
         ],
         "title": {
          "text": "value"
         }
        },
        "yaxis2": {
         "anchor": "x2",
         "domain": [
          0.2575,
          0.485
         ],
         "matches": "y",
         "title": {
          "text": "value"
         }
        },
        "yaxis3": {
         "anchor": "x3",
         "domain": [
          0.515,
          0.7425
         ],
         "matches": "y",
         "title": {
          "text": "value"
         }
        },
        "yaxis4": {
         "anchor": "x4",
         "domain": [
          0.7725,
          1
         ],
         "matches": "y",
         "title": {
          "text": "value"
         }
        }
       }
      }
     },
     "metadata": {}
    }
   ],
   "source": [
    "simulation_result['total_supply'] = simulation_result['reserve'] + simulation_result['circulation']\n",
    "simulation_result['ratio'] = simulation_result['reserve'] / simulation_result['total_supply']\n",
    "import plotly.express as px\n",
    "fig = px.line(\n",
    "    simulation_result,\n",
    "    x='timestep',\n",
    "    y=['total_supply', 'circulation', 'reserve'],\n",
    "    facet_row='subset',\n",
    "    height=800,\n",
    "    template='seaborn'\n",
    ")\n",
    "\n",
    "fig.update_layout(\n",
    "    margin=dict(l=20, r=20, t=20, b=20),\n",
    ")\n",
    "\n",
    "fig.show()"
   ]
  },
  {
   "cell_type": "code",
   "execution_count": 13,
   "metadata": {},
   "outputs": [
    {
     "output_type": "display_data",
     "data": {
      "application/vnd.plotly.v1+json": {
       "config": {
        "plotlyServerURL": "https://plot.ly"
       },
       "data": [
        {
         "hovertemplate": "variable=netflow<br>subset=0<br>timestep=%{x}<br>value=%{y}<extra></extra>",
         "legendgroup": "netflow",
         "line": {
          "color": "rgb(76,114,176)",
          "dash": "solid"
         },
         "mode": "lines",
         "name": "netflow",
         "orientation": "v",
         "showlegend": true,
         "type": "scatter",
         "x": [
          0,
          1,
          2,
          3,
          4,
          5,
          6,
          7,
          8,
          9,
          10,
          11,
          12,
          13,
          14,
          15,
          16,
          17,
          18,
          19,
          20,
          21,
          22,
          23,
          24,
          25,
          26,
          27,
          28,
          29,
          30,
          31,
          32,
          33,
          34,
          35,
          36,
          37,
          38,
          39,
          40,
          41,
          42,
          43,
          44,
          45,
          46,
          47,
          48,
          49,
          50,
          51,
          52,
          53,
          54,
          55,
          56,
          57,
          58,
          59,
          60,
          61,
          62,
          63,
          64,
          65,
          66,
          67,
          68,
          69,
          70,
          71,
          72,
          73,
          74,
          75,
          76,
          77,
          78,
          79,
          80,
          81,
          82,
          83,
          84,
          85,
          86,
          87,
          88,
          89,
          90,
          91,
          92,
          93,
          94,
          95,
          96,
          97,
          98,
          99,
          100,
          101,
          102,
          103,
          104,
          105,
          106,
          107,
          108,
          109,
          110,
          111,
          112,
          113,
          114,
          115,
          116,
          117,
          118,
          119,
          120
         ],
         "xaxis": "x4",
         "y": [
          0,
          -373.65000000000003,
          -347.25187500000004,
          -324.1349140625,
          -303.9079877929688,
          -286.2267031571452,
          -270.78781969934596,
          -257.32433288318003,
          -245.6011448502489,
          -235.41125241509187,
          -226.57239049959855,
          -218.92407659327748,
          -212.32500832683382,
          -206.6507719708595,
          -201.7918247118713,
          -197.65171799616166,
          -194.14553313989592,
          -191.19850384495686,
          -188.7448032899817,
          -186.7264761339787,
          -185.09249811910104,
          -183.7979480276754,
          -182.80327856996777,
          -182.07367438294196,
          -181.57848673243154,
          -181.29073575458932,
          -181.18667216736472,
          -181.24539134683172,
          -181.44849351208146,
          -181.779784509863,
          -182.2250123483208,
          -182.77163520871034,
          -183.408617174263,
          -184.12624836469823,
          -184.9159865605214,
          -185.77031774961836,
          -186.682633335409,
          -187.64712201592292,
          -188.65867458099183,
          -189.71280008417045,
          -190.80555203039228,
          -191.9334633827343,
          -193.0934893346298,
          -194.28295691975603,
          -195.49952064266776,
          -196.7411234108517,
          -198.0059621348172,
          -199.29245743851226,
          -200.5992269889873,
          -201.92506201289936,
          -203.26890661911213,
          -204.6298395921367,
          -206.00705836121193,
          -207.399864885093,
          -208.80765322367176,
          -210.229898594898,
          -211.66614773954768,
          -213.11601043758665,
          -214.5791520385459,
          -216.0552868847619,
          -217.54417252081072,
          -219.045604595208,
          -220.5594123716696,
          -222.0854547771086,
          -223.62361692224545,
          -225.17380703836866,
          -226.73595378052988,
          -228.31000385339664,
          -229.8959199212163,
          -231.49367876795074,
          -233.1032696776952,
          -234.7246930090667,
          -236.35795894039035,
          -238.00308636528095,
          -239.66010192065505,
          -241.32903913135397,
          -243.0099376574498,
          -244.70284263196933,
          -246.4078040782366,
          -248.1248763973254,
          -249.8541179172486,
          -251.59559049651153,
          -253.34935917553844,
          -255.11549187025525,
          -256.89405910279606,
          -258.68513376490125,
          -260.48879091010525,
          -262.3051075712778,
          -264.13416260049365,
          -265.9760365285654,
          -267.8308114418961,
          -269.6985708745843,
          -271.57939971396326,
          -273.47338411797426,
          -275.3806114429624,
          -277.3011701806543,
          -279.235149903225,
          -281.18264121549043,
          -283.1437357133786,
          -285.118525947934,
          -287.10710539419637,
          -289.1095684243775,
          -291.1260102848251,
          -293.156527076326,
          -295.20121573735366,
          -297.26017402991266,
          -299.33350052767327,
          -301.42129460612745,
          -303.52365643452856,
          -305.64068696940626,
          -307.7724879494724,
          -309.91916189175555,
          -312.0808120888231,
          -314.2575426069637,
          -316.44945828522077,
          -318.6566647351798,
          -320.87926834142274,
          -323.11737626257604,
          -325.3710964328841,
          -327.6405375642513,
          -329.9258091487004
         ],
         "yaxis": "y4"
        },
        {
         "hovertemplate": "variable=netflow<br>subset=1<br>timestep=%{x}<br>value=%{y}<extra></extra>",
         "legendgroup": "netflow",
         "line": {
          "color": "rgb(76,114,176)",
          "dash": "solid"
         },
         "mode": "lines",
         "name": "netflow",
         "orientation": "v",
         "showlegend": false,
         "type": "scatter",
         "x": [
          0,
          1,
          2,
          3,
          4,
          5,
          6,
          7,
          8,
          9,
          10,
          11,
          12,
          13,
          14,
          15,
          16,
          17,
          18,
          19,
          20,
          21,
          22,
          23,
          24,
          25,
          26,
          27,
          28,
          29,
          30,
          31,
          32,
          33,
          34,
          35,
          36,
          37,
          38,
          39,
          40,
          41,
          42,
          43,
          44,
          45,
          46,
          47,
          48,
          49,
          50,
          51,
          52,
          53,
          54,
          55,
          56,
          57,
          58,
          59,
          60,
          61,
          62,
          63,
          64,
          65,
          66,
          67,
          68,
          69,
          70,
          71,
          72,
          73,
          74,
          75,
          76,
          77,
          78,
          79,
          80,
          81,
          82,
          83,
          84,
          85,
          86,
          87,
          88,
          89,
          90,
          91,
          92,
          93,
          94,
          95,
          96,
          97,
          98,
          99,
          100,
          101,
          102,
          103,
          104,
          105,
          106,
          107,
          108,
          109,
          110,
          111,
          112,
          113,
          114,
          115,
          116,
          117,
          118,
          119,
          120
         ],
         "xaxis": "x3",
         "y": [
          0,
          -373.65000000000003,
          -349.71990000000005,
          -327.00729540000003,
          -306.45928291750005,
          -288.4954279187813,
          -272.8078893431829,
          -259.12561171393844,
          -247.2099302257699,
          -236.85070091478198,
          -227.86289317646833,
          -220.0835893928106,
          -213.36934302912812,
          -207.59385237252056,
          -202.4620635361911,
          -197.60785575680728,
          -193.01743394798237,
          -188.67769311351478,
          -184.57618384422227,
          -180.7010795399399,
          -177.04114527042339,
          -173.58570819321264,
          -170.32462945060763,
          -167.24827747180112,
          -164.34750260990984,
          -161.6136130471599,
          -159.03835190481843,
          -156.61387549763413,
          -154.33273267556126,
          -152.18784519840324,
          -150.17248909172963,
          -148.2802769350027,
          -146.50514103530352,
          -144.84131744237752,
          -143.2833307629332,
          -141.82597973423177,
          -140.4643235190032,
          -139.193668685622,
          -138.0095568392801,
          -136.90775287160707,
          -135.88423379781486,
          -134.9351781519914,
          -134.0569559126354,
          -133.2461189319202,
          -132.49939184350038,
          -131.81366342493428,
          -131.18597839199091,
          -130.6135296032479,
          -130.0936506544655,
          -129.62380884324773,
          -129.20159848547686,
          -128.82473456593212,
          -128.49104670638351,
          -128.19847343528733,
          -127.94505674400284,
          -127.72893691520451,
          -127.5483476098797,
          -127.40161119998287,
          -127.28713433446329,
          -127.20340372699759,
          -127.1489821543422,
          -127.12250465477437,
          -127.12267491661754,
          -127.14826184734684,
          -127.19809631424594,
          -127.27106804803714,
          -127.36612270133679,
          -127.48225905419427,
          -127.61852635936057,
          -127.77402182030005,
          -127.94788819530822,
          -128.13931152143007,
          -128.34751895218935,
          -128.57177670343802,
          -128.81138810191968,
          -129.06569173141185,
          -129.3340596715678,
          -129.6158958248228,
          -129.9106343269624,
          -130.21773803716857,
          -130.53669710357062,
          -130.86702760052563,
          -131.20827023404144,
          -131.5599891119356,
          -131.92177057549347,
          -132.29322208955003,
          -132.67397118807511,
          -133.06366447248593,
          -133.46196666005147,
          -133.8685596798835,
          -134.28314181413526,
          -134.7054268821474,
          -135.13514346539384,
          -135.57203417118737,
          -136.01585493320746,
          -136.4663743470089,
          -136.92337303876207,
          -137.38664306556402,
          -137.8559873457408,
          -138.33121911764258,
          -138.81216142550605,
          -139.29864663103132,
          -139.79051594938753,
          -140.28761900842554,
          -140.78981342993768,
          -141.29696443186197,
          -141.80894445038373,
          -142.32563278093983,
          -142.84691523718044,
          -143.37268382699017,
          -143.9028364447161,
          -144.437276578792,
          -144.97591303398937,
          -145.5186596675634,
          -146.06543513859987,
          -146.61616266990217,
          -147.17076982179228,
          -147.72918827722938,
          -148.29135363768077,
          -148.85720522920684,
          -149.42668591825023
         ],
         "yaxis": "y3"
        },
        {
         "hovertemplate": "variable=netflow<br>subset=2<br>timestep=%{x}<br>value=%{y}<extra></extra>",
         "legendgroup": "netflow",
         "line": {
          "color": "rgb(76,114,176)",
          "dash": "solid"
         },
         "mode": "lines",
         "name": "netflow",
         "orientation": "v",
         "showlegend": false,
         "type": "scatter",
         "x": [
          0,
          1,
          2,
          3,
          4,
          5,
          6,
          7,
          8,
          9,
          10,
          11,
          12,
          13,
          14,
          15,
          16,
          17,
          18,
          19,
          20,
          21,
          22,
          23,
          24,
          25,
          26,
          27,
          28,
          29,
          30,
          31,
          32,
          33,
          34,
          35,
          36,
          37,
          38,
          39,
          40,
          41,
          42,
          43,
          44,
          45,
          46,
          47,
          48,
          49,
          50,
          51,
          52,
          53,
          54,
          55,
          56,
          57,
          58,
          59,
          60,
          61,
          62,
          63,
          64,
          65,
          66,
          67,
          68,
          69,
          70,
          71,
          72,
          73,
          74,
          75,
          76,
          77,
          78,
          79,
          80,
          81,
          82,
          83,
          84,
          85,
          86,
          87,
          88,
          89,
          90,
          91,
          92,
          93,
          94,
          95,
          96,
          97,
          98,
          99,
          100,
          101,
          102,
          103,
          104,
          105,
          106,
          107,
          108,
          109,
          110,
          111,
          112,
          113,
          114,
          115,
          116,
          117,
          118,
          119,
          120
         ],
         "xaxis": "x2",
         "y": [
          0,
          -186.82500000000002,
          -177.90734375,
          -169.86640462239586,
          -162.6199276848687,
          -156.09339197492108,
          -150.21928339219158,
          -144.93643594998784,
          -140.18943495922824,
          -135.92807632220337,
          -132.10687666097832,
          -128.6846295012056,
          -125.62400318143791,
          -122.89117656510825,
          -120.4555090011504,
          -118.28924131336589,
          -116.36722490136256,
          -114.66667631014843,
          -113.16695487393947,
          -111.84936126485348,
          -110.69695498111224,
          -109.69438899414985,
          -108.82775994142828,
          -108.08447240342726,
          -107.4531159406811,
          -106.92335369122402,
          -106.48582144158944,
          -106.13203618668929,
          -105.85431328647462,
          -105.64569141114865,
          -105.49986454268998,
          -105.41112036928536,
          -105.37428447164103,
          -105.38466975664788,
          -105.43803064506938,
          -105.53052156630173,
          -105.65865935527577,
          -105.81928918464021,
          -106.00955369985543,
          -106.22686505607624,
          -106.46887958401054,
          -106.73347483759076,
          -107.01872879953108,
          -107.32290104189656,
          -107.6444156578833,
          -107.98184579828865,
          -108.33389966180683,
          -108.69940780246746,
          -109.07731163038632,
          -109.46665299363849,
          -109.86656473961199,
          -110.27626216375603,
          -110.69503526229533,
          -111.1222417133254,
          -111.55730051780995,
          -111.99968623844,
          -112.44892378014605,
          -112.90458366134024,
          -113.36627772975254,
          -113.8336552810618,
          -114.30639954245365,
          -114.78422448679626,
          -115.26687194635088,
          -115.75410899785655,
          -116.24572559347581,
          -116.74153241448663,
          -117.24135892677917,
          -117.74505161918488,
          -118.25247240744874,
          -118.76349718827197,
          -119.27801452931622,
          -119.79592448238702,
          -120.31713750821578,
          -120.84157350234837,
          -121.36916091263502,
          -121.89983593970945,
          -122.4335418126554,
          -122.97022813279148,
          -123.50985027917064,
          -124.05236886999201,
          -124.59774927466862,
          -125.14596117178877,
          -125.69697814865634,
          -126.25077733850112,
          -126.80733909181757,
          -127.3666466786238,
          -127.92868601873357,
          -128.49344543740793,
          -129.06091544400053,
          -129.63108853143476,
          -130.2039589945547,
          -130.7795227655749,
          -131.3577772650223,
          -131.93872126671315,
          -132.5223547754463,
          -133.10867891621658,
          -133.69769583386594,
          -134.289408602191,
          -134.88382114161772,
          -135.48093814463834,
          -136.08076500828074,
          -136.68330777294875,
          -137.28857306703537,
          -137.8965680567655,
          -138.50730040077687,
          -139.1207782089942,
          -139.7370100053924,
          -140.35600469428365,
          -140.97777152979734,
          -141.6023200882522,
          -142.2296602431496,
          -142.85980214254081,
          -143.49275618854625,
          -144.12853301882308,
          -144.7671434897995,
          -145.4085986615088,
          -146.05290978387322,
          -146.70008828430144,
          -147.35014575647628,
          -148.00309395022055,
          -148.65894476234044
         ],
         "yaxis": "y2"
        },
        {
         "hovertemplate": "variable=netflow<br>subset=3<br>timestep=%{x}<br>value=%{y}<extra></extra>",
         "legendgroup": "netflow",
         "line": {
          "color": "rgb(76,114,176)",
          "dash": "solid"
         },
         "mode": "lines",
         "name": "netflow",
         "orientation": "v",
         "showlegend": false,
         "type": "scatter",
         "x": [
          0,
          1,
          2,
          3,
          4,
          5,
          6,
          7,
          8,
          9,
          10,
          11,
          12,
          13,
          14,
          15,
          16,
          17,
          18,
          19,
          20,
          21,
          22,
          23,
          24,
          25,
          26,
          27,
          28,
          29,
          30,
          31,
          32,
          33,
          34,
          35,
          36,
          37,
          38,
          39,
          40,
          41,
          42,
          43,
          44,
          45,
          46,
          47,
          48,
          49,
          50,
          51,
          52,
          53,
          54,
          55,
          56,
          57,
          58,
          59,
          60,
          61,
          62,
          63,
          64,
          65,
          66,
          67,
          68,
          69,
          70,
          71,
          72,
          73,
          74,
          75,
          76,
          77,
          78,
          79,
          80,
          81,
          82,
          83,
          84,
          85,
          86,
          87,
          88,
          89,
          90,
          91,
          92,
          93,
          94,
          95,
          96,
          97,
          98,
          99,
          100,
          101,
          102,
          103,
          104,
          105,
          106,
          107,
          108,
          109,
          110,
          111,
          112,
          113,
          114,
          115,
          116,
          117,
          118,
          119,
          120
         ],
         "xaxis": "x",
         "y": [
          0,
          1.6499999999999773,
          10.813874999999996,
          18.762711562499987,
          25.652920342968685,
          31.62079510424411,
          36.78509999947903,
          41.249324098543184,
          45.103645954481635,
          48.42664550245888,
          51.28679578735199,
          53.743762836745475,
          55.84953835420072,
          57.649426734174824,
          59.18290513462517,
          60.484372933648785,
          61.5838047967344,
          62.50731975149438,
          63.277677072350286,
          63.91470838831708,
          64.43569421638205,
          64.85569206803422,
          65.18782235723432,
          65.44351753708139,
          65.63273919442014,
          65.76416722339292,
          65.84536466892962,
          65.88292136932097,
          65.88257912457613,
          65.84934076657521,
          65.78756520144714,
          65.70105022831524,
          65.59310470652258,
          65.46661144125324,
          65.32408198127894,
          65.16770436903056,
          64.9993847494145,
          64.82078362721302,
          64.63334746132858,
          64.43833619561019,
          64.2368472488688,
          64.02983641947282,
          63.81813610134742,
          63.60247115716385,
          63.383472750033945,
          63.16169039627016,
          62.93760246800508,
          62.711625345036964,
          62.48412138962817,
          62.255405895638546,
          62.02575314390765,
          61.79540167883329,
          61.56455890630937,
          61.33340510030544,
          61.10209689414384,
          60.87077032274857,
          60.63954347361607,
          60.408518796832226,
          60.17778511798548,
          59.94741939218747,
          59.71748823249874,
          59.48804924177264,
          59.2591521732015,
          59.03083994159519,
          58.80314950459007,
          58.57611263051737,
          58.34975656750703,
          58.124104626530254,
          57.89917668944909,
          57.674989651717965,
          57.45155780814156,
          57.228893189013064,
          57.00700585301507,
          56.78590414244229,
          56.56559490559391,
          56.346083690556725,
          56.127374914059175,
          55.90947200860222,
          55.69237755066138,
          55.476093372393336,
          55.26062065897048,
          55.04596003338992,
          54.832111630369326,
          54.61907516073225,
          54.40684996750696,
          54.19543507480364,
          53.984829230399754,
          53.775030942841994,
          53.566038513770394,
          53.35785006607935,
          53.15046356845053,
          52.943876856724444,
          52.73808765251789,
          52.533093579440305,
          52.328892177219245,
          52.125480914002736,
          51.92285719707385,
          51.72101838218103,
          51.51996178166294,
          51.31968467152245,
          51.12018429758467,
          50.921457880857986,
          50.723502622198765,
          50.526315706371435,
          50.32989430558007,
          50.13423558254047,
          49.939336693150835,
          49.74519478881399,
          49.551807018455236,
          49.35917053027458,
          49.16728247326864,
          48.976139998550906,
          48.785740260496596,
          48.59608041773524,
          48.40715763400945,
          48.21896907891849,
          48.031511928560064,
          47.84478336608467,
          47.658780582172994,
          47.47350077544658,
          47.288941152820314
         ],
         "yaxis": "y"
        },
        {
         "hovertemplate": "variable=adjustment<br>subset=0<br>timestep=%{x}<br>value=%{y}<extra></extra>",
         "legendgroup": "adjustment",
         "line": {
          "color": "rgb(221,132,82)",
          "dash": "solid"
         },
         "mode": "lines",
         "name": "adjustment",
         "orientation": "v",
         "showlegend": true,
         "type": "scatter",
         "x": [
          0,
          1,
          2,
          3,
          4,
          5,
          6,
          7,
          8,
          9,
          10,
          11,
          12,
          13,
          14,
          15,
          16,
          17,
          18,
          19,
          20,
          21,
          22,
          23,
          24,
          25,
          26,
          27,
          28,
          29,
          30,
          31,
          32,
          33,
          34,
          35,
          36,
          37,
          38,
          39,
          40,
          41,
          42,
          43,
          44,
          45,
          46,
          47,
          48,
          49,
          50,
          51,
          52,
          53,
          54,
          55,
          56,
          57,
          58,
          59,
          60,
          61,
          62,
          63,
          64,
          65,
          66,
          67,
          68,
          69,
          70,
          71,
          72,
          73,
          74,
          75,
          76,
          77,
          78,
          79,
          80,
          81,
          82,
          83,
          84,
          85,
          86,
          87,
          88,
          89,
          90,
          91,
          92,
          93,
          94,
          95,
          96,
          97,
          98,
          99,
          100,
          101,
          102,
          103,
          104,
          105,
          106,
          107,
          108,
          109,
          110,
          111,
          112,
          113,
          114,
          115,
          116,
          117,
          118,
          119,
          120
         ],
         "xaxis": "x4",
         "y": [
          0,
          -154.31250000000006,
          -115.08734374999999,
          -80.40361132812494,
          -49.7177049235026,
          -22.550965998840248,
          1.5180833760278596,
          22.860572224557725,
          41.80329614710799,
          58.63401410522507,
          73.60611237317657,
          86.94271126440456,
          98.84028120734712,
          109.47182679109555,
          118.98969039767849,
          127.52802087084672,
          135.204947241115,
          142.12449274545367,
          148.37826016992193,
          154.0469158364254,
          159.2014962905888,
          163.90455887352257,
          168.21119482945164,
          172.1699213727334,
          175.82346717558713,
          179.20946401009712,
          182.3610557567043,
          185.30743465182664,
          188.07431346771165,
          190.68434127901943,
          193.15746955611152,
          195.5112745197633,
          197.7612409829677,
          199.92101228116138,
          202.00261034246074,
          204.01662946543152,
          205.97240694568683,
          207.87817331730125,
          209.7411846445638,
          211.56783900860702,
          213.36377907723264,
          215.13398242064497,
          216.88284103715452,
          218.61423137799054,
          220.3315760063469,
          222.03789789016136,
          223.7358682087187,
          225.4278484480134,
          227.11592746722818,
          228.8019541371545,
          230.48756607960354,
          232.17421497364128,
          233.86318883883297,
          235.55563165666848,
          237.25256064819658,
          238.95488148789158,
          240.66340170032785,
          242.37884245677154,
          244.10184896286563,
          245.83299960573797,
          247.57281400875635,
          249.32176012443992,
          251.08026048044974,
          252.8486976798455,
          254.62741924470956,
          256.41674188159305,
          258.2169552378643,
          260.02832520978967,
          261.8510968559051,
          263.68549696284055,
          265.53173630512583,
          267.3900116355398,
          269.2605074382031,
          271.14339747276296,
          273.03884613463333,
          274.94700965327064,
          276.86803714784,
          278.80207155731483,
          280.74925046001346,
          282.7097067957897,
          284.6835695025078,
          286.6709640770499,
          288.6720130698749,
          290.6868365210711,
          292.71555234489927,
          294.75827666898107,
          296.8151241335576,
          298.88620815559364,
          300.9716411619286,
          303.07153479518047,
          305.1860000956597,
          307.3151476621646,
          309.45908779418386,
          311.61793061773614,
          313.79178619680056,
          315.98076463206843,
          318.1849761485324,
          320.40453117325455,
          322.63954040448573,
          324.8901148731811,
          327.1563659978188,
          329.43840563332895,
          331.73634611484243,
          334.05030029688004,
          336.3803815885343,
          338.7267039851247,
          341.08938209675586,
          343.46853117414946,
          345.86426713208346,
          348.2767065707284,
          350.70596679513585,
          353.1521658331064,
          355.6154224516346,
          358.09585617210587,
          360.59358728440054,
          363.1087368600389,
          365.6414267644882,
          368.1917796687369,
          370.75991906022824,
          373.34596925323393,
          375.95005539874336
         ],
         "yaxis": "y4"
        },
        {
         "hovertemplate": "variable=adjustment<br>subset=1<br>timestep=%{x}<br>value=%{y}<extra></extra>",
         "legendgroup": "adjustment",
         "line": {
          "color": "rgb(221,132,82)",
          "dash": "solid"
         },
         "mode": "lines",
         "name": "adjustment",
         "orientation": "v",
         "showlegend": false,
         "type": "scatter",
         "x": [
          0,
          1,
          2,
          3,
          4,
          5,
          6,
          7,
          8,
          9,
          10,
          11,
          12,
          13,
          14,
          15,
          16,
          17,
          18,
          19,
          20,
          21,
          22,
          23,
          24,
          25,
          26,
          27,
          28,
          29,
          30,
          31,
          32,
          33,
          34,
          35,
          36,
          37,
          38,
          39,
          40,
          41,
          42,
          43,
          44,
          45,
          46,
          47,
          48,
          49,
          50,
          51,
          52,
          53,
          54,
          55,
          56,
          57,
          58,
          59,
          60,
          61,
          62,
          63,
          64,
          65,
          66,
          67,
          68,
          69,
          70,
          71,
          72,
          73,
          74,
          75,
          76,
          77,
          78,
          79,
          80,
          81,
          82,
          83,
          84,
          85,
          86,
          87,
          88,
          89,
          90,
          91,
          92,
          93,
          94,
          95,
          96,
          97,
          98,
          99,
          100,
          101,
          102,
          103,
          104,
          105,
          106,
          107,
          108,
          109,
          110,
          111,
          112,
          113,
          114,
          115,
          116,
          117,
          118,
          119,
          120
         ],
         "xaxis": "x3",
         "y": [
          0,
          -104.952,
          -104.53219200000001,
          -83.95295425000003,
          -52.817817056875,
          -25.255343593184833,
          -0.8376632417073056,
          20.81198195056809,
          40.025344006011025,
          57.094546148508776,
          72.27681750331391,
          85.79866211916057,
          97.85952989697718,
          104.9580756459311,
          105.37790794851483,
          105.79941958030888,
          106.22261725863011,
          106.64750772766463,
          107.07409775857529,
          107.5023941496096,
          107.93240372620804,
          108.36413334111288,
          108.79758987447731,
          109.23278023397522,
          109.66971135491113,
          110.10839020033077,
          110.5488237611321,
          110.99101905617663,
          111.43498313240134,
          111.88072306493095,
          112.32824595719067,
          112.77755894101942,
          113.2286691767835,
          113.68158385349064,
          114.13631018890462,
          114.59285542966022,
          115.05122685137886,
          115.51143175878437,
          115.9734774858195,
          116.43737139576278,
          116.90312088134583,
          117.37073336487121,
          117.84021629833069,
          118.31157716352402,
          118.7848234721781,
          119.25996276606683,
          119.7370026171311,
          120.21595062759961,
          120.69681443011001,
          121.17960168783046,
          121.66432009458177,
          122.1509773749601,
          122.63958128445994,
          123.13013960959778,
          123.62266016803618,
          124.11715080870832,
          124.61361941194315,
          125.11207388959093,
          125.61252218514929,
          126.11497227388989,
          126.61943216298546,
          127.12590989163739,
          127.63441353120395,
          128.14495118532875,
          128.65753099007006,
          129.17216111403036,
          129.68884975848647,
          130.20760515752042,
          130.7284355781505,
          131.2513493204631,
          131.77635471774497,
          132.30346013661594,
          132.83267397716241,
          133.36400467307104,
          133.8974606917633,
          134.43305053453037,
          134.97078273666847,
          135.51066586761516,
          136.05270853108564,
          136.59691936520997,
          137.1433070426708,
          137.6918802708415,
          138.24264779192487,
          138.79561838309255,
          139.35080085662491,
          139.90820406005142,
          140.46783687629164,
          141.0297082237968,
          141.593827056692,
          142.16020236491875,
          142.72884317437843,
          143.29975854707595,
          143.87295758126425,
          144.44844941158928,
          145.02624320923564,
          145.60634818207257,
          146.18877357480088,
          146.77352866910005,
          147.36062278377645,
          147.9500652749116,
          148.54186553601124,
          149.1360329981553,
          149.7325771301479,
          150.33150743866852,
          150.9328334684232,
          151.5365648022969,
          152.1427110615061,
          152.7512819057521,
          153.36228703337514,
          153.97573618150864,
          154.59163912623467,
          155.21000568273962,
          155.83084570547055,
          156.45416908829245,
          157.07998576464558,
          157.70830570770417,
          158.339138930535,
          158.97249548625715,
          159.60838546820216,
          160.24681901007494,
          160.88780628611525
         ],
         "yaxis": "y3"
        },
        {
         "hovertemplate": "variable=adjustment<br>subset=2<br>timestep=%{x}<br>value=%{y}<extra></extra>",
         "legendgroup": "adjustment",
         "line": {
          "color": "rgb(221,132,82)",
          "dash": "solid"
         },
         "mode": "lines",
         "name": "adjustment",
         "orientation": "v",
         "showlegend": false,
         "type": "scatter",
         "x": [
          0,
          1,
          2,
          3,
          4,
          5,
          6,
          7,
          8,
          9,
          10,
          11,
          12,
          13,
          14,
          15,
          16,
          17,
          18,
          19,
          20,
          21,
          22,
          23,
          24,
          25,
          26,
          27,
          28,
          29,
          30,
          31,
          32,
          33,
          34,
          35,
          36,
          37,
          38,
          39,
          40,
          41,
          42,
          43,
          44,
          45,
          46,
          47,
          48,
          49,
          50,
          51,
          52,
          53,
          54,
          55,
          56,
          57,
          58,
          59,
          60,
          61,
          62,
          63,
          64,
          65,
          66,
          67,
          68,
          69,
          70,
          71,
          72,
          73,
          74,
          75,
          76,
          77,
          78,
          79,
          80,
          81,
          82,
          83,
          84,
          85,
          86,
          87,
          88,
          89,
          90,
          91,
          92,
          93,
          94,
          95,
          96,
          97,
          98,
          99,
          100,
          101,
          102,
          103,
          104,
          105,
          106,
          107,
          108,
          109,
          110,
          111,
          112,
          113,
          114,
          115,
          116,
          117,
          118,
          119,
          120
         ],
         "xaxis": "x2",
         "y": [
          0,
          -169.88124999999997,
          -143.73022135416656,
          -119.9926728786892,
          -98.44150071303754,
          -78.87095133425828,
          -61.0946142959584,
          -44.94360368039555,
          -30.264910521766826,
          -16.919910126798683,
          -4.783009729930571,
          6.259576710498669,
          16.310938528251874,
          25.46447400679422,
          33.804801489770405,
          41.4085848332329,
          48.34528125279757,
          54.677818861790136,
          60.4632105104991,
          65.75310991520361,
          70.59431550261603,
          75.02922688528734,
          79.09625842138733,
          82.83021389358038,
          86.26262596239845,
          89.4220637058406,
          92.33441124558365,
          95.02312017810223,
          97.5094382734349,
          99.8126166728016,
          101.9500976065057,
          103.93768446351244,
          105.78969587191499,
          107.51910529350795,
          109.13766749436323,
          110.65603312526419,
          112.08385252985285,
          113.42986979324938,
          114.7020079486874,
          115.90744617344791,
          117.05268972721892,
          118.14363331520347,
          119.18561849415093,
          120.18348568136562,
          121.14162127409817,
          122.06400033901568,
          122.95422528823191,
          123.81556091922211,
          124.6509661604728,
          125.46312283257785,
          126.2544617053736,
          127.02718610532838,
          127.78329330349786,
          128.52459389270837,
          129.25272934301202,
          129.96918790668113,
          130.67531902791455,
          131.37234639783208,
          132.06137978212254,
          132.74342573673624,
          133.4193973161583,
          134.0901228689808,
          134.7563540065779,
          135.41877282262746,
          136.07799843390865,
          136.73459290618862,
          137.38906662300766,
          138.04188314973922,
          138.69346364037736,
          139.3441908300415,
          139.99441265214836,
          140.64444551553734,
          141.29457727351954,
          141.9450699138139,
          142.59616199561262,
          143.24807085754753,
          143.90099461809893,
          144.55511398795844,
          145.2105939120254,
          145.86758505705635,
          146.526225159475,
          147.18664024649243,
          147.84894574244754,
          148.51324747115945,
          149.17964256406714,
          149.84822028301454,
          150.51906276570804,
          151.19224570111157,
          151.86783894137082,
          152.5459070562324,
          153.22650983536303,
          153.9097027434701,
          154.59553733265733,
          155.28406161603965,
          155.9753204062576,
          156.6693556221918,
          157.36620656686787,
          158.06591017925925,
          158.7685012624434,
          159.4740126903338,
          160.18247559500168,
          160.89391953641388,
          161.60837265623928,
          162.32586181722053,
          163.04641272947057,
          163.77005006492195,
          164.49679756104322,
          165.22667811483063,
          165.95971386799155,
          166.6959262841465,
          167.43533621879916,
          168.17796398275763,
          168.92382939961934,
          169.6729518578799,
          170.42535035817127,
          171.18104355608557,
          171.9400498010026,
          172.7023871712943,
          173.46807350624766,
          174.2371264350161,
          175.00956340287678
         ],
         "yaxis": "y2"
        },
        {
         "hovertemplate": "variable=adjustment<br>subset=3<br>timestep=%{x}<br>value=%{y}<extra></extra>",
         "legendgroup": "adjustment",
         "line": {
          "color": "rgb(221,132,82)",
          "dash": "solid"
         },
         "mode": "lines",
         "name": "adjustment",
         "orientation": "v",
         "showlegend": false,
         "type": "scatter",
         "x": [
          0,
          1,
          2,
          3,
          4,
          5,
          6,
          7,
          8,
          9,
          10,
          11,
          12,
          13,
          14,
          15,
          16,
          17,
          18,
          19,
          20,
          21,
          22,
          23,
          24,
          25,
          26,
          27,
          28,
          29,
          30,
          31,
          32,
          33,
          34,
          35,
          36,
          37,
          38,
          39,
          40,
          41,
          42,
          43,
          44,
          45,
          46,
          47,
          48,
          49,
          50,
          51,
          52,
          53,
          54,
          55,
          56,
          57,
          58,
          59,
          60,
          61,
          62,
          63,
          64,
          65,
          66,
          67,
          68,
          69,
          70,
          71,
          72,
          73,
          74,
          75,
          76,
          77,
          78,
          79,
          80,
          81,
          82,
          83,
          84,
          85,
          86,
          87,
          88,
          89,
          90,
          91,
          92,
          93,
          94,
          95,
          96,
          97,
          98,
          99,
          100,
          101,
          102,
          103,
          104,
          105,
          106,
          107,
          108,
          109,
          110,
          111,
          112,
          113,
          114,
          115,
          116,
          117,
          118,
          119,
          120
         ],
         "xaxis": "x",
         "y": [
          0,
          -185.58749999999995,
          -174.11615625000002,
          -164.071971796875,
          -155.27158370566409,
          -147.55521105064017,
          -140.78362198055405,
          -134.83549085672902,
          -129.6050952958206,
          -125.0003094013042,
          -120.94085509016318,
          -117.3567783205478,
          -114.18712129536121,
          -111.37876543685174,
          -108.88542316894697,
          -106.66675936882127,
          -104.68762581062778,
          -102.91739406921046,
          -101.32937422062561,
          -99.9003083049436,
          -98.60992893597926,
          -97.44057467925019,
          -96.37685489706965,
          -95.40535769868855,
          -94.51439545164433,
          -93.69378302348412,
          -92.93464454432936,
          -92.22924502215076,
          -91.57084361438872,
          -90.95356577064403,
          -90.37229181938841,
          -89.82255988378884,
          -89.30048128374649,
          -88.80266681826784,
          -88.3261625288232,
          -87.86839372432088,
          -87.42711620515065,
          -87.00037376040835,
          -86.58646113149182,
          -86.18389173902658,
          -85.79136956049722,
          -85.4077646247534,
          -85.03209165821548,
          -84.66349147743145,
          -84.3012147747722,
          -83.94460798947658,
          -83.5931009958452,
          -83.24619637487527,
          -82.90346006568589,
          -82.56451321927675,
          -82.2290250999839,
          -81.89670689988776,
          -81.5673063487544,
          -81.24060301719624,
          -80.91640422389507,
          -80.59454146919782,
          -80.2748673273859,
          -79.95725273862958,
          -79.64158464921967,
          -79.3277639552873,
          -79.0157037109764,
          -78.70532756705896,
          -78.39656841035516,
          -78.0893671781311,
          -77.7836718249715,
          -77.47943642251647,
          -77.17662037497425,
          -76.87518773552024,
          -76.57510661060626,
          -76.27634864087567,
          -75.97888854882912,
          -75.6827037446583,
          -75.38777398276567,
          -75.0940810624515,
          -74.80160856708753,
          -74.51034163682806,
          -74.22026677054444,
          -73.93137165322501,
          -73.64364500556512,
          -73.3570764528936,
          -73.0716564109482,
          -72.78737598633418,
          -72.50422688977598,
          -72.22220136051862,
          -71.94129210044291,
          -71.66149221664702,
          -71.38279517140386,
          -71.10519473854706,
          -70.82868496545814,
          -70.55326013993425,
          -70.27891476130951,
          -70.00564351528263,
          -69.73344125197359,
          -69.46230296679529,
          -69.19222378377721,
          -68.92319894102566,
          -68.65522377804676,
          -68.388293724692,
          -68.12240429151782,
          -67.85755106137682,
          -67.59372968208378,
          -67.33093586001635,
          -67.06916535453182,
          -66.80841397309398,
          -66.54867756701942,
          -66.28995202776316,
          -66.03223328367486,
          -65.77551729716434,
          -65.51980006222463,
          -65.26507760226592,
          -65.01134596822048,
          -64.75860123688504,
          -64.50683950946747,
          -64.2560569103142,
          -64.00624958579404,
          -63.75741370331763,
          -63.50954545047647,
          -63.26264103428513,
          -63.01669668051385,
          -62.77170863310015,
          -62.527673153628506
         ],
         "yaxis": "y"
        }
       ],
       "layout": {
        "annotations": [
         {
          "font": {},
          "showarrow": false,
          "text": "subset=3",
          "textangle": 90,
          "x": 0.98,
          "xanchor": "left",
          "xref": "paper",
          "y": 0.11375,
          "yanchor": "middle",
          "yref": "paper"
         },
         {
          "font": {},
          "showarrow": false,
          "text": "subset=2",
          "textangle": 90,
          "x": 0.98,
          "xanchor": "left",
          "xref": "paper",
          "y": 0.37124999999999997,
          "yanchor": "middle",
          "yref": "paper"
         },
         {
          "font": {},
          "showarrow": false,
          "text": "subset=1",
          "textangle": 90,
          "x": 0.98,
          "xanchor": "left",
          "xref": "paper",
          "y": 0.62875,
          "yanchor": "middle",
          "yref": "paper"
         },
         {
          "font": {},
          "showarrow": false,
          "text": "subset=0",
          "textangle": 90,
          "x": 0.98,
          "xanchor": "left",
          "xref": "paper",
          "y": 0.88625,
          "yanchor": "middle",
          "yref": "paper"
         }
        ],
        "height": 800,
        "legend": {
         "title": {
          "text": "variable"
         },
         "tracegroupgap": 0
        },
        "margin": {
         "b": 20,
         "l": 20,
         "r": 20,
         "t": 20
        },
        "template": {
         "data": {
          "bar": [
           {
            "error_x": {
             "color": "rgb(36,36,36)"
            },
            "error_y": {
             "color": "rgb(36,36,36)"
            },
            "marker": {
             "line": {
              "color": "rgb(234,234,242)",
              "width": 0.5
             }
            },
            "type": "bar"
           }
          ],
          "barpolar": [
           {
            "marker": {
             "line": {
              "color": "rgb(234,234,242)",
              "width": 0.5
             }
            },
            "type": "barpolar"
           }
          ],
          "carpet": [
           {
            "aaxis": {
             "endlinecolor": "rgb(36,36,36)",
             "gridcolor": "white",
             "linecolor": "white",
             "minorgridcolor": "white",
             "startlinecolor": "rgb(36,36,36)"
            },
            "baxis": {
             "endlinecolor": "rgb(36,36,36)",
             "gridcolor": "white",
             "linecolor": "white",
             "minorgridcolor": "white",
             "startlinecolor": "rgb(36,36,36)"
            },
            "type": "carpet"
           }
          ],
          "choropleth": [
           {
            "colorbar": {
             "outlinewidth": 0,
             "tickcolor": "rgb(36,36,36)",
             "ticklen": 8,
             "ticks": "outside",
             "tickwidth": 2
            },
            "type": "choropleth"
           }
          ],
          "contour": [
           {
            "colorbar": {
             "outlinewidth": 0,
             "tickcolor": "rgb(36,36,36)",
             "ticklen": 8,
             "ticks": "outside",
             "tickwidth": 2
            },
            "colorscale": [
             [
              0,
              "rgb(2,4,25)"
             ],
             [
              0.06274509803921569,
              "rgb(24,15,41)"
             ],
             [
              0.12549019607843137,
              "rgb(47,23,57)"
             ],
             [
              0.18823529411764706,
              "rgb(71,28,72)"
             ],
             [
              0.25098039215686274,
              "rgb(97,30,82)"
             ],
             [
              0.3137254901960784,
              "rgb(123,30,89)"
             ],
             [
              0.3764705882352941,
              "rgb(150,27,91)"
             ],
             [
              0.4392156862745098,
              "rgb(177,22,88)"
             ],
             [
              0.5019607843137255,
              "rgb(203,26,79)"
             ],
             [
              0.5647058823529412,
              "rgb(223,47,67)"
             ],
             [
              0.6274509803921569,
              "rgb(236,76,61)"
             ],
             [
              0.6901960784313725,
              "rgb(242,107,73)"
             ],
             [
              0.7529411764705882,
              "rgb(244,135,95)"
             ],
             [
              0.8156862745098039,
              "rgb(245,162,122)"
             ],
             [
              0.8784313725490196,
              "rgb(246,188,153)"
             ],
             [
              0.9411764705882353,
              "rgb(247,212,187)"
             ],
             [
              1,
              "rgb(250,234,220)"
             ]
            ],
            "type": "contour"
           }
          ],
          "contourcarpet": [
           {
            "colorbar": {
             "outlinewidth": 0,
             "tickcolor": "rgb(36,36,36)",
             "ticklen": 8,
             "ticks": "outside",
             "tickwidth": 2
            },
            "type": "contourcarpet"
           }
          ],
          "heatmap": [
           {
            "colorbar": {
             "outlinewidth": 0,
             "tickcolor": "rgb(36,36,36)",
             "ticklen": 8,
             "ticks": "outside",
             "tickwidth": 2
            },
            "colorscale": [
             [
              0,
              "rgb(2,4,25)"
             ],
             [
              0.06274509803921569,
              "rgb(24,15,41)"
             ],
             [
              0.12549019607843137,
              "rgb(47,23,57)"
             ],
             [
              0.18823529411764706,
              "rgb(71,28,72)"
             ],
             [
              0.25098039215686274,
              "rgb(97,30,82)"
             ],
             [
              0.3137254901960784,
              "rgb(123,30,89)"
             ],
             [
              0.3764705882352941,
              "rgb(150,27,91)"
             ],
             [
              0.4392156862745098,
              "rgb(177,22,88)"
             ],
             [
              0.5019607843137255,
              "rgb(203,26,79)"
             ],
             [
              0.5647058823529412,
              "rgb(223,47,67)"
             ],
             [
              0.6274509803921569,
              "rgb(236,76,61)"
             ],
             [
              0.6901960784313725,
              "rgb(242,107,73)"
             ],
             [
              0.7529411764705882,
              "rgb(244,135,95)"
             ],
             [
              0.8156862745098039,
              "rgb(245,162,122)"
             ],
             [
              0.8784313725490196,
              "rgb(246,188,153)"
             ],
             [
              0.9411764705882353,
              "rgb(247,212,187)"
             ],
             [
              1,
              "rgb(250,234,220)"
             ]
            ],
            "type": "heatmap"
           }
          ],
          "heatmapgl": [
           {
            "colorbar": {
             "outlinewidth": 0,
             "tickcolor": "rgb(36,36,36)",
             "ticklen": 8,
             "ticks": "outside",
             "tickwidth": 2
            },
            "colorscale": [
             [
              0,
              "rgb(2,4,25)"
             ],
             [
              0.06274509803921569,
              "rgb(24,15,41)"
             ],
             [
              0.12549019607843137,
              "rgb(47,23,57)"
             ],
             [
              0.18823529411764706,
              "rgb(71,28,72)"
             ],
             [
              0.25098039215686274,
              "rgb(97,30,82)"
             ],
             [
              0.3137254901960784,
              "rgb(123,30,89)"
             ],
             [
              0.3764705882352941,
              "rgb(150,27,91)"
             ],
             [
              0.4392156862745098,
              "rgb(177,22,88)"
             ],
             [
              0.5019607843137255,
              "rgb(203,26,79)"
             ],
             [
              0.5647058823529412,
              "rgb(223,47,67)"
             ],
             [
              0.6274509803921569,
              "rgb(236,76,61)"
             ],
             [
              0.6901960784313725,
              "rgb(242,107,73)"
             ],
             [
              0.7529411764705882,
              "rgb(244,135,95)"
             ],
             [
              0.8156862745098039,
              "rgb(245,162,122)"
             ],
             [
              0.8784313725490196,
              "rgb(246,188,153)"
             ],
             [
              0.9411764705882353,
              "rgb(247,212,187)"
             ],
             [
              1,
              "rgb(250,234,220)"
             ]
            ],
            "type": "heatmapgl"
           }
          ],
          "histogram": [
           {
            "marker": {
             "colorbar": {
              "outlinewidth": 0,
              "tickcolor": "rgb(36,36,36)",
              "ticklen": 8,
              "ticks": "outside",
              "tickwidth": 2
             }
            },
            "type": "histogram"
           }
          ],
          "histogram2d": [
           {
            "colorbar": {
             "outlinewidth": 0,
             "tickcolor": "rgb(36,36,36)",
             "ticklen": 8,
             "ticks": "outside",
             "tickwidth": 2
            },
            "colorscale": [
             [
              0,
              "rgb(2,4,25)"
             ],
             [
              0.06274509803921569,
              "rgb(24,15,41)"
             ],
             [
              0.12549019607843137,
              "rgb(47,23,57)"
             ],
             [
              0.18823529411764706,
              "rgb(71,28,72)"
             ],
             [
              0.25098039215686274,
              "rgb(97,30,82)"
             ],
             [
              0.3137254901960784,
              "rgb(123,30,89)"
             ],
             [
              0.3764705882352941,
              "rgb(150,27,91)"
             ],
             [
              0.4392156862745098,
              "rgb(177,22,88)"
             ],
             [
              0.5019607843137255,
              "rgb(203,26,79)"
             ],
             [
              0.5647058823529412,
              "rgb(223,47,67)"
             ],
             [
              0.6274509803921569,
              "rgb(236,76,61)"
             ],
             [
              0.6901960784313725,
              "rgb(242,107,73)"
             ],
             [
              0.7529411764705882,
              "rgb(244,135,95)"
             ],
             [
              0.8156862745098039,
              "rgb(245,162,122)"
             ],
             [
              0.8784313725490196,
              "rgb(246,188,153)"
             ],
             [
              0.9411764705882353,
              "rgb(247,212,187)"
             ],
             [
              1,
              "rgb(250,234,220)"
             ]
            ],
            "type": "histogram2d"
           }
          ],
          "histogram2dcontour": [
           {
            "colorbar": {
             "outlinewidth": 0,
             "tickcolor": "rgb(36,36,36)",
             "ticklen": 8,
             "ticks": "outside",
             "tickwidth": 2
            },
            "colorscale": [
             [
              0,
              "rgb(2,4,25)"
             ],
             [
              0.06274509803921569,
              "rgb(24,15,41)"
             ],
             [
              0.12549019607843137,
              "rgb(47,23,57)"
             ],
             [
              0.18823529411764706,
              "rgb(71,28,72)"
             ],
             [
              0.25098039215686274,
              "rgb(97,30,82)"
             ],
             [
              0.3137254901960784,
              "rgb(123,30,89)"
             ],
             [
              0.3764705882352941,
              "rgb(150,27,91)"
             ],
             [
              0.4392156862745098,
              "rgb(177,22,88)"
             ],
             [
              0.5019607843137255,
              "rgb(203,26,79)"
             ],
             [
              0.5647058823529412,
              "rgb(223,47,67)"
             ],
             [
              0.6274509803921569,
              "rgb(236,76,61)"
             ],
             [
              0.6901960784313725,
              "rgb(242,107,73)"
             ],
             [
              0.7529411764705882,
              "rgb(244,135,95)"
             ],
             [
              0.8156862745098039,
              "rgb(245,162,122)"
             ],
             [
              0.8784313725490196,
              "rgb(246,188,153)"
             ],
             [
              0.9411764705882353,
              "rgb(247,212,187)"
             ],
             [
              1,
              "rgb(250,234,220)"
             ]
            ],
            "type": "histogram2dcontour"
           }
          ],
          "mesh3d": [
           {
            "colorbar": {
             "outlinewidth": 0,
             "tickcolor": "rgb(36,36,36)",
             "ticklen": 8,
             "ticks": "outside",
             "tickwidth": 2
            },
            "type": "mesh3d"
           }
          ],
          "parcoords": [
           {
            "line": {
             "colorbar": {
              "outlinewidth": 0,
              "tickcolor": "rgb(36,36,36)",
              "ticklen": 8,
              "ticks": "outside",
              "tickwidth": 2
             }
            },
            "type": "parcoords"
           }
          ],
          "pie": [
           {
            "automargin": true,
            "type": "pie"
           }
          ],
          "scatter": [
           {
            "marker": {
             "colorbar": {
              "outlinewidth": 0,
              "tickcolor": "rgb(36,36,36)",
              "ticklen": 8,
              "ticks": "outside",
              "tickwidth": 2
             }
            },
            "type": "scatter"
           }
          ],
          "scatter3d": [
           {
            "line": {
             "colorbar": {
              "outlinewidth": 0,
              "tickcolor": "rgb(36,36,36)",
              "ticklen": 8,
              "ticks": "outside",
              "tickwidth": 2
             }
            },
            "marker": {
             "colorbar": {
              "outlinewidth": 0,
              "tickcolor": "rgb(36,36,36)",
              "ticklen": 8,
              "ticks": "outside",
              "tickwidth": 2
             }
            },
            "type": "scatter3d"
           }
          ],
          "scattercarpet": [
           {
            "marker": {
             "colorbar": {
              "outlinewidth": 0,
              "tickcolor": "rgb(36,36,36)",
              "ticklen": 8,
              "ticks": "outside",
              "tickwidth": 2
             }
            },
            "type": "scattercarpet"
           }
          ],
          "scattergeo": [
           {
            "marker": {
             "colorbar": {
              "outlinewidth": 0,
              "tickcolor": "rgb(36,36,36)",
              "ticklen": 8,
              "ticks": "outside",
              "tickwidth": 2
             }
            },
            "type": "scattergeo"
           }
          ],
          "scattergl": [
           {
            "marker": {
             "colorbar": {
              "outlinewidth": 0,
              "tickcolor": "rgb(36,36,36)",
              "ticklen": 8,
              "ticks": "outside",
              "tickwidth": 2
             }
            },
            "type": "scattergl"
           }
          ],
          "scattermapbox": [
           {
            "marker": {
             "colorbar": {
              "outlinewidth": 0,
              "tickcolor": "rgb(36,36,36)",
              "ticklen": 8,
              "ticks": "outside",
              "tickwidth": 2
             }
            },
            "type": "scattermapbox"
           }
          ],
          "scatterpolar": [
           {
            "marker": {
             "colorbar": {
              "outlinewidth": 0,
              "tickcolor": "rgb(36,36,36)",
              "ticklen": 8,
              "ticks": "outside",
              "tickwidth": 2
             }
            },
            "type": "scatterpolar"
           }
          ],
          "scatterpolargl": [
           {
            "marker": {
             "colorbar": {
              "outlinewidth": 0,
              "tickcolor": "rgb(36,36,36)",
              "ticklen": 8,
              "ticks": "outside",
              "tickwidth": 2
             }
            },
            "type": "scatterpolargl"
           }
          ],
          "scatterternary": [
           {
            "marker": {
             "colorbar": {
              "outlinewidth": 0,
              "tickcolor": "rgb(36,36,36)",
              "ticklen": 8,
              "ticks": "outside",
              "tickwidth": 2
             }
            },
            "type": "scatterternary"
           }
          ],
          "surface": [
           {
            "colorbar": {
             "outlinewidth": 0,
             "tickcolor": "rgb(36,36,36)",
             "ticklen": 8,
             "ticks": "outside",
             "tickwidth": 2
            },
            "colorscale": [
             [
              0,
              "rgb(2,4,25)"
             ],
             [
              0.06274509803921569,
              "rgb(24,15,41)"
             ],
             [
              0.12549019607843137,
              "rgb(47,23,57)"
             ],
             [
              0.18823529411764706,
              "rgb(71,28,72)"
             ],
             [
              0.25098039215686274,
              "rgb(97,30,82)"
             ],
             [
              0.3137254901960784,
              "rgb(123,30,89)"
             ],
             [
              0.3764705882352941,
              "rgb(150,27,91)"
             ],
             [
              0.4392156862745098,
              "rgb(177,22,88)"
             ],
             [
              0.5019607843137255,
              "rgb(203,26,79)"
             ],
             [
              0.5647058823529412,
              "rgb(223,47,67)"
             ],
             [
              0.6274509803921569,
              "rgb(236,76,61)"
             ],
             [
              0.6901960784313725,
              "rgb(242,107,73)"
             ],
             [
              0.7529411764705882,
              "rgb(244,135,95)"
             ],
             [
              0.8156862745098039,
              "rgb(245,162,122)"
             ],
             [
              0.8784313725490196,
              "rgb(246,188,153)"
             ],
             [
              0.9411764705882353,
              "rgb(247,212,187)"
             ],
             [
              1,
              "rgb(250,234,220)"
             ]
            ],
            "type": "surface"
           }
          ],
          "table": [
           {
            "cells": {
             "fill": {
              "color": "rgb(231,231,240)"
             },
             "line": {
              "color": "white"
             }
            },
            "header": {
             "fill": {
              "color": "rgb(183,183,191)"
             },
             "line": {
              "color": "white"
             }
            },
            "type": "table"
           }
          ]
         },
         "layout": {
          "annotationdefaults": {
           "arrowcolor": "rgb(67,103,167)"
          },
          "coloraxis": {
           "colorbar": {
            "outlinewidth": 0,
            "tickcolor": "rgb(36,36,36)",
            "ticklen": 8,
            "ticks": "outside",
            "tickwidth": 2
           }
          },
          "colorscale": {
           "sequential": [
            [
             0,
             "rgb(2,4,25)"
            ],
            [
             0.06274509803921569,
             "rgb(24,15,41)"
            ],
            [
             0.12549019607843137,
             "rgb(47,23,57)"
            ],
            [
             0.18823529411764706,
             "rgb(71,28,72)"
            ],
            [
             0.25098039215686274,
             "rgb(97,30,82)"
            ],
            [
             0.3137254901960784,
             "rgb(123,30,89)"
            ],
            [
             0.3764705882352941,
             "rgb(150,27,91)"
            ],
            [
             0.4392156862745098,
             "rgb(177,22,88)"
            ],
            [
             0.5019607843137255,
             "rgb(203,26,79)"
            ],
            [
             0.5647058823529412,
             "rgb(223,47,67)"
            ],
            [
             0.6274509803921569,
             "rgb(236,76,61)"
            ],
            [
             0.6901960784313725,
             "rgb(242,107,73)"
            ],
            [
             0.7529411764705882,
             "rgb(244,135,95)"
            ],
            [
             0.8156862745098039,
             "rgb(245,162,122)"
            ],
            [
             0.8784313725490196,
             "rgb(246,188,153)"
            ],
            [
             0.9411764705882353,
             "rgb(247,212,187)"
            ],
            [
             1,
             "rgb(250,234,220)"
            ]
           ],
           "sequentialminus": [
            [
             0,
             "rgb(2,4,25)"
            ],
            [
             0.06274509803921569,
             "rgb(24,15,41)"
            ],
            [
             0.12549019607843137,
             "rgb(47,23,57)"
            ],
            [
             0.18823529411764706,
             "rgb(71,28,72)"
            ],
            [
             0.25098039215686274,
             "rgb(97,30,82)"
            ],
            [
             0.3137254901960784,
             "rgb(123,30,89)"
            ],
            [
             0.3764705882352941,
             "rgb(150,27,91)"
            ],
            [
             0.4392156862745098,
             "rgb(177,22,88)"
            ],
            [
             0.5019607843137255,
             "rgb(203,26,79)"
            ],
            [
             0.5647058823529412,
             "rgb(223,47,67)"
            ],
            [
             0.6274509803921569,
             "rgb(236,76,61)"
            ],
            [
             0.6901960784313725,
             "rgb(242,107,73)"
            ],
            [
             0.7529411764705882,
             "rgb(244,135,95)"
            ],
            [
             0.8156862745098039,
             "rgb(245,162,122)"
            ],
            [
             0.8784313725490196,
             "rgb(246,188,153)"
            ],
            [
             0.9411764705882353,
             "rgb(247,212,187)"
            ],
            [
             1,
             "rgb(250,234,220)"
            ]
           ]
          },
          "colorway": [
           "rgb(76,114,176)",
           "rgb(221,132,82)",
           "rgb(85,168,104)",
           "rgb(196,78,82)",
           "rgb(129,114,179)",
           "rgb(147,120,96)",
           "rgb(218,139,195)",
           "rgb(140,140,140)",
           "rgb(204,185,116)",
           "rgb(100,181,205)"
          ],
          "font": {
           "color": "rgb(36,36,36)"
          },
          "geo": {
           "bgcolor": "white",
           "lakecolor": "white",
           "landcolor": "rgb(234,234,242)",
           "showlakes": true,
           "showland": true,
           "subunitcolor": "white"
          },
          "hoverlabel": {
           "align": "left"
          },
          "hovermode": "closest",
          "paper_bgcolor": "white",
          "plot_bgcolor": "rgb(234,234,242)",
          "polar": {
           "angularaxis": {
            "gridcolor": "white",
            "linecolor": "white",
            "showgrid": true,
            "ticks": ""
           },
           "bgcolor": "rgb(234,234,242)",
           "radialaxis": {
            "gridcolor": "white",
            "linecolor": "white",
            "showgrid": true,
            "ticks": ""
           }
          },
          "scene": {
           "xaxis": {
            "backgroundcolor": "rgb(234,234,242)",
            "gridcolor": "white",
            "gridwidth": 2,
            "linecolor": "white",
            "showbackground": true,
            "showgrid": true,
            "ticks": "",
            "zerolinecolor": "white"
           },
           "yaxis": {
            "backgroundcolor": "rgb(234,234,242)",
            "gridcolor": "white",
            "gridwidth": 2,
            "linecolor": "white",
            "showbackground": true,
            "showgrid": true,
            "ticks": "",
            "zerolinecolor": "white"
           },
           "zaxis": {
            "backgroundcolor": "rgb(234,234,242)",
            "gridcolor": "white",
            "gridwidth": 2,
            "linecolor": "white",
            "showbackground": true,
            "showgrid": true,
            "ticks": "",
            "zerolinecolor": "white"
           }
          },
          "shapedefaults": {
           "fillcolor": "rgb(67,103,167)",
           "line": {
            "width": 0
           },
           "opacity": 0.5
          },
          "ternary": {
           "aaxis": {
            "gridcolor": "white",
            "linecolor": "white",
            "showgrid": true,
            "ticks": ""
           },
           "baxis": {
            "gridcolor": "white",
            "linecolor": "white",
            "showgrid": true,
            "ticks": ""
           },
           "bgcolor": "rgb(234,234,242)",
           "caxis": {
            "gridcolor": "white",
            "linecolor": "white",
            "showgrid": true,
            "ticks": ""
           }
          },
          "xaxis": {
           "automargin": true,
           "gridcolor": "white",
           "linecolor": "white",
           "showgrid": true,
           "ticks": "",
           "title": {
            "standoff": 15
           },
           "zerolinecolor": "white"
          },
          "yaxis": {
           "automargin": true,
           "gridcolor": "white",
           "linecolor": "white",
           "showgrid": true,
           "ticks": "",
           "title": {
            "standoff": 15
           },
           "zerolinecolor": "white"
          }
         }
        },
        "xaxis": {
         "anchor": "y",
         "domain": [
          0,
          0.98
         ],
         "title": {
          "text": "timestep"
         }
        },
        "xaxis2": {
         "anchor": "y2",
         "domain": [
          0,
          0.98
         ],
         "matches": "x",
         "showticklabels": false
        },
        "xaxis3": {
         "anchor": "y3",
         "domain": [
          0,
          0.98
         ],
         "matches": "x",
         "showticklabels": false
        },
        "xaxis4": {
         "anchor": "y4",
         "domain": [
          0,
          0.98
         ],
         "matches": "x",
         "showticklabels": false
        },
        "yaxis": {
         "anchor": "x",
         "domain": [
          0,
          0.2275
         ],
         "title": {
          "text": "value"
         }
        },
        "yaxis2": {
         "anchor": "x2",
         "domain": [
          0.2575,
          0.485
         ],
         "matches": "y",
         "title": {
          "text": "value"
         }
        },
        "yaxis3": {
         "anchor": "x3",
         "domain": [
          0.515,
          0.7425
         ],
         "matches": "y",
         "title": {
          "text": "value"
         }
        },
        "yaxis4": {
         "anchor": "x4",
         "domain": [
          0.7725,
          1
         ],
         "matches": "y",
         "title": {
          "text": "value"
         }
        }
       }
      }
     },
     "metadata": {}
    }
   ],
   "source": [
    "fig = px.line(\n",
    "    simulation_result,\n",
    "    x='timestep',\n",
    "    y=['netflow', 'adjustment'],\n",
    "    facet_row='subset',\n",
    "    height=800,\n",
    "    template='seaborn'\n",
    ")\n",
    "\n",
    "fig.update_layout(\n",
    "    margin=dict(l=20, r=20, t=20, b=20),\n",
    ")\n",
    "\n",
    "fig.show()"
   ]
  },
  {
   "cell_type": "code",
   "execution_count": 15,
   "metadata": {},
   "outputs": [
    {
     "output_type": "display_data",
     "data": {
      "application/vnd.plotly.v1+json": {
       "config": {
        "plotlyServerURL": "https://plot.ly"
       },
       "data": [
        {
         "hovertemplate": "variable=ratio<br>subset=0<br>timestep=%{x}<br>value=%{y}<extra></extra>",
         "legendgroup": "ratio",
         "line": {
          "color": "rgb(76,114,176)",
          "dash": "solid"
         },
         "mode": "lines",
         "name": "ratio",
         "orientation": "v",
         "showlegend": true,
         "type": "scatter",
         "x": [
          0,
          1,
          2,
          3,
          4,
          5,
          6,
          7,
          8,
          9,
          10,
          11,
          12,
          13,
          14,
          15,
          16,
          17,
          18,
          19,
          20,
          21,
          22,
          23,
          24,
          25,
          26,
          27,
          28,
          29,
          30,
          31,
          32,
          33,
          34,
          35,
          36,
          37,
          38,
          39,
          40,
          41,
          42,
          43,
          44,
          45,
          46,
          47,
          48,
          49,
          50,
          51,
          52,
          53,
          54,
          55,
          56,
          57,
          58,
          59,
          60,
          61,
          62,
          63,
          64,
          65,
          66,
          67,
          68,
          69,
          70,
          71,
          72,
          73,
          74,
          75,
          76,
          77,
          78,
          79,
          80,
          81,
          82,
          83,
          84,
          85,
          86,
          87,
          88,
          89,
          90,
          91,
          92,
          93,
          94,
          95,
          96,
          97,
          98,
          99,
          100,
          101,
          102,
          103,
          104,
          105,
          106,
          107,
          108,
          109,
          110,
          111,
          112,
          113,
          114,
          115,
          116,
          117,
          118,
          119,
          120
         ],
         "xaxis": "x4",
         "y": [
          0.28481591584724447,
          0.2662598031815862,
          0.2496360312933454,
          0.23478498184732158,
          0.22155073828422264,
          0.2097835266824319,
          0.19934143238492363,
          0.19009151038430003,
          0.18191040374993495,
          0.17468457488988276,
          0.16831024184369262,
          0.16269309805014354,
          0.15774788044553287,
          0.15339783813898383,
          0.1495741427197,
          0.1462152716504116,
          0.14326638819024845,
          0.14067873476241408,
          0.13840905147511084,
          0.13641902743407378,
          0.13467478936739263,
          0.13314642974600518,
          0.13180757487321387,
          0.13063499220205183,
          0.1296082353098371,
          0.12870932442409838,
          0.12792246008005095,
          0.1272337673388201,
          0.12663106796210485,
          0.12610367798775887,
          0.12564222825499474,
          0.1252385055674073,
          0.1248853123418167,
          0.12457634276017955,
          0.12430607361276677,
          0.12406966818811234,
          0.12386289172533588,
          0.12368203709511368,
          0.12352385951556863,
          0.12338551923812183,
          0.12326453125585145,
          0.12315872119342014,
          0.12306618663367185,
          0.12298526322220665,
          0.12291449496833522,
          0.12285260822953899,
          0.12279848892766573,
          0.12275116259929086,
          0.12270977693066405,
          0.12267358647007505,
          0.12264193924791077,
          0.12261426506767678,
          0.12259006526031888,
          0.12256890371974816,
          0.12255039905995117,
          0.12253421775381204,
          0.1225200681311103,
          0.12250769512837137,
          0.1224968756965898,
          0.12248741478454589,
          0.12247914182568852,
          0.12247190766554461,
          0.12246558187448388,
          0.12246005039756204,
          0.12245521349920095,
          0.12245098396574813,
          0.12244728553358314,
          0.1224440515144871,
          0.12244122359353399,
          0.1224387507778615,
          0.12243658847739292,
          0.12243469770095354,
          0.12243304435330064,
          0.12243159862040348,
          0.12243033443189655,
          0.12242922899102034,
          0.122428262363578,
          0.1224274171184996,
          0.12242667801353577,
          0.12242603172041501,
          0.1224254665845103,
          0.1224249724146822,
          0.12242454029951018,
          0.12242416244659877,
          0.12242383204206125,
          0.12242354312764758,
          0.12242329049330129,
          0.12242306958320753,
          0.12242287641363885,
          0.12242270750111693,
          0.1224225597995952,
          0.12242243064552935,
          0.12242231770984552,
          0.12242221895593981,
          0.12242213260295197,
          0.12242205709365091,
          0.12242199106635274,
          0.12242193333036532,
          0.12242188284451629,
          0.12242183869837713,
          0.12242180009584547,
          0.12242176634078852,
          0.1224217368244896,
          0.12242171101467098,
          0.12242168844589513,
          0.12242166871117134,
          0.12242165145461635,
          0.12242163636503656,
          0.12242162317031617,
          0.1224216116325101,
          0.1224216015435529,
          0.12242159272150684,
          0.12242158500728073,
          0.12242157826176119,
          0.1224215723633038,
          0.12242156720553955,
          0.12242156269545663,
          0.12242155875172307,
          0.12242155530322009,
          0.12242155228775958,
          0.12242154965096265
         ],
         "yaxis": "y4"
        },
        {
         "hovertemplate": "variable=ratio<br>subset=1<br>timestep=%{x}<br>value=%{y}<extra></extra>",
         "legendgroup": "ratio",
         "line": {
          "color": "rgb(76,114,176)",
          "dash": "solid"
         },
         "mode": "lines",
         "name": "ratio",
         "orientation": "v",
         "showlegend": false,
         "type": "scatter",
         "x": [
          0,
          1,
          2,
          3,
          4,
          5,
          6,
          7,
          8,
          9,
          10,
          11,
          12,
          13,
          14,
          15,
          16,
          17,
          18,
          19,
          20,
          21,
          22,
          23,
          24,
          25,
          26,
          27,
          28,
          29,
          30,
          31,
          32,
          33,
          34,
          35,
          36,
          37,
          38,
          39,
          40,
          41,
          42,
          43,
          44,
          45,
          46,
          47,
          48,
          49,
          50,
          51,
          52,
          53,
          54,
          55,
          56,
          57,
          58,
          59,
          60,
          61,
          62,
          63,
          64,
          65,
          66,
          67,
          68,
          69,
          70,
          71,
          72,
          73,
          74,
          75,
          76,
          77,
          78,
          79,
          80,
          81,
          82,
          83,
          84,
          85,
          86,
          87,
          88,
          89,
          90,
          91,
          92,
          93,
          94,
          95,
          96,
          97,
          98,
          99,
          100,
          101,
          102,
          103,
          104,
          105,
          106,
          107,
          108,
          109,
          110,
          111,
          112,
          113,
          114,
          115,
          116,
          117,
          118,
          119,
          120
         ],
         "xaxis": "x3",
         "y": [
          0.28481591584724447,
          0.2676457028663476,
          0.2512684916897894,
          0.23624162383850278,
          0.22284741913681974,
          0.21093537822873296,
          0.20036271377563927,
          0.19099551805375853,
          0.18270942715324542,
          0.1753898877354259,
          0.16893211992677226,
          0.1632408562246248,
          0.15822992263907296,
          0.15370361205888378,
          0.14942074846209122,
          0.14536823808664012,
          0.14153369141664154,
          0.13790538530459112,
          0.1344722271308382,
          0.13122372089073336,
          0.12814993510577358,
          0.12524147246064235,
          0.12248944107331695,
          0.11988542731040946,
          0.11742147006463047,
          0.115090036415736,
          0.11288399860054701,
          0.11079661222163313,
          0.10882149562803932,
          0.10695261040501727,
          0.10518424291311397,
          0.10351098682017755,
          0.10192772657287717,
          0.1004296217572045,
          0.0990120923001437,
          0.09767080446726745,
          0.09640165761345028,
          0.095200771646193,
          0.09406447516323044,
          0.09298929422815629,
          0.09197194174974949,
          0.09100930743253188,
          0.09009844826783396,
          0.08923657953629707,
          0.08842106629430502,
          0.08764941531831649,
          0.0869192674824708,
          0.0862283905461626,
          0.08557467232953633,
          0.08495611425603537,
          0.08437082524226454,
          0.08381701591648537,
          0.08329299314806883,
          0.08279715487118067,
          0.08232798518687413,
          0.08188404972861595,
          0.08146399127707685,
          0.0810665256107799,
          0.08069043757992123,
          0.08033457739135971,
          0.07999785709341806,
          0.07967924724974818,
          0.07937777379209239,
          0.0790925150423185,
          0.07882259889462408,
          0.07856720014929568,
          0.07832553798987141,
          0.07809687359599385,
          0.07788050788465553,
          0.07767577937293105,
          0.07748206215566185,
          0.0772987639919111,
          0.07712532449433822,
          0.07696121341595748,
          0.07680592902904342,
          0.07665899659122635,
          0.07651996689408866,
          0.07638841488982492,
          0.07626393839176661,
          0.07614615684479908,
          0.07603471016191148,
          0.07592925762332262,
          0.07582947683481722,
          0.07573506274210792,
          0.0756457266982097,
          0.07556119558097532,
          0.07548121095809417,
          0.07540552829700145,
          0.07533391621728225,
          0.07526615578328501,
          0.07520203983478162,
          0.07514137235362803,
          0.07508396786448868,
          0.07502965086779308,
          0.07497825530319067,
          0.0749296240418637,
          0.07488360840614593,
          0.07484006771497871,
          0.07479886885381451,
          0.07475988586765317,
          0.07472299957596665,
          0.07468809720833498,
          0.07465507205967951,
          0.07462382316403937,
          0.07459425498589384,
          0.0745662771280868,
          0.0745398040554606,
          0.07451475483335414,
          0.07449105288016578,
          0.07446862573322459,
          0.07444740482725432,
          0.07442732528475259,
          0.07440832571764439,
          0.07439034803960375,
          0.0743733372884697,
          0.07435724145821335,
          0.0743420113399429,
          0.07432760037145994,
          0.0743139644949073,
          0.07430106202207364,
          0.07428885350694217
         ],
         "yaxis": "y3"
        },
        {
         "hovertemplate": "variable=ratio<br>subset=2<br>timestep=%{x}<br>value=%{y}<extra></extra>",
         "legendgroup": "ratio",
         "line": {
          "color": "rgb(76,114,176)",
          "dash": "solid"
         },
         "mode": "lines",
         "name": "ratio",
         "orientation": "v",
         "showlegend": false,
         "type": "scatter",
         "x": [
          0,
          1,
          2,
          3,
          4,
          5,
          6,
          7,
          8,
          9,
          10,
          11,
          12,
          13,
          14,
          15,
          16,
          17,
          18,
          19,
          20,
          21,
          22,
          23,
          24,
          25,
          26,
          27,
          28,
          29,
          30,
          31,
          32,
          33,
          34,
          35,
          36,
          37,
          38,
          39,
          40,
          41,
          42,
          43,
          44,
          45,
          46,
          47,
          48,
          49,
          50,
          51,
          52,
          53,
          54,
          55,
          56,
          57,
          58,
          59,
          60,
          61,
          62,
          63,
          64,
          65,
          66,
          67,
          68,
          69,
          70,
          71,
          72,
          73,
          74,
          75,
          76,
          77,
          78,
          79,
          80,
          81,
          82,
          83,
          84,
          85,
          86,
          87,
          88,
          89,
          90,
          91,
          92,
          93,
          94,
          95,
          96,
          97,
          98,
          99,
          100,
          101,
          102,
          103,
          104,
          105,
          106,
          107,
          108,
          109,
          110,
          111,
          112,
          113,
          114,
          115,
          116,
          117,
          118,
          119,
          120
         ],
         "xaxis": "x2",
         "y": [
          0.28481591584724447,
          0.2729883893136707,
          0.2620951378424181,
          0.252080968830005,
          0.24289063898416385,
          0.2344695742791968,
          0.22676445201281625,
          0.21972365777172875,
          0.2132976313076332,
          0.2074391156544066,
          0.20210332350197752,
          0.19724803407528974,
          0.19283363270810416,
          0.18882310407915998,
          0.18518198879044098,
          0.1818783116857707,
          0.178882489082521,
          0.17616722095198467,
          0.1737073730533169,
          0.17147985310997907,
          0.16946348431702954,
          0.1676388787780535,
          0.16598831288444904,
          0.1644956061578015,
          0.16314600466797136,
          0.16192606980497995,
          0.16082357291185914,
          0.15982739606906474,
          0.1589274391504074,
          0.1581145331382077,
          0.1573803595849303,
          0.1567173760341809,
          0.15611874716075808,
          0.15557828135329288,
          0.1550903724403948,
          0.1546499462492521,
          0.1542524116819072,
          0.1538936159969827,
          0.15356980399186798,
          0.15327758079100376,
          0.15301387795889176,
          0.15277592267099052,
          0.1525612096910962,
          0.15236747591965502,
          0.15219267729332978,
          0.1520349678317681,
          0.1518926806426819,
          0.1517643107109047,
          0.15164849931094385,
          0.15154401989562907,
          0.15144976532574525,
          0.15136473631701455,
          0.1512880309914715,
          0.15121883543016876,
          0.1511564151332959,
          0.1511001073022136,
          0.15104931386565087,
          0.1510034951794112,
          0.15096216433543624,
          0.15092488202201762,
          0.15089125188237115,
          0.15086091632373236,
          0.15083355273363488,
          0.15080887006412816,
          0.15078660574841435,
          0.15076652291776416,
          0.15074840788963997,
          0.1507320679007368,
          0.15071732906117397,
          0.1507040345083555,
          0.15069204274108736,
          0.15068122611641147,
          0.15067146949331367,
          0.15066266900899383,
          0.15065473097477566,
          0.15064757087998554,
          0.1506411124932639,
          0.15063528705179707,
          0.15063003252988236,
          0.15062529297907526,
          0.15062101793292304,
          0.15061716186997107,
          0.1506136837293428,
          0.15061054647375247,
          0.15060771669530934,
          0.150605164259927,
          0.15060286198655987,
          0.15060078535785767,
          0.15059891225916278,
          0.1505972227430754,
          0.15059569881708332,
          0.15059432425199748,
          0.15059308440915598,
          0.1505919660845584,
          0.15059095736827188,
          0.15059004751761323,
          0.15058922684275788,
          0.15058848660355761,
          0.15058781891646952,
          0.15058721667060537,
          0.1505866734520078,
          0.15058618347534714,
          0.15058574152231205,
          0.1505853428860377,
          0.1505849833209804,
          0.1505846589977041,
          0.15058436646209877,
          0.15058410259859475,
          0.15058386459698275,
          0.1505836499224857,
          0.15058345628876368,
          0.15058328163356433,
          0.15058312409676017,
          0.150582982000538,
          0.15058285383153036,
          0.15058273822469784,
          0.1505826339487912,
          0.1505825398932388,
          0.15058245505631823,
          0.15058237853448833,
          0.150582309512766
         ],
         "yaxis": "y2"
        },
        {
         "hovertemplate": "variable=ratio<br>subset=3<br>timestep=%{x}<br>value=%{y}<extra></extra>",
         "legendgroup": "ratio",
         "line": {
          "color": "rgb(76,114,176)",
          "dash": "solid"
         },
         "mode": "lines",
         "name": "ratio",
         "orientation": "v",
         "showlegend": false,
         "type": "scatter",
         "x": [
          0,
          1,
          2,
          3,
          4,
          5,
          6,
          7,
          8,
          9,
          10,
          11,
          12,
          13,
          14,
          15,
          16,
          17,
          18,
          19,
          20,
          21,
          22,
          23,
          24,
          25,
          26,
          27,
          28,
          29,
          30,
          31,
          32,
          33,
          34,
          35,
          36,
          37,
          38,
          39,
          40,
          41,
          42,
          43,
          44,
          45,
          46,
          47,
          48,
          49,
          50,
          51,
          52,
          53,
          54,
          55,
          56,
          57,
          58,
          59,
          60,
          61,
          62,
          63,
          64,
          65,
          66,
          67,
          68,
          69,
          70,
          71,
          72,
          73,
          74,
          75,
          76,
          77,
          78,
          79,
          80,
          81,
          82,
          83,
          84,
          85,
          86,
          87,
          88,
          89,
          90,
          91,
          92,
          93,
          94,
          95,
          96,
          97,
          98,
          99,
          100,
          101,
          102,
          103,
          104,
          105,
          106,
          107,
          108,
          109,
          110,
          111,
          112,
          113,
          114,
          115,
          116,
          117,
          118,
          119,
          120
         ],
         "xaxis": "x",
         "y": [
          0.28481591584724447,
          0.2797845497034104,
          0.27535662023868035,
          0.27146262930369786,
          0.2680404143280504,
          0.2650345325851013,
          0.2623956572237032,
          0.26007999711394036,
          0.2580487484386157,
          0.2562675827999567,
          0.25470617423206954,
          0.25333776576210454,
          0.25213877491564146,
          0.2510884367040419,
          0.25016848207251435,
          0.2493628494538295,
          0.24865742690541026,
          0.2480398222608927,
          0.24749915876554712,
          0.24702589376089798,
          0.24661165811692143,
          0.24624911426505114,
          0.24593183085072967,
          0.24565417219242447,
          0.24541120089933668,
          0.24519859215874243,
          0.2450125583536615,
          0.24484978281099315,
          0.24470736160875736,
          0.24458275248851452,
          0.24447373002563644,
          0.24437834630633304,
          0.24429489644681482,
          0.24422188836737738,
          0.24415801630326553,
          0.2441021375956314,
          0.24405325236046635,
          0.24401048568172456,
          0.2439730720176177,
          0.24394034154682265,
          0.24391170821465577,
          0.24388665926862027,
          0.24386474609857145,
          0.24384557621947175,
          0.2438288062546856,
          0.24381413579531142,
          0.24380130202645592,
          0.2437900750248754,
          0.24378025364427003,
          0.24377166191491648,
          0.2437641458934425,
          0.24375757090653635,
          0.24375181913938507,
          0.24374678752577028,
          0.24374238590211925,
          0.24373853539251555,
          0.24373516699579098,
          0.24373222034942735,
          0.24372964264815405,
          0.24372738769788904,
          0.24372541508809184,
          0.24372368946771236,
          0.24372217991177203,
          0.24372085936723598,
          0.24371970416825256,
          0.2437186936120783,
          0.24371780958809292,
          0.24371703625325863,
          0.24371635974821051,
          0.2437157679488912,
          0.2437152502492809,
          0.24371479737132956,
          0.24371440119868562,
          0.24371405463124304,
          0.2437137514578988,
          0.24371348624524272,
          0.24371325424018295,
          0.2437130512847641,
          0.24371287374165074,
          0.24371271842894046,
          0.24371258256313916,
          0.24371246370927652,
          0.24371235973726696,
          0.24371226878373506,
          0.2437121892186207,
          0.24371211961596526,
          0.24371205872835608,
          0.24371200546457042,
          0.2437119588700192,
          0.24371191810963816,
          0.2437118824529229,
          0.24371185126083633,
          0.24371182397435587,
          0.24371180010445515,
          0.24371177922333936,
          0.24371176095677843,
          0.24371174497740014,
          0.2437117309988232,
          0.2437117187705243,
          0.2437117080733486,
          0.2437116987155819,
          0.24371169052951488,
          0.24371168336843738,
          0.2437116771040089,
          0.24371167162395863,
          0.2437116668300736,
          0.2437116626364379,
          0.2437116589678935,
          0.243711655758693,
          0.24371165295132116,
          0.24371165049546448,
          0.24371164834710926,
          0.24371164646775273,
          0.24371164482371324,
          0.24371164338552637,
          0.24371164212741697,
          0.24371164102683734,
          0.24371164006406287,
          0.24371163922183883,
          0.2437116384850709,
          0.24371163784055475
         ],
         "yaxis": "y"
        }
       ],
       "layout": {
        "annotations": [
         {
          "font": {},
          "showarrow": false,
          "text": "subset=3",
          "textangle": 90,
          "x": 0.98,
          "xanchor": "left",
          "xref": "paper",
          "y": 0.11375,
          "yanchor": "middle",
          "yref": "paper"
         },
         {
          "font": {},
          "showarrow": false,
          "text": "subset=2",
          "textangle": 90,
          "x": 0.98,
          "xanchor": "left",
          "xref": "paper",
          "y": 0.37124999999999997,
          "yanchor": "middle",
          "yref": "paper"
         },
         {
          "font": {},
          "showarrow": false,
          "text": "subset=1",
          "textangle": 90,
          "x": 0.98,
          "xanchor": "left",
          "xref": "paper",
          "y": 0.62875,
          "yanchor": "middle",
          "yref": "paper"
         },
         {
          "font": {},
          "showarrow": false,
          "text": "subset=0",
          "textangle": 90,
          "x": 0.98,
          "xanchor": "left",
          "xref": "paper",
          "y": 0.88625,
          "yanchor": "middle",
          "yref": "paper"
         }
        ],
        "height": 800,
        "legend": {
         "title": {
          "text": "variable"
         },
         "tracegroupgap": 0
        },
        "margin": {
         "b": 20,
         "l": 20,
         "r": 20,
         "t": 20
        },
        "template": {
         "data": {
          "bar": [
           {
            "error_x": {
             "color": "rgb(36,36,36)"
            },
            "error_y": {
             "color": "rgb(36,36,36)"
            },
            "marker": {
             "line": {
              "color": "rgb(234,234,242)",
              "width": 0.5
             }
            },
            "type": "bar"
           }
          ],
          "barpolar": [
           {
            "marker": {
             "line": {
              "color": "rgb(234,234,242)",
              "width": 0.5
             }
            },
            "type": "barpolar"
           }
          ],
          "carpet": [
           {
            "aaxis": {
             "endlinecolor": "rgb(36,36,36)",
             "gridcolor": "white",
             "linecolor": "white",
             "minorgridcolor": "white",
             "startlinecolor": "rgb(36,36,36)"
            },
            "baxis": {
             "endlinecolor": "rgb(36,36,36)",
             "gridcolor": "white",
             "linecolor": "white",
             "minorgridcolor": "white",
             "startlinecolor": "rgb(36,36,36)"
            },
            "type": "carpet"
           }
          ],
          "choropleth": [
           {
            "colorbar": {
             "outlinewidth": 0,
             "tickcolor": "rgb(36,36,36)",
             "ticklen": 8,
             "ticks": "outside",
             "tickwidth": 2
            },
            "type": "choropleth"
           }
          ],
          "contour": [
           {
            "colorbar": {
             "outlinewidth": 0,
             "tickcolor": "rgb(36,36,36)",
             "ticklen": 8,
             "ticks": "outside",
             "tickwidth": 2
            },
            "colorscale": [
             [
              0,
              "rgb(2,4,25)"
             ],
             [
              0.06274509803921569,
              "rgb(24,15,41)"
             ],
             [
              0.12549019607843137,
              "rgb(47,23,57)"
             ],
             [
              0.18823529411764706,
              "rgb(71,28,72)"
             ],
             [
              0.25098039215686274,
              "rgb(97,30,82)"
             ],
             [
              0.3137254901960784,
              "rgb(123,30,89)"
             ],
             [
              0.3764705882352941,
              "rgb(150,27,91)"
             ],
             [
              0.4392156862745098,
              "rgb(177,22,88)"
             ],
             [
              0.5019607843137255,
              "rgb(203,26,79)"
             ],
             [
              0.5647058823529412,
              "rgb(223,47,67)"
             ],
             [
              0.6274509803921569,
              "rgb(236,76,61)"
             ],
             [
              0.6901960784313725,
              "rgb(242,107,73)"
             ],
             [
              0.7529411764705882,
              "rgb(244,135,95)"
             ],
             [
              0.8156862745098039,
              "rgb(245,162,122)"
             ],
             [
              0.8784313725490196,
              "rgb(246,188,153)"
             ],
             [
              0.9411764705882353,
              "rgb(247,212,187)"
             ],
             [
              1,
              "rgb(250,234,220)"
             ]
            ],
            "type": "contour"
           }
          ],
          "contourcarpet": [
           {
            "colorbar": {
             "outlinewidth": 0,
             "tickcolor": "rgb(36,36,36)",
             "ticklen": 8,
             "ticks": "outside",
             "tickwidth": 2
            },
            "type": "contourcarpet"
           }
          ],
          "heatmap": [
           {
            "colorbar": {
             "outlinewidth": 0,
             "tickcolor": "rgb(36,36,36)",
             "ticklen": 8,
             "ticks": "outside",
             "tickwidth": 2
            },
            "colorscale": [
             [
              0,
              "rgb(2,4,25)"
             ],
             [
              0.06274509803921569,
              "rgb(24,15,41)"
             ],
             [
              0.12549019607843137,
              "rgb(47,23,57)"
             ],
             [
              0.18823529411764706,
              "rgb(71,28,72)"
             ],
             [
              0.25098039215686274,
              "rgb(97,30,82)"
             ],
             [
              0.3137254901960784,
              "rgb(123,30,89)"
             ],
             [
              0.3764705882352941,
              "rgb(150,27,91)"
             ],
             [
              0.4392156862745098,
              "rgb(177,22,88)"
             ],
             [
              0.5019607843137255,
              "rgb(203,26,79)"
             ],
             [
              0.5647058823529412,
              "rgb(223,47,67)"
             ],
             [
              0.6274509803921569,
              "rgb(236,76,61)"
             ],
             [
              0.6901960784313725,
              "rgb(242,107,73)"
             ],
             [
              0.7529411764705882,
              "rgb(244,135,95)"
             ],
             [
              0.8156862745098039,
              "rgb(245,162,122)"
             ],
             [
              0.8784313725490196,
              "rgb(246,188,153)"
             ],
             [
              0.9411764705882353,
              "rgb(247,212,187)"
             ],
             [
              1,
              "rgb(250,234,220)"
             ]
            ],
            "type": "heatmap"
           }
          ],
          "heatmapgl": [
           {
            "colorbar": {
             "outlinewidth": 0,
             "tickcolor": "rgb(36,36,36)",
             "ticklen": 8,
             "ticks": "outside",
             "tickwidth": 2
            },
            "colorscale": [
             [
              0,
              "rgb(2,4,25)"
             ],
             [
              0.06274509803921569,
              "rgb(24,15,41)"
             ],
             [
              0.12549019607843137,
              "rgb(47,23,57)"
             ],
             [
              0.18823529411764706,
              "rgb(71,28,72)"
             ],
             [
              0.25098039215686274,
              "rgb(97,30,82)"
             ],
             [
              0.3137254901960784,
              "rgb(123,30,89)"
             ],
             [
              0.3764705882352941,
              "rgb(150,27,91)"
             ],
             [
              0.4392156862745098,
              "rgb(177,22,88)"
             ],
             [
              0.5019607843137255,
              "rgb(203,26,79)"
             ],
             [
              0.5647058823529412,
              "rgb(223,47,67)"
             ],
             [
              0.6274509803921569,
              "rgb(236,76,61)"
             ],
             [
              0.6901960784313725,
              "rgb(242,107,73)"
             ],
             [
              0.7529411764705882,
              "rgb(244,135,95)"
             ],
             [
              0.8156862745098039,
              "rgb(245,162,122)"
             ],
             [
              0.8784313725490196,
              "rgb(246,188,153)"
             ],
             [
              0.9411764705882353,
              "rgb(247,212,187)"
             ],
             [
              1,
              "rgb(250,234,220)"
             ]
            ],
            "type": "heatmapgl"
           }
          ],
          "histogram": [
           {
            "marker": {
             "colorbar": {
              "outlinewidth": 0,
              "tickcolor": "rgb(36,36,36)",
              "ticklen": 8,
              "ticks": "outside",
              "tickwidth": 2
             }
            },
            "type": "histogram"
           }
          ],
          "histogram2d": [
           {
            "colorbar": {
             "outlinewidth": 0,
             "tickcolor": "rgb(36,36,36)",
             "ticklen": 8,
             "ticks": "outside",
             "tickwidth": 2
            },
            "colorscale": [
             [
              0,
              "rgb(2,4,25)"
             ],
             [
              0.06274509803921569,
              "rgb(24,15,41)"
             ],
             [
              0.12549019607843137,
              "rgb(47,23,57)"
             ],
             [
              0.18823529411764706,
              "rgb(71,28,72)"
             ],
             [
              0.25098039215686274,
              "rgb(97,30,82)"
             ],
             [
              0.3137254901960784,
              "rgb(123,30,89)"
             ],
             [
              0.3764705882352941,
              "rgb(150,27,91)"
             ],
             [
              0.4392156862745098,
              "rgb(177,22,88)"
             ],
             [
              0.5019607843137255,
              "rgb(203,26,79)"
             ],
             [
              0.5647058823529412,
              "rgb(223,47,67)"
             ],
             [
              0.6274509803921569,
              "rgb(236,76,61)"
             ],
             [
              0.6901960784313725,
              "rgb(242,107,73)"
             ],
             [
              0.7529411764705882,
              "rgb(244,135,95)"
             ],
             [
              0.8156862745098039,
              "rgb(245,162,122)"
             ],
             [
              0.8784313725490196,
              "rgb(246,188,153)"
             ],
             [
              0.9411764705882353,
              "rgb(247,212,187)"
             ],
             [
              1,
              "rgb(250,234,220)"
             ]
            ],
            "type": "histogram2d"
           }
          ],
          "histogram2dcontour": [
           {
            "colorbar": {
             "outlinewidth": 0,
             "tickcolor": "rgb(36,36,36)",
             "ticklen": 8,
             "ticks": "outside",
             "tickwidth": 2
            },
            "colorscale": [
             [
              0,
              "rgb(2,4,25)"
             ],
             [
              0.06274509803921569,
              "rgb(24,15,41)"
             ],
             [
              0.12549019607843137,
              "rgb(47,23,57)"
             ],
             [
              0.18823529411764706,
              "rgb(71,28,72)"
             ],
             [
              0.25098039215686274,
              "rgb(97,30,82)"
             ],
             [
              0.3137254901960784,
              "rgb(123,30,89)"
             ],
             [
              0.3764705882352941,
              "rgb(150,27,91)"
             ],
             [
              0.4392156862745098,
              "rgb(177,22,88)"
             ],
             [
              0.5019607843137255,
              "rgb(203,26,79)"
             ],
             [
              0.5647058823529412,
              "rgb(223,47,67)"
             ],
             [
              0.6274509803921569,
              "rgb(236,76,61)"
             ],
             [
              0.6901960784313725,
              "rgb(242,107,73)"
             ],
             [
              0.7529411764705882,
              "rgb(244,135,95)"
             ],
             [
              0.8156862745098039,
              "rgb(245,162,122)"
             ],
             [
              0.8784313725490196,
              "rgb(246,188,153)"
             ],
             [
              0.9411764705882353,
              "rgb(247,212,187)"
             ],
             [
              1,
              "rgb(250,234,220)"
             ]
            ],
            "type": "histogram2dcontour"
           }
          ],
          "mesh3d": [
           {
            "colorbar": {
             "outlinewidth": 0,
             "tickcolor": "rgb(36,36,36)",
             "ticklen": 8,
             "ticks": "outside",
             "tickwidth": 2
            },
            "type": "mesh3d"
           }
          ],
          "parcoords": [
           {
            "line": {
             "colorbar": {
              "outlinewidth": 0,
              "tickcolor": "rgb(36,36,36)",
              "ticklen": 8,
              "ticks": "outside",
              "tickwidth": 2
             }
            },
            "type": "parcoords"
           }
          ],
          "pie": [
           {
            "automargin": true,
            "type": "pie"
           }
          ],
          "scatter": [
           {
            "marker": {
             "colorbar": {
              "outlinewidth": 0,
              "tickcolor": "rgb(36,36,36)",
              "ticklen": 8,
              "ticks": "outside",
              "tickwidth": 2
             }
            },
            "type": "scatter"
           }
          ],
          "scatter3d": [
           {
            "line": {
             "colorbar": {
              "outlinewidth": 0,
              "tickcolor": "rgb(36,36,36)",
              "ticklen": 8,
              "ticks": "outside",
              "tickwidth": 2
             }
            },
            "marker": {
             "colorbar": {
              "outlinewidth": 0,
              "tickcolor": "rgb(36,36,36)",
              "ticklen": 8,
              "ticks": "outside",
              "tickwidth": 2
             }
            },
            "type": "scatter3d"
           }
          ],
          "scattercarpet": [
           {
            "marker": {
             "colorbar": {
              "outlinewidth": 0,
              "tickcolor": "rgb(36,36,36)",
              "ticklen": 8,
              "ticks": "outside",
              "tickwidth": 2
             }
            },
            "type": "scattercarpet"
           }
          ],
          "scattergeo": [
           {
            "marker": {
             "colorbar": {
              "outlinewidth": 0,
              "tickcolor": "rgb(36,36,36)",
              "ticklen": 8,
              "ticks": "outside",
              "tickwidth": 2
             }
            },
            "type": "scattergeo"
           }
          ],
          "scattergl": [
           {
            "marker": {
             "colorbar": {
              "outlinewidth": 0,
              "tickcolor": "rgb(36,36,36)",
              "ticklen": 8,
              "ticks": "outside",
              "tickwidth": 2
             }
            },
            "type": "scattergl"
           }
          ],
          "scattermapbox": [
           {
            "marker": {
             "colorbar": {
              "outlinewidth": 0,
              "tickcolor": "rgb(36,36,36)",
              "ticklen": 8,
              "ticks": "outside",
              "tickwidth": 2
             }
            },
            "type": "scattermapbox"
           }
          ],
          "scatterpolar": [
           {
            "marker": {
             "colorbar": {
              "outlinewidth": 0,
              "tickcolor": "rgb(36,36,36)",
              "ticklen": 8,
              "ticks": "outside",
              "tickwidth": 2
             }
            },
            "type": "scatterpolar"
           }
          ],
          "scatterpolargl": [
           {
            "marker": {
             "colorbar": {
              "outlinewidth": 0,
              "tickcolor": "rgb(36,36,36)",
              "ticklen": 8,
              "ticks": "outside",
              "tickwidth": 2
             }
            },
            "type": "scatterpolargl"
           }
          ],
          "scatterternary": [
           {
            "marker": {
             "colorbar": {
              "outlinewidth": 0,
              "tickcolor": "rgb(36,36,36)",
              "ticklen": 8,
              "ticks": "outside",
              "tickwidth": 2
             }
            },
            "type": "scatterternary"
           }
          ],
          "surface": [
           {
            "colorbar": {
             "outlinewidth": 0,
             "tickcolor": "rgb(36,36,36)",
             "ticklen": 8,
             "ticks": "outside",
             "tickwidth": 2
            },
            "colorscale": [
             [
              0,
              "rgb(2,4,25)"
             ],
             [
              0.06274509803921569,
              "rgb(24,15,41)"
             ],
             [
              0.12549019607843137,
              "rgb(47,23,57)"
             ],
             [
              0.18823529411764706,
              "rgb(71,28,72)"
             ],
             [
              0.25098039215686274,
              "rgb(97,30,82)"
             ],
             [
              0.3137254901960784,
              "rgb(123,30,89)"
             ],
             [
              0.3764705882352941,
              "rgb(150,27,91)"
             ],
             [
              0.4392156862745098,
              "rgb(177,22,88)"
             ],
             [
              0.5019607843137255,
              "rgb(203,26,79)"
             ],
             [
              0.5647058823529412,
              "rgb(223,47,67)"
             ],
             [
              0.6274509803921569,
              "rgb(236,76,61)"
             ],
             [
              0.6901960784313725,
              "rgb(242,107,73)"
             ],
             [
              0.7529411764705882,
              "rgb(244,135,95)"
             ],
             [
              0.8156862745098039,
              "rgb(245,162,122)"
             ],
             [
              0.8784313725490196,
              "rgb(246,188,153)"
             ],
             [
              0.9411764705882353,
              "rgb(247,212,187)"
             ],
             [
              1,
              "rgb(250,234,220)"
             ]
            ],
            "type": "surface"
           }
          ],
          "table": [
           {
            "cells": {
             "fill": {
              "color": "rgb(231,231,240)"
             },
             "line": {
              "color": "white"
             }
            },
            "header": {
             "fill": {
              "color": "rgb(183,183,191)"
             },
             "line": {
              "color": "white"
             }
            },
            "type": "table"
           }
          ]
         },
         "layout": {
          "annotationdefaults": {
           "arrowcolor": "rgb(67,103,167)"
          },
          "coloraxis": {
           "colorbar": {
            "outlinewidth": 0,
            "tickcolor": "rgb(36,36,36)",
            "ticklen": 8,
            "ticks": "outside",
            "tickwidth": 2
           }
          },
          "colorscale": {
           "sequential": [
            [
             0,
             "rgb(2,4,25)"
            ],
            [
             0.06274509803921569,
             "rgb(24,15,41)"
            ],
            [
             0.12549019607843137,
             "rgb(47,23,57)"
            ],
            [
             0.18823529411764706,
             "rgb(71,28,72)"
            ],
            [
             0.25098039215686274,
             "rgb(97,30,82)"
            ],
            [
             0.3137254901960784,
             "rgb(123,30,89)"
            ],
            [
             0.3764705882352941,
             "rgb(150,27,91)"
            ],
            [
             0.4392156862745098,
             "rgb(177,22,88)"
            ],
            [
             0.5019607843137255,
             "rgb(203,26,79)"
            ],
            [
             0.5647058823529412,
             "rgb(223,47,67)"
            ],
            [
             0.6274509803921569,
             "rgb(236,76,61)"
            ],
            [
             0.6901960784313725,
             "rgb(242,107,73)"
            ],
            [
             0.7529411764705882,
             "rgb(244,135,95)"
            ],
            [
             0.8156862745098039,
             "rgb(245,162,122)"
            ],
            [
             0.8784313725490196,
             "rgb(246,188,153)"
            ],
            [
             0.9411764705882353,
             "rgb(247,212,187)"
            ],
            [
             1,
             "rgb(250,234,220)"
            ]
           ],
           "sequentialminus": [
            [
             0,
             "rgb(2,4,25)"
            ],
            [
             0.06274509803921569,
             "rgb(24,15,41)"
            ],
            [
             0.12549019607843137,
             "rgb(47,23,57)"
            ],
            [
             0.18823529411764706,
             "rgb(71,28,72)"
            ],
            [
             0.25098039215686274,
             "rgb(97,30,82)"
            ],
            [
             0.3137254901960784,
             "rgb(123,30,89)"
            ],
            [
             0.3764705882352941,
             "rgb(150,27,91)"
            ],
            [
             0.4392156862745098,
             "rgb(177,22,88)"
            ],
            [
             0.5019607843137255,
             "rgb(203,26,79)"
            ],
            [
             0.5647058823529412,
             "rgb(223,47,67)"
            ],
            [
             0.6274509803921569,
             "rgb(236,76,61)"
            ],
            [
             0.6901960784313725,
             "rgb(242,107,73)"
            ],
            [
             0.7529411764705882,
             "rgb(244,135,95)"
            ],
            [
             0.8156862745098039,
             "rgb(245,162,122)"
            ],
            [
             0.8784313725490196,
             "rgb(246,188,153)"
            ],
            [
             0.9411764705882353,
             "rgb(247,212,187)"
            ],
            [
             1,
             "rgb(250,234,220)"
            ]
           ]
          },
          "colorway": [
           "rgb(76,114,176)",
           "rgb(221,132,82)",
           "rgb(85,168,104)",
           "rgb(196,78,82)",
           "rgb(129,114,179)",
           "rgb(147,120,96)",
           "rgb(218,139,195)",
           "rgb(140,140,140)",
           "rgb(204,185,116)",
           "rgb(100,181,205)"
          ],
          "font": {
           "color": "rgb(36,36,36)"
          },
          "geo": {
           "bgcolor": "white",
           "lakecolor": "white",
           "landcolor": "rgb(234,234,242)",
           "showlakes": true,
           "showland": true,
           "subunitcolor": "white"
          },
          "hoverlabel": {
           "align": "left"
          },
          "hovermode": "closest",
          "paper_bgcolor": "white",
          "plot_bgcolor": "rgb(234,234,242)",
          "polar": {
           "angularaxis": {
            "gridcolor": "white",
            "linecolor": "white",
            "showgrid": true,
            "ticks": ""
           },
           "bgcolor": "rgb(234,234,242)",
           "radialaxis": {
            "gridcolor": "white",
            "linecolor": "white",
            "showgrid": true,
            "ticks": ""
           }
          },
          "scene": {
           "xaxis": {
            "backgroundcolor": "rgb(234,234,242)",
            "gridcolor": "white",
            "gridwidth": 2,
            "linecolor": "white",
            "showbackground": true,
            "showgrid": true,
            "ticks": "",
            "zerolinecolor": "white"
           },
           "yaxis": {
            "backgroundcolor": "rgb(234,234,242)",
            "gridcolor": "white",
            "gridwidth": 2,
            "linecolor": "white",
            "showbackground": true,
            "showgrid": true,
            "ticks": "",
            "zerolinecolor": "white"
           },
           "zaxis": {
            "backgroundcolor": "rgb(234,234,242)",
            "gridcolor": "white",
            "gridwidth": 2,
            "linecolor": "white",
            "showbackground": true,
            "showgrid": true,
            "ticks": "",
            "zerolinecolor": "white"
           }
          },
          "shapedefaults": {
           "fillcolor": "rgb(67,103,167)",
           "line": {
            "width": 0
           },
           "opacity": 0.5
          },
          "ternary": {
           "aaxis": {
            "gridcolor": "white",
            "linecolor": "white",
            "showgrid": true,
            "ticks": ""
           },
           "baxis": {
            "gridcolor": "white",
            "linecolor": "white",
            "showgrid": true,
            "ticks": ""
           },
           "bgcolor": "rgb(234,234,242)",
           "caxis": {
            "gridcolor": "white",
            "linecolor": "white",
            "showgrid": true,
            "ticks": ""
           }
          },
          "xaxis": {
           "automargin": true,
           "gridcolor": "white",
           "linecolor": "white",
           "showgrid": true,
           "ticks": "",
           "title": {
            "standoff": 15
           },
           "zerolinecolor": "white"
          },
          "yaxis": {
           "automargin": true,
           "gridcolor": "white",
           "linecolor": "white",
           "showgrid": true,
           "ticks": "",
           "title": {
            "standoff": 15
           },
           "zerolinecolor": "white"
          }
         }
        },
        "xaxis": {
         "anchor": "y",
         "domain": [
          0,
          0.98
         ],
         "title": {
          "text": "timestep"
         }
        },
        "xaxis2": {
         "anchor": "y2",
         "domain": [
          0,
          0.98
         ],
         "matches": "x",
         "showticklabels": false
        },
        "xaxis3": {
         "anchor": "y3",
         "domain": [
          0,
          0.98
         ],
         "matches": "x",
         "showticklabels": false
        },
        "xaxis4": {
         "anchor": "y4",
         "domain": [
          0,
          0.98
         ],
         "matches": "x",
         "showticklabels": false
        },
        "yaxis": {
         "anchor": "x",
         "domain": [
          0,
          0.2275
         ],
         "title": {
          "text": "value"
         }
        },
        "yaxis2": {
         "anchor": "x2",
         "domain": [
          0.2575,
          0.485
         ],
         "matches": "y",
         "title": {
          "text": "value"
         }
        },
        "yaxis3": {
         "anchor": "x3",
         "domain": [
          0.515,
          0.7425
         ],
         "matches": "y",
         "title": {
          "text": "value"
         }
        },
        "yaxis4": {
         "anchor": "x4",
         "domain": [
          0.7725,
          1
         ],
         "matches": "y",
         "title": {
          "text": "value"
         }
        }
       }
      }
     },
     "metadata": {}
    }
   ],
   "source": [
    "fig = px.line(\n",
    "    simulation_result,\n",
    "    x='timestep',\n",
    "    y=['ratio'],\n",
    "    facet_row='subset',\n",
    "    height=800,\n",
    "    template='seaborn'\n",
    ")\n",
    "\n",
    "fig.update_layout(\n",
    "    margin=dict(l=20, r=20, t=20, b=20),\n",
    ")\n",
    "\n",
    "fig.show()"
   ]
  },
  {
   "cell_type": "code",
   "execution_count": null,
   "metadata": {},
   "outputs": [],
   "source": []
  },
  {
   "cell_type": "code",
   "execution_count": null,
   "metadata": {},
   "outputs": [],
   "source": []
  }
 ],
 "metadata": {
  "kernelspec": {
   "display_name": "Python 3",
   "language": "python",
   "name": "python3"
  },
  "language_info": {
   "codemirror_mode": {
    "name": "ipython",
    "version": 3
   },
   "file_extension": ".py",
   "mimetype": "text/x-python",
   "name": "python",
   "nbconvert_exporter": "python",
   "pygments_lexer": "ipython3",
   "version": "3.9.0-final"
  }
 },
 "nbformat": 4,
 "nbformat_minor": 4
}