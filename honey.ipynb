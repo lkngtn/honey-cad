{
 "cells": [
  {
   "cell_type": "code",
   "execution_count": null,
   "metadata": {},
   "outputs": [],
   "source": []
  },
  {
   "cell_type": "markdown",
   "metadata": {},
   "source": [
    "# 1Hive Economy  \n",
    "\n",
    "This model aims to create a simulation of the 1hive economy, it assumes that 1hive can capture fee inflows by directing outflows towards productive activities and represents this growth potential as a logistic curve that represents market saturation. We assume that outflows will result in increased market saturation, and that participants will increase outflows when the perceived opportunity for growth is higher, and reduce outflows as the opportunity for growth decreases. \n",
    "    \n",
    "For the purpose of this model we differentiate the honey supply into two buckets, the common pool and the circulating supply. We model inflows to the system (in stable value terms) as a function of saturation and market size, and have saturation decay over time. We define a conversion price that adjusts each timestep as a ratio of market cap to inflows divided by saturation, and use this price to model inflows as a movement of honey from the circulating supply into the common pool. \n",
    "\n",
    "We set an outflow boundary from the common pool as an abstraction of how conviction voting limits the **maximum possible outflow rate from a pool of funds given a certain parameterization of conviction voting**, though in practice the real outflow rate would tend to be much lower than this boundary due to the ability for participants to support signaling proposals (eg abstain), or for proposal to recieve some support but ultimately fail to reach sufficient support to execute. To reflect the expected behavior of participants to modulate outflows based on their perception of the growth potential we make the actual outflow rate adjust based on level of saturation. \n",
    "\n",
    "We are interested in exploring parameter choices for internal mechanisms and analzying the sensitivity to parameters of environmental processes to better understand how the protocol will respond in terms of price, supply, and common pool reserves across various stages of growth. \n",
    "\n",
    "\n"
   ]
  },
  {
   "cell_type": "code",
   "execution_count": 1,
   "metadata": {},
   "outputs": [],
   "source": [
    "import random as rand\n",
    "import numpy as np "
   ]
  },
  {
   "cell_type": "code",
   "execution_count": 2,
   "metadata": {},
   "outputs": [],
   "source": [
    "# # # # # # # # # # # # # # # # # # # # # # # # # # # # # # # # # # # # # # # # # # # # # # # # \n",
    "# List of all the state variables in the system and their initial values\n",
    "genesis_states = {\n",
    "    'reserve': 7473, # Current common pool balance\n",
    "    'circulation': 18765, # Total honey supply minus common pool balance (26238 - 7473)\n",
    "    'size': 100000, # Total market size in terms of fiat inflows per month  \n",
    "    'saturation': 0.0, # Percent of market captured by 1hive\n",
    "    'production': 0.0, # Production state accounting for outflows and upkeep\n",
    "    'utility': 0.0, # representing diminishing marginal returns on production\n",
    "    'price': 10, # modeled as a random walk biased towards a target price based on size, saturation, circulation, and valuation ratio parameter. \n",
    "    'target_price':1, # Tracks the implied valuation based on our assumptions and influeces the stochastic spot price. \n",
    "    'netflow': 0.0,\n",
    "    'adjustment': 0.0\n",
    "}\n",
    "# # # # # # # # # # # # # # # # # # # # # # # # # # # # # # # # # # # # # # # # # # # # # # # # "
   ]
  },
  {
   "source": [
    "# Model Params\n",
    "We define some parameters which can be used to tune the behavior of issuance and distribution in the model. Paramters assume that each time step of the model relfect 1 month of real time, the simulation will run for 120 timesteps giving the model as a whole a 10 year time horizon.  "
   ],
   "cell_type": "markdown",
   "metadata": {}
  },
  {
   "cell_type": "code",
   "execution_count": 3,
   "metadata": {},
   "outputs": [],
   "source": [
    "# # # # # # # # # # # # # # # # # # # # # # # # # # # # # # # # # # # # # # # # # # # # # # # # \n",
    "# List of all the state variables in the system and their initial values\n",
    "params = {\n",
    "    'throttle': [0.008], # maximimum proportion of the total supply that can be adjusted in each timestep \n",
    "    'outflow_boundary': [0.05], # max proportion of common pool funds that can be spent each timestep \n",
    "    'target_reserve_ratio': [0.2], # target ratio of common pool funds to total supply\n",
    "    'valuation_ratio': [2], # ratio of price to inflows (monthly) when at market saturation \n",
    "    'productivity': [1.5],  # scalar parameter to determine impact of outflows on market saturation\n",
    "    'maintainence': [0.1], # scalar parameter to determine magnitude of saturation decays each time step\n",
    "    'growth': [0], # rate at which the market size will grow each time step \n",
    "    'p_variance': [.25], # variance of price changes\n",
    "    'p_pull': [.6] # odds of moving towards or away from price target, a value of .5 is an unbiased random walk. \n",
    "}\n",
    "# # # # # # # # # # # # # # # # # # # # # # # # # # # # # # # # # # # # # # # # # # # # # # # # "
   ]
  },
  {
   "cell_type": "markdown",
   "metadata": {},
   "source": [
    "# Timestep\n",
    "We assume that each timestep in cadcad represents 1 month in real time, scaling model parameters to reflect that timescale. \n",
    "\n",
    "# Policies and State Update Functions\n",
    "\n",
    "We define a supply policy and four state update fuctions. \n"
   ]
  },
  {
   "cell_type": "code",
   "execution_count": 4,
   "metadata": {},
   "outputs": [],
   "source": [
    "def supply_policy(params, step, sH, s):\n",
    "\n",
    "    # first we calculate outlflow as a function of the reserve, outflow boundary, and saturation\n",
    "    outflow = s['reserve'] * params['outflow_boundary'] / (s['saturation'] + 1)\n",
    "    \n",
    "    # then we calculate inflow as a function size, saturation, price\n",
    "    inflow = s['size'] * s['saturation'] / s['price']\n",
    "    \n",
    "    netflow = inflow - outflow\n",
    "\n",
    "    # then we calculate current state\n",
    "    reserve = s['reserve'] + netflow \n",
    "    circulation = s['circulation'] - netflow\n",
    "    supply = reserve + circulation\n",
    "    ratio = reserve / supply\n",
    "    \n",
    "\n",
    "    # Proportional control https://en.wikipedia.org/wiki/Proportional_control\n",
    "    # corrections are made proportionally to the difference between the target and the current value\n",
    "\n",
    "    # e = (params['target_reserve_ratio'] - ratio) / 12\n",
    "    e = (1 - ratio / params['target_reserve_ratio'])/12\n",
    "\n",
    "    if params['throttle'] != 0: \n",
    "        # Corrections bounded by a maximum issuance rate parameter \n",
    "        if e < 0:\n",
    "            adjustment = max(e, -params['throttle']) * supply\n",
    "        else:\n",
    "            adjustment = min(e, params['throttle']) * supply \n",
    "    else:\n",
    "        # Corrections are unbounded, issuance is bounded by the maximum outflow rate \n",
    "        adjustment = e * supply \n",
    "\n",
    "\n",
    "    return ({'netflow':netflow, 'adjustment':adjustment})\n",
    "\n",
    "\n",
    "def saturation_process(params, step, sH, s):\n",
    "\n",
    "    # outflows are a function of outflow_boundary parameter and current saturation\n",
    "    # as saturation approaches 1, outflow_boundary is reduced by half. \n",
    "    outflow = s['reserve'] * params['outflow_boundary'] / (1 + s['saturation'] ** 2 )\n",
    "\n",
    "    # production reduced by the maintainance parameter and then increased by the impact of outflows, which depends on the productivity paramater and the current price. \n",
    "    production = s['production'] * (1 - params['maintainence']) + outflow * params['productivity'] * s['price']\n",
    "\n",
    "    # Utility represents the diminishing returns to production and is bounded at 10, we use the size value to shape the curve because it relates to the maximum inflows and steady state outflows. \n",
    "    utility = 10 * production / ( production + s['size'] )\n",
    "    # utility = log\n",
    "\n",
    "    # saturation modeled as a logistic function, shifted by 6 so that a 0 utility means near 0 saturation, a utility of 5 is around the inflection point, and 10 is near 1. \n",
    "    saturation = 1 / (1 + np.exp(-utility + 6))\n",
    "\n",
    "    # size is a function of current size and growth rate\n",
    "    size = s['size'] * (1 + params['growth'])\n",
    "\n",
    "\n",
    "    return ({ 'saturation':saturation, 'size':size, 'utility':utility, 'production':production})\n",
    "\n",
    "def price_policy(params, step, sH, s):\n",
    "    # price follows a random walk that is pulled towards a target price. \n",
    "\n",
    "    # First we calculate the target price as a function of the size, valuation ratio, and state of the supply\n",
    "    potential_inflows_per_token = s['size'] / (s['circulation'] + s['reserve'])\n",
    "    # valuation ratio decreases as system reaches market saturation \n",
    "    adjusted_valuation_ratio = params['valuation_ratio'] / max(0.5, s['saturation'])\n",
    "    # Price increases exponentially as the ratio of circulating supply to total supply decreases\n",
    "    supply_sensitivity = 1 / (s['circulation'] / (s['circulation'] + s['reserve']) ) ** 2 \n",
    "\n",
    "    target_price = potential_inflows_per_token * adjusted_valuation_ratio * supply_sensitivity\n",
    "\n",
    "    # Price adjusts from previous timestep as a random walk, with a probability of moving closer to the price target determined by a parameter p_pull. \n",
    "    \n",
    "    if np.random.random() < params['p_pull']: # toward target\n",
    "        if s['price'] < target_price:\n",
    "            direction = 1\n",
    "        else:\n",
    "            direction = -1 \n",
    "    else: # away from target\n",
    "        if s['price'] < target_price:\n",
    "            direction = -1 \n",
    "        else:\n",
    "            direction = 1\n",
    "\n",
    "    magnitude = np.abs(np.random.normal(0,params['p_variance']))\n",
    "\n",
    "    price = s['price'] + s['price'] * direction * magnitude * supply_sensitivity\n",
    "\n",
    "    return ({'price':price, 'target_price':target_price})\n",
    "\n",
    "def update_reserve(params, step, sH, s, _input):\n",
    "    key = 'reserve'\n",
    "    value = s['reserve'] + _input['netflow'] + _input['adjustment']\n",
    "    return (key, value)\n",
    "\n",
    "def update_utility(params, step, sH, s, _input):\n",
    "    key = 'utility'\n",
    "    value = _input['utility']\n",
    "    return (key, value)\n",
    "\n",
    "def update_production(params, step, sH, s, _input):\n",
    "    key = 'production'\n",
    "    value = _input['production']\n",
    "    return (key, value)\n",
    "\n",
    "def update_circulation(params, step, sH, s, _input):\n",
    "    key = 'circulation'\n",
    "    value = s['circulation'] - _input['netflow']\n",
    "    return (key, value)\n",
    "\n",
    "def update_size(params, step, sH, s, _input):\n",
    "    key = 'size'\n",
    "    value =  _input['size']\n",
    "    return (key, value)\n",
    "\n",
    "def update_saturation(params, step, sH, s, _input):\n",
    "    key = 'saturation'\n",
    "    value =  _input['saturation']\n",
    "    return (key, value)\n",
    "\n",
    "def update_price(params, step, sH, s, _input):\n",
    "    key = 'price'\n",
    "    value = _input['price']\n",
    "    return (key, value)\n",
    "\n",
    "def update_target_price(params, step, sH, s, _input):\n",
    "    key = 'target_price'\n",
    "    value = _input['target_price']\n",
    "    return (key, value)\n",
    "\n",
    "def update_netflow(params, step, sH, s, _input):\n",
    "    key = 'netflow'\n",
    "    value =  _input['netflow']\n",
    "    return (key, value)\n",
    "\n",
    "def update_adjustment(params, step, sH, s, _input):\n",
    "    key = 'adjustment'\n",
    "    value =  _input['adjustment']\n",
    "    return (key, value)"
   ]
  },
  {
   "cell_type": "markdown",
   "metadata": {},
   "source": [
    "# Partial State Update Blocks\n"
   ]
  },
  {
   "cell_type": "code",
   "execution_count": 5,
   "metadata": {},
   "outputs": [],
   "source": [
    "# # # # # # # # # # # # # # # # # # # # # # # # # # # # # # # # # # # # # # # # # # # # # # # # \n",
    "# In the Partial State Update Blocks, the user specifies if state update functions will be run in series or in parallel\n",
    "partial_state_update_blocks = [\n",
    "    { \n",
    "        'policies': {\n",
    "            'supply_policy': supply_policy,\n",
    "            'saturation_process': saturation_process,\n",
    "            'price_policy': price_policy\n",
    "\n",
    "        },\n",
    "        'variables': { # The following state variables will be updated simultaneously\n",
    "            'reserve': update_reserve,\n",
    "            'circulation': update_circulation,\n",
    "            'netflow': update_netflow,\n",
    "            'adjustment': update_adjustment,\n",
    "            'price': update_price,\n",
    "            'target_price': update_target_price,\n",
    "            'saturation': update_saturation,\n",
    "            'utility': update_utility,\n",
    "            'size': update_size,\n",
    "            'production': update_production\n",
    "        }\n",
    "    }\n",
    "]\n",
    "# # # # # # # # # # # # # # # # # # # # # # # # # # # # # # # # # # # # # # # # # # # # # # # # "
   ]
  },
  {
   "cell_type": "markdown",
   "metadata": {},
   "source": [
    "# Simulation Configuration Parameters\n",
    "Lastly, we define the number of timesteps and the number of Monte Carlo runs of the simulation. These parameters must be passed in a dictionary, in `dict_keys` `T` and `N`, respectively. In our example, we'll run the simulation for 10 timesteps. And because we are dealing with a deterministic system, it makes no sense to have multiple Monte Carlo runs, so we set `N=1`. We'll ignore the `M` key for now and set it to an empty `dict`"
   ]
  },
  {
   "cell_type": "code",
   "execution_count": 6,
   "metadata": {},
   "outputs": [],
   "source": [
    "# # # # # # # # # # # # # # # # # # # # # # # # # # # # # # # # # # # # # # # # # # # # # # # # \n",
    "# Settings of general simulation parameters, unrelated to the system itself\n",
    "# `T` is a range with the number of discrete units of time the simulation will run for;\n",
    "# `N` is the number of times the simulation will be run (Monte Carlo runs)\n",
    "# In this example, we'll run the simulation once (N=1) and its duration will be of 10 timesteps\n",
    "# We'll cover the `M` key in a future article. For now, let's omit it\n",
    "sim_config_dict = {\n",
    "    'T': range(240),\n",
    "    'N': 1,\n",
    "    'M': params\n",
    "}\n",
    "# # # # # # # # # # # # # # # # # # # # # # # # # # # # # # # # # # # # # # # # # # # # # # # # "
   ]
  },
  {
   "cell_type": "markdown",
   "metadata": {},
   "source": [
    "# Putting it all together\n",
    "We have defined the state variables of our system and their initial conditions, as well as the state update functions, which have been grouped in a single state update block. We have also specified the parameters of the simulation (number of timesteps and runs). We are now ready to put all those pieces together in a `Configuration` object."
   ]
  },
  {
   "cell_type": "code",
   "execution_count": 7,
   "metadata": {},
   "outputs": [],
   "source": [
    "#imported some addition utilities to help with configuration set-up\n",
    "from cadCAD.configuration.utils import config_sim\n",
    "from cadCAD.configuration import Experiment\n",
    "from cadCAD import configs\n",
    "\n",
    "exp = Experiment()\n",
    "c = config_sim(sim_config_dict)\n",
    "# # # # # # # # # # # # # # # # # # # # # # # # # # # # # # # # # # # # # # # # # # # # # # # # \n",
    "# The configurations above are then packaged into a `Configuration` object\n",
    "del configs[:]\n",
    "exp.append_configs(initial_state=genesis_states, #dict containing variable names and initial values\n",
    "                       partial_state_update_blocks=partial_state_update_blocks, #dict containing state update functions\n",
    "                       sim_configs=c #preprocessed dictionaries containing simulation parameters\n",
    "                      )"
   ]
  },
  {
   "cell_type": "markdown",
   "metadata": {},
   "source": [
    "# Running the engine\n",
    "We are now ready to run the engine with the configuration defined above. Instantiate an ExecutionMode, an ExecutionContext and an Executor objects, passing the Configuration object to the latter. Then run the `execute()` method of the Executor object, which returns the results of the experiment in the first element of a tuple."
   ]
  },
  {
   "cell_type": "code",
   "execution_count": 8,
   "metadata": {},
   "outputs": [],
   "source": [
    "%%capture\n",
    "from cadCAD.engine import ExecutionMode, ExecutionContext\n",
    "exec_mode = ExecutionMode()\n",
    "local_mode_ctx = ExecutionContext(exec_mode.local_mode)\n",
    "\n",
    "from cadCAD.engine import Executor\n",
    "\n",
    "simulation = Executor(exec_context=local_mode_ctx, configs=configs) # Pass the configuration object inside an array\n",
    "raw_system_events, tensor_field, sessions = simulation.execute() # The `execute()` method returns a tuple; its first elements contains the raw results\n"
   ]
  },
  {
   "cell_type": "markdown",
   "metadata": {},
   "source": [
    "# Analyzing the results\n",
    "We can now convert the raw results into a DataFrame for analysis"
   ]
  },
  {
   "cell_type": "code",
   "execution_count": 9,
   "metadata": {},
   "outputs": [
    {
     "output_type": "execute_result",
     "data": {
      "text/plain": [
       "                                 reserve   circulation    size  saturation  \\\n",
       "subset run timestep substep                                                  \n",
       "0      1   0        0        7473.000000  18765.000000  100000    0.000000   \n",
       "           1        1        6889.446000  19138.650000  100000    0.004197   \n",
       "           2        1        6368.350754  19451.520478  100000    0.007318   \n",
       "           3        1        5914.126985  19699.185277  100000    0.009834   \n",
       "           4        1        5492.294423  19916.111341  100000    0.013179   \n",
       "...                                  ...           ...     ...         ...   \n",
       "           236      1        3712.508175    478.755014  100000    0.970166   \n",
       "           237      1        3625.638484    532.094600  100000    0.971276   \n",
       "           238      1        3539.095590    585.375628  100000    0.972173   \n",
       "           239      1        3502.299743    589.175706  100000    0.971841   \n",
       "           240      1        3455.838857    602.904788  100000    0.971647   \n",
       "\n",
       "                               production   utility        price  \\\n",
       "subset run timestep substep                                        \n",
       "0      1   0        0        0.000000e+00  0.000000    10.000000   \n",
       "           1        1        5.604750e+03  0.530729    13.913478   \n",
       "           2        1        1.223336e+04  1.089993    10.693387   \n",
       "           3        1        1.611719e+04  1.388011    12.956918   \n",
       "           4        1        2.025208e+04  1.684136    17.641234   \n",
       "...                                   ...       ...          ...   \n",
       "           236      1        1.829779e+06  9.481806  2373.285594   \n",
       "           237      1        1.987212e+06  9.520892  2511.012420   \n",
       "           238      1        2.139839e+06  9.553539  1131.411633   \n",
       "           239      1        2.080248e+06  9.541337  1294.428972   \n",
       "           240      1        2.047083e+06  9.534252  1382.680345   \n",
       "\n",
       "                             target_price     netflow  adjustment  simulation  \\\n",
       "subset run timestep substep                                                     \n",
       "0      1   0        0            1.000000    0.000000    0.000000           0   \n",
       "           1        1           29.805306 -373.650000 -209.904000           0   \n",
       "           2        1           28.423646 -312.870478 -208.224768           0   \n",
       "           3        1           27.296499 -247.664799 -206.558970           0   \n",
       "           4        1           26.401537 -216.926064 -204.906498           0   \n",
       "...                                   ...         ...         ...         ...   \n",
       "           236      1         4937.465361  -58.338236  -33.800510           0   \n",
       "           237      1         3769.661646  -53.339586  -33.530106           0   \n",
       "           238      1         3023.890508  -53.281029  -33.261865           0   \n",
       "           239      1         2476.197581   -3.800077  -32.995770           0   \n",
       "           240      1         2425.632080  -13.729083  -32.731804           0   \n",
       "\n",
       "                             total_supply    market_cap     ratio  \n",
       "subset run timestep substep                                        \n",
       "0      1   0        0        26238.000000  2.623800e+05  0.284816  \n",
       "           1        1        26028.096000  3.621413e+05  0.264693  \n",
       "           2        1        25819.871232  2.761019e+05  0.246645  \n",
       "           3        1        25613.312262  3.318696e+05  0.230901  \n",
       "           4        1        25408.405764  4.482356e+05  0.216161  \n",
       "...                                   ...           ...       ...  \n",
       "           236      1         4191.263189  9.947065e+06  0.885773  \n",
       "           237      1         4157.733083  1.044012e+07  0.872023  \n",
       "           238      1         4124.471219  4.666475e+06  0.858073  \n",
       "           239      1         4091.475449  5.296124e+06  0.855999  \n",
       "           240      1         4058.743645  5.611945e+06  0.851455  \n",
       "\n",
       "[241 rows x 14 columns]"
      ],
      "text/html": "<div>\n<style scoped>\n    .dataframe tbody tr th:only-of-type {\n        vertical-align: middle;\n    }\n\n    .dataframe tbody tr th {\n        vertical-align: top;\n    }\n\n    .dataframe thead th {\n        text-align: right;\n    }\n</style>\n<table border=\"1\" class=\"dataframe\">\n  <thead>\n    <tr style=\"text-align: right;\">\n      <th></th>\n      <th></th>\n      <th></th>\n      <th></th>\n      <th>reserve</th>\n      <th>circulation</th>\n      <th>size</th>\n      <th>saturation</th>\n      <th>production</th>\n      <th>utility</th>\n      <th>price</th>\n      <th>target_price</th>\n      <th>netflow</th>\n      <th>adjustment</th>\n      <th>simulation</th>\n      <th>total_supply</th>\n      <th>market_cap</th>\n      <th>ratio</th>\n    </tr>\n    <tr>\n      <th>subset</th>\n      <th>run</th>\n      <th>timestep</th>\n      <th>substep</th>\n      <th></th>\n      <th></th>\n      <th></th>\n      <th></th>\n      <th></th>\n      <th></th>\n      <th></th>\n      <th></th>\n      <th></th>\n      <th></th>\n      <th></th>\n      <th></th>\n      <th></th>\n      <th></th>\n    </tr>\n  </thead>\n  <tbody>\n    <tr>\n      <th rowspan=\"11\" valign=\"top\">0</th>\n      <th rowspan=\"11\" valign=\"top\">1</th>\n      <th>0</th>\n      <th>0</th>\n      <td>7473.000000</td>\n      <td>18765.000000</td>\n      <td>100000</td>\n      <td>0.000000</td>\n      <td>0.000000e+00</td>\n      <td>0.000000</td>\n      <td>10.000000</td>\n      <td>1.000000</td>\n      <td>0.000000</td>\n      <td>0.000000</td>\n      <td>0</td>\n      <td>26238.000000</td>\n      <td>2.623800e+05</td>\n      <td>0.284816</td>\n    </tr>\n    <tr>\n      <th>1</th>\n      <th>1</th>\n      <td>6889.446000</td>\n      <td>19138.650000</td>\n      <td>100000</td>\n      <td>0.004197</td>\n      <td>5.604750e+03</td>\n      <td>0.530729</td>\n      <td>13.913478</td>\n      <td>29.805306</td>\n      <td>-373.650000</td>\n      <td>-209.904000</td>\n      <td>0</td>\n      <td>26028.096000</td>\n      <td>3.621413e+05</td>\n      <td>0.264693</td>\n    </tr>\n    <tr>\n      <th>2</th>\n      <th>1</th>\n      <td>6368.350754</td>\n      <td>19451.520478</td>\n      <td>100000</td>\n      <td>0.007318</td>\n      <td>1.223336e+04</td>\n      <td>1.089993</td>\n      <td>10.693387</td>\n      <td>28.423646</td>\n      <td>-312.870478</td>\n      <td>-208.224768</td>\n      <td>0</td>\n      <td>25819.871232</td>\n      <td>2.761019e+05</td>\n      <td>0.246645</td>\n    </tr>\n    <tr>\n      <th>3</th>\n      <th>1</th>\n      <td>5914.126985</td>\n      <td>19699.185277</td>\n      <td>100000</td>\n      <td>0.009834</td>\n      <td>1.611719e+04</td>\n      <td>1.388011</td>\n      <td>12.956918</td>\n      <td>27.296499</td>\n      <td>-247.664799</td>\n      <td>-206.558970</td>\n      <td>0</td>\n      <td>25613.312262</td>\n      <td>3.318696e+05</td>\n      <td>0.230901</td>\n    </tr>\n    <tr>\n      <th>4</th>\n      <th>1</th>\n      <td>5492.294423</td>\n      <td>19916.111341</td>\n      <td>100000</td>\n      <td>0.013179</td>\n      <td>2.025208e+04</td>\n      <td>1.684136</td>\n      <td>17.641234</td>\n      <td>26.401537</td>\n      <td>-216.926064</td>\n      <td>-204.906498</td>\n      <td>0</td>\n      <td>25408.405764</td>\n      <td>4.482356e+05</td>\n      <td>0.216161</td>\n    </tr>\n    <tr>\n      <th>...</th>\n      <th>...</th>\n      <td>...</td>\n      <td>...</td>\n      <td>...</td>\n      <td>...</td>\n      <td>...</td>\n      <td>...</td>\n      <td>...</td>\n      <td>...</td>\n      <td>...</td>\n      <td>...</td>\n      <td>...</td>\n      <td>...</td>\n      <td>...</td>\n      <td>...</td>\n    </tr>\n    <tr>\n      <th>236</th>\n      <th>1</th>\n      <td>3712.508175</td>\n      <td>478.755014</td>\n      <td>100000</td>\n      <td>0.970166</td>\n      <td>1.829779e+06</td>\n      <td>9.481806</td>\n      <td>2373.285594</td>\n      <td>4937.465361</td>\n      <td>-58.338236</td>\n      <td>-33.800510</td>\n      <td>0</td>\n      <td>4191.263189</td>\n      <td>9.947065e+06</td>\n      <td>0.885773</td>\n    </tr>\n    <tr>\n      <th>237</th>\n      <th>1</th>\n      <td>3625.638484</td>\n      <td>532.094600</td>\n      <td>100000</td>\n      <td>0.971276</td>\n      <td>1.987212e+06</td>\n      <td>9.520892</td>\n      <td>2511.012420</td>\n      <td>3769.661646</td>\n      <td>-53.339586</td>\n      <td>-33.530106</td>\n      <td>0</td>\n      <td>4157.733083</td>\n      <td>1.044012e+07</td>\n      <td>0.872023</td>\n    </tr>\n    <tr>\n      <th>238</th>\n      <th>1</th>\n      <td>3539.095590</td>\n      <td>585.375628</td>\n      <td>100000</td>\n      <td>0.972173</td>\n      <td>2.139839e+06</td>\n      <td>9.553539</td>\n      <td>1131.411633</td>\n      <td>3023.890508</td>\n      <td>-53.281029</td>\n      <td>-33.261865</td>\n      <td>0</td>\n      <td>4124.471219</td>\n      <td>4.666475e+06</td>\n      <td>0.858073</td>\n    </tr>\n    <tr>\n      <th>239</th>\n      <th>1</th>\n      <td>3502.299743</td>\n      <td>589.175706</td>\n      <td>100000</td>\n      <td>0.971841</td>\n      <td>2.080248e+06</td>\n      <td>9.541337</td>\n      <td>1294.428972</td>\n      <td>2476.197581</td>\n      <td>-3.800077</td>\n      <td>-32.995770</td>\n      <td>0</td>\n      <td>4091.475449</td>\n      <td>5.296124e+06</td>\n      <td>0.855999</td>\n    </tr>\n    <tr>\n      <th>240</th>\n      <th>1</th>\n      <td>3455.838857</td>\n      <td>602.904788</td>\n      <td>100000</td>\n      <td>0.971647</td>\n      <td>2.047083e+06</td>\n      <td>9.534252</td>\n      <td>1382.680345</td>\n      <td>2425.632080</td>\n      <td>-13.729083</td>\n      <td>-32.731804</td>\n      <td>0</td>\n      <td>4058.743645</td>\n      <td>5.611945e+06</td>\n      <td>0.851455</td>\n    </tr>\n  </tbody>\n</table>\n<p>241 rows × 14 columns</p>\n</div>"
     },
     "metadata": {},
     "execution_count": 9
    }
   ],
   "source": [
    "%matplotlib inline\n",
    "import pandas as pd\n",
    "simulation_result = pd.DataFrame(raw_system_events)\n",
    "simulation_result['total_supply'] = simulation_result['reserve'] + simulation_result['circulation']\n",
    "simulation_result['market_cap'] = simulation_result['total_supply'] * simulation_result['price']\n",
    "simulation_result['ratio'] = simulation_result['reserve'] / simulation_result['total_supply']\n",
    "simulation_result.set_index(['subset', 'run', 'timestep', 'substep'])"
   ]
  },
  {
   "source": [
    "# Analysis \n",
    "\n",
    "After adding in concepts for market saturation, productivity and diminishing marginal returns of outflows, and a pricing function we can see how the system evolves with various paramater choices.  \n",
    "\n",
    "With sufficient **productivity** relative to maintainence, the system stabilizes near the top of the logistic curve representing market saturation. We see market cap increase while saturating the market, then stabilize and remain steady. Price increases faster during the growth phases, but continues to steadily increases after reaching market saturation as the circulating supply decreases as a result of steady inflows. \n"
   ],
   "cell_type": "markdown",
   "metadata": {}
  },
  {
   "cell_type": "code",
   "execution_count": 10,
   "metadata": {},
   "outputs": [
    {
     "output_type": "display_data",
     "data": {
      "application/vnd.plotly.v1+json": {
       "config": {
        "plotlyServerURL": "https://plot.ly"
       },
       "data": [
        {
         "hovertemplate": "variable=total_supply<br>subset=0<br>timestep=%{x}<br>value=%{y}<extra></extra>",
         "legendgroup": "total_supply",
         "line": {
          "color": "rgb(76,114,176)",
          "dash": "solid"
         },
         "mode": "lines",
         "name": "total_supply",
         "orientation": "v",
         "showlegend": true,
         "type": "scatter",
         "x": [
          0,
          1,
          2,
          3,
          4,
          5,
          6,
          7,
          8,
          9,
          10,
          11,
          12,
          13,
          14,
          15,
          16,
          17,
          18,
          19,
          20,
          21,
          22,
          23,
          24,
          25,
          26,
          27,
          28,
          29,
          30,
          31,
          32,
          33,
          34,
          35,
          36,
          37,
          38,
          39,
          40,
          41,
          42,
          43,
          44,
          45,
          46,
          47,
          48,
          49,
          50,
          51,
          52,
          53,
          54,
          55,
          56,
          57,
          58,
          59,
          60,
          61,
          62,
          63,
          64,
          65,
          66,
          67,
          68,
          69,
          70,
          71,
          72,
          73,
          74,
          75,
          76,
          77,
          78,
          79,
          80,
          81,
          82,
          83,
          84,
          85,
          86,
          87,
          88,
          89,
          90,
          91,
          92,
          93,
          94,
          95,
          96,
          97,
          98,
          99,
          100,
          101,
          102,
          103,
          104,
          105,
          106,
          107,
          108,
          109,
          110,
          111,
          112,
          113,
          114,
          115,
          116,
          117,
          118,
          119,
          120,
          121,
          122,
          123,
          124,
          125,
          126,
          127,
          128,
          129,
          130,
          131,
          132,
          133,
          134,
          135,
          136,
          137,
          138,
          139,
          140,
          141,
          142,
          143,
          144,
          145,
          146,
          147,
          148,
          149,
          150,
          151,
          152,
          153,
          154,
          155,
          156,
          157,
          158,
          159,
          160,
          161,
          162,
          163,
          164,
          165,
          166,
          167,
          168,
          169,
          170,
          171,
          172,
          173,
          174,
          175,
          176,
          177,
          178,
          179,
          180,
          181,
          182,
          183,
          184,
          185,
          186,
          187,
          188,
          189,
          190,
          191,
          192,
          193,
          194,
          195,
          196,
          197,
          198,
          199,
          200,
          201,
          202,
          203,
          204,
          205,
          206,
          207,
          208,
          209,
          210,
          211,
          212,
          213,
          214,
          215,
          216,
          217,
          218,
          219,
          220,
          221,
          222,
          223,
          224,
          225,
          226,
          227,
          228,
          229,
          230,
          231,
          232,
          233,
          234,
          235,
          236,
          237,
          238,
          239,
          240
         ],
         "xaxis": "x",
         "y": [
          26238,
          26028.096,
          25819.871232,
          25613.312262144,
          25408.405764046853,
          25319.123991164266,
          25326.051321073315,
          25389.409243453712,
          25474.0477957252,
          25537.62819979155,
          25583.801404451668,
          25539.870941480767,
          25335.551973948925,
          25132.867558157333,
          24931.804617692072,
          24732.350180750538,
          24534.491379304534,
          24338.2154482701,
          24143.50972468394,
          23950.361646886467,
          23758.758753711376,
          23568.688683681685,
          23380.139174212236,
          23193.098060818535,
          23007.55327633199,
          22823.492850121336,
          22640.904907320364,
          22459.7776680618,
          22280.099446717308,
          22101.858651143568,
          21925.043781934422,
          21749.643431678945,
          21575.646284225513,
          21403.04111395171,
          21231.816785040097,
          21061.962250759774,
          20893.4665527537,
          20726.318820331668,
          20560.508269769012,
          20396.02420361086,
          20232.856009981973,
          20070.99316190212,
          19910.4252166069,
          19751.14181487405,
          19593.132680355055,
          19436.387618912213,
          19280.896517960915,
          19126.649345817226,
          18973.636151050687,
          18821.84706184228,
          18671.27228534754,
          18521.90210706476,
          18373.726890208243,
          18226.737075086578,
          18080.923178485886,
          17936.275793057997,
          17792.785586713533,
          17650.443302019823,
          17509.239755603663,
          17369.165837558834,
          17230.212510858364,
          17092.370810771496,
          16955.631844285326,
          16819.98678953104,
          16685.426895214794,
          16551.94348005308,
          16419.52793221265,
          16288.17170875495,
          16157.86633508491,
          16028.60340440423,
          15900.374577168996,
          15773.171580551643,
          15646.986207907228,
          15521.81031824397,
          15397.635835698018,
          15274.454749012433,
          15152.259111020332,
          15031.04103813217,
          14910.792709827114,
          14791.506368148495,
          14673.174317203308,
          14555.78892266568,
          14439.342611284355,
          14323.827870394081,
          14209.237247430929,
          14095.56334945148,
          13982.798842655868,
          13870.93645191462,
          13759.968960299304,
          13649.889208616909,
          13540.690094947973,
          13432.36457418839,
          13324.905657594883,
          13218.306412334125,
          13112.559961035453,
          13007.65948134717,
          12903.598205496392,
          12800.36941985242,
          12697.966464493602,
          12596.38273277765,
          12495.61167091543,
          12395.646777548107,
          12296.48160332772,
          12198.1097505011,
          12100.524872497092,
          12003.720673517117,
          11907.690908128978,
          11812.429380863949,
          11717.929945817037,
          11624.186506250498,
          11531.193014200495,
          11438.943470086893,
          11347.431922326197,
          11256.65246694759,
          11166.599247212009,
          11077.266453234313,
          10988.648321608438,
          10900.73913503557,
          10813.533221955286,
          10727.024956179643,
          10641.208756530206,
          10556.079086477965,
          10471.630453786142,
          10387.857410155852,
          10304.754550874604,
          10222.316514467608,
          10140.537982351867,
          10059.413678493052,
          9978.938369065108,
          9899.106862112587,
          9819.914007215686,
          9741.35469515796,
          9663.423857596697,
          9586.116466735924,
          9509.427535002034,
          9433.352114722018,
          9357.885297804241,
          9283.022215421808,
          9208.758037698435,
          9135.087973396847,
          9062.007269609672,
          8989.511211452795,
          8917.595121761173,
          8846.254360787083,
          8775.484325900787,
          8705.28045129358,
          8635.63820768323,
          8566.553102021766,
          8498.020677205592,
          8430.036511787946,
          8362.596219693642,
          8295.695449936095,
          8229.329886336605,
          8163.495247245912,
          8098.187285267945,
          8033.401786985802,
          7969.134572689915,
          7905.381496108396,
          7842.138444139529,
          7779.401336586412,
          7717.166125893721,
          7655.428796886571,
          7594.185366511479,
          7533.4318835793865,
          7473.164428510751,
          7413.379113082666,
          7354.072080178005,
          7295.239503536582,
          7236.87758750829,
          7178.982566808223,
          7121.550706273758,
          7064.578300623568,
          7008.061674218579,
          6951.997180824831,
          6896.381203378232,
          6841.210153751206,
          6786.480472521196,
          6732.188628741027,
          6678.331119711098,
          6624.904470753409,
          6571.905234987382,
          6519.329993107483,
          6467.175353162623,
          6415.437950337322,
          6364.114446734623,
          6313.201531160746,
          6262.69591891146,
          6212.5943515601675,
          6162.893596747686,
          6113.590447973704,
          6064.681724389914,
          6016.164270594794,
          5968.034956430036,
          5920.290676778595,
          5872.928351364368,
          5825.944924553452,
          5779.337365157025,
          5733.102666235769,
          5687.2378449058815,
          5641.739942146635,
          5596.606022609461,
          5551.833174428587,
          5507.418509033158,
          5463.359160960893,
          5419.652287673206,
          5376.29506937182,
          5333.2847088168455,
          5290.618431146311,
          5248.293483697141,
          5206.307135827564,
          5164.656678740943,
          5123.3394253110155,
          5082.352709908527,
          5041.693888229259,
          5001.360337123426,
          4961.349454426438,
          4921.658658791026,
          4882.285389520697,
          4843.227106404533,
          4804.481289553295,
          4766.045439236869,
          4727.917075722973,
          4690.093739117189,
          4652.572989204252,
          4615.352405290618,
          4578.4295860482935,
          4541.802149359907,
          4505.467732165028,
          4469.423990307708,
          4433.668598385246,
          4398.199249598164,
          4363.013655601379,
          4328.109546356568,
          4293.484669985715,
          4259.136792625829,
          4225.063698284823,
          4191.263188698545,
          4157.733083188956,
          4124.471218523445,
          4091.4754487752566,
          4058.743645185055
         ],
         "yaxis": "y"
        },
        {
         "hovertemplate": "variable=circulation<br>subset=0<br>timestep=%{x}<br>value=%{y}<extra></extra>",
         "legendgroup": "circulation",
         "line": {
          "color": "rgb(221,132,82)",
          "dash": "solid"
         },
         "mode": "lines",
         "name": "circulation",
         "orientation": "v",
         "showlegend": true,
         "type": "scatter",
         "x": [
          0,
          1,
          2,
          3,
          4,
          5,
          6,
          7,
          8,
          9,
          10,
          11,
          12,
          13,
          14,
          15,
          16,
          17,
          18,
          19,
          20,
          21,
          22,
          23,
          24,
          25,
          26,
          27,
          28,
          29,
          30,
          31,
          32,
          33,
          34,
          35,
          36,
          37,
          38,
          39,
          40,
          41,
          42,
          43,
          44,
          45,
          46,
          47,
          48,
          49,
          50,
          51,
          52,
          53,
          54,
          55,
          56,
          57,
          58,
          59,
          60,
          61,
          62,
          63,
          64,
          65,
          66,
          67,
          68,
          69,
          70,
          71,
          72,
          73,
          74,
          75,
          76,
          77,
          78,
          79,
          80,
          81,
          82,
          83,
          84,
          85,
          86,
          87,
          88,
          89,
          90,
          91,
          92,
          93,
          94,
          95,
          96,
          97,
          98,
          99,
          100,
          101,
          102,
          103,
          104,
          105,
          106,
          107,
          108,
          109,
          110,
          111,
          112,
          113,
          114,
          115,
          116,
          117,
          118,
          119,
          120,
          121,
          122,
          123,
          124,
          125,
          126,
          127,
          128,
          129,
          130,
          131,
          132,
          133,
          134,
          135,
          136,
          137,
          138,
          139,
          140,
          141,
          142,
          143,
          144,
          145,
          146,
          147,
          148,
          149,
          150,
          151,
          152,
          153,
          154,
          155,
          156,
          157,
          158,
          159,
          160,
          161,
          162,
          163,
          164,
          165,
          166,
          167,
          168,
          169,
          170,
          171,
          172,
          173,
          174,
          175,
          176,
          177,
          178,
          179,
          180,
          181,
          182,
          183,
          184,
          185,
          186,
          187,
          188,
          189,
          190,
          191,
          192,
          193,
          194,
          195,
          196,
          197,
          198,
          199,
          200,
          201,
          202,
          203,
          204,
          205,
          206,
          207,
          208,
          209,
          210,
          211,
          212,
          213,
          214,
          215,
          216,
          217,
          218,
          219,
          220,
          221,
          222,
          223,
          224,
          225,
          226,
          227,
          228,
          229,
          230,
          231,
          232,
          233,
          234,
          235,
          236,
          237,
          238,
          239,
          240
         ],
         "xaxis": "x",
         "y": [
          18765,
          19138.65,
          19451.52047810584,
          19699.1852770954,
          19916.11134082684,
          20112.448356319273,
          20271.924784713134,
          20412.900070571606,
          20514.659920214537,
          20531.831206339404,
          20540.918251017523,
          20361.608012431177,
          19870.483100451907,
          19584.50482509163,
          19316.16112523792,
          19031.2027716033,
          18736.802276745544,
          18452.837186316723,
          18322.00829709653,
          18188.660393778733,
          18013.682693539944,
          17928.341570477543,
          17784.196576222526,
          17608.433868285632,
          17359.885765390212,
          17141.38219201731,
          16652.61619717381,
          16206.759721660112,
          15950.729084248584,
          15616.390738551148,
          15278.348856249873,
          14987.5344312204,
          14177.396217109388,
          13336.405332927205,
          11539.629701182728,
          10359.342768483906,
          7786.307539200614,
          6085.263818935045,
          4798.752566868652,
          3690.0779652853726,
          2166.212385063377,
          954.8018596666006,
          1171.8991327926938,
          1233.3104189802973,
          1210.8231227390165,
          1181.938109402225,
          1156.9947014109302,
          1143.6000448703332,
          1128.5432851414223,
          1112.422865421182,
          1104.2318704985278,
          1100.8661992970794,
          1093.5014647424105,
          1084.168641239508,
          1075.1885246613247,
          1065.1947059045383,
          1054.51923822421,
          1040.4995188935254,
          1032.1892503907848,
          1023.4029258180927,
          1006.079122290393,
          987.1609064145334,
          968.1618910522238,
          949.4434436371911,
          933.8416618948065,
          922.740161848511,
          913.3447390342217,
          902.4265960222936,
          889.2453196105766,
          878.2035201889631,
          867.8307888050379,
          857.615462770983,
          847.9599649800786,
          839.5195017914455,
          831.1757087465119,
          822.3105475692425,
          813.379175085917,
          801.3427807026155,
          789.5657089826119,
          779.7938780784286,
          771.5568129709359,
          764.1304154300275,
          756.4651121501254,
          751.9915111881369,
          748.4002305224192,
          745.1834879328492,
          742.8111259895213,
          741.2262138938247,
          739.4308259793202,
          738.2086748807094,
          736.3681197676672,
          733.4238885292145,
          728.4809605201605,
          721.8068679455029,
          716.1694026140113,
          712.1973348421288,
          709.3574978535671,
          709.8838319392939,
          711.9994591201896,
          714.7451903278459,
          715.6267021387926,
          714.2536700408216,
          711.1690496123382,
          706.7147028657325,
          704.9931694105999,
          702.9181043783001,
          697.0576055546653,
          693.5552502378423,
          690.6538692323372,
          681.6518996248094,
          672.6653428417053,
          666.9895169938186,
          661.6859875282901,
          653.8243456955436,
          648.658814211012,
          647.5207700979882,
          647.4625240744933,
          650.9028009832459,
          658.3949755169784,
          667.8132900252912,
          678.0989087660548,
          686.6236614274875,
          695.910357968352,
          708.2782170241276,
          722.8497666819675,
          737.8203836481923,
          750.5181104821881,
          759.4162433765969,
          764.9011292802124,
          767.0894216727831,
          766.7520285500626,
          763.5947167353413,
          757.5075859284873,
          744.1686956615006,
          732.2868796262139,
          726.7214712048151,
          718.8757372277146,
          714.6867789761352,
          709.884996902088,
          706.1201433113957,
          703.1339387639359,
          701.6944416464423,
          695.1644585769334,
          691.9582211144661,
          687.0532079660608,
          678.9577377010968,
          666.9587606377645,
          657.347430697683,
          651.1086925753564,
          645.8436415436237,
          645.3585249144444,
          645.3053049880457,
          643.5575707832244,
          640.2720174200408,
          634.0505722735204,
          623.8176669296628,
          612.2676689856291,
          596.4551412889434,
          583.785936026017,
          577.4238337759682,
          573.0995111327165,
          568.4517867292358,
          557.9464838869662,
          539.3665443724495,
          515.6983851607595,
          492.4404070365483,
          478.6422435454557,
          471.2215867385395,
          468.29430939232094,
          464.5647056685851,
          462.8747156070581,
          458.54029369519765,
          453.93935178505063,
          453.064439226103,
          453.56872497830784,
          453.64155687264906,
          454.2166325427774,
          451.9138931555004,
          444.3642608434013,
          436.0164496429388,
          429.5943835720717,
          422.6029224514699,
          413.4204298248635,
          407.0483054572867,
          402.97740932576403,
          399.2112703262221,
          393.01342923609536,
          383.0771063128359,
          371.8809399465306,
          360.15096413830565,
          355.0093756205615,
          353.89167655729796,
          353.9871899540297,
          355.4244159116656,
          357.5872318584811,
          358.60542212394637,
          357.8418244767438,
          355.36434183741085,
          351.71875125241263,
          345.28022487305293,
          337.955996468487,
          328.9122652260681,
          320.0368836045552,
          312.0587236353067,
          304.66425782887103,
          299.13029723995817,
          294.0141089241241,
          288.72511091494204,
          282.4196327247133,
          190.98233586445156,
          229.69894547387744,
          245.23082404977845,
          250.9639574474953,
          252.21083912025392,
          251.42607721049217,
          250.33764469377377,
          249.0314161052445,
          247.53986294798096,
          245.8773712706477,
          140.09949117090525,
          192.2987117297733,
          215.7392378253065,
          225.79217139140863,
          141.5074655652628,
          188.18684838431662,
          208.99515364225297,
          147.1962996322615,
          187.19166903370365,
          177.49346765838433,
          188.8436161565563,
          211.38283943070556,
          236.20345198298048,
          273.3395077207057,
          323.02481049942463,
          373.1901323933101,
          420.416777468336,
          478.7550135213179,
          532.094599644469,
          585.375628288091,
          589.1757055112563,
          602.9047884255273
         ],
         "yaxis": "y"
        },
        {
         "hovertemplate": "variable=reserve<br>subset=0<br>timestep=%{x}<br>value=%{y}<extra></extra>",
         "legendgroup": "reserve",
         "line": {
          "color": "rgb(85,168,104)",
          "dash": "solid"
         },
         "mode": "lines",
         "name": "reserve",
         "orientation": "v",
         "showlegend": true,
         "type": "scatter",
         "x": [
          0,
          1,
          2,
          3,
          4,
          5,
          6,
          7,
          8,
          9,
          10,
          11,
          12,
          13,
          14,
          15,
          16,
          17,
          18,
          19,
          20,
          21,
          22,
          23,
          24,
          25,
          26,
          27,
          28,
          29,
          30,
          31,
          32,
          33,
          34,
          35,
          36,
          37,
          38,
          39,
          40,
          41,
          42,
          43,
          44,
          45,
          46,
          47,
          48,
          49,
          50,
          51,
          52,
          53,
          54,
          55,
          56,
          57,
          58,
          59,
          60,
          61,
          62,
          63,
          64,
          65,
          66,
          67,
          68,
          69,
          70,
          71,
          72,
          73,
          74,
          75,
          76,
          77,
          78,
          79,
          80,
          81,
          82,
          83,
          84,
          85,
          86,
          87,
          88,
          89,
          90,
          91,
          92,
          93,
          94,
          95,
          96,
          97,
          98,
          99,
          100,
          101,
          102,
          103,
          104,
          105,
          106,
          107,
          108,
          109,
          110,
          111,
          112,
          113,
          114,
          115,
          116,
          117,
          118,
          119,
          120,
          121,
          122,
          123,
          124,
          125,
          126,
          127,
          128,
          129,
          130,
          131,
          132,
          133,
          134,
          135,
          136,
          137,
          138,
          139,
          140,
          141,
          142,
          143,
          144,
          145,
          146,
          147,
          148,
          149,
          150,
          151,
          152,
          153,
          154,
          155,
          156,
          157,
          158,
          159,
          160,
          161,
          162,
          163,
          164,
          165,
          166,
          167,
          168,
          169,
          170,
          171,
          172,
          173,
          174,
          175,
          176,
          177,
          178,
          179,
          180,
          181,
          182,
          183,
          184,
          185,
          186,
          187,
          188,
          189,
          190,
          191,
          192,
          193,
          194,
          195,
          196,
          197,
          198,
          199,
          200,
          201,
          202,
          203,
          204,
          205,
          206,
          207,
          208,
          209,
          210,
          211,
          212,
          213,
          214,
          215,
          216,
          217,
          218,
          219,
          220,
          221,
          222,
          223,
          224,
          225,
          226,
          227,
          228,
          229,
          230,
          231,
          232,
          233,
          234,
          235,
          236,
          237,
          238,
          239,
          240
         ],
         "xaxis": "x",
         "y": [
          7473,
          6889.446,
          6368.350753894164,
          5914.126985048603,
          5492.294423220012,
          5206.675634844992,
          5054.126536360182,
          4976.509172882106,
          4959.387875510662,
          5005.796993452146,
          5042.883153434143,
          5178.262929049592,
          5465.068873497015,
          5548.362733065703,
          5615.643492454154,
          5701.147409147236,
          5797.689102558989,
          5885.378261953376,
          5821.501427587409,
          5761.701253107735,
          5745.076060171432,
          5640.347113204142,
          5595.942597989708,
          5584.664192532904,
          5647.667510941777,
          5682.110658104024,
          5988.288710146551,
          6253.017946401688,
          6329.370362468723,
          6485.467912592419,
          6646.694925684547,
          6762.109000458547,
          7398.250067116127,
          8066.635781024506,
          9692.187083857369,
          10702.61948227587,
          13107.159013553084,
          14641.055001396622,
          15761.75570290036,
          16705.94623832549,
          18066.643624918597,
          19116.19130223552,
          18738.52608381421,
          18517.83139589375,
          18382.309557616038,
          18254.44950950999,
          18123.901816549984,
          17983.049300946892,
          17845.092865909264,
          17709.424196421096,
          17567.040414849012,
          17421.03590776768,
          17280.225425465833,
          17142.56843384707,
          17005.734653824562,
          16871.08108715346,
          16738.266348489324,
          16609.9437831263,
          16477.05050521288,
          16345.762911740741,
          16224.13338856797,
          16105.209904356963,
          15987.469953233101,
          15870.543345893851,
          15751.58523331999,
          15629.203318204567,
          15506.18319317843,
          15385.745112732657,
          15268.621015474333,
          15150.399884215267,
          15032.543788363957,
          14915.55611778066,
          14799.02624292715,
          14682.290816452525,
          14566.460126951506,
          14452.14420144319,
          14338.879935934416,
          14229.698257429554,
          14121.227000844501,
          14011.712490070067,
          13901.617504232372,
          13791.658507235654,
          13682.87749913423,
          13571.836359205945,
          13460.83701690851,
          13350.379861518632,
          13239.987716666346,
          13129.710238020796,
          13020.538134319984,
          12911.6805337362,
          12804.321975180306,
          12698.940685659176,
          12596.424697074723,
          12496.499544388622,
          12396.39055842144,
          12295.46214650504,
          12194.240707642824,
          12090.485587913126,
          11985.967005373412,
          11881.637542449806,
          11779.984968776638,
          11681.393107507285,
          11585.312553715383,
          11491.395047635368,
          11395.531703086492,
          11300.802569138816,
          11210.633302574313,
          11118.874130626105,
          11027.2760765847,
          10942.53460662569,
          10858.52767135879,
          10771.953953093074,
          10685.745934797907,
          10602.828121252045,
          10517.940433000997,
          10429.745683136325,
          10341.185797533944,
          10249.836334052325,
          10155.138246438308,
          10059.211666154351,
          9963.109847764152,
          9869.455425050477,
          9775.72009581779,
          9679.579193131724,
          9581.904784192637,
          9484.496130819416,
          9390.01987186968,
          9299.997435116456,
          9214.037239784897,
          9132.017440439804,
          9053.161978665623,
          8977.759978422619,
          8905.91627166821,
          8841.947771074423,
          8777.14065537582,
          8706.630643517203,
          8639.009560576527,
          8568.335436445674,
          8498.873040796347,
          8428.96783008545,
          8358.873330845736,
          8287.816769806352,
          8222.43066318424,
          8154.296139672617,
          8088.431117934726,
          8026.3227135924835,
          7968.679447045467,
          7909.205671324083,
          7846.911984630235,
          7784.192870244323,
          7717.237694779198,
          7650.390144948048,
          7585.77231555338,
          7523.223229825871,
          7464.136712994425,
          7409.584120056139,
          7356.866903704286,
          7308.926354819453,
          7258.352508113512,
          7201.977502810444,
          7144.0666147610045,
          7086.977010157335,
          7036.238882624512,
          6994.065339206937,
          6957.466043349992,
          6920.938706046118,
          6875.429836632549,
          6824.017916798042,
          6768.583278115969,
          6714.417861139638,
          6658.675990666699,
          6606.03800692837,
          6554.122322433529,
          6498.932741598728,
          6442.812478399925,
          6387.568596878557,
          6332.263839978419,
          6280.274735585526,
          6233.966858867697,
          6188.888021110471,
          6142.31085141531,
          6096.727070656013,
          6053.7549233377595,
          6008.389644880035,
          5961.137037408859,
          5913.990260834524,
          5869.682489675364,
          5829.517245247332,
          5791.012656801156,
          5753.439483835398,
          5709.6723487693525,
          5662.272594037497,
          5614.0477664760065,
          5564.86626086693,
          5515.341119505886,
          5467.339502429506,
          5421.495540680281,
          5377.738324398358,
          5335.519093653469,
          5296.459717273582,
          5258.650026140975,
          5222.9209092025185,
          5187.381625428603,
          5151.300437325586,
          5114.988029844335,
          5077.164772131862,
          5039.270599892721,
          5001.893320231369,
          4965.873850972427,
          5015.324799963112,
          4934.957733267065,
          4878.108601261237,
          4831.388752461032,
          4789.483049109005,
          4749.934259912933,
          4711.011809732664,
          4672.627242685781,
          4634.745526572717,
          4597.349735133885,
          4664.38179838239,
          4573.746727507096,
          4512.177837897667,
          4464.301567725781,
          4511.065523638989,
          4427.165556906301,
          4369.43443240604,
          4394.605849727645,
          4318.276063131324,
          4291.930522649323,
          4244.82498222869,
          4186.816410167458,
          4126.810203618398,
          4054.770038635862,
          3970.4598594862905,
          3885.946660232519,
          3804.6469208164867,
          3712.5081751772263,
          3625.638483544487,
          3539.0955902353535,
          3502.2997432640004,
          3455.8388567595275
         ],
         "yaxis": "y"
        }
       ],
       "layout": {
        "annotations": [
         {
          "font": {},
          "showarrow": false,
          "text": "subset=0",
          "textangle": 90,
          "x": 0.98,
          "xanchor": "left",
          "xref": "paper",
          "y": 0.5,
          "yanchor": "middle",
          "yref": "paper"
         }
        ],
        "height": 800,
        "legend": {
         "title": {
          "text": "variable"
         },
         "tracegroupgap": 0
        },
        "margin": {
         "b": 20,
         "l": 20,
         "r": 20,
         "t": 20
        },
        "template": {
         "data": {
          "bar": [
           {
            "error_x": {
             "color": "rgb(36,36,36)"
            },
            "error_y": {
             "color": "rgb(36,36,36)"
            },
            "marker": {
             "line": {
              "color": "rgb(234,234,242)",
              "width": 0.5
             }
            },
            "type": "bar"
           }
          ],
          "barpolar": [
           {
            "marker": {
             "line": {
              "color": "rgb(234,234,242)",
              "width": 0.5
             }
            },
            "type": "barpolar"
           }
          ],
          "carpet": [
           {
            "aaxis": {
             "endlinecolor": "rgb(36,36,36)",
             "gridcolor": "white",
             "linecolor": "white",
             "minorgridcolor": "white",
             "startlinecolor": "rgb(36,36,36)"
            },
            "baxis": {
             "endlinecolor": "rgb(36,36,36)",
             "gridcolor": "white",
             "linecolor": "white",
             "minorgridcolor": "white",
             "startlinecolor": "rgb(36,36,36)"
            },
            "type": "carpet"
           }
          ],
          "choropleth": [
           {
            "colorbar": {
             "outlinewidth": 0,
             "tickcolor": "rgb(36,36,36)",
             "ticklen": 8,
             "ticks": "outside",
             "tickwidth": 2
            },
            "type": "choropleth"
           }
          ],
          "contour": [
           {
            "colorbar": {
             "outlinewidth": 0,
             "tickcolor": "rgb(36,36,36)",
             "ticklen": 8,
             "ticks": "outside",
             "tickwidth": 2
            },
            "colorscale": [
             [
              0,
              "rgb(2,4,25)"
             ],
             [
              0.06274509803921569,
              "rgb(24,15,41)"
             ],
             [
              0.12549019607843137,
              "rgb(47,23,57)"
             ],
             [
              0.18823529411764706,
              "rgb(71,28,72)"
             ],
             [
              0.25098039215686274,
              "rgb(97,30,82)"
             ],
             [
              0.3137254901960784,
              "rgb(123,30,89)"
             ],
             [
              0.3764705882352941,
              "rgb(150,27,91)"
             ],
             [
              0.4392156862745098,
              "rgb(177,22,88)"
             ],
             [
              0.5019607843137255,
              "rgb(203,26,79)"
             ],
             [
              0.5647058823529412,
              "rgb(223,47,67)"
             ],
             [
              0.6274509803921569,
              "rgb(236,76,61)"
             ],
             [
              0.6901960784313725,
              "rgb(242,107,73)"
             ],
             [
              0.7529411764705882,
              "rgb(244,135,95)"
             ],
             [
              0.8156862745098039,
              "rgb(245,162,122)"
             ],
             [
              0.8784313725490196,
              "rgb(246,188,153)"
             ],
             [
              0.9411764705882353,
              "rgb(247,212,187)"
             ],
             [
              1,
              "rgb(250,234,220)"
             ]
            ],
            "type": "contour"
           }
          ],
          "contourcarpet": [
           {
            "colorbar": {
             "outlinewidth": 0,
             "tickcolor": "rgb(36,36,36)",
             "ticklen": 8,
             "ticks": "outside",
             "tickwidth": 2
            },
            "type": "contourcarpet"
           }
          ],
          "heatmap": [
           {
            "colorbar": {
             "outlinewidth": 0,
             "tickcolor": "rgb(36,36,36)",
             "ticklen": 8,
             "ticks": "outside",
             "tickwidth": 2
            },
            "colorscale": [
             [
              0,
              "rgb(2,4,25)"
             ],
             [
              0.06274509803921569,
              "rgb(24,15,41)"
             ],
             [
              0.12549019607843137,
              "rgb(47,23,57)"
             ],
             [
              0.18823529411764706,
              "rgb(71,28,72)"
             ],
             [
              0.25098039215686274,
              "rgb(97,30,82)"
             ],
             [
              0.3137254901960784,
              "rgb(123,30,89)"
             ],
             [
              0.3764705882352941,
              "rgb(150,27,91)"
             ],
             [
              0.4392156862745098,
              "rgb(177,22,88)"
             ],
             [
              0.5019607843137255,
              "rgb(203,26,79)"
             ],
             [
              0.5647058823529412,
              "rgb(223,47,67)"
             ],
             [
              0.6274509803921569,
              "rgb(236,76,61)"
             ],
             [
              0.6901960784313725,
              "rgb(242,107,73)"
             ],
             [
              0.7529411764705882,
              "rgb(244,135,95)"
             ],
             [
              0.8156862745098039,
              "rgb(245,162,122)"
             ],
             [
              0.8784313725490196,
              "rgb(246,188,153)"
             ],
             [
              0.9411764705882353,
              "rgb(247,212,187)"
             ],
             [
              1,
              "rgb(250,234,220)"
             ]
            ],
            "type": "heatmap"
           }
          ],
          "heatmapgl": [
           {
            "colorbar": {
             "outlinewidth": 0,
             "tickcolor": "rgb(36,36,36)",
             "ticklen": 8,
             "ticks": "outside",
             "tickwidth": 2
            },
            "colorscale": [
             [
              0,
              "rgb(2,4,25)"
             ],
             [
              0.06274509803921569,
              "rgb(24,15,41)"
             ],
             [
              0.12549019607843137,
              "rgb(47,23,57)"
             ],
             [
              0.18823529411764706,
              "rgb(71,28,72)"
             ],
             [
              0.25098039215686274,
              "rgb(97,30,82)"
             ],
             [
              0.3137254901960784,
              "rgb(123,30,89)"
             ],
             [
              0.3764705882352941,
              "rgb(150,27,91)"
             ],
             [
              0.4392156862745098,
              "rgb(177,22,88)"
             ],
             [
              0.5019607843137255,
              "rgb(203,26,79)"
             ],
             [
              0.5647058823529412,
              "rgb(223,47,67)"
             ],
             [
              0.6274509803921569,
              "rgb(236,76,61)"
             ],
             [
              0.6901960784313725,
              "rgb(242,107,73)"
             ],
             [
              0.7529411764705882,
              "rgb(244,135,95)"
             ],
             [
              0.8156862745098039,
              "rgb(245,162,122)"
             ],
             [
              0.8784313725490196,
              "rgb(246,188,153)"
             ],
             [
              0.9411764705882353,
              "rgb(247,212,187)"
             ],
             [
              1,
              "rgb(250,234,220)"
             ]
            ],
            "type": "heatmapgl"
           }
          ],
          "histogram": [
           {
            "marker": {
             "colorbar": {
              "outlinewidth": 0,
              "tickcolor": "rgb(36,36,36)",
              "ticklen": 8,
              "ticks": "outside",
              "tickwidth": 2
             }
            },
            "type": "histogram"
           }
          ],
          "histogram2d": [
           {
            "colorbar": {
             "outlinewidth": 0,
             "tickcolor": "rgb(36,36,36)",
             "ticklen": 8,
             "ticks": "outside",
             "tickwidth": 2
            },
            "colorscale": [
             [
              0,
              "rgb(2,4,25)"
             ],
             [
              0.06274509803921569,
              "rgb(24,15,41)"
             ],
             [
              0.12549019607843137,
              "rgb(47,23,57)"
             ],
             [
              0.18823529411764706,
              "rgb(71,28,72)"
             ],
             [
              0.25098039215686274,
              "rgb(97,30,82)"
             ],
             [
              0.3137254901960784,
              "rgb(123,30,89)"
             ],
             [
              0.3764705882352941,
              "rgb(150,27,91)"
             ],
             [
              0.4392156862745098,
              "rgb(177,22,88)"
             ],
             [
              0.5019607843137255,
              "rgb(203,26,79)"
             ],
             [
              0.5647058823529412,
              "rgb(223,47,67)"
             ],
             [
              0.6274509803921569,
              "rgb(236,76,61)"
             ],
             [
              0.6901960784313725,
              "rgb(242,107,73)"
             ],
             [
              0.7529411764705882,
              "rgb(244,135,95)"
             ],
             [
              0.8156862745098039,
              "rgb(245,162,122)"
             ],
             [
              0.8784313725490196,
              "rgb(246,188,153)"
             ],
             [
              0.9411764705882353,
              "rgb(247,212,187)"
             ],
             [
              1,
              "rgb(250,234,220)"
             ]
            ],
            "type": "histogram2d"
           }
          ],
          "histogram2dcontour": [
           {
            "colorbar": {
             "outlinewidth": 0,
             "tickcolor": "rgb(36,36,36)",
             "ticklen": 8,
             "ticks": "outside",
             "tickwidth": 2
            },
            "colorscale": [
             [
              0,
              "rgb(2,4,25)"
             ],
             [
              0.06274509803921569,
              "rgb(24,15,41)"
             ],
             [
              0.12549019607843137,
              "rgb(47,23,57)"
             ],
             [
              0.18823529411764706,
              "rgb(71,28,72)"
             ],
             [
              0.25098039215686274,
              "rgb(97,30,82)"
             ],
             [
              0.3137254901960784,
              "rgb(123,30,89)"
             ],
             [
              0.3764705882352941,
              "rgb(150,27,91)"
             ],
             [
              0.4392156862745098,
              "rgb(177,22,88)"
             ],
             [
              0.5019607843137255,
              "rgb(203,26,79)"
             ],
             [
              0.5647058823529412,
              "rgb(223,47,67)"
             ],
             [
              0.6274509803921569,
              "rgb(236,76,61)"
             ],
             [
              0.6901960784313725,
              "rgb(242,107,73)"
             ],
             [
              0.7529411764705882,
              "rgb(244,135,95)"
             ],
             [
              0.8156862745098039,
              "rgb(245,162,122)"
             ],
             [
              0.8784313725490196,
              "rgb(246,188,153)"
             ],
             [
              0.9411764705882353,
              "rgb(247,212,187)"
             ],
             [
              1,
              "rgb(250,234,220)"
             ]
            ],
            "type": "histogram2dcontour"
           }
          ],
          "mesh3d": [
           {
            "colorbar": {
             "outlinewidth": 0,
             "tickcolor": "rgb(36,36,36)",
             "ticklen": 8,
             "ticks": "outside",
             "tickwidth": 2
            },
            "type": "mesh3d"
           }
          ],
          "parcoords": [
           {
            "line": {
             "colorbar": {
              "outlinewidth": 0,
              "tickcolor": "rgb(36,36,36)",
              "ticklen": 8,
              "ticks": "outside",
              "tickwidth": 2
             }
            },
            "type": "parcoords"
           }
          ],
          "pie": [
           {
            "automargin": true,
            "type": "pie"
           }
          ],
          "scatter": [
           {
            "marker": {
             "colorbar": {
              "outlinewidth": 0,
              "tickcolor": "rgb(36,36,36)",
              "ticklen": 8,
              "ticks": "outside",
              "tickwidth": 2
             }
            },
            "type": "scatter"
           }
          ],
          "scatter3d": [
           {
            "line": {
             "colorbar": {
              "outlinewidth": 0,
              "tickcolor": "rgb(36,36,36)",
              "ticklen": 8,
              "ticks": "outside",
              "tickwidth": 2
             }
            },
            "marker": {
             "colorbar": {
              "outlinewidth": 0,
              "tickcolor": "rgb(36,36,36)",
              "ticklen": 8,
              "ticks": "outside",
              "tickwidth": 2
             }
            },
            "type": "scatter3d"
           }
          ],
          "scattercarpet": [
           {
            "marker": {
             "colorbar": {
              "outlinewidth": 0,
              "tickcolor": "rgb(36,36,36)",
              "ticklen": 8,
              "ticks": "outside",
              "tickwidth": 2
             }
            },
            "type": "scattercarpet"
           }
          ],
          "scattergeo": [
           {
            "marker": {
             "colorbar": {
              "outlinewidth": 0,
              "tickcolor": "rgb(36,36,36)",
              "ticklen": 8,
              "ticks": "outside",
              "tickwidth": 2
             }
            },
            "type": "scattergeo"
           }
          ],
          "scattergl": [
           {
            "marker": {
             "colorbar": {
              "outlinewidth": 0,
              "tickcolor": "rgb(36,36,36)",
              "ticklen": 8,
              "ticks": "outside",
              "tickwidth": 2
             }
            },
            "type": "scattergl"
           }
          ],
          "scattermapbox": [
           {
            "marker": {
             "colorbar": {
              "outlinewidth": 0,
              "tickcolor": "rgb(36,36,36)",
              "ticklen": 8,
              "ticks": "outside",
              "tickwidth": 2
             }
            },
            "type": "scattermapbox"
           }
          ],
          "scatterpolar": [
           {
            "marker": {
             "colorbar": {
              "outlinewidth": 0,
              "tickcolor": "rgb(36,36,36)",
              "ticklen": 8,
              "ticks": "outside",
              "tickwidth": 2
             }
            },
            "type": "scatterpolar"
           }
          ],
          "scatterpolargl": [
           {
            "marker": {
             "colorbar": {
              "outlinewidth": 0,
              "tickcolor": "rgb(36,36,36)",
              "ticklen": 8,
              "ticks": "outside",
              "tickwidth": 2
             }
            },
            "type": "scatterpolargl"
           }
          ],
          "scatterternary": [
           {
            "marker": {
             "colorbar": {
              "outlinewidth": 0,
              "tickcolor": "rgb(36,36,36)",
              "ticklen": 8,
              "ticks": "outside",
              "tickwidth": 2
             }
            },
            "type": "scatterternary"
           }
          ],
          "surface": [
           {
            "colorbar": {
             "outlinewidth": 0,
             "tickcolor": "rgb(36,36,36)",
             "ticklen": 8,
             "ticks": "outside",
             "tickwidth": 2
            },
            "colorscale": [
             [
              0,
              "rgb(2,4,25)"
             ],
             [
              0.06274509803921569,
              "rgb(24,15,41)"
             ],
             [
              0.12549019607843137,
              "rgb(47,23,57)"
             ],
             [
              0.18823529411764706,
              "rgb(71,28,72)"
             ],
             [
              0.25098039215686274,
              "rgb(97,30,82)"
             ],
             [
              0.3137254901960784,
              "rgb(123,30,89)"
             ],
             [
              0.3764705882352941,
              "rgb(150,27,91)"
             ],
             [
              0.4392156862745098,
              "rgb(177,22,88)"
             ],
             [
              0.5019607843137255,
              "rgb(203,26,79)"
             ],
             [
              0.5647058823529412,
              "rgb(223,47,67)"
             ],
             [
              0.6274509803921569,
              "rgb(236,76,61)"
             ],
             [
              0.6901960784313725,
              "rgb(242,107,73)"
             ],
             [
              0.7529411764705882,
              "rgb(244,135,95)"
             ],
             [
              0.8156862745098039,
              "rgb(245,162,122)"
             ],
             [
              0.8784313725490196,
              "rgb(246,188,153)"
             ],
             [
              0.9411764705882353,
              "rgb(247,212,187)"
             ],
             [
              1,
              "rgb(250,234,220)"
             ]
            ],
            "type": "surface"
           }
          ],
          "table": [
           {
            "cells": {
             "fill": {
              "color": "rgb(231,231,240)"
             },
             "line": {
              "color": "white"
             }
            },
            "header": {
             "fill": {
              "color": "rgb(183,183,191)"
             },
             "line": {
              "color": "white"
             }
            },
            "type": "table"
           }
          ]
         },
         "layout": {
          "annotationdefaults": {
           "arrowcolor": "rgb(67,103,167)"
          },
          "coloraxis": {
           "colorbar": {
            "outlinewidth": 0,
            "tickcolor": "rgb(36,36,36)",
            "ticklen": 8,
            "ticks": "outside",
            "tickwidth": 2
           }
          },
          "colorscale": {
           "sequential": [
            [
             0,
             "rgb(2,4,25)"
            ],
            [
             0.06274509803921569,
             "rgb(24,15,41)"
            ],
            [
             0.12549019607843137,
             "rgb(47,23,57)"
            ],
            [
             0.18823529411764706,
             "rgb(71,28,72)"
            ],
            [
             0.25098039215686274,
             "rgb(97,30,82)"
            ],
            [
             0.3137254901960784,
             "rgb(123,30,89)"
            ],
            [
             0.3764705882352941,
             "rgb(150,27,91)"
            ],
            [
             0.4392156862745098,
             "rgb(177,22,88)"
            ],
            [
             0.5019607843137255,
             "rgb(203,26,79)"
            ],
            [
             0.5647058823529412,
             "rgb(223,47,67)"
            ],
            [
             0.6274509803921569,
             "rgb(236,76,61)"
            ],
            [
             0.6901960784313725,
             "rgb(242,107,73)"
            ],
            [
             0.7529411764705882,
             "rgb(244,135,95)"
            ],
            [
             0.8156862745098039,
             "rgb(245,162,122)"
            ],
            [
             0.8784313725490196,
             "rgb(246,188,153)"
            ],
            [
             0.9411764705882353,
             "rgb(247,212,187)"
            ],
            [
             1,
             "rgb(250,234,220)"
            ]
           ],
           "sequentialminus": [
            [
             0,
             "rgb(2,4,25)"
            ],
            [
             0.06274509803921569,
             "rgb(24,15,41)"
            ],
            [
             0.12549019607843137,
             "rgb(47,23,57)"
            ],
            [
             0.18823529411764706,
             "rgb(71,28,72)"
            ],
            [
             0.25098039215686274,
             "rgb(97,30,82)"
            ],
            [
             0.3137254901960784,
             "rgb(123,30,89)"
            ],
            [
             0.3764705882352941,
             "rgb(150,27,91)"
            ],
            [
             0.4392156862745098,
             "rgb(177,22,88)"
            ],
            [
             0.5019607843137255,
             "rgb(203,26,79)"
            ],
            [
             0.5647058823529412,
             "rgb(223,47,67)"
            ],
            [
             0.6274509803921569,
             "rgb(236,76,61)"
            ],
            [
             0.6901960784313725,
             "rgb(242,107,73)"
            ],
            [
             0.7529411764705882,
             "rgb(244,135,95)"
            ],
            [
             0.8156862745098039,
             "rgb(245,162,122)"
            ],
            [
             0.8784313725490196,
             "rgb(246,188,153)"
            ],
            [
             0.9411764705882353,
             "rgb(247,212,187)"
            ],
            [
             1,
             "rgb(250,234,220)"
            ]
           ]
          },
          "colorway": [
           "rgb(76,114,176)",
           "rgb(221,132,82)",
           "rgb(85,168,104)",
           "rgb(196,78,82)",
           "rgb(129,114,179)",
           "rgb(147,120,96)",
           "rgb(218,139,195)",
           "rgb(140,140,140)",
           "rgb(204,185,116)",
           "rgb(100,181,205)"
          ],
          "font": {
           "color": "rgb(36,36,36)"
          },
          "geo": {
           "bgcolor": "white",
           "lakecolor": "white",
           "landcolor": "rgb(234,234,242)",
           "showlakes": true,
           "showland": true,
           "subunitcolor": "white"
          },
          "hoverlabel": {
           "align": "left"
          },
          "hovermode": "closest",
          "paper_bgcolor": "white",
          "plot_bgcolor": "rgb(234,234,242)",
          "polar": {
           "angularaxis": {
            "gridcolor": "white",
            "linecolor": "white",
            "showgrid": true,
            "ticks": ""
           },
           "bgcolor": "rgb(234,234,242)",
           "radialaxis": {
            "gridcolor": "white",
            "linecolor": "white",
            "showgrid": true,
            "ticks": ""
           }
          },
          "scene": {
           "xaxis": {
            "backgroundcolor": "rgb(234,234,242)",
            "gridcolor": "white",
            "gridwidth": 2,
            "linecolor": "white",
            "showbackground": true,
            "showgrid": true,
            "ticks": "",
            "zerolinecolor": "white"
           },
           "yaxis": {
            "backgroundcolor": "rgb(234,234,242)",
            "gridcolor": "white",
            "gridwidth": 2,
            "linecolor": "white",
            "showbackground": true,
            "showgrid": true,
            "ticks": "",
            "zerolinecolor": "white"
           },
           "zaxis": {
            "backgroundcolor": "rgb(234,234,242)",
            "gridcolor": "white",
            "gridwidth": 2,
            "linecolor": "white",
            "showbackground": true,
            "showgrid": true,
            "ticks": "",
            "zerolinecolor": "white"
           }
          },
          "shapedefaults": {
           "fillcolor": "rgb(67,103,167)",
           "line": {
            "width": 0
           },
           "opacity": 0.5
          },
          "ternary": {
           "aaxis": {
            "gridcolor": "white",
            "linecolor": "white",
            "showgrid": true,
            "ticks": ""
           },
           "baxis": {
            "gridcolor": "white",
            "linecolor": "white",
            "showgrid": true,
            "ticks": ""
           },
           "bgcolor": "rgb(234,234,242)",
           "caxis": {
            "gridcolor": "white",
            "linecolor": "white",
            "showgrid": true,
            "ticks": ""
           }
          },
          "xaxis": {
           "automargin": true,
           "gridcolor": "white",
           "linecolor": "white",
           "showgrid": true,
           "ticks": "",
           "title": {
            "standoff": 15
           },
           "zerolinecolor": "white"
          },
          "yaxis": {
           "automargin": true,
           "gridcolor": "white",
           "linecolor": "white",
           "showgrid": true,
           "ticks": "",
           "title": {
            "standoff": 15
           },
           "zerolinecolor": "white"
          }
         }
        },
        "xaxis": {
         "anchor": "y",
         "domain": [
          0,
          0.98
         ],
         "title": {
          "text": "timestep"
         }
        },
        "yaxis": {
         "anchor": "x",
         "domain": [
          0,
          1
         ],
         "title": {
          "text": "value"
         }
        }
       }
      }
     },
     "metadata": {}
    }
   ],
   "source": [
    "\n",
    "\n",
    "\n",
    "import plotly.express as px\n",
    "fig = px.line(\n",
    "    simulation_result,\n",
    "    x='timestep',\n",
    "    y=['total_supply', 'circulation', 'reserve'],\n",
    "    facet_row='subset',\n",
    "    height=800,\n",
    "    template='seaborn'\n",
    ")\n",
    "\n",
    "fig.update_layout(\n",
    "    margin=dict(l=20, r=20, t=20, b=20),\n",
    ")\n",
    "\n",
    "fig.show()"
   ]
  },
  {
   "cell_type": "code",
   "execution_count": 11,
   "metadata": {},
   "outputs": [
    {
     "output_type": "display_data",
     "data": {
      "application/vnd.plotly.v1+json": {
       "config": {
        "plotlyServerURL": "https://plot.ly"
       },
       "data": [
        {
         "hovertemplate": "variable=netflow<br>subset=0<br>timestep=%{x}<br>value=%{y}<extra></extra>",
         "legendgroup": "netflow",
         "line": {
          "color": "rgb(76,114,176)",
          "dash": "solid"
         },
         "mode": "lines",
         "name": "netflow",
         "orientation": "v",
         "showlegend": true,
         "type": "scatter",
         "x": [
          0,
          1,
          2,
          3,
          4,
          5,
          6,
          7,
          8,
          9,
          10,
          11,
          12,
          13,
          14,
          15,
          16,
          17,
          18,
          19,
          20,
          21,
          22,
          23,
          24,
          25,
          26,
          27,
          28,
          29,
          30,
          31,
          32,
          33,
          34,
          35,
          36,
          37,
          38,
          39,
          40,
          41,
          42,
          43,
          44,
          45,
          46,
          47,
          48,
          49,
          50,
          51,
          52,
          53,
          54,
          55,
          56,
          57,
          58,
          59,
          60,
          61,
          62,
          63,
          64,
          65,
          66,
          67,
          68,
          69,
          70,
          71,
          72,
          73,
          74,
          75,
          76,
          77,
          78,
          79,
          80,
          81,
          82,
          83,
          84,
          85,
          86,
          87,
          88,
          89,
          90,
          91,
          92,
          93,
          94,
          95,
          96,
          97,
          98,
          99,
          100,
          101,
          102,
          103,
          104,
          105,
          106,
          107,
          108,
          109,
          110,
          111,
          112,
          113,
          114,
          115,
          116,
          117,
          118,
          119,
          120,
          121,
          122,
          123,
          124,
          125,
          126,
          127,
          128,
          129,
          130,
          131,
          132,
          133,
          134,
          135,
          136,
          137,
          138,
          139,
          140,
          141,
          142,
          143,
          144,
          145,
          146,
          147,
          148,
          149,
          150,
          151,
          152,
          153,
          154,
          155,
          156,
          157,
          158,
          159,
          160,
          161,
          162,
          163,
          164,
          165,
          166,
          167,
          168,
          169,
          170,
          171,
          172,
          173,
          174,
          175,
          176,
          177,
          178,
          179,
          180,
          181,
          182,
          183,
          184,
          185,
          186,
          187,
          188,
          189,
          190,
          191,
          192,
          193,
          194,
          195,
          196,
          197,
          198,
          199,
          200,
          201,
          202,
          203,
          204,
          205,
          206,
          207,
          208,
          209,
          210,
          211,
          212,
          213,
          214,
          215,
          216,
          217,
          218,
          219,
          220,
          221,
          222,
          223,
          224,
          225,
          226,
          227,
          228,
          229,
          230,
          231,
          232,
          233,
          234,
          235,
          236,
          237,
          238,
          239,
          240
         ],
         "xaxis": "x",
         "y": [
          0,
          -373.65000000000003,
          -312.87047810583607,
          -247.66479898956135,
          -216.92606373143872,
          -196.337015492433,
          -159.47642839386026,
          -140.97528585847334,
          -101.75984964293198,
          -17.171286124868345,
          -9.087044678120549,
          179.3102385863469,
          491.12491197926977,
          285.9782753602783,
          268.3436998537095,
          284.9583536346191,
          294.40049485775756,
          283.9650904288226,
          130.82888922019418,
          133.3479033177972,
          174.97770023878803,
          85.34112306240138,
          144.14499425501856,
          175.76270793689383,
          248.5481028954214,
          218.50357337290254,
          488.7659948434979,
          445.85647551370005,
          256.0306374115286,
          334.33834569743476,
          338.0418823012758,
          290.81442502947414,
          810.1382141110114,
          840.9908841821835,
          1796.775631744477,
          1180.2869326988214,
          2573.0352292832918,
          1701.0437202655694,
          1286.511252066392,
          1108.6746015832798,
          1523.8655802219957,
          1211.4105253967764,
          -217.0972731260931,
          -61.41128618760354,
          22.48729624128066,
          28.885013336791303,
          24.943407991294748,
          13.394656540596998,
          15.056759728910947,
          16.120419720240307,
          8.190994922654227,
          3.365671201448322,
          7.3647345546690985,
          9.332823502902556,
          8.980116578183356,
          9.993818756786482,
          10.675467680328211,
          14.01971933068478,
          8.310268502740655,
          8.786324572692024,
          17.323803527699738,
          18.918215875859573,
          18.99901536230965,
          18.718447415032756,
          15.601781742384617,
          11.101500046295484,
          9.395422814289248,
          10.918143011928123,
          13.181276411716908,
          11.041799421613518,
          10.37273138392527,
          10.21532603405484,
          9.655497790904406,
          8.440463188633032,
          8.343793044933534,
          8.865161177269329,
          8.931372483325447,
          12.03639438330157,
          11.777071720003619,
          9.771830904183219,
          8.237065107492754,
          7.426397540908397,
          7.665303279902105,
          4.473600961988552,
          3.5912806657177043,
          3.2167425895700603,
          2.372361943327917,
          1.5849120956966658,
          1.795387914504488,
          1.222151098610766,
          1.840555113042285,
          2.9442312384525735,
          4.9429280090540715,
          6.674092574657607,
          5.637465331491512,
          3.972067771882564,
          2.8398369885616717,
          -0.5263340857267735,
          -2.1156271808956717,
          -2.745731207656263,
          -0.8815118109466198,
          1.3730320979709063,
          3.0846204284833902,
          4.454346746605722,
          1.7215334551326578,
          2.07506503229979,
          5.860498823634714,
          3.5023553168230706,
          2.9013810055050158,
          9.00196960752777,
          8.986556783104163,
          5.675825847886756,
          5.303529465528584,
          7.861641832746557,
          5.165531484531584,
          1.1380441130237386,
          0.058246023494859855,
          -3.440276908752537,
          -7.492174533732509,
          -9.418314508312733,
          -10.285618740763596,
          -8.524752661432672,
          -9.286696540864455,
          -12.367859055775682,
          -14.57154965783991,
          -14.970616966224895,
          -12.69772683399583,
          -8.898132894408718,
          -5.48488590361552,
          -2.188292392570702,
          0.33739312272052757,
          3.1573118147213677,
          6.087130806854077,
          13.338890266986652,
          11.88181603528659,
          5.565408421398786,
          7.845733977100565,
          4.188958251579436,
          4.801782074047253,
          3.764853590692269,
          2.9862045474597494,
          1.4394971174936586,
          6.529983069508944,
          3.206237462467186,
          4.905013148405374,
          8.095470264963978,
          11.998977063332234,
          9.611329940081475,
          6.238738122326595,
          5.265051031732696,
          0.4851166291792879,
          0.053219926398753614,
          1.7477342048213131,
          3.285553363183624,
          6.221445146520466,
          10.232905343857624,
          11.549997944033692,
          15.81252769668572,
          12.669205262926369,
          6.362102250048736,
          4.324322643251662,
          4.647724403480765,
          10.5053028422696,
          18.579939514516695,
          23.66815921169001,
          23.25797812421112,
          13.798163491092595,
          7.420656806916213,
          2.9272773462185455,
          3.7296037237358632,
          1.68999006152697,
          4.334421911860403,
          4.600941910147014,
          0.8749125589476705,
          -0.5042857522048507,
          -0.0728318943412205,
          -0.5750756701283422,
          2.302739387277029,
          7.549632312099078,
          8.34781120046253,
          6.422066070867118,
          6.9914611206018265,
          9.182492626606432,
          6.372124367576788,
          4.070896131522687,
          3.766138999541937,
          6.19784109012673,
          9.93632292325944,
          11.196166366305278,
          11.729975808224907,
          5.141588517744168,
          1.1176990632635864,
          -0.09551339673174652,
          -1.4372259576358886,
          -2.1628159468154706,
          -1.018190265465222,
          0.7635976472026016,
          2.477482639332976,
          3.6455905849982173,
          6.438526379359729,
          7.3242284045659005,
          9.043731242418914,
          8.875381621512872,
          7.978159969248509,
          7.394465806435676,
          5.53396058891289,
          5.116188315834023,
          5.28899800918208,
          6.305478190228712,
          91.43729686026177,
          -38.71660960942589,
          -15.53187857590099,
          -5.733133397716841,
          -1.2468816727586187,
          0.7847619097617553,
          1.0884325167183846,
          1.3062285885292937,
          1.4915531572635388,
          1.6624916773332643,
          105.77788009974245,
          -52.199220558868035,
          -23.440526095533215,
          -10.052933566102126,
          84.28470582614584,
          -46.679382819053814,
          -20.808305257936354,
          61.798854009991445,
          -39.99536940144212,
          9.698201375319314,
          -11.350148498171961,
          -22.539223274149265,
          -24.820612552274923,
          -37.13605573772517,
          -49.68530277871896,
          -50.165321893885434,
          -47.226645075025935,
          -58.338236052981884,
          -53.33958612315107,
          -53.28102864362198,
          -3.800077223165289,
          -13.729082914270933
         ],
         "yaxis": "y"
        },
        {
         "hovertemplate": "variable=adjustment<br>subset=0<br>timestep=%{x}<br>value=%{y}<extra></extra>",
         "legendgroup": "adjustment",
         "line": {
          "color": "rgb(221,132,82)",
          "dash": "solid"
         },
         "mode": "lines",
         "name": "adjustment",
         "orientation": "v",
         "showlegend": true,
         "type": "scatter",
         "x": [
          0,
          1,
          2,
          3,
          4,
          5,
          6,
          7,
          8,
          9,
          10,
          11,
          12,
          13,
          14,
          15,
          16,
          17,
          18,
          19,
          20,
          21,
          22,
          23,
          24,
          25,
          26,
          27,
          28,
          29,
          30,
          31,
          32,
          33,
          34,
          35,
          36,
          37,
          38,
          39,
          40,
          41,
          42,
          43,
          44,
          45,
          46,
          47,
          48,
          49,
          50,
          51,
          52,
          53,
          54,
          55,
          56,
          57,
          58,
          59,
          60,
          61,
          62,
          63,
          64,
          65,
          66,
          67,
          68,
          69,
          70,
          71,
          72,
          73,
          74,
          75,
          76,
          77,
          78,
          79,
          80,
          81,
          82,
          83,
          84,
          85,
          86,
          87,
          88,
          89,
          90,
          91,
          92,
          93,
          94,
          95,
          96,
          97,
          98,
          99,
          100,
          101,
          102,
          103,
          104,
          105,
          106,
          107,
          108,
          109,
          110,
          111,
          112,
          113,
          114,
          115,
          116,
          117,
          118,
          119,
          120,
          121,
          122,
          123,
          124,
          125,
          126,
          127,
          128,
          129,
          130,
          131,
          132,
          133,
          134,
          135,
          136,
          137,
          138,
          139,
          140,
          141,
          142,
          143,
          144,
          145,
          146,
          147,
          148,
          149,
          150,
          151,
          152,
          153,
          154,
          155,
          156,
          157,
          158,
          159,
          160,
          161,
          162,
          163,
          164,
          165,
          166,
          167,
          168,
          169,
          170,
          171,
          172,
          173,
          174,
          175,
          176,
          177,
          178,
          179,
          180,
          181,
          182,
          183,
          184,
          185,
          186,
          187,
          188,
          189,
          190,
          191,
          192,
          193,
          194,
          195,
          196,
          197,
          198,
          199,
          200,
          201,
          202,
          203,
          204,
          205,
          206,
          207,
          208,
          209,
          210,
          211,
          212,
          213,
          214,
          215,
          216,
          217,
          218,
          219,
          220,
          221,
          222,
          223,
          224,
          225,
          226,
          227,
          228,
          229,
          230,
          231,
          232,
          233,
          234,
          235,
          236,
          237,
          238,
          239,
          240
         ],
         "xaxis": "x",
         "y": [
          0,
          -209.904,
          -208.224768,
          -206.558969856,
          -204.90649809715205,
          -89.28177288258665,
          6.9273299090506315,
          63.35792238039748,
          84.63855227148682,
          63.58040406635248,
          46.17320466011867,
          -43.93046297089836,
          -204.31896753184614,
          -202.6844157915914,
          -201.06294046525866,
          -199.45443694153658,
          -197.85880144600432,
          -196.27593103443627,
          -194.70572358616081,
          -193.14807779747153,
          -191.60289317509174,
          -190.070070029691,
          -188.5495094694535,
          -187.04111339369788,
          -185.5447844865483,
          -184.06042621065592,
          -182.58794280097067,
          -181.12723925856292,
          -179.6782213444944,
          -178.24079557373847,
          -176.81486920914855,
          -175.4003502554754,
          -173.99714745343158,
          -172.6051702738041,
          -171.22432891161367,
          -169.8545342803208,
          -168.4956980060782,
          -167.14773242202958,
          -165.81055056265333,
          -164.48406615815213,
          -163.16819362888688,
          -161.86284807985578,
          -160.56794529521696,
          -159.28340173285525,
          -158.0091345189924,
          -156.74506144284044,
          -155.4911009512977,
          -154.24717214368732,
          -153.01319476653782,
          -151.78908920840547,
          -150.57477649473822,
          -149.37017828278033,
          -148.1752168565181,
          -146.98981512166594,
          -145.81389660069263,
          -144.6473854278871,
          -143.49020634446399,
          -142.34228469370828,
          -141.2035464161586,
          -140.0739180448293,
          -138.95332670047068,
          -137.84170008686692,
          -136.73896648617196,
          -135.64505475428263,
          -134.55989431624835,
          -133.4834151617184,
          -132.4155478404246,
          -131.35622345770122,
          -130.3053736700396,
          -129.2629306806793,
          -128.22882723523384,
          -127.20299661735196,
          -126.18537264441314,
          -125.17588966325783,
          -124.17448254595176,
          -123.18108668558415,
          -122.19563799209945,
          -121.21807288816265,
          -120.24832830505737,
          -119.28634167861689,
          -118.33205094518796,
          -117.38539453762647,
          -116.44631138132544,
          -115.51474089027485,
          -114.59062296315265,
          -113.67389797944743,
          -112.76450679561185,
          -111.86239074124694,
          -110.96749161531696,
          -110.07975168239443,
          -109.19911366893527,
          -108.32552075958378,
          -107.45891659350713,
          -106.59924526075908,
          -105.74645129867301,
          -104.90047968828362,
          -104.06127585077736,
          -103.22878564397114,
          -102.40295535881937,
          -101.5837317159488,
          -100.7710618622212,
          -99.96489336732344,
          -99.16517422038484,
          -98.37185282662178,
          -97.5848780040088,
          -96.80419897997673,
          -96.02976538813694,
          -95.26152726503183,
          -94.49943504691159,
          -93.74343956653628,
          -92.993492050004,
          -92.24954411360397,
          -91.51154776069515,
          -90.7794553786096,
          -90.05321973558071,
          -89.33279397769607,
          -88.61813162587451,
          -87.90918657286751,
          -87.20591308028456,
          -86.50826577564229,
          -85.81619964943714,
          -85.12967005224165,
          -84.44863269182372,
          -83.77304363028914,
          -83.10285928124681,
          -82.43803640699683,
          -81.77853211574086,
          -81.12430385881494,
          -80.47530942794442,
          -79.83150695252087,
          -79.1928548969007,
          -78.55931205772548,
          -77.93083756126369,
          -77.30739086077358,
          -76.68893173388739,
          -76.07542028001627,
          -75.46681691777614,
          -74.86308238243393,
          -74.26417772337449,
          -73.67006430158749,
          -73.08070378717477,
          -72.49605815687738,
          -71.91608969162236,
          -71.34076097408938,
          -70.77003488629667,
          -70.20387460720629,
          -69.64224361034864,
          -69.08510566146585,
          -68.53242481617413,
          -67.98416541764473,
          -67.44029209430357,
          -66.90076975754914,
          -66.36556359948875,
          -65.83463909069285,
          -65.30796197796731,
          -64.78549828214356,
          -64.26721429588642,
          -63.75307658151932,
          -63.24305196886717,
          -62.73710755311623,
          -62.2352106926913,
          -61.73732900714977,
          -61.24343037509257,
          -60.75348293209183,
          -60.267455068635094,
          -59.785315428086015,
          -59.307032904661334,
          -58.83257664142404,
          -58.36191602829266,
          -57.89502070006632,
          -57.431860534465784,
          -56.97240565019006,
          -56.51662640498854,
          -56.064493393748634,
          -55.61597744659865,
          -55.17104962702586,
          -54.72968123000965,
          -54.29184378016958,
          -53.85750902992821,
          -53.42664895768878,
          -52.999235766027276,
          -52.57524187989905,
          -52.15463994485986,
          -51.73740282530098,
          -51.32350360269858,
          -50.91291557387699,
          -50.50561224928597,
          -50.10156735129168,
          -49.70075481248134,
          -49.30314877398148,
          -48.90872358378963,
          -48.517453795119316,
          -48.129314164758355,
          -47.74427965144029,
          -47.36232541422876,
          -46.98342681091494,
          -46.60755939642762,
          -46.234698921256204,
          -45.86482132988615,
          -45.49790275924706,
          -45.13391953717308,
          -44.7728481808757,
          -44.4146653954287,
          -44.059348072265266,
          -43.706873287687145,
          -43.35721830138565,
          -43.01036055497456,
          -42.66627767053477,
          -42.32494744917049,
          -41.98634786957713,
          -41.65045708662051,
          -41.31725342992755,
          -40.986715402488116,
          -40.658821679268215,
          -40.333551105834076,
          -40.0108826969874,
          -39.690795635411504,
          -39.37326927032821,
          -39.05828311616558,
          -38.745816851236256,
          -38.43585031642637,
          -38.128363513894946,
          -37.82333660578379,
          -37.52074991293752,
          -37.220583913634016,
          -36.92281924232495,
          -36.62743668838635,
          -36.33441719487926,
          -36.04374185732022,
          -35.75539192246166,
          -35.46934878708197,
          -35.185593996785315,
          -34.90410924481103,
          -34.62487637085255,
          -34.34787735988572,
          -34.07309434100664,
          -33.80050958627858,
          -33.53010550958836,
          -33.261864665511645,
          -32.995769748187556,
          -32.731803590202055
         ],
         "yaxis": "y"
        }
       ],
       "layout": {
        "annotations": [
         {
          "font": {},
          "showarrow": false,
          "text": "subset=0",
          "textangle": 90,
          "x": 0.98,
          "xanchor": "left",
          "xref": "paper",
          "y": 0.5,
          "yanchor": "middle",
          "yref": "paper"
         }
        ],
        "height": 800,
        "legend": {
         "title": {
          "text": "variable"
         },
         "tracegroupgap": 0
        },
        "margin": {
         "b": 20,
         "l": 20,
         "r": 20,
         "t": 20
        },
        "template": {
         "data": {
          "bar": [
           {
            "error_x": {
             "color": "rgb(36,36,36)"
            },
            "error_y": {
             "color": "rgb(36,36,36)"
            },
            "marker": {
             "line": {
              "color": "rgb(234,234,242)",
              "width": 0.5
             }
            },
            "type": "bar"
           }
          ],
          "barpolar": [
           {
            "marker": {
             "line": {
              "color": "rgb(234,234,242)",
              "width": 0.5
             }
            },
            "type": "barpolar"
           }
          ],
          "carpet": [
           {
            "aaxis": {
             "endlinecolor": "rgb(36,36,36)",
             "gridcolor": "white",
             "linecolor": "white",
             "minorgridcolor": "white",
             "startlinecolor": "rgb(36,36,36)"
            },
            "baxis": {
             "endlinecolor": "rgb(36,36,36)",
             "gridcolor": "white",
             "linecolor": "white",
             "minorgridcolor": "white",
             "startlinecolor": "rgb(36,36,36)"
            },
            "type": "carpet"
           }
          ],
          "choropleth": [
           {
            "colorbar": {
             "outlinewidth": 0,
             "tickcolor": "rgb(36,36,36)",
             "ticklen": 8,
             "ticks": "outside",
             "tickwidth": 2
            },
            "type": "choropleth"
           }
          ],
          "contour": [
           {
            "colorbar": {
             "outlinewidth": 0,
             "tickcolor": "rgb(36,36,36)",
             "ticklen": 8,
             "ticks": "outside",
             "tickwidth": 2
            },
            "colorscale": [
             [
              0,
              "rgb(2,4,25)"
             ],
             [
              0.06274509803921569,
              "rgb(24,15,41)"
             ],
             [
              0.12549019607843137,
              "rgb(47,23,57)"
             ],
             [
              0.18823529411764706,
              "rgb(71,28,72)"
             ],
             [
              0.25098039215686274,
              "rgb(97,30,82)"
             ],
             [
              0.3137254901960784,
              "rgb(123,30,89)"
             ],
             [
              0.3764705882352941,
              "rgb(150,27,91)"
             ],
             [
              0.4392156862745098,
              "rgb(177,22,88)"
             ],
             [
              0.5019607843137255,
              "rgb(203,26,79)"
             ],
             [
              0.5647058823529412,
              "rgb(223,47,67)"
             ],
             [
              0.6274509803921569,
              "rgb(236,76,61)"
             ],
             [
              0.6901960784313725,
              "rgb(242,107,73)"
             ],
             [
              0.7529411764705882,
              "rgb(244,135,95)"
             ],
             [
              0.8156862745098039,
              "rgb(245,162,122)"
             ],
             [
              0.8784313725490196,
              "rgb(246,188,153)"
             ],
             [
              0.9411764705882353,
              "rgb(247,212,187)"
             ],
             [
              1,
              "rgb(250,234,220)"
             ]
            ],
            "type": "contour"
           }
          ],
          "contourcarpet": [
           {
            "colorbar": {
             "outlinewidth": 0,
             "tickcolor": "rgb(36,36,36)",
             "ticklen": 8,
             "ticks": "outside",
             "tickwidth": 2
            },
            "type": "contourcarpet"
           }
          ],
          "heatmap": [
           {
            "colorbar": {
             "outlinewidth": 0,
             "tickcolor": "rgb(36,36,36)",
             "ticklen": 8,
             "ticks": "outside",
             "tickwidth": 2
            },
            "colorscale": [
             [
              0,
              "rgb(2,4,25)"
             ],
             [
              0.06274509803921569,
              "rgb(24,15,41)"
             ],
             [
              0.12549019607843137,
              "rgb(47,23,57)"
             ],
             [
              0.18823529411764706,
              "rgb(71,28,72)"
             ],
             [
              0.25098039215686274,
              "rgb(97,30,82)"
             ],
             [
              0.3137254901960784,
              "rgb(123,30,89)"
             ],
             [
              0.3764705882352941,
              "rgb(150,27,91)"
             ],
             [
              0.4392156862745098,
              "rgb(177,22,88)"
             ],
             [
              0.5019607843137255,
              "rgb(203,26,79)"
             ],
             [
              0.5647058823529412,
              "rgb(223,47,67)"
             ],
             [
              0.6274509803921569,
              "rgb(236,76,61)"
             ],
             [
              0.6901960784313725,
              "rgb(242,107,73)"
             ],
             [
              0.7529411764705882,
              "rgb(244,135,95)"
             ],
             [
              0.8156862745098039,
              "rgb(245,162,122)"
             ],
             [
              0.8784313725490196,
              "rgb(246,188,153)"
             ],
             [
              0.9411764705882353,
              "rgb(247,212,187)"
             ],
             [
              1,
              "rgb(250,234,220)"
             ]
            ],
            "type": "heatmap"
           }
          ],
          "heatmapgl": [
           {
            "colorbar": {
             "outlinewidth": 0,
             "tickcolor": "rgb(36,36,36)",
             "ticklen": 8,
             "ticks": "outside",
             "tickwidth": 2
            },
            "colorscale": [
             [
              0,
              "rgb(2,4,25)"
             ],
             [
              0.06274509803921569,
              "rgb(24,15,41)"
             ],
             [
              0.12549019607843137,
              "rgb(47,23,57)"
             ],
             [
              0.18823529411764706,
              "rgb(71,28,72)"
             ],
             [
              0.25098039215686274,
              "rgb(97,30,82)"
             ],
             [
              0.3137254901960784,
              "rgb(123,30,89)"
             ],
             [
              0.3764705882352941,
              "rgb(150,27,91)"
             ],
             [
              0.4392156862745098,
              "rgb(177,22,88)"
             ],
             [
              0.5019607843137255,
              "rgb(203,26,79)"
             ],
             [
              0.5647058823529412,
              "rgb(223,47,67)"
             ],
             [
              0.6274509803921569,
              "rgb(236,76,61)"
             ],
             [
              0.6901960784313725,
              "rgb(242,107,73)"
             ],
             [
              0.7529411764705882,
              "rgb(244,135,95)"
             ],
             [
              0.8156862745098039,
              "rgb(245,162,122)"
             ],
             [
              0.8784313725490196,
              "rgb(246,188,153)"
             ],
             [
              0.9411764705882353,
              "rgb(247,212,187)"
             ],
             [
              1,
              "rgb(250,234,220)"
             ]
            ],
            "type": "heatmapgl"
           }
          ],
          "histogram": [
           {
            "marker": {
             "colorbar": {
              "outlinewidth": 0,
              "tickcolor": "rgb(36,36,36)",
              "ticklen": 8,
              "ticks": "outside",
              "tickwidth": 2
             }
            },
            "type": "histogram"
           }
          ],
          "histogram2d": [
           {
            "colorbar": {
             "outlinewidth": 0,
             "tickcolor": "rgb(36,36,36)",
             "ticklen": 8,
             "ticks": "outside",
             "tickwidth": 2
            },
            "colorscale": [
             [
              0,
              "rgb(2,4,25)"
             ],
             [
              0.06274509803921569,
              "rgb(24,15,41)"
             ],
             [
              0.12549019607843137,
              "rgb(47,23,57)"
             ],
             [
              0.18823529411764706,
              "rgb(71,28,72)"
             ],
             [
              0.25098039215686274,
              "rgb(97,30,82)"
             ],
             [
              0.3137254901960784,
              "rgb(123,30,89)"
             ],
             [
              0.3764705882352941,
              "rgb(150,27,91)"
             ],
             [
              0.4392156862745098,
              "rgb(177,22,88)"
             ],
             [
              0.5019607843137255,
              "rgb(203,26,79)"
             ],
             [
              0.5647058823529412,
              "rgb(223,47,67)"
             ],
             [
              0.6274509803921569,
              "rgb(236,76,61)"
             ],
             [
              0.6901960784313725,
              "rgb(242,107,73)"
             ],
             [
              0.7529411764705882,
              "rgb(244,135,95)"
             ],
             [
              0.8156862745098039,
              "rgb(245,162,122)"
             ],
             [
              0.8784313725490196,
              "rgb(246,188,153)"
             ],
             [
              0.9411764705882353,
              "rgb(247,212,187)"
             ],
             [
              1,
              "rgb(250,234,220)"
             ]
            ],
            "type": "histogram2d"
           }
          ],
          "histogram2dcontour": [
           {
            "colorbar": {
             "outlinewidth": 0,
             "tickcolor": "rgb(36,36,36)",
             "ticklen": 8,
             "ticks": "outside",
             "tickwidth": 2
            },
            "colorscale": [
             [
              0,
              "rgb(2,4,25)"
             ],
             [
              0.06274509803921569,
              "rgb(24,15,41)"
             ],
             [
              0.12549019607843137,
              "rgb(47,23,57)"
             ],
             [
              0.18823529411764706,
              "rgb(71,28,72)"
             ],
             [
              0.25098039215686274,
              "rgb(97,30,82)"
             ],
             [
              0.3137254901960784,
              "rgb(123,30,89)"
             ],
             [
              0.3764705882352941,
              "rgb(150,27,91)"
             ],
             [
              0.4392156862745098,
              "rgb(177,22,88)"
             ],
             [
              0.5019607843137255,
              "rgb(203,26,79)"
             ],
             [
              0.5647058823529412,
              "rgb(223,47,67)"
             ],
             [
              0.6274509803921569,
              "rgb(236,76,61)"
             ],
             [
              0.6901960784313725,
              "rgb(242,107,73)"
             ],
             [
              0.7529411764705882,
              "rgb(244,135,95)"
             ],
             [
              0.8156862745098039,
              "rgb(245,162,122)"
             ],
             [
              0.8784313725490196,
              "rgb(246,188,153)"
             ],
             [
              0.9411764705882353,
              "rgb(247,212,187)"
             ],
             [
              1,
              "rgb(250,234,220)"
             ]
            ],
            "type": "histogram2dcontour"
           }
          ],
          "mesh3d": [
           {
            "colorbar": {
             "outlinewidth": 0,
             "tickcolor": "rgb(36,36,36)",
             "ticklen": 8,
             "ticks": "outside",
             "tickwidth": 2
            },
            "type": "mesh3d"
           }
          ],
          "parcoords": [
           {
            "line": {
             "colorbar": {
              "outlinewidth": 0,
              "tickcolor": "rgb(36,36,36)",
              "ticklen": 8,
              "ticks": "outside",
              "tickwidth": 2
             }
            },
            "type": "parcoords"
           }
          ],
          "pie": [
           {
            "automargin": true,
            "type": "pie"
           }
          ],
          "scatter": [
           {
            "marker": {
             "colorbar": {
              "outlinewidth": 0,
              "tickcolor": "rgb(36,36,36)",
              "ticklen": 8,
              "ticks": "outside",
              "tickwidth": 2
             }
            },
            "type": "scatter"
           }
          ],
          "scatter3d": [
           {
            "line": {
             "colorbar": {
              "outlinewidth": 0,
              "tickcolor": "rgb(36,36,36)",
              "ticklen": 8,
              "ticks": "outside",
              "tickwidth": 2
             }
            },
            "marker": {
             "colorbar": {
              "outlinewidth": 0,
              "tickcolor": "rgb(36,36,36)",
              "ticklen": 8,
              "ticks": "outside",
              "tickwidth": 2
             }
            },
            "type": "scatter3d"
           }
          ],
          "scattercarpet": [
           {
            "marker": {
             "colorbar": {
              "outlinewidth": 0,
              "tickcolor": "rgb(36,36,36)",
              "ticklen": 8,
              "ticks": "outside",
              "tickwidth": 2
             }
            },
            "type": "scattercarpet"
           }
          ],
          "scattergeo": [
           {
            "marker": {
             "colorbar": {
              "outlinewidth": 0,
              "tickcolor": "rgb(36,36,36)",
              "ticklen": 8,
              "ticks": "outside",
              "tickwidth": 2
             }
            },
            "type": "scattergeo"
           }
          ],
          "scattergl": [
           {
            "marker": {
             "colorbar": {
              "outlinewidth": 0,
              "tickcolor": "rgb(36,36,36)",
              "ticklen": 8,
              "ticks": "outside",
              "tickwidth": 2
             }
            },
            "type": "scattergl"
           }
          ],
          "scattermapbox": [
           {
            "marker": {
             "colorbar": {
              "outlinewidth": 0,
              "tickcolor": "rgb(36,36,36)",
              "ticklen": 8,
              "ticks": "outside",
              "tickwidth": 2
             }
            },
            "type": "scattermapbox"
           }
          ],
          "scatterpolar": [
           {
            "marker": {
             "colorbar": {
              "outlinewidth": 0,
              "tickcolor": "rgb(36,36,36)",
              "ticklen": 8,
              "ticks": "outside",
              "tickwidth": 2
             }
            },
            "type": "scatterpolar"
           }
          ],
          "scatterpolargl": [
           {
            "marker": {
             "colorbar": {
              "outlinewidth": 0,
              "tickcolor": "rgb(36,36,36)",
              "ticklen": 8,
              "ticks": "outside",
              "tickwidth": 2
             }
            },
            "type": "scatterpolargl"
           }
          ],
          "scatterternary": [
           {
            "marker": {
             "colorbar": {
              "outlinewidth": 0,
              "tickcolor": "rgb(36,36,36)",
              "ticklen": 8,
              "ticks": "outside",
              "tickwidth": 2
             }
            },
            "type": "scatterternary"
           }
          ],
          "surface": [
           {
            "colorbar": {
             "outlinewidth": 0,
             "tickcolor": "rgb(36,36,36)",
             "ticklen": 8,
             "ticks": "outside",
             "tickwidth": 2
            },
            "colorscale": [
             [
              0,
              "rgb(2,4,25)"
             ],
             [
              0.06274509803921569,
              "rgb(24,15,41)"
             ],
             [
              0.12549019607843137,
              "rgb(47,23,57)"
             ],
             [
              0.18823529411764706,
              "rgb(71,28,72)"
             ],
             [
              0.25098039215686274,
              "rgb(97,30,82)"
             ],
             [
              0.3137254901960784,
              "rgb(123,30,89)"
             ],
             [
              0.3764705882352941,
              "rgb(150,27,91)"
             ],
             [
              0.4392156862745098,
              "rgb(177,22,88)"
             ],
             [
              0.5019607843137255,
              "rgb(203,26,79)"
             ],
             [
              0.5647058823529412,
              "rgb(223,47,67)"
             ],
             [
              0.6274509803921569,
              "rgb(236,76,61)"
             ],
             [
              0.6901960784313725,
              "rgb(242,107,73)"
             ],
             [
              0.7529411764705882,
              "rgb(244,135,95)"
             ],
             [
              0.8156862745098039,
              "rgb(245,162,122)"
             ],
             [
              0.8784313725490196,
              "rgb(246,188,153)"
             ],
             [
              0.9411764705882353,
              "rgb(247,212,187)"
             ],
             [
              1,
              "rgb(250,234,220)"
             ]
            ],
            "type": "surface"
           }
          ],
          "table": [
           {
            "cells": {
             "fill": {
              "color": "rgb(231,231,240)"
             },
             "line": {
              "color": "white"
             }
            },
            "header": {
             "fill": {
              "color": "rgb(183,183,191)"
             },
             "line": {
              "color": "white"
             }
            },
            "type": "table"
           }
          ]
         },
         "layout": {
          "annotationdefaults": {
           "arrowcolor": "rgb(67,103,167)"
          },
          "coloraxis": {
           "colorbar": {
            "outlinewidth": 0,
            "tickcolor": "rgb(36,36,36)",
            "ticklen": 8,
            "ticks": "outside",
            "tickwidth": 2
           }
          },
          "colorscale": {
           "sequential": [
            [
             0,
             "rgb(2,4,25)"
            ],
            [
             0.06274509803921569,
             "rgb(24,15,41)"
            ],
            [
             0.12549019607843137,
             "rgb(47,23,57)"
            ],
            [
             0.18823529411764706,
             "rgb(71,28,72)"
            ],
            [
             0.25098039215686274,
             "rgb(97,30,82)"
            ],
            [
             0.3137254901960784,
             "rgb(123,30,89)"
            ],
            [
             0.3764705882352941,
             "rgb(150,27,91)"
            ],
            [
             0.4392156862745098,
             "rgb(177,22,88)"
            ],
            [
             0.5019607843137255,
             "rgb(203,26,79)"
            ],
            [
             0.5647058823529412,
             "rgb(223,47,67)"
            ],
            [
             0.6274509803921569,
             "rgb(236,76,61)"
            ],
            [
             0.6901960784313725,
             "rgb(242,107,73)"
            ],
            [
             0.7529411764705882,
             "rgb(244,135,95)"
            ],
            [
             0.8156862745098039,
             "rgb(245,162,122)"
            ],
            [
             0.8784313725490196,
             "rgb(246,188,153)"
            ],
            [
             0.9411764705882353,
             "rgb(247,212,187)"
            ],
            [
             1,
             "rgb(250,234,220)"
            ]
           ],
           "sequentialminus": [
            [
             0,
             "rgb(2,4,25)"
            ],
            [
             0.06274509803921569,
             "rgb(24,15,41)"
            ],
            [
             0.12549019607843137,
             "rgb(47,23,57)"
            ],
            [
             0.18823529411764706,
             "rgb(71,28,72)"
            ],
            [
             0.25098039215686274,
             "rgb(97,30,82)"
            ],
            [
             0.3137254901960784,
             "rgb(123,30,89)"
            ],
            [
             0.3764705882352941,
             "rgb(150,27,91)"
            ],
            [
             0.4392156862745098,
             "rgb(177,22,88)"
            ],
            [
             0.5019607843137255,
             "rgb(203,26,79)"
            ],
            [
             0.5647058823529412,
             "rgb(223,47,67)"
            ],
            [
             0.6274509803921569,
             "rgb(236,76,61)"
            ],
            [
             0.6901960784313725,
             "rgb(242,107,73)"
            ],
            [
             0.7529411764705882,
             "rgb(244,135,95)"
            ],
            [
             0.8156862745098039,
             "rgb(245,162,122)"
            ],
            [
             0.8784313725490196,
             "rgb(246,188,153)"
            ],
            [
             0.9411764705882353,
             "rgb(247,212,187)"
            ],
            [
             1,
             "rgb(250,234,220)"
            ]
           ]
          },
          "colorway": [
           "rgb(76,114,176)",
           "rgb(221,132,82)",
           "rgb(85,168,104)",
           "rgb(196,78,82)",
           "rgb(129,114,179)",
           "rgb(147,120,96)",
           "rgb(218,139,195)",
           "rgb(140,140,140)",
           "rgb(204,185,116)",
           "rgb(100,181,205)"
          ],
          "font": {
           "color": "rgb(36,36,36)"
          },
          "geo": {
           "bgcolor": "white",
           "lakecolor": "white",
           "landcolor": "rgb(234,234,242)",
           "showlakes": true,
           "showland": true,
           "subunitcolor": "white"
          },
          "hoverlabel": {
           "align": "left"
          },
          "hovermode": "closest",
          "paper_bgcolor": "white",
          "plot_bgcolor": "rgb(234,234,242)",
          "polar": {
           "angularaxis": {
            "gridcolor": "white",
            "linecolor": "white",
            "showgrid": true,
            "ticks": ""
           },
           "bgcolor": "rgb(234,234,242)",
           "radialaxis": {
            "gridcolor": "white",
            "linecolor": "white",
            "showgrid": true,
            "ticks": ""
           }
          },
          "scene": {
           "xaxis": {
            "backgroundcolor": "rgb(234,234,242)",
            "gridcolor": "white",
            "gridwidth": 2,
            "linecolor": "white",
            "showbackground": true,
            "showgrid": true,
            "ticks": "",
            "zerolinecolor": "white"
           },
           "yaxis": {
            "backgroundcolor": "rgb(234,234,242)",
            "gridcolor": "white",
            "gridwidth": 2,
            "linecolor": "white",
            "showbackground": true,
            "showgrid": true,
            "ticks": "",
            "zerolinecolor": "white"
           },
           "zaxis": {
            "backgroundcolor": "rgb(234,234,242)",
            "gridcolor": "white",
            "gridwidth": 2,
            "linecolor": "white",
            "showbackground": true,
            "showgrid": true,
            "ticks": "",
            "zerolinecolor": "white"
           }
          },
          "shapedefaults": {
           "fillcolor": "rgb(67,103,167)",
           "line": {
            "width": 0
           },
           "opacity": 0.5
          },
          "ternary": {
           "aaxis": {
            "gridcolor": "white",
            "linecolor": "white",
            "showgrid": true,
            "ticks": ""
           },
           "baxis": {
            "gridcolor": "white",
            "linecolor": "white",
            "showgrid": true,
            "ticks": ""
           },
           "bgcolor": "rgb(234,234,242)",
           "caxis": {
            "gridcolor": "white",
            "linecolor": "white",
            "showgrid": true,
            "ticks": ""
           }
          },
          "xaxis": {
           "automargin": true,
           "gridcolor": "white",
           "linecolor": "white",
           "showgrid": true,
           "ticks": "",
           "title": {
            "standoff": 15
           },
           "zerolinecolor": "white"
          },
          "yaxis": {
           "automargin": true,
           "gridcolor": "white",
           "linecolor": "white",
           "showgrid": true,
           "ticks": "",
           "title": {
            "standoff": 15
           },
           "zerolinecolor": "white"
          }
         }
        },
        "xaxis": {
         "anchor": "y",
         "domain": [
          0,
          0.98
         ],
         "title": {
          "text": "timestep"
         }
        },
        "yaxis": {
         "anchor": "x",
         "domain": [
          0,
          1
         ],
         "title": {
          "text": "value"
         }
        }
       }
      }
     },
     "metadata": {}
    }
   ],
   "source": [
    "fig = px.line(\n",
    "    simulation_result,\n",
    "    x='timestep',\n",
    "    y=['netflow', 'adjustment'],\n",
    "    facet_row='subset',\n",
    "    height=800,\n",
    "    template='seaborn'\n",
    ")\n",
    "\n",
    "fig.update_layout(\n",
    "    margin=dict(l=20, r=20, t=20, b=20),\n",
    ")\n",
    "\n",
    "fig.show()"
   ]
  },
  {
   "cell_type": "code",
   "execution_count": 12,
   "metadata": {},
   "outputs": [
    {
     "output_type": "display_data",
     "data": {
      "application/vnd.plotly.v1+json": {
       "config": {
        "plotlyServerURL": "https://plot.ly"
       },
       "data": [
        {
         "hovertemplate": "variable=ratio<br>subset=0<br>timestep=%{x}<br>value=%{y}<extra></extra>",
         "legendgroup": "ratio",
         "line": {
          "color": "rgb(76,114,176)",
          "dash": "solid"
         },
         "mode": "lines",
         "name": "ratio",
         "orientation": "v",
         "showlegend": true,
         "type": "scatter",
         "x": [
          0,
          1,
          2,
          3,
          4,
          5,
          6,
          7,
          8,
          9,
          10,
          11,
          12,
          13,
          14,
          15,
          16,
          17,
          18,
          19,
          20,
          21,
          22,
          23,
          24,
          25,
          26,
          27,
          28,
          29,
          30,
          31,
          32,
          33,
          34,
          35,
          36,
          37,
          38,
          39,
          40,
          41,
          42,
          43,
          44,
          45,
          46,
          47,
          48,
          49,
          50,
          51,
          52,
          53,
          54,
          55,
          56,
          57,
          58,
          59,
          60,
          61,
          62,
          63,
          64,
          65,
          66,
          67,
          68,
          69,
          70,
          71,
          72,
          73,
          74,
          75,
          76,
          77,
          78,
          79,
          80,
          81,
          82,
          83,
          84,
          85,
          86,
          87,
          88,
          89,
          90,
          91,
          92,
          93,
          94,
          95,
          96,
          97,
          98,
          99,
          100,
          101,
          102,
          103,
          104,
          105,
          106,
          107,
          108,
          109,
          110,
          111,
          112,
          113,
          114,
          115,
          116,
          117,
          118,
          119,
          120,
          121,
          122,
          123,
          124,
          125,
          126,
          127,
          128,
          129,
          130,
          131,
          132,
          133,
          134,
          135,
          136,
          137,
          138,
          139,
          140,
          141,
          142,
          143,
          144,
          145,
          146,
          147,
          148,
          149,
          150,
          151,
          152,
          153,
          154,
          155,
          156,
          157,
          158,
          159,
          160,
          161,
          162,
          163,
          164,
          165,
          166,
          167,
          168,
          169,
          170,
          171,
          172,
          173,
          174,
          175,
          176,
          177,
          178,
          179,
          180,
          181,
          182,
          183,
          184,
          185,
          186,
          187,
          188,
          189,
          190,
          191,
          192,
          193,
          194,
          195,
          196,
          197,
          198,
          199,
          200,
          201,
          202,
          203,
          204,
          205,
          206,
          207,
          208,
          209,
          210,
          211,
          212,
          213,
          214,
          215,
          216,
          217,
          218,
          219,
          220,
          221,
          222,
          223,
          224,
          225,
          226,
          227,
          228,
          229,
          230,
          231,
          232,
          233,
          234,
          235,
          236,
          237,
          238,
          239,
          240
         ],
         "xaxis": "x",
         "y": [
          0.28481591584724447,
          0.2646926613456474,
          0.2466453336142712,
          0.23090051472138465,
          0.21616052869368385,
          0.20564201339122118,
          0.19956235862772426,
          0.1960072849731715,
          0.19468393540279438,
          0.19601651939991066,
          0.19711234752458112,
          0.20275211808683333,
          0.21570751168620395,
          0.2207612291047497,
          0.22524015323259788,
          0.23051377517630744,
          0.23630769486623582,
          0.24181634329199325,
          0.24112076056761536,
          0.24056844477155329,
          0.24180876281148267,
          0.239315270734997,
          0.23934599175362933,
          0.24078991853043583,
          0.24547014813398552,
          0.24895885548358634,
          0.26448981322342774,
          0.278409610229294,
          0.284081782381868,
          0.29343540807853535,
          0.30315537755784205,
          0.31090666022640867,
          0.3428981903788982,
          0.3768920378219625,
          0.4564935343020889,
          0.5081492101662936,
          0.6273329023912309,
          0.7063991984449428,
          0.7666034076635906,
          0.8190785650944614,
          0.8929359066265946,
          0.9524287686232207,
          0.9411414311827336,
          0.9375575128496356,
          0.9382016575658143,
          0.9391894145879164,
          0.9399926917125899,
          0.9402090756099721,
          0.9405204528980636,
          0.9408972529759627,
          0.9408593129797007,
          0.9405640849987442,
          0.9404855927555361,
          0.9405176781355225,
          0.9405346444953282,
          0.9406122698940207,
          0.9407333251398446,
          0.9410496665103898,
          0.9410488824872912,
          0.9410793278509034,
          0.941609592937036,
          0.9422455247815926,
          0.9429002764424534,
          0.9435526641300257,
          0.9440324980739557,
          0.9442518539916164,
          0.9443744824574174,
          0.9445962007180195,
          0.9449651766409477,
          0.9452102283628993,
          0.945420733040394,
          0.9456282169764497,
          0.9458068184049679,
          0.9459135574666382,
          0.9460192644107411,
          0.9461643272325377,
          0.9463196102227198,
          0.9466874730319946,
          0.9470473686846815,
          0.9472809693164445,
          0.9474171848373438,
          0.9475033322144323,
          0.9476108343354256,
          0.9475006598800012,
          0.9473300207822393,
          0.9471334724651607,
          0.9468767923826877,
          0.9465626407803555,
          0.9462621734022257,
          0.9459183394386314,
          0.9456181247333616,
          0.9453987505715442,
          0.9453293719865894,
          0.9453933926609556,
          0.9453829454551864,
          0.9452478490951112,
          0.945026380505911,
          0.944541926201105,
          0.9439280721750918,
          0.9432579014554732,
          0.9427297581754663,
          0.9423786686682191,
          0.9421648344173607,
          0.9420635887591763,
          0.9417386289570829,
          0.9414416476776992,
          0.9414615637126752,
          0.9412859770098269,
          0.9410600786635629,
          0.9413591738864243,
          0.94166558984718,
          0.9416913355033171,
          0.9416884814064039,
          0.9419166268466278,
          0.9419108002489689,
          0.9415450758694238,
          0.9410789657540225,
          0.9402881957892921,
          0.939113797312778,
          0.9377447807986523,
          0.9362761388972917,
          0.9349546686982448,
          0.9335432661571114,
          0.9318167174366806,
          0.9298527914359089,
          0.9278225847728392,
          0.9259883339731723,
          0.9245069078926318,
          0.9233484463987253,
          0.9225092291296796,
          0.9219186616108194,
          0.9216130876422256,
          0.9216108496231395,
          0.922370159152167,
          0.9229935895793061,
          0.9229625415899966,
          0.9231796806275887,
          0.9230114113280015,
          0.9229119720600769,
          0.9227024254864589,
          0.9224085880926222,
          0.9219429816437102,
          0.922045747863058,
          0.9217795246560263,
          0.921707659378044,
          0.9220062189265591,
          0.9227667087715228,
          0.9232658196512499,
          0.9233811357600201,
          0.9233878002022265,
          0.9228279701709565,
          0.9222120304581556,
          0.9217970868014731,
          0.9215688870969765,
          0.9217046296981829,
          0.9223470102117569,
          0.9231701179844723,
          0.9245507453900155,
          0.9255578130653529,
          0.9257752867100002,
          0.9257370514274958,
          0.9257452715175899,
          0.9265297781184832,
          0.9284036077172071,
          0.930993304095742,
          0.9335740963027885,
          0.9349146651913329,
          0.9354069751225986,
          0.9352905581544376,
          0.9352882248500667,
          0.935003662165982,
          0.9350930410588381,
          0.9352261191628759,
          0.9348295996903226,
          0.9342309087038105,
          0.933689866752024,
          0.9330703691873979,
          0.9328726632485916,
          0.933461780663756,
          0.9341852472638971,
          0.9346316831708094,
          0.9351769395170572,
          0.9360740342964894,
          0.9365517508534418,
          0.936679735617808,
          0.9367656381067844,
          0.9372453278388764,
          0.9383386255990408,
          0.9396580625466613,
          0.9410901061817653,
          0.9414628183713508,
          0.9411765269962767,
          0.9406861399877293,
          0.9399650396718253,
          0.9391126180220795,
          0.9384468224866659,
          0.9380825513606228,
          0.9380153535483892,
          0.9381564898736474,
          0.9387989825100522,
          0.9396141170017696,
          0.9407560971498533,
          0.9418898558227167,
          0.9428815286636909,
          0.9437852759443962,
          0.9443612574495638,
          0.9448718519680624,
          0.9454269638469497,
          0.9461882927084778,
          0.963317120776415,
          0.95552483741671,
          0.9521345740166548,
          0.9506205153848891,
          0.9499749796969853,
          0.9497284618058329,
          0.9495424285281041,
          0.9494009167701163,
          0.9492983627136385,
          0.9492327396860024,
          0.9708398299988112,
          0.9596523545187676,
          0.9543690732366924,
          0.9518576420961026,
          0.9695851164734839,
          0.9592258982935743,
          0.9543522184377111,
          0.9675907723869023,
          0.9584523338837115,
          0.9602871716706017,
          0.9574069166501679,
          0.9519387759774598,
          0.945862316594005,
          0.9368455200144357,
          0.924763953914269,
          0.9123789278054082,
          0.900494570617005,
          0.8857730970433333,
          0.8720229055116844,
          0.85807256317874,
          0.8559992078926881,
          0.8514553169326765
         ],
         "yaxis": "y"
        },
        {
         "hovertemplate": "variable=saturation<br>subset=0<br>timestep=%{x}<br>value=%{y}<extra></extra>",
         "legendgroup": "saturation",
         "line": {
          "color": "rgb(221,132,82)",
          "dash": "solid"
         },
         "mode": "lines",
         "name": "saturation",
         "orientation": "v",
         "showlegend": true,
         "type": "scatter",
         "x": [
          0,
          1,
          2,
          3,
          4,
          5,
          6,
          7,
          8,
          9,
          10,
          11,
          12,
          13,
          14,
          15,
          16,
          17,
          18,
          19,
          20,
          21,
          22,
          23,
          24,
          25,
          26,
          27,
          28,
          29,
          30,
          31,
          32,
          33,
          34,
          35,
          36,
          37,
          38,
          39,
          40,
          41,
          42,
          43,
          44,
          45,
          46,
          47,
          48,
          49,
          50,
          51,
          52,
          53,
          54,
          55,
          56,
          57,
          58,
          59,
          60,
          61,
          62,
          63,
          64,
          65,
          66,
          67,
          68,
          69,
          70,
          71,
          72,
          73,
          74,
          75,
          76,
          77,
          78,
          79,
          80,
          81,
          82,
          83,
          84,
          85,
          86,
          87,
          88,
          89,
          90,
          91,
          92,
          93,
          94,
          95,
          96,
          97,
          98,
          99,
          100,
          101,
          102,
          103,
          104,
          105,
          106,
          107,
          108,
          109,
          110,
          111,
          112,
          113,
          114,
          115,
          116,
          117,
          118,
          119,
          120,
          121,
          122,
          123,
          124,
          125,
          126,
          127,
          128,
          129,
          130,
          131,
          132,
          133,
          134,
          135,
          136,
          137,
          138,
          139,
          140,
          141,
          142,
          143,
          144,
          145,
          146,
          147,
          148,
          149,
          150,
          151,
          152,
          153,
          154,
          155,
          156,
          157,
          158,
          159,
          160,
          161,
          162,
          163,
          164,
          165,
          166,
          167,
          168,
          169,
          170,
          171,
          172,
          173,
          174,
          175,
          176,
          177,
          178,
          179,
          180,
          181,
          182,
          183,
          184,
          185,
          186,
          187,
          188,
          189,
          190,
          191,
          192,
          193,
          194,
          195,
          196,
          197,
          198,
          199,
          200,
          201,
          202,
          203,
          204,
          205,
          206,
          207,
          208,
          209,
          210,
          211,
          212,
          213,
          214,
          215,
          216,
          217,
          218,
          219,
          220,
          221,
          222,
          223,
          224,
          225,
          226,
          227,
          228,
          229,
          230,
          231,
          232,
          233,
          234,
          235,
          236,
          237,
          238,
          239,
          240
         ],
         "xaxis": "x",
         "y": [
          0,
          0.004196617313841015,
          0.007318483223083908,
          0.009834367915862181,
          0.013178996325700501,
          0.018549142677033555,
          0.0249843890923529,
          0.03449996500406026,
          0.045602978643203534,
          0.053549099509536624,
          0.06426373186654914,
          0.06654531012922289,
          0.0623761336643853,
          0.061813611056410485,
          0.061701065739368795,
          0.06127004418772246,
          0.06068677611003953,
          0.06037626409918924,
          0.06479981963810197,
          0.07013988826481812,
          0.07476061444356467,
          0.08620596864766074,
          0.09688935633420423,
          0.10846679115814717,
          0.11803284611603779,
          0.13286577011453923,
          0.1348799563805585,
          0.14018825428203208,
          0.16100101128543676,
          0.18119003555759694,
          0.20776183620596278,
          0.2499893637648749,
          0.25696986949680944,
          0.2669002406992264,
          0.25302887747650243,
          0.2596600327819637,
          0.2435754405928254,
          0.246801598115943,
          0.2667851704207527,
          0.301555508113062,
          0.3277964627215568,
          0.37625923442117426,
          0.44730145551890466,
          0.5582995128969153,
          0.594229235439551,
          0.6125108125063835,
          0.6035936479947445,
          0.6150217259508141,
          0.6277527187764018,
          0.6157631153232623,
          0.6006407254610726,
          0.6039450120388082,
          0.6077083718567007,
          0.6078065323707637,
          0.611611102772261,
          0.6162457987714958,
          0.6306474180610133,
          0.6222565436881399,
          0.6239681555562928,
          0.6531656115079586,
          0.6756267356422601,
          0.6967804279798274,
          0.7177436963793538,
          0.7283657232638868,
          0.7278320779178816,
          0.7289911102053374,
          0.7393198169707251,
          0.7562352013162366,
          0.7607581895984944,
          0.7668969056960696,
          0.7739605101138598,
          0.7792528492413215,
          0.7807002168899448,
          0.7843608805491988,
          0.7907115057300721,
          0.7965297629860952,
          0.8166430912588136,
          0.8295070891637516,
          0.8338730757989661,
          0.835628192417307,
          0.837127486518698,
          0.8418352066681588,
          0.8304414264796304,
          0.8221902894449801,
          0.8142102865648929,
          0.8030363224859133,
          0.7900552179115558,
          0.7799728104802763,
          0.7667267601448988,
          0.7578211023036663,
          0.7528649630941935,
          0.7551172315830194,
          0.7614106262354731,
          0.7587526877655042,
          0.7503457070519753,
          0.7402908416261571,
          0.7165070674415637,
          0.6930724220571269,
          0.6705391867150384,
          0.6582695510149817,
          0.65244843832061,
          0.6497175514749527,
          0.649717580206126,
          0.6339909730644998,
          0.6259748707385843,
          0.6349609191197555,
          0.6246049230555637,
          0.6166970415901883,
          0.639378164553052,
          0.6487696814313263,
          0.6419632342017615,
          0.6411093594556561,
          0.6542357431625913,
          0.6476983374757034,
          0.6272001107352696,
          0.6110096946740802,
          0.5803920216973386,
          0.5392752861009172,
          0.49950743267983666,
          0.4612780014952786,
          0.43323492449048706,
          0.39953157233748654,
          0.3565216574819569,
          0.31262535794006335,
          0.27285060214216483,
          0.24270169290134785,
          0.22215855408614169,
          0.20718668976581978,
          0.19775174443726581,
          0.19152440706562437,
          0.19052034001544946,
          0.19477183742214998,
          0.2186033199426849,
          0.22735780437201475,
          0.21709309653434145,
          0.22450959927332503,
          0.21590936785233025,
          0.2152232894290873,
          0.21005325441145106,
          0.20388418303148095,
          0.19369001192396124,
          0.20351464595196522,
          0.19381589575772915,
          0.19538484476270404,
          0.2056768595507212,
          0.22546802336304667,
          0.23023549833414947,
          0.22648072168792036,
          0.22497256400025978,
          0.20708851849585364,
          0.19600352690714679,
          0.19200263207768423,
          0.1908843819444613,
          0.1982915262712944,
          0.21648013123784574,
          0.23345532805927377,
          0.267021526062238,
          0.2797605044863108,
          0.27102765032401194,
          0.26622568082430403,
          0.26711868397877925,
          0.29456410214391787,
          0.35107908248599295,
          0.4214706679282137,
          0.48289143297178677,
          0.48887315188282476,
          0.48240967038297505,
          0.46637330255100884,
          0.46876469469246396,
          0.45590638397601224,
          0.4660039432169613,
          0.47016989016529853,
          0.4494193111327509,
          0.43125281353834377,
          0.42001502220567616,
          0.40450418983634767,
          0.40838673304860457,
          0.43774368470708863,
          0.4576628488755087,
          0.4624983169162177,
          0.47789736879402844,
          0.5082025979332799,
          0.5108846517588091,
          0.5062149767292327,
          0.5074498495935004,
          0.5288913999512405,
          0.5730476943194762,
          0.6162360244327589,
          0.6620734257590049,
          0.6444610495520151,
          0.6185072349521324,
          0.599138433042389,
          0.5731720946719511,
          0.5468701935736057,
          0.5336426556812696,
          0.5311321418204132,
          0.5363268422633891,
          0.5450022960939563,
          0.5746347386913416,
          0.6019209975762568,
          0.6440035412829271,
          0.6785241348678017,
          0.7059234443952805,
          0.7328704683645795,
          0.7421838733375505,
          0.7574251699152487,
          0.7779211506362405,
          0.8115309331621643,
          0.8384577202193193,
          0.8684926059544482,
          0.8925090450343723,
          0.9003365348626904,
          0.9061911932864769,
          0.9108912843688096,
          0.905696799771144,
          0.9017088480010899,
          0.8990690269972601,
          0.8978145534337852,
          0.8995816950052902,
          0.9077387504757577,
          0.9122632502559244,
          0.9131954588205548,
          0.9146869300592162,
          0.9206956660077977,
          0.9265008360162041,
          0.9305186111289114,
          0.9343558857923829,
          0.9387569958954147,
          0.9440793889365898,
          0.94955362903773,
          0.9542526974060163,
          0.9576961662829825,
          0.9610445504184156,
          0.9643834047453242,
          0.9667324626409566,
          0.9682758870125358,
          0.9701656368696147,
          0.9712764007467656,
          0.9721733331133255,
          0.9718413115494966,
          0.971646782885619
         ],
         "yaxis": "y"
        }
       ],
       "layout": {
        "annotations": [
         {
          "font": {},
          "showarrow": false,
          "text": "subset=0",
          "textangle": 90,
          "x": 0.98,
          "xanchor": "left",
          "xref": "paper",
          "y": 0.5,
          "yanchor": "middle",
          "yref": "paper"
         }
        ],
        "height": 800,
        "legend": {
         "title": {
          "text": "variable"
         },
         "tracegroupgap": 0
        },
        "margin": {
         "b": 20,
         "l": 20,
         "r": 20,
         "t": 20
        },
        "template": {
         "data": {
          "bar": [
           {
            "error_x": {
             "color": "rgb(36,36,36)"
            },
            "error_y": {
             "color": "rgb(36,36,36)"
            },
            "marker": {
             "line": {
              "color": "rgb(234,234,242)",
              "width": 0.5
             }
            },
            "type": "bar"
           }
          ],
          "barpolar": [
           {
            "marker": {
             "line": {
              "color": "rgb(234,234,242)",
              "width": 0.5
             }
            },
            "type": "barpolar"
           }
          ],
          "carpet": [
           {
            "aaxis": {
             "endlinecolor": "rgb(36,36,36)",
             "gridcolor": "white",
             "linecolor": "white",
             "minorgridcolor": "white",
             "startlinecolor": "rgb(36,36,36)"
            },
            "baxis": {
             "endlinecolor": "rgb(36,36,36)",
             "gridcolor": "white",
             "linecolor": "white",
             "minorgridcolor": "white",
             "startlinecolor": "rgb(36,36,36)"
            },
            "type": "carpet"
           }
          ],
          "choropleth": [
           {
            "colorbar": {
             "outlinewidth": 0,
             "tickcolor": "rgb(36,36,36)",
             "ticklen": 8,
             "ticks": "outside",
             "tickwidth": 2
            },
            "type": "choropleth"
           }
          ],
          "contour": [
           {
            "colorbar": {
             "outlinewidth": 0,
             "tickcolor": "rgb(36,36,36)",
             "ticklen": 8,
             "ticks": "outside",
             "tickwidth": 2
            },
            "colorscale": [
             [
              0,
              "rgb(2,4,25)"
             ],
             [
              0.06274509803921569,
              "rgb(24,15,41)"
             ],
             [
              0.12549019607843137,
              "rgb(47,23,57)"
             ],
             [
              0.18823529411764706,
              "rgb(71,28,72)"
             ],
             [
              0.25098039215686274,
              "rgb(97,30,82)"
             ],
             [
              0.3137254901960784,
              "rgb(123,30,89)"
             ],
             [
              0.3764705882352941,
              "rgb(150,27,91)"
             ],
             [
              0.4392156862745098,
              "rgb(177,22,88)"
             ],
             [
              0.5019607843137255,
              "rgb(203,26,79)"
             ],
             [
              0.5647058823529412,
              "rgb(223,47,67)"
             ],
             [
              0.6274509803921569,
              "rgb(236,76,61)"
             ],
             [
              0.6901960784313725,
              "rgb(242,107,73)"
             ],
             [
              0.7529411764705882,
              "rgb(244,135,95)"
             ],
             [
              0.8156862745098039,
              "rgb(245,162,122)"
             ],
             [
              0.8784313725490196,
              "rgb(246,188,153)"
             ],
             [
              0.9411764705882353,
              "rgb(247,212,187)"
             ],
             [
              1,
              "rgb(250,234,220)"
             ]
            ],
            "type": "contour"
           }
          ],
          "contourcarpet": [
           {
            "colorbar": {
             "outlinewidth": 0,
             "tickcolor": "rgb(36,36,36)",
             "ticklen": 8,
             "ticks": "outside",
             "tickwidth": 2
            },
            "type": "contourcarpet"
           }
          ],
          "heatmap": [
           {
            "colorbar": {
             "outlinewidth": 0,
             "tickcolor": "rgb(36,36,36)",
             "ticklen": 8,
             "ticks": "outside",
             "tickwidth": 2
            },
            "colorscale": [
             [
              0,
              "rgb(2,4,25)"
             ],
             [
              0.06274509803921569,
              "rgb(24,15,41)"
             ],
             [
              0.12549019607843137,
              "rgb(47,23,57)"
             ],
             [
              0.18823529411764706,
              "rgb(71,28,72)"
             ],
             [
              0.25098039215686274,
              "rgb(97,30,82)"
             ],
             [
              0.3137254901960784,
              "rgb(123,30,89)"
             ],
             [
              0.3764705882352941,
              "rgb(150,27,91)"
             ],
             [
              0.4392156862745098,
              "rgb(177,22,88)"
             ],
             [
              0.5019607843137255,
              "rgb(203,26,79)"
             ],
             [
              0.5647058823529412,
              "rgb(223,47,67)"
             ],
             [
              0.6274509803921569,
              "rgb(236,76,61)"
             ],
             [
              0.6901960784313725,
              "rgb(242,107,73)"
             ],
             [
              0.7529411764705882,
              "rgb(244,135,95)"
             ],
             [
              0.8156862745098039,
              "rgb(245,162,122)"
             ],
             [
              0.8784313725490196,
              "rgb(246,188,153)"
             ],
             [
              0.9411764705882353,
              "rgb(247,212,187)"
             ],
             [
              1,
              "rgb(250,234,220)"
             ]
            ],
            "type": "heatmap"
           }
          ],
          "heatmapgl": [
           {
            "colorbar": {
             "outlinewidth": 0,
             "tickcolor": "rgb(36,36,36)",
             "ticklen": 8,
             "ticks": "outside",
             "tickwidth": 2
            },
            "colorscale": [
             [
              0,
              "rgb(2,4,25)"
             ],
             [
              0.06274509803921569,
              "rgb(24,15,41)"
             ],
             [
              0.12549019607843137,
              "rgb(47,23,57)"
             ],
             [
              0.18823529411764706,
              "rgb(71,28,72)"
             ],
             [
              0.25098039215686274,
              "rgb(97,30,82)"
             ],
             [
              0.3137254901960784,
              "rgb(123,30,89)"
             ],
             [
              0.3764705882352941,
              "rgb(150,27,91)"
             ],
             [
              0.4392156862745098,
              "rgb(177,22,88)"
             ],
             [
              0.5019607843137255,
              "rgb(203,26,79)"
             ],
             [
              0.5647058823529412,
              "rgb(223,47,67)"
             ],
             [
              0.6274509803921569,
              "rgb(236,76,61)"
             ],
             [
              0.6901960784313725,
              "rgb(242,107,73)"
             ],
             [
              0.7529411764705882,
              "rgb(244,135,95)"
             ],
             [
              0.8156862745098039,
              "rgb(245,162,122)"
             ],
             [
              0.8784313725490196,
              "rgb(246,188,153)"
             ],
             [
              0.9411764705882353,
              "rgb(247,212,187)"
             ],
             [
              1,
              "rgb(250,234,220)"
             ]
            ],
            "type": "heatmapgl"
           }
          ],
          "histogram": [
           {
            "marker": {
             "colorbar": {
              "outlinewidth": 0,
              "tickcolor": "rgb(36,36,36)",
              "ticklen": 8,
              "ticks": "outside",
              "tickwidth": 2
             }
            },
            "type": "histogram"
           }
          ],
          "histogram2d": [
           {
            "colorbar": {
             "outlinewidth": 0,
             "tickcolor": "rgb(36,36,36)",
             "ticklen": 8,
             "ticks": "outside",
             "tickwidth": 2
            },
            "colorscale": [
             [
              0,
              "rgb(2,4,25)"
             ],
             [
              0.06274509803921569,
              "rgb(24,15,41)"
             ],
             [
              0.12549019607843137,
              "rgb(47,23,57)"
             ],
             [
              0.18823529411764706,
              "rgb(71,28,72)"
             ],
             [
              0.25098039215686274,
              "rgb(97,30,82)"
             ],
             [
              0.3137254901960784,
              "rgb(123,30,89)"
             ],
             [
              0.3764705882352941,
              "rgb(150,27,91)"
             ],
             [
              0.4392156862745098,
              "rgb(177,22,88)"
             ],
             [
              0.5019607843137255,
              "rgb(203,26,79)"
             ],
             [
              0.5647058823529412,
              "rgb(223,47,67)"
             ],
             [
              0.6274509803921569,
              "rgb(236,76,61)"
             ],
             [
              0.6901960784313725,
              "rgb(242,107,73)"
             ],
             [
              0.7529411764705882,
              "rgb(244,135,95)"
             ],
             [
              0.8156862745098039,
              "rgb(245,162,122)"
             ],
             [
              0.8784313725490196,
              "rgb(246,188,153)"
             ],
             [
              0.9411764705882353,
              "rgb(247,212,187)"
             ],
             [
              1,
              "rgb(250,234,220)"
             ]
            ],
            "type": "histogram2d"
           }
          ],
          "histogram2dcontour": [
           {
            "colorbar": {
             "outlinewidth": 0,
             "tickcolor": "rgb(36,36,36)",
             "ticklen": 8,
             "ticks": "outside",
             "tickwidth": 2
            },
            "colorscale": [
             [
              0,
              "rgb(2,4,25)"
             ],
             [
              0.06274509803921569,
              "rgb(24,15,41)"
             ],
             [
              0.12549019607843137,
              "rgb(47,23,57)"
             ],
             [
              0.18823529411764706,
              "rgb(71,28,72)"
             ],
             [
              0.25098039215686274,
              "rgb(97,30,82)"
             ],
             [
              0.3137254901960784,
              "rgb(123,30,89)"
             ],
             [
              0.3764705882352941,
              "rgb(150,27,91)"
             ],
             [
              0.4392156862745098,
              "rgb(177,22,88)"
             ],
             [
              0.5019607843137255,
              "rgb(203,26,79)"
             ],
             [
              0.5647058823529412,
              "rgb(223,47,67)"
             ],
             [
              0.6274509803921569,
              "rgb(236,76,61)"
             ],
             [
              0.6901960784313725,
              "rgb(242,107,73)"
             ],
             [
              0.7529411764705882,
              "rgb(244,135,95)"
             ],
             [
              0.8156862745098039,
              "rgb(245,162,122)"
             ],
             [
              0.8784313725490196,
              "rgb(246,188,153)"
             ],
             [
              0.9411764705882353,
              "rgb(247,212,187)"
             ],
             [
              1,
              "rgb(250,234,220)"
             ]
            ],
            "type": "histogram2dcontour"
           }
          ],
          "mesh3d": [
           {
            "colorbar": {
             "outlinewidth": 0,
             "tickcolor": "rgb(36,36,36)",
             "ticklen": 8,
             "ticks": "outside",
             "tickwidth": 2
            },
            "type": "mesh3d"
           }
          ],
          "parcoords": [
           {
            "line": {
             "colorbar": {
              "outlinewidth": 0,
              "tickcolor": "rgb(36,36,36)",
              "ticklen": 8,
              "ticks": "outside",
              "tickwidth": 2
             }
            },
            "type": "parcoords"
           }
          ],
          "pie": [
           {
            "automargin": true,
            "type": "pie"
           }
          ],
          "scatter": [
           {
            "marker": {
             "colorbar": {
              "outlinewidth": 0,
              "tickcolor": "rgb(36,36,36)",
              "ticklen": 8,
              "ticks": "outside",
              "tickwidth": 2
             }
            },
            "type": "scatter"
           }
          ],
          "scatter3d": [
           {
            "line": {
             "colorbar": {
              "outlinewidth": 0,
              "tickcolor": "rgb(36,36,36)",
              "ticklen": 8,
              "ticks": "outside",
              "tickwidth": 2
             }
            },
            "marker": {
             "colorbar": {
              "outlinewidth": 0,
              "tickcolor": "rgb(36,36,36)",
              "ticklen": 8,
              "ticks": "outside",
              "tickwidth": 2
             }
            },
            "type": "scatter3d"
           }
          ],
          "scattercarpet": [
           {
            "marker": {
             "colorbar": {
              "outlinewidth": 0,
              "tickcolor": "rgb(36,36,36)",
              "ticklen": 8,
              "ticks": "outside",
              "tickwidth": 2
             }
            },
            "type": "scattercarpet"
           }
          ],
          "scattergeo": [
           {
            "marker": {
             "colorbar": {
              "outlinewidth": 0,
              "tickcolor": "rgb(36,36,36)",
              "ticklen": 8,
              "ticks": "outside",
              "tickwidth": 2
             }
            },
            "type": "scattergeo"
           }
          ],
          "scattergl": [
           {
            "marker": {
             "colorbar": {
              "outlinewidth": 0,
              "tickcolor": "rgb(36,36,36)",
              "ticklen": 8,
              "ticks": "outside",
              "tickwidth": 2
             }
            },
            "type": "scattergl"
           }
          ],
          "scattermapbox": [
           {
            "marker": {
             "colorbar": {
              "outlinewidth": 0,
              "tickcolor": "rgb(36,36,36)",
              "ticklen": 8,
              "ticks": "outside",
              "tickwidth": 2
             }
            },
            "type": "scattermapbox"
           }
          ],
          "scatterpolar": [
           {
            "marker": {
             "colorbar": {
              "outlinewidth": 0,
              "tickcolor": "rgb(36,36,36)",
              "ticklen": 8,
              "ticks": "outside",
              "tickwidth": 2
             }
            },
            "type": "scatterpolar"
           }
          ],
          "scatterpolargl": [
           {
            "marker": {
             "colorbar": {
              "outlinewidth": 0,
              "tickcolor": "rgb(36,36,36)",
              "ticklen": 8,
              "ticks": "outside",
              "tickwidth": 2
             }
            },
            "type": "scatterpolargl"
           }
          ],
          "scatterternary": [
           {
            "marker": {
             "colorbar": {
              "outlinewidth": 0,
              "tickcolor": "rgb(36,36,36)",
              "ticklen": 8,
              "ticks": "outside",
              "tickwidth": 2
             }
            },
            "type": "scatterternary"
           }
          ],
          "surface": [
           {
            "colorbar": {
             "outlinewidth": 0,
             "tickcolor": "rgb(36,36,36)",
             "ticklen": 8,
             "ticks": "outside",
             "tickwidth": 2
            },
            "colorscale": [
             [
              0,
              "rgb(2,4,25)"
             ],
             [
              0.06274509803921569,
              "rgb(24,15,41)"
             ],
             [
              0.12549019607843137,
              "rgb(47,23,57)"
             ],
             [
              0.18823529411764706,
              "rgb(71,28,72)"
             ],
             [
              0.25098039215686274,
              "rgb(97,30,82)"
             ],
             [
              0.3137254901960784,
              "rgb(123,30,89)"
             ],
             [
              0.3764705882352941,
              "rgb(150,27,91)"
             ],
             [
              0.4392156862745098,
              "rgb(177,22,88)"
             ],
             [
              0.5019607843137255,
              "rgb(203,26,79)"
             ],
             [
              0.5647058823529412,
              "rgb(223,47,67)"
             ],
             [
              0.6274509803921569,
              "rgb(236,76,61)"
             ],
             [
              0.6901960784313725,
              "rgb(242,107,73)"
             ],
             [
              0.7529411764705882,
              "rgb(244,135,95)"
             ],
             [
              0.8156862745098039,
              "rgb(245,162,122)"
             ],
             [
              0.8784313725490196,
              "rgb(246,188,153)"
             ],
             [
              0.9411764705882353,
              "rgb(247,212,187)"
             ],
             [
              1,
              "rgb(250,234,220)"
             ]
            ],
            "type": "surface"
           }
          ],
          "table": [
           {
            "cells": {
             "fill": {
              "color": "rgb(231,231,240)"
             },
             "line": {
              "color": "white"
             }
            },
            "header": {
             "fill": {
              "color": "rgb(183,183,191)"
             },
             "line": {
              "color": "white"
             }
            },
            "type": "table"
           }
          ]
         },
         "layout": {
          "annotationdefaults": {
           "arrowcolor": "rgb(67,103,167)"
          },
          "coloraxis": {
           "colorbar": {
            "outlinewidth": 0,
            "tickcolor": "rgb(36,36,36)",
            "ticklen": 8,
            "ticks": "outside",
            "tickwidth": 2
           }
          },
          "colorscale": {
           "sequential": [
            [
             0,
             "rgb(2,4,25)"
            ],
            [
             0.06274509803921569,
             "rgb(24,15,41)"
            ],
            [
             0.12549019607843137,
             "rgb(47,23,57)"
            ],
            [
             0.18823529411764706,
             "rgb(71,28,72)"
            ],
            [
             0.25098039215686274,
             "rgb(97,30,82)"
            ],
            [
             0.3137254901960784,
             "rgb(123,30,89)"
            ],
            [
             0.3764705882352941,
             "rgb(150,27,91)"
            ],
            [
             0.4392156862745098,
             "rgb(177,22,88)"
            ],
            [
             0.5019607843137255,
             "rgb(203,26,79)"
            ],
            [
             0.5647058823529412,
             "rgb(223,47,67)"
            ],
            [
             0.6274509803921569,
             "rgb(236,76,61)"
            ],
            [
             0.6901960784313725,
             "rgb(242,107,73)"
            ],
            [
             0.7529411764705882,
             "rgb(244,135,95)"
            ],
            [
             0.8156862745098039,
             "rgb(245,162,122)"
            ],
            [
             0.8784313725490196,
             "rgb(246,188,153)"
            ],
            [
             0.9411764705882353,
             "rgb(247,212,187)"
            ],
            [
             1,
             "rgb(250,234,220)"
            ]
           ],
           "sequentialminus": [
            [
             0,
             "rgb(2,4,25)"
            ],
            [
             0.06274509803921569,
             "rgb(24,15,41)"
            ],
            [
             0.12549019607843137,
             "rgb(47,23,57)"
            ],
            [
             0.18823529411764706,
             "rgb(71,28,72)"
            ],
            [
             0.25098039215686274,
             "rgb(97,30,82)"
            ],
            [
             0.3137254901960784,
             "rgb(123,30,89)"
            ],
            [
             0.3764705882352941,
             "rgb(150,27,91)"
            ],
            [
             0.4392156862745098,
             "rgb(177,22,88)"
            ],
            [
             0.5019607843137255,
             "rgb(203,26,79)"
            ],
            [
             0.5647058823529412,
             "rgb(223,47,67)"
            ],
            [
             0.6274509803921569,
             "rgb(236,76,61)"
            ],
            [
             0.6901960784313725,
             "rgb(242,107,73)"
            ],
            [
             0.7529411764705882,
             "rgb(244,135,95)"
            ],
            [
             0.8156862745098039,
             "rgb(245,162,122)"
            ],
            [
             0.8784313725490196,
             "rgb(246,188,153)"
            ],
            [
             0.9411764705882353,
             "rgb(247,212,187)"
            ],
            [
             1,
             "rgb(250,234,220)"
            ]
           ]
          },
          "colorway": [
           "rgb(76,114,176)",
           "rgb(221,132,82)",
           "rgb(85,168,104)",
           "rgb(196,78,82)",
           "rgb(129,114,179)",
           "rgb(147,120,96)",
           "rgb(218,139,195)",
           "rgb(140,140,140)",
           "rgb(204,185,116)",
           "rgb(100,181,205)"
          ],
          "font": {
           "color": "rgb(36,36,36)"
          },
          "geo": {
           "bgcolor": "white",
           "lakecolor": "white",
           "landcolor": "rgb(234,234,242)",
           "showlakes": true,
           "showland": true,
           "subunitcolor": "white"
          },
          "hoverlabel": {
           "align": "left"
          },
          "hovermode": "closest",
          "paper_bgcolor": "white",
          "plot_bgcolor": "rgb(234,234,242)",
          "polar": {
           "angularaxis": {
            "gridcolor": "white",
            "linecolor": "white",
            "showgrid": true,
            "ticks": ""
           },
           "bgcolor": "rgb(234,234,242)",
           "radialaxis": {
            "gridcolor": "white",
            "linecolor": "white",
            "showgrid": true,
            "ticks": ""
           }
          },
          "scene": {
           "xaxis": {
            "backgroundcolor": "rgb(234,234,242)",
            "gridcolor": "white",
            "gridwidth": 2,
            "linecolor": "white",
            "showbackground": true,
            "showgrid": true,
            "ticks": "",
            "zerolinecolor": "white"
           },
           "yaxis": {
            "backgroundcolor": "rgb(234,234,242)",
            "gridcolor": "white",
            "gridwidth": 2,
            "linecolor": "white",
            "showbackground": true,
            "showgrid": true,
            "ticks": "",
            "zerolinecolor": "white"
           },
           "zaxis": {
            "backgroundcolor": "rgb(234,234,242)",
            "gridcolor": "white",
            "gridwidth": 2,
            "linecolor": "white",
            "showbackground": true,
            "showgrid": true,
            "ticks": "",
            "zerolinecolor": "white"
           }
          },
          "shapedefaults": {
           "fillcolor": "rgb(67,103,167)",
           "line": {
            "width": 0
           },
           "opacity": 0.5
          },
          "ternary": {
           "aaxis": {
            "gridcolor": "white",
            "linecolor": "white",
            "showgrid": true,
            "ticks": ""
           },
           "baxis": {
            "gridcolor": "white",
            "linecolor": "white",
            "showgrid": true,
            "ticks": ""
           },
           "bgcolor": "rgb(234,234,242)",
           "caxis": {
            "gridcolor": "white",
            "linecolor": "white",
            "showgrid": true,
            "ticks": ""
           }
          },
          "xaxis": {
           "automargin": true,
           "gridcolor": "white",
           "linecolor": "white",
           "showgrid": true,
           "ticks": "",
           "title": {
            "standoff": 15
           },
           "zerolinecolor": "white"
          },
          "yaxis": {
           "automargin": true,
           "gridcolor": "white",
           "linecolor": "white",
           "showgrid": true,
           "ticks": "",
           "title": {
            "standoff": 15
           },
           "zerolinecolor": "white"
          }
         }
        },
        "xaxis": {
         "anchor": "y",
         "domain": [
          0,
          0.98
         ],
         "title": {
          "text": "timestep"
         }
        },
        "yaxis": {
         "anchor": "x",
         "domain": [
          0,
          1
         ],
         "title": {
          "text": "value"
         }
        }
       }
      }
     },
     "metadata": {}
    }
   ],
   "source": [
    "fig = px.line(\n",
    "    simulation_result,\n",
    "    x='timestep',\n",
    "    y=['ratio', 'saturation'],\n",
    "    facet_row='subset',\n",
    "    height=800,\n",
    "    template='seaborn'\n",
    ")\n",
    "\n",
    "fig.update_layout(\n",
    "    margin=dict(l=20, r=20, t=20, b=20),\n",
    ")\n",
    "\n",
    "fig.show()"
   ]
  },
  {
   "cell_type": "code",
   "execution_count": 13,
   "metadata": {},
   "outputs": [
    {
     "output_type": "display_data",
     "data": {
      "application/vnd.plotly.v1+json": {
       "config": {
        "plotlyServerURL": "https://plot.ly"
       },
       "data": [
        {
         "hovertemplate": "variable=price<br>subset=0<br>timestep=%{x}<br>value=%{y}<extra></extra>",
         "legendgroup": "price",
         "line": {
          "color": "rgb(76,114,176)",
          "dash": "solid"
         },
         "mode": "lines",
         "name": "price",
         "orientation": "v",
         "showlegend": true,
         "type": "scatter",
         "x": [
          0,
          1,
          2,
          3,
          4,
          5,
          6,
          7,
          8,
          9,
          10,
          11,
          12,
          13,
          14,
          15,
          16,
          17,
          18,
          19,
          20,
          21,
          22,
          23,
          24,
          25,
          26,
          27,
          28,
          29,
          30,
          31,
          32,
          33,
          34,
          35,
          36,
          37,
          38,
          39,
          40,
          41,
          42,
          43,
          44,
          45,
          46,
          47,
          48,
          49,
          50,
          51,
          52,
          53,
          54,
          55,
          56,
          57,
          58,
          59,
          60,
          61,
          62,
          63,
          64,
          65,
          66,
          67,
          68,
          69,
          70,
          71,
          72,
          73,
          74,
          75,
          76,
          77,
          78,
          79,
          80,
          81,
          82,
          83,
          84,
          85,
          86,
          87,
          88,
          89,
          90,
          91,
          92,
          93,
          94,
          95,
          96,
          97,
          98,
          99,
          100,
          101,
          102,
          103,
          104,
          105,
          106,
          107,
          108,
          109,
          110,
          111,
          112,
          113,
          114,
          115,
          116,
          117,
          118,
          119,
          120,
          121,
          122,
          123,
          124,
          125,
          126,
          127,
          128,
          129,
          130,
          131,
          132,
          133,
          134,
          135,
          136,
          137,
          138,
          139,
          140,
          141,
          142,
          143,
          144,
          145,
          146,
          147,
          148,
          149,
          150,
          151,
          152,
          153,
          154,
          155,
          156,
          157,
          158,
          159,
          160,
          161,
          162,
          163,
          164,
          165,
          166,
          167,
          168,
          169,
          170,
          171,
          172,
          173,
          174,
          175,
          176,
          177,
          178,
          179,
          180,
          181,
          182,
          183,
          184,
          185,
          186,
          187,
          188,
          189,
          190,
          191,
          192,
          193,
          194,
          195,
          196,
          197,
          198,
          199,
          200,
          201,
          202,
          203,
          204,
          205,
          206,
          207,
          208,
          209,
          210,
          211,
          212,
          213,
          214,
          215,
          216,
          217,
          218,
          219,
          220,
          221,
          222,
          223,
          224,
          225,
          226,
          227,
          228,
          229,
          230,
          231,
          232,
          233,
          234,
          235,
          236,
          237,
          238,
          239,
          240
         ],
         "xaxis": "x",
         "y": [
          10,
          13.91347805016143,
          10.69338725623149,
          12.956917511096503,
          17.641234460858538,
          19.29863872482306,
          23.665907665564912,
          24.861717119242456,
          20.730213594000535,
          23.436978946314014,
          15.439509391672727,
          9.06755643507885,
          11.483342196982889,
          11.67149198132914,
          11.230161323864959,
          10.88276484415788,
          10.890131921817344,
          14.785689640500028,
          15.932715032288838,
          15.790839078392697,
          21.20185942870502,
          21.349724355659998,
          22.48821274236098,
          21.67352662020364,
          25.05605175058653,
          17.965739242550136,
          19.00559176776187,
          26.438615435651084,
          26.527515338185015,
          29.57852236869551,
          36.7083210182098,
          23.13377837092641,
          22.63493395172007,
          12.61858078601687,
          16.146959655783455,
          8.661521711971954,
          10.932280761975587,
          13.172195193898606,
          15.414060716153323,
          13.92458275317171,
          17.327823151714732,
          22.041964858563563,
          35.741145289400535,
          25.839193032835247,
          23.158896313500083,
          15.348509667135415,
          21.814861936355037,
          23.220476360509018,
          15.209257363363768,
          13.845146476507821,
          19.534798573542638,
          20.038573280506792,
          19.127948444914033,
          20.6004304269691,
          21.29390948025054,
          25.49317721464176,
          17.707313375045967,
          21.335997323940244,
          33.03414685700368,
          33.58709418719763,
          36.04387042408105,
          39.343570623189805,
          35.82157943590474,
          29.42732231893482,
          30.81554072068515,
          38.09852208311822,
          45.732442982760254,
          38.00231300570521,
          40.57775236168669,
          42.95353467689955,
          42.7383855257765,
          39.71419439199974,
          42.8289672553776,
          47.179157649885056,
          48.33306063306364,
          71.60004328000419,
          68.95029109475432,
          58.151288399270435,
          54.65778418352312,
          55.07017689389357,
          63.08114417498422,
          29.957421756438237,
          35.91413353566993,
          36.043174823239724,
          30.653296829021357,
          27.920779934246198,
          31.43294607329101,
          27.33001057480151,
          31.6569129540488,
          35.31733092816168,
          42.60502255649405,
          47.816058734453314,
          39.15897019603764,
          32.87002524332644,
          30.7652652260858,
          17.813957705806427,
          18.25543285466007,
          18.73624748503723,
          24.831143428574098,
          28.331141460606844,
          30.042592136163396,
          31.761314754537104,
          22.4292522422979,
          26.22265694074072,
          35.67401802657429,
          25.36865281808402,
          26.31509411451047,
          43.719109348149274,
          38.67977115662958,
          29.362539583493408,
          32.86764500385541,
          42.343859174449435,
          30.67986864558045,
          21.369639290866363,
          23.27440199993567,
          14.8014388503289,
          9.282525383960895,
          9.502167625178187,
          9.471188256838746,
          12.328307652839076,
          9.61855382880353,
          5.702937091493492,
          4.3099636187582675,
          4.264068305210697,
          5.854497418581882,
          7.732779024559397,
          8.747301798296883,
          10.009139463646054,
          10.77341481077088,
          12.355109474610328,
          14.172787543805615,
          20.87569123936907,
          16.93546571996768,
          11.089377026314288,
          16.682010943041256,
          11.707748490501816,
          14.150158088771143,
          12.69133319311048,
          12.226840465156565,
          10.625265496378772,
          17.459810160921904,
          10.96994869214963,
          14.759727038218879,
          18.132567615870087,
          22.110294158925026,
          17.630815494413703,
          14.839262799365375,
          15.61643881281876,
          9.495848497952103,
          11.31557650689843,
          13.65251085621861,
          14.724582396861674,
          18.174561895939433,
          22.85746023626985,
          23.31465552025442,
          30.66848319089072,
          24.366042163056353,
          16.61391929261453,
          17.87601693077631,
          20.07646590622572,
          31.05812404572495,
          45.06070364246234,
          56.64086433042267,
          61.29467285176667,
          37.89423672785388,
          31.395784688537958,
          25.68893857855784,
          35.08508301602711,
          27.00566129508369,
          39.08131312265688,
          36.945655260345156,
          23.287871388575354,
          23.69674430241182,
          26.511119643056162,
          23.755293280060517,
          33.119518353988006,
          47.555160595323514,
          45.724032981603095,
          39.079058695874686,
          46.38907182132648,
          58.49357105927096,
          43.72745316134615,
          39.12489541096815,
          43.125213569157495,
          58.38368190322232,
          81.22589320337855,
          92.65734081388395,
          111.43750541113224,
          43.67927843296762,
          32.96596185438682,
          38.76512562183295,
          31.235544976604487,
          29.752496072061064,
          39.27573632170976,
          47.205565938865405,
          53.78485565872324,
          58.005769181440336,
          79.41382336793944,
          84.8540137612239,
          111.64808595986975,
          119.31741390483171,
          124.52382240654761,
          139.80358152570273,
          114.9933640753153,
          135.96960337918287,
          163.5699221567803,
          237.82835822905196,
          268.0299846001137,
          370.1919009500002,
          442.5374485982934,
          330.0146418337162,
          332.04816065019276,
          337.9085968570592,
          143.96059183135623,
          167.37911530827733,
          189.6746753261366,
          211.5822661659525,
          263.00146485815907,
          396.66297941048987,
          353.4903715571882,
          291.54887870019746,
          313.2393328543156,
          455.373602196374,
          496.2015322149887,
          490.3442720468487,
          531.8275543089907,
          612.4434039228544,
          775.4135574621256,
          953.2833092179178,
          1099.9451295082135,
          1159.4802618541078,
          1402.938179948838,
          1789.7342393794481,
          1894.8153949151035,
          1874.7731329717205,
          2527.4100827548727,
          2373.2855941305093,
          2511.012420152611,
          1131.4116327922452,
          1294.4289723416211,
          1382.680345065867
         ],
         "yaxis": "y"
        },
        {
         "hovertemplate": "variable=target_price<br>subset=0<br>timestep=%{x}<br>value=%{y}<extra></extra>",
         "legendgroup": "target_price",
         "line": {
          "color": "rgb(221,132,82)",
          "dash": "solid"
         },
         "mode": "lines",
         "name": "target_price",
         "orientation": "v",
         "showlegend": true,
         "type": "scatter",
         "x": [
          0,
          1,
          2,
          3,
          4,
          5,
          6,
          7,
          8,
          9,
          10,
          11,
          12,
          13,
          14,
          15,
          16,
          17,
          18,
          19,
          20,
          21,
          22,
          23,
          24,
          25,
          26,
          27,
          28,
          29,
          30,
          31,
          32,
          33,
          34,
          35,
          36,
          37,
          38,
          39,
          40,
          41,
          42,
          43,
          44,
          45,
          46,
          47,
          48,
          49,
          50,
          51,
          52,
          53,
          54,
          55,
          56,
          57,
          58,
          59,
          60,
          61,
          62,
          63,
          64,
          65,
          66,
          67,
          68,
          69,
          70,
          71,
          72,
          73,
          74,
          75,
          76,
          77,
          78,
          79,
          80,
          81,
          82,
          83,
          84,
          85,
          86,
          87,
          88,
          89,
          90,
          91,
          92,
          93,
          94,
          95,
          96,
          97,
          98,
          99,
          100,
          101,
          102,
          103,
          104,
          105,
          106,
          107,
          108,
          109,
          110,
          111,
          112,
          113,
          114,
          115,
          116,
          117,
          118,
          119,
          120,
          121,
          122,
          123,
          124,
          125,
          126,
          127,
          128,
          129,
          130,
          131,
          132,
          133,
          134,
          135,
          136,
          137,
          138,
          139,
          140,
          141,
          142,
          143,
          144,
          145,
          146,
          147,
          148,
          149,
          150,
          151,
          152,
          153,
          154,
          155,
          156,
          157,
          158,
          159,
          160,
          161,
          162,
          163,
          164,
          165,
          166,
          167,
          168,
          169,
          170,
          171,
          172,
          173,
          174,
          175,
          176,
          177,
          178,
          179,
          180,
          181,
          182,
          183,
          184,
          185,
          186,
          187,
          188,
          189,
          190,
          191,
          192,
          193,
          194,
          195,
          196,
          197,
          198,
          199,
          200,
          201,
          202,
          203,
          204,
          205,
          206,
          207,
          208,
          209,
          210,
          211,
          212,
          213,
          214,
          215,
          216,
          217,
          218,
          219,
          220,
          221,
          222,
          223,
          224,
          225,
          226,
          227,
          228,
          229,
          230,
          231,
          232,
          233,
          234,
          235,
          236,
          237,
          238,
          239,
          240
         ],
         "xaxis": "x",
         "y": [
          1,
          29.805305768707708,
          28.42364632541147,
          27.29649932161075,
          26.40153670240842,
          25.622902063289352,
          25.036797861668955,
          24.651168007003665,
          24.372673360871964,
          24.211924270853995,
          24.231772371831866,
          24.254110851650744,
          24.640785306957294,
          25.666905392767728,
          26.210592796505143,
          26.728344935704623,
          27.314477996321386,
          27.954137868090022,
          28.590544261276605,
          28.76830297046991,
          28.95813834248183,
          29.287258609283352,
          29.330210215241333,
          29.569132478731362,
          29.921081997950758,
          30.537726531304443,
          31.070656046519346,
          32.657942988454764,
          34.20369753899166,
          35.028056269010676,
          36.251622969906876,
          37.570555482817745,
          38.7303788461481,
          42.93691638160879,
          48.13465950303739,
          63.77689968682325,
          78.50447525698895,
          137.8501957186606,
          223.8841472185286,
          357.13887231080673,
          599.1484299835003,
          1724.7061543517673,
          8806.479771939139,
          5799.092827969221,
          4651.683451148444,
          4497.989614670101,
          4542.995596592465,
          4772.54265395865,
          4755.871440788401,
          4746.303650918588,
          4940.134247911294,
          5098.807045331415,
          5061.148805924787,
          5057.003973038816,
          5102.463164863534,
          5114.533114177862,
          5130.389034794533,
          5074.325292187326,
          5240.01310647948,
          5267.641320272964,
          5077.99580084634,
          5039.059993705373,
          5034.547728160419,
          5040.5580322147825,
          5123.514227943952,
          5257.625340380278,
          5333.323301876184,
          5324.622856692827,
          5289.5858866824465,
          5371.853924382607,
          5419.988265769538,
          5455.674372189068,
          5504.088634600888,
          5574.753885650305,
          5615.583171835333,
          5637.418762991904,
          5671.814021454627,
          5609.045897363614,
          5643.6789052619215,
          5736.595391792532,
          5821.96612279181,
          5888.797898114699,
          5922.481146726827,
          6077.019144245221,
          6161.562664176856,
          6231.553833815598,
          6321.9462313141785,
          6415.194966464665,
          6473.732858934434,
          6564.652249094424,
          6610.497400198713,
          6633.821047819604,
          6613.905459700992,
          6595.364370686292,
          6687.49619754853,
          6814.351878074601,
          6928.290514434426,
          7157.972432940369,
          7329.921289876918,
          7471.033445687321,
          7491.513968566903,
          7479.4255878040685,
          7479.449388214964,
          7484.116625198048,
          7704.619658552421,
          7778.708317593607,
          7652.254795969303,
          7847.201516493513,
          7964.072929883644,
          7684.262531097562,
          7712.172241126276,
          7939.551607002998,
          8021.318773503939,
          7922.99603695696,
          8131.00626538593,
          8462.762479686688,
          8647.828929167434,
          9032.824335035362,
          9542.081983949753,
          9978.254906062757,
          9621.198327138982,
          9256.88489483167,
          8956.22707083116,
          8649.03585653788,
          8282.819556598413,
          7888.629380548509,
          7511.177355752071,
          7201.096559064253,
          6977.067028438411,
          6822.345785295489,
          6729.20898790928,
          6681.251325880454,
          6682.723900329468,
          6736.232178159498,
          6924.045268473684,
          7093.357666615717,
          7144.79962076063,
          7243.192992250859,
          7269.72336277315,
          7309.456030015601,
          7328.507287467354,
          7331.76060035361,
          7302.978078539578,
          7381.296007096023,
          7390.259135815955,
          7436.187686885999,
          7553.657240998889,
          7765.268332044534,
          7930.054335728716,
          8018.087438674546,
          8084.155720862935,
          8031.543512050412,
          7968.60538260679,
          7947.849889481327,
          7965.390872596879,
          8057.4943563338875,
          8257.41552890228,
          8503.319514270295,
          8888.474919320837,
          9204.225283119404,
          9332.903100131543,
          9398.483096377659,
          9476.37505938718,
          9757.893972789545,
          10358.213247542837,
          11240.172759530285,
          12228.37752555252,
          12840.023617185048,
          13141.628653566904,
          13199.985591587472,
          13305.477528522739,
          13295.590966228103,
          13439.751067197687,
          13603.86270372021,
          13547.202628154344,
          13408.958571435309,
          13297.416089172757,
          13157.656027083742,
          13185.75133311913,
          13528.50151493413,
          13939.07205435378,
          14244.06982799042,
          14365.842056610454,
          14812.825558216875,
          15297.815274255208,
          15445.90813389859,
          14979.853169400745,
          14150.955675895051,
          13739.898158638141,
          13461.723584926853,
          14627.176427914499,
          15560.142862591538,
          16035.474148612131,
          16618.859775809826,
          17139.34638411612,
          17213.538483526543,
          17059.2558588689,
          16830.472572080587,
          16659.949776725054,
          16001.04934944512,
          15723.895673775907,
          15217.599928749149,
          15126.587567631013,
          15234.22636428546,
          15310.517497653573,
          15734.280628814846,
          15865.455812987344,
          15861.813584347174,
          15640.918174605338,
          15695.572909561364,
          32870.571395505416,
          21935.160868439874,
          18924.662193688524,
          17809.521515402557,
          17402.531493223814,
          17470.875509918715,
          17559.460101089415,
          17653.8801062158,
          17749.09543192576,
          17810.950537506407,
          53931.50138875209,
          28256.296863197087,
          22247.32621901975,
          20115.057799676433,
          50471.7527019483,
          28132.64132095332,
          22529.369628321172,
          44869.58953549739,
          27393.256222772605,
          30054.415538964553,
          26185.996739355574,
          20630.133809593382,
          16331.133854491778,
          12055.3522254551,
          8533.327684853131,
          6326.8127063869315,
          4937.465360992338,
          3769.6616459757074,
          3023.890507889475,
          2476.1975812353826,
          2425.6320802306077
         ],
         "yaxis": "y"
        }
       ],
       "layout": {
        "annotations": [
         {
          "font": {},
          "showarrow": false,
          "text": "subset=0",
          "textangle": 90,
          "x": 0.98,
          "xanchor": "left",
          "xref": "paper",
          "y": 0.5,
          "yanchor": "middle",
          "yref": "paper"
         }
        ],
        "height": 800,
        "legend": {
         "title": {
          "text": "variable"
         },
         "tracegroupgap": 0
        },
        "margin": {
         "b": 20,
         "l": 20,
         "r": 20,
         "t": 20
        },
        "template": {
         "data": {
          "bar": [
           {
            "error_x": {
             "color": "rgb(36,36,36)"
            },
            "error_y": {
             "color": "rgb(36,36,36)"
            },
            "marker": {
             "line": {
              "color": "rgb(234,234,242)",
              "width": 0.5
             }
            },
            "type": "bar"
           }
          ],
          "barpolar": [
           {
            "marker": {
             "line": {
              "color": "rgb(234,234,242)",
              "width": 0.5
             }
            },
            "type": "barpolar"
           }
          ],
          "carpet": [
           {
            "aaxis": {
             "endlinecolor": "rgb(36,36,36)",
             "gridcolor": "white",
             "linecolor": "white",
             "minorgridcolor": "white",
             "startlinecolor": "rgb(36,36,36)"
            },
            "baxis": {
             "endlinecolor": "rgb(36,36,36)",
             "gridcolor": "white",
             "linecolor": "white",
             "minorgridcolor": "white",
             "startlinecolor": "rgb(36,36,36)"
            },
            "type": "carpet"
           }
          ],
          "choropleth": [
           {
            "colorbar": {
             "outlinewidth": 0,
             "tickcolor": "rgb(36,36,36)",
             "ticklen": 8,
             "ticks": "outside",
             "tickwidth": 2
            },
            "type": "choropleth"
           }
          ],
          "contour": [
           {
            "colorbar": {
             "outlinewidth": 0,
             "tickcolor": "rgb(36,36,36)",
             "ticklen": 8,
             "ticks": "outside",
             "tickwidth": 2
            },
            "colorscale": [
             [
              0,
              "rgb(2,4,25)"
             ],
             [
              0.06274509803921569,
              "rgb(24,15,41)"
             ],
             [
              0.12549019607843137,
              "rgb(47,23,57)"
             ],
             [
              0.18823529411764706,
              "rgb(71,28,72)"
             ],
             [
              0.25098039215686274,
              "rgb(97,30,82)"
             ],
             [
              0.3137254901960784,
              "rgb(123,30,89)"
             ],
             [
              0.3764705882352941,
              "rgb(150,27,91)"
             ],
             [
              0.4392156862745098,
              "rgb(177,22,88)"
             ],
             [
              0.5019607843137255,
              "rgb(203,26,79)"
             ],
             [
              0.5647058823529412,
              "rgb(223,47,67)"
             ],
             [
              0.6274509803921569,
              "rgb(236,76,61)"
             ],
             [
              0.6901960784313725,
              "rgb(242,107,73)"
             ],
             [
              0.7529411764705882,
              "rgb(244,135,95)"
             ],
             [
              0.8156862745098039,
              "rgb(245,162,122)"
             ],
             [
              0.8784313725490196,
              "rgb(246,188,153)"
             ],
             [
              0.9411764705882353,
              "rgb(247,212,187)"
             ],
             [
              1,
              "rgb(250,234,220)"
             ]
            ],
            "type": "contour"
           }
          ],
          "contourcarpet": [
           {
            "colorbar": {
             "outlinewidth": 0,
             "tickcolor": "rgb(36,36,36)",
             "ticklen": 8,
             "ticks": "outside",
             "tickwidth": 2
            },
            "type": "contourcarpet"
           }
          ],
          "heatmap": [
           {
            "colorbar": {
             "outlinewidth": 0,
             "tickcolor": "rgb(36,36,36)",
             "ticklen": 8,
             "ticks": "outside",
             "tickwidth": 2
            },
            "colorscale": [
             [
              0,
              "rgb(2,4,25)"
             ],
             [
              0.06274509803921569,
              "rgb(24,15,41)"
             ],
             [
              0.12549019607843137,
              "rgb(47,23,57)"
             ],
             [
              0.18823529411764706,
              "rgb(71,28,72)"
             ],
             [
              0.25098039215686274,
              "rgb(97,30,82)"
             ],
             [
              0.3137254901960784,
              "rgb(123,30,89)"
             ],
             [
              0.3764705882352941,
              "rgb(150,27,91)"
             ],
             [
              0.4392156862745098,
              "rgb(177,22,88)"
             ],
             [
              0.5019607843137255,
              "rgb(203,26,79)"
             ],
             [
              0.5647058823529412,
              "rgb(223,47,67)"
             ],
             [
              0.6274509803921569,
              "rgb(236,76,61)"
             ],
             [
              0.6901960784313725,
              "rgb(242,107,73)"
             ],
             [
              0.7529411764705882,
              "rgb(244,135,95)"
             ],
             [
              0.8156862745098039,
              "rgb(245,162,122)"
             ],
             [
              0.8784313725490196,
              "rgb(246,188,153)"
             ],
             [
              0.9411764705882353,
              "rgb(247,212,187)"
             ],
             [
              1,
              "rgb(250,234,220)"
             ]
            ],
            "type": "heatmap"
           }
          ],
          "heatmapgl": [
           {
            "colorbar": {
             "outlinewidth": 0,
             "tickcolor": "rgb(36,36,36)",
             "ticklen": 8,
             "ticks": "outside",
             "tickwidth": 2
            },
            "colorscale": [
             [
              0,
              "rgb(2,4,25)"
             ],
             [
              0.06274509803921569,
              "rgb(24,15,41)"
             ],
             [
              0.12549019607843137,
              "rgb(47,23,57)"
             ],
             [
              0.18823529411764706,
              "rgb(71,28,72)"
             ],
             [
              0.25098039215686274,
              "rgb(97,30,82)"
             ],
             [
              0.3137254901960784,
              "rgb(123,30,89)"
             ],
             [
              0.3764705882352941,
              "rgb(150,27,91)"
             ],
             [
              0.4392156862745098,
              "rgb(177,22,88)"
             ],
             [
              0.5019607843137255,
              "rgb(203,26,79)"
             ],
             [
              0.5647058823529412,
              "rgb(223,47,67)"
             ],
             [
              0.6274509803921569,
              "rgb(236,76,61)"
             ],
             [
              0.6901960784313725,
              "rgb(242,107,73)"
             ],
             [
              0.7529411764705882,
              "rgb(244,135,95)"
             ],
             [
              0.8156862745098039,
              "rgb(245,162,122)"
             ],
             [
              0.8784313725490196,
              "rgb(246,188,153)"
             ],
             [
              0.9411764705882353,
              "rgb(247,212,187)"
             ],
             [
              1,
              "rgb(250,234,220)"
             ]
            ],
            "type": "heatmapgl"
           }
          ],
          "histogram": [
           {
            "marker": {
             "colorbar": {
              "outlinewidth": 0,
              "tickcolor": "rgb(36,36,36)",
              "ticklen": 8,
              "ticks": "outside",
              "tickwidth": 2
             }
            },
            "type": "histogram"
           }
          ],
          "histogram2d": [
           {
            "colorbar": {
             "outlinewidth": 0,
             "tickcolor": "rgb(36,36,36)",
             "ticklen": 8,
             "ticks": "outside",
             "tickwidth": 2
            },
            "colorscale": [
             [
              0,
              "rgb(2,4,25)"
             ],
             [
              0.06274509803921569,
              "rgb(24,15,41)"
             ],
             [
              0.12549019607843137,
              "rgb(47,23,57)"
             ],
             [
              0.18823529411764706,
              "rgb(71,28,72)"
             ],
             [
              0.25098039215686274,
              "rgb(97,30,82)"
             ],
             [
              0.3137254901960784,
              "rgb(123,30,89)"
             ],
             [
              0.3764705882352941,
              "rgb(150,27,91)"
             ],
             [
              0.4392156862745098,
              "rgb(177,22,88)"
             ],
             [
              0.5019607843137255,
              "rgb(203,26,79)"
             ],
             [
              0.5647058823529412,
              "rgb(223,47,67)"
             ],
             [
              0.6274509803921569,
              "rgb(236,76,61)"
             ],
             [
              0.6901960784313725,
              "rgb(242,107,73)"
             ],
             [
              0.7529411764705882,
              "rgb(244,135,95)"
             ],
             [
              0.8156862745098039,
              "rgb(245,162,122)"
             ],
             [
              0.8784313725490196,
              "rgb(246,188,153)"
             ],
             [
              0.9411764705882353,
              "rgb(247,212,187)"
             ],
             [
              1,
              "rgb(250,234,220)"
             ]
            ],
            "type": "histogram2d"
           }
          ],
          "histogram2dcontour": [
           {
            "colorbar": {
             "outlinewidth": 0,
             "tickcolor": "rgb(36,36,36)",
             "ticklen": 8,
             "ticks": "outside",
             "tickwidth": 2
            },
            "colorscale": [
             [
              0,
              "rgb(2,4,25)"
             ],
             [
              0.06274509803921569,
              "rgb(24,15,41)"
             ],
             [
              0.12549019607843137,
              "rgb(47,23,57)"
             ],
             [
              0.18823529411764706,
              "rgb(71,28,72)"
             ],
             [
              0.25098039215686274,
              "rgb(97,30,82)"
             ],
             [
              0.3137254901960784,
              "rgb(123,30,89)"
             ],
             [
              0.3764705882352941,
              "rgb(150,27,91)"
             ],
             [
              0.4392156862745098,
              "rgb(177,22,88)"
             ],
             [
              0.5019607843137255,
              "rgb(203,26,79)"
             ],
             [
              0.5647058823529412,
              "rgb(223,47,67)"
             ],
             [
              0.6274509803921569,
              "rgb(236,76,61)"
             ],
             [
              0.6901960784313725,
              "rgb(242,107,73)"
             ],
             [
              0.7529411764705882,
              "rgb(244,135,95)"
             ],
             [
              0.8156862745098039,
              "rgb(245,162,122)"
             ],
             [
              0.8784313725490196,
              "rgb(246,188,153)"
             ],
             [
              0.9411764705882353,
              "rgb(247,212,187)"
             ],
             [
              1,
              "rgb(250,234,220)"
             ]
            ],
            "type": "histogram2dcontour"
           }
          ],
          "mesh3d": [
           {
            "colorbar": {
             "outlinewidth": 0,
             "tickcolor": "rgb(36,36,36)",
             "ticklen": 8,
             "ticks": "outside",
             "tickwidth": 2
            },
            "type": "mesh3d"
           }
          ],
          "parcoords": [
           {
            "line": {
             "colorbar": {
              "outlinewidth": 0,
              "tickcolor": "rgb(36,36,36)",
              "ticklen": 8,
              "ticks": "outside",
              "tickwidth": 2
             }
            },
            "type": "parcoords"
           }
          ],
          "pie": [
           {
            "automargin": true,
            "type": "pie"
           }
          ],
          "scatter": [
           {
            "marker": {
             "colorbar": {
              "outlinewidth": 0,
              "tickcolor": "rgb(36,36,36)",
              "ticklen": 8,
              "ticks": "outside",
              "tickwidth": 2
             }
            },
            "type": "scatter"
           }
          ],
          "scatter3d": [
           {
            "line": {
             "colorbar": {
              "outlinewidth": 0,
              "tickcolor": "rgb(36,36,36)",
              "ticklen": 8,
              "ticks": "outside",
              "tickwidth": 2
             }
            },
            "marker": {
             "colorbar": {
              "outlinewidth": 0,
              "tickcolor": "rgb(36,36,36)",
              "ticklen": 8,
              "ticks": "outside",
              "tickwidth": 2
             }
            },
            "type": "scatter3d"
           }
          ],
          "scattercarpet": [
           {
            "marker": {
             "colorbar": {
              "outlinewidth": 0,
              "tickcolor": "rgb(36,36,36)",
              "ticklen": 8,
              "ticks": "outside",
              "tickwidth": 2
             }
            },
            "type": "scattercarpet"
           }
          ],
          "scattergeo": [
           {
            "marker": {
             "colorbar": {
              "outlinewidth": 0,
              "tickcolor": "rgb(36,36,36)",
              "ticklen": 8,
              "ticks": "outside",
              "tickwidth": 2
             }
            },
            "type": "scattergeo"
           }
          ],
          "scattergl": [
           {
            "marker": {
             "colorbar": {
              "outlinewidth": 0,
              "tickcolor": "rgb(36,36,36)",
              "ticklen": 8,
              "ticks": "outside",
              "tickwidth": 2
             }
            },
            "type": "scattergl"
           }
          ],
          "scattermapbox": [
           {
            "marker": {
             "colorbar": {
              "outlinewidth": 0,
              "tickcolor": "rgb(36,36,36)",
              "ticklen": 8,
              "ticks": "outside",
              "tickwidth": 2
             }
            },
            "type": "scattermapbox"
           }
          ],
          "scatterpolar": [
           {
            "marker": {
             "colorbar": {
              "outlinewidth": 0,
              "tickcolor": "rgb(36,36,36)",
              "ticklen": 8,
              "ticks": "outside",
              "tickwidth": 2
             }
            },
            "type": "scatterpolar"
           }
          ],
          "scatterpolargl": [
           {
            "marker": {
             "colorbar": {
              "outlinewidth": 0,
              "tickcolor": "rgb(36,36,36)",
              "ticklen": 8,
              "ticks": "outside",
              "tickwidth": 2
             }
            },
            "type": "scatterpolargl"
           }
          ],
          "scatterternary": [
           {
            "marker": {
             "colorbar": {
              "outlinewidth": 0,
              "tickcolor": "rgb(36,36,36)",
              "ticklen": 8,
              "ticks": "outside",
              "tickwidth": 2
             }
            },
            "type": "scatterternary"
           }
          ],
          "surface": [
           {
            "colorbar": {
             "outlinewidth": 0,
             "tickcolor": "rgb(36,36,36)",
             "ticklen": 8,
             "ticks": "outside",
             "tickwidth": 2
            },
            "colorscale": [
             [
              0,
              "rgb(2,4,25)"
             ],
             [
              0.06274509803921569,
              "rgb(24,15,41)"
             ],
             [
              0.12549019607843137,
              "rgb(47,23,57)"
             ],
             [
              0.18823529411764706,
              "rgb(71,28,72)"
             ],
             [
              0.25098039215686274,
              "rgb(97,30,82)"
             ],
             [
              0.3137254901960784,
              "rgb(123,30,89)"
             ],
             [
              0.3764705882352941,
              "rgb(150,27,91)"
             ],
             [
              0.4392156862745098,
              "rgb(177,22,88)"
             ],
             [
              0.5019607843137255,
              "rgb(203,26,79)"
             ],
             [
              0.5647058823529412,
              "rgb(223,47,67)"
             ],
             [
              0.6274509803921569,
              "rgb(236,76,61)"
             ],
             [
              0.6901960784313725,
              "rgb(242,107,73)"
             ],
             [
              0.7529411764705882,
              "rgb(244,135,95)"
             ],
             [
              0.8156862745098039,
              "rgb(245,162,122)"
             ],
             [
              0.8784313725490196,
              "rgb(246,188,153)"
             ],
             [
              0.9411764705882353,
              "rgb(247,212,187)"
             ],
             [
              1,
              "rgb(250,234,220)"
             ]
            ],
            "type": "surface"
           }
          ],
          "table": [
           {
            "cells": {
             "fill": {
              "color": "rgb(231,231,240)"
             },
             "line": {
              "color": "white"
             }
            },
            "header": {
             "fill": {
              "color": "rgb(183,183,191)"
             },
             "line": {
              "color": "white"
             }
            },
            "type": "table"
           }
          ]
         },
         "layout": {
          "annotationdefaults": {
           "arrowcolor": "rgb(67,103,167)"
          },
          "coloraxis": {
           "colorbar": {
            "outlinewidth": 0,
            "tickcolor": "rgb(36,36,36)",
            "ticklen": 8,
            "ticks": "outside",
            "tickwidth": 2
           }
          },
          "colorscale": {
           "sequential": [
            [
             0,
             "rgb(2,4,25)"
            ],
            [
             0.06274509803921569,
             "rgb(24,15,41)"
            ],
            [
             0.12549019607843137,
             "rgb(47,23,57)"
            ],
            [
             0.18823529411764706,
             "rgb(71,28,72)"
            ],
            [
             0.25098039215686274,
             "rgb(97,30,82)"
            ],
            [
             0.3137254901960784,
             "rgb(123,30,89)"
            ],
            [
             0.3764705882352941,
             "rgb(150,27,91)"
            ],
            [
             0.4392156862745098,
             "rgb(177,22,88)"
            ],
            [
             0.5019607843137255,
             "rgb(203,26,79)"
            ],
            [
             0.5647058823529412,
             "rgb(223,47,67)"
            ],
            [
             0.6274509803921569,
             "rgb(236,76,61)"
            ],
            [
             0.6901960784313725,
             "rgb(242,107,73)"
            ],
            [
             0.7529411764705882,
             "rgb(244,135,95)"
            ],
            [
             0.8156862745098039,
             "rgb(245,162,122)"
            ],
            [
             0.8784313725490196,
             "rgb(246,188,153)"
            ],
            [
             0.9411764705882353,
             "rgb(247,212,187)"
            ],
            [
             1,
             "rgb(250,234,220)"
            ]
           ],
           "sequentialminus": [
            [
             0,
             "rgb(2,4,25)"
            ],
            [
             0.06274509803921569,
             "rgb(24,15,41)"
            ],
            [
             0.12549019607843137,
             "rgb(47,23,57)"
            ],
            [
             0.18823529411764706,
             "rgb(71,28,72)"
            ],
            [
             0.25098039215686274,
             "rgb(97,30,82)"
            ],
            [
             0.3137254901960784,
             "rgb(123,30,89)"
            ],
            [
             0.3764705882352941,
             "rgb(150,27,91)"
            ],
            [
             0.4392156862745098,
             "rgb(177,22,88)"
            ],
            [
             0.5019607843137255,
             "rgb(203,26,79)"
            ],
            [
             0.5647058823529412,
             "rgb(223,47,67)"
            ],
            [
             0.6274509803921569,
             "rgb(236,76,61)"
            ],
            [
             0.6901960784313725,
             "rgb(242,107,73)"
            ],
            [
             0.7529411764705882,
             "rgb(244,135,95)"
            ],
            [
             0.8156862745098039,
             "rgb(245,162,122)"
            ],
            [
             0.8784313725490196,
             "rgb(246,188,153)"
            ],
            [
             0.9411764705882353,
             "rgb(247,212,187)"
            ],
            [
             1,
             "rgb(250,234,220)"
            ]
           ]
          },
          "colorway": [
           "rgb(76,114,176)",
           "rgb(221,132,82)",
           "rgb(85,168,104)",
           "rgb(196,78,82)",
           "rgb(129,114,179)",
           "rgb(147,120,96)",
           "rgb(218,139,195)",
           "rgb(140,140,140)",
           "rgb(204,185,116)",
           "rgb(100,181,205)"
          ],
          "font": {
           "color": "rgb(36,36,36)"
          },
          "geo": {
           "bgcolor": "white",
           "lakecolor": "white",
           "landcolor": "rgb(234,234,242)",
           "showlakes": true,
           "showland": true,
           "subunitcolor": "white"
          },
          "hoverlabel": {
           "align": "left"
          },
          "hovermode": "closest",
          "paper_bgcolor": "white",
          "plot_bgcolor": "rgb(234,234,242)",
          "polar": {
           "angularaxis": {
            "gridcolor": "white",
            "linecolor": "white",
            "showgrid": true,
            "ticks": ""
           },
           "bgcolor": "rgb(234,234,242)",
           "radialaxis": {
            "gridcolor": "white",
            "linecolor": "white",
            "showgrid": true,
            "ticks": ""
           }
          },
          "scene": {
           "xaxis": {
            "backgroundcolor": "rgb(234,234,242)",
            "gridcolor": "white",
            "gridwidth": 2,
            "linecolor": "white",
            "showbackground": true,
            "showgrid": true,
            "ticks": "",
            "zerolinecolor": "white"
           },
           "yaxis": {
            "backgroundcolor": "rgb(234,234,242)",
            "gridcolor": "white",
            "gridwidth": 2,
            "linecolor": "white",
            "showbackground": true,
            "showgrid": true,
            "ticks": "",
            "zerolinecolor": "white"
           },
           "zaxis": {
            "backgroundcolor": "rgb(234,234,242)",
            "gridcolor": "white",
            "gridwidth": 2,
            "linecolor": "white",
            "showbackground": true,
            "showgrid": true,
            "ticks": "",
            "zerolinecolor": "white"
           }
          },
          "shapedefaults": {
           "fillcolor": "rgb(67,103,167)",
           "line": {
            "width": 0
           },
           "opacity": 0.5
          },
          "ternary": {
           "aaxis": {
            "gridcolor": "white",
            "linecolor": "white",
            "showgrid": true,
            "ticks": ""
           },
           "baxis": {
            "gridcolor": "white",
            "linecolor": "white",
            "showgrid": true,
            "ticks": ""
           },
           "bgcolor": "rgb(234,234,242)",
           "caxis": {
            "gridcolor": "white",
            "linecolor": "white",
            "showgrid": true,
            "ticks": ""
           }
          },
          "xaxis": {
           "automargin": true,
           "gridcolor": "white",
           "linecolor": "white",
           "showgrid": true,
           "ticks": "",
           "title": {
            "standoff": 15
           },
           "zerolinecolor": "white"
          },
          "yaxis": {
           "automargin": true,
           "gridcolor": "white",
           "linecolor": "white",
           "showgrid": true,
           "ticks": "",
           "title": {
            "standoff": 15
           },
           "zerolinecolor": "white"
          }
         }
        },
        "xaxis": {
         "anchor": "y",
         "domain": [
          0,
          0.98
         ],
         "title": {
          "text": "timestep"
         }
        },
        "yaxis": {
         "anchor": "x",
         "domain": [
          0,
          1
         ],
         "title": {
          "text": "value"
         }
        }
       }
      }
     },
     "metadata": {}
    }
   ],
   "source": [
    "fig = px.line(\n",
    "    simulation_result,\n",
    "    x='timestep',\n",
    "    y=['price', 'target_price'],\n",
    "    facet_row='subset',\n",
    "    height=800,\n",
    "    template='seaborn'\n",
    ")\n",
    "\n",
    "fig.update_layout(\n",
    "    margin=dict(l=20, r=20, t=20, b=20),\n",
    ")\n",
    "\n",
    "fig.show()"
   ]
  },
  {
   "cell_type": "code",
   "execution_count": 14,
   "metadata": {},
   "outputs": [
    {
     "output_type": "display_data",
     "data": {
      "application/vnd.plotly.v1+json": {
       "config": {
        "plotlyServerURL": "https://plot.ly"
       },
       "data": [
        {
         "hovertemplate": "variable=market_cap<br>subset=0<br>timestep=%{x}<br>value=%{y}<extra></extra>",
         "legendgroup": "market_cap",
         "line": {
          "color": "rgb(76,114,176)",
          "dash": "solid"
         },
         "mode": "lines",
         "name": "market_cap",
         "orientation": "v",
         "showlegend": true,
         "type": "scatter",
         "x": [
          0,
          1,
          2,
          3,
          4,
          5,
          6,
          7,
          8,
          9,
          10,
          11,
          12,
          13,
          14,
          15,
          16,
          17,
          18,
          19,
          20,
          21,
          22,
          23,
          24,
          25,
          26,
          27,
          28,
          29,
          30,
          31,
          32,
          33,
          34,
          35,
          36,
          37,
          38,
          39,
          40,
          41,
          42,
          43,
          44,
          45,
          46,
          47,
          48,
          49,
          50,
          51,
          52,
          53,
          54,
          55,
          56,
          57,
          58,
          59,
          60,
          61,
          62,
          63,
          64,
          65,
          66,
          67,
          68,
          69,
          70,
          71,
          72,
          73,
          74,
          75,
          76,
          77,
          78,
          79,
          80,
          81,
          82,
          83,
          84,
          85,
          86,
          87,
          88,
          89,
          90,
          91,
          92,
          93,
          94,
          95,
          96,
          97,
          98,
          99,
          100,
          101,
          102,
          103,
          104,
          105,
          106,
          107,
          108,
          109,
          110,
          111,
          112,
          113,
          114,
          115,
          116,
          117,
          118,
          119,
          120,
          121,
          122,
          123,
          124,
          125,
          126,
          127,
          128,
          129,
          130,
          131,
          132,
          133,
          134,
          135,
          136,
          137,
          138,
          139,
          140,
          141,
          142,
          143,
          144,
          145,
          146,
          147,
          148,
          149,
          150,
          151,
          152,
          153,
          154,
          155,
          156,
          157,
          158,
          159,
          160,
          161,
          162,
          163,
          164,
          165,
          166,
          167,
          168,
          169,
          170,
          171,
          172,
          173,
          174,
          175,
          176,
          177,
          178,
          179,
          180,
          181,
          182,
          183,
          184,
          185,
          186,
          187,
          188,
          189,
          190,
          191,
          192,
          193,
          194,
          195,
          196,
          197,
          198,
          199,
          200,
          201,
          202,
          203,
          204,
          205,
          206,
          207,
          208,
          209,
          210,
          211,
          212,
          213,
          214,
          215,
          216,
          217,
          218,
          219,
          220,
          221,
          222,
          223,
          224,
          225,
          226,
          227,
          228,
          229,
          230,
          231,
          232,
          233,
          234,
          235,
          236,
          237,
          238,
          239,
          240
         ],
         "xaxis": "x",
         "y": [
          262380,
          362141.34238349454,
          276101.8819898069,
          331869.5741665564,
          448235.64336018,
          488624.62673447933,
          599363.9920978793,
          631224.3104354258,
          528082.4519091619,
          598524.8544573096,
          395001.3420587214,
          231584.22110650723,
          290936.8130663008,
          293338.0621728406,
          279988.1879517633,
          269156.3510604737,
          267183.84775531676,
          359857.300021745,
          384671.6603226836,
          378196.3066352925,
          503729.8632967035,
          503185.006820967,
          525777.5436956927,
          502676.2282261439,
          576478.445546151,
          410040.9211494873,
          430303.7959212473,
          593805.4245361103,
          591035.6798090809,
          653740.3205025963,
          804831.5454855534,
          503151.4307951361,
          488363.328609119,
          270076.00336284016,
          342829.2890470284,
          182428.64333168947,
          228413.24244564967,
          273011.117152383,
          316920.92282519204,
          284006.1268588726,
          350591.35079507617,
          442404.1259511161,
          711621.4004404914,
          510353.5659734344,
          453755.32820099266,
          298319.5832630652,
          420610.0955484659,
          444129.90899029415,
          288574.9153401526,
          260591.22952963473,
          364739.5432060333,
          371152.4926667904,
          351451.7006968339,
          375478.6290259793,
          385013.54148204235,
          457252.65736311674,
          315062.43019893765,
          376589.811058254,
          578402.7974410986,
          583379.8089391439,
          621043.547120759,
          672474.8981113363,
          607377.5129960228,
          494967.17265575565,
          514170.4519315067,
          630604.5841933269,
          750905.1249637544,
          618988.1995667779,
          655649.8988383096,
          688485.1721533473,
          679556.338683304,
          626418.8023283938,
          670144.2599438035,
          732305.9360160448,
          744214.8664526258,
          1093651.6211077557,
          1044752.6764479952,
          874074.4023496931,
          814990.8899389802,
          814570.8722210908,
          925600.6246081775,
          436053.9077539875,
          518576.47870895534,
          516276.2320706074,
          435559.96705948666,
          393559.12232926104,
          439520.56197487784,
          379092.8399132263,
          435598.1396266084,
          482077.65431346634,
          576901.4069257539,
          642282.733421982,
          521789.5835107714,
          434486.0654474464,
          403411.384994209,
          231717.89585225043,
          235560.77062395157,
          239830.88935025738,
          315305.0265310646,
          356869.90109426907,
          375400.56492119544,
          393702.038887769,
          275800.88757381315,
          319866.8473128947,
          431674.3424324718,
          304518.2222917134,
          313352.0069339147,
          516428.8917692822,
          453246.84873361985,
          341315.6364156902,
          379003.1584616793,
          484369.01140184735,
          348137.7208416342,
          240550.602841311,
          259895.91985179132,
          163959.48203634738,
          102002.40698074961,
          103580.65049944786,
          102417.00886671855,
          132246.06385946524,
          102353.03922822126,
          60200.65496301393,
          45132.346284899395,
          44294.533541693636,
          60329.158917215274,
          79046.91472548225,
          88702.34612872433,
          100686.07443054573,
          107507.24242105585,
          122304.54898226734,
          139175.55492270875,
          203357.51286929575,
          163654.58347784673,
          106304.05971779446,
          158636.37420096179,
          110443.31398150882,
          132415.55634051724,
          117813.92797496478,
          112594.015409167,
          97062.7350501182,
          158220.9266042791,
          98614.47675714102,
          131621.26983454716,
          160405.3053441574,
          194028.53983270228,
          153481.19346388357,
          128146.50480405205,
          133779.05235448564,
          80695.91688320863,
          95390.72310508369,
          114170.43567554015,
          122150.6511918545,
          149564.46538132886,
          186596.76800290134,
          188806.44689452645,
          246372.24766984553,
          194176.26900123255,
          131339.3701536732,
          140186.19960093,
          156182.88570482392,
          239680.70281947384,
          344959.00827247783,
          430141.22304465785,
          461759.2427550669,
          283189.8619601633,
          232748.85444884785,
          188918.30596997985,
          255954.08360338138,
          195436.66496223127,
          280564.0655955272,
          263110.3573130578,
          164518.99087944187,
          166068.24554948974,
          184305.22901903623,
          163825.55805734658,
          226577.5852506522,
          322732.16874777246,
          307822.81489892805,
          260982.89381767652,
          307323.16930320684,
          384414.20585752925,
          285073.6969169665,
          253027.55929687864,
          276667.131747975,
          371560.4334538559,
          512795.4333414686,
          580284.7501722992,
          692316.0166691557,
          269190.74536509544,
          201540.38950124473,
          235098.1489024095,
          187918.16966080462,
          177563.93659910775,
          232523.77556903273,
          277234.9065445628,
          313347.6068427787,
          335234.90922497195,
          455287.60248671006,
          482584.958354997,
          629889.4660240181,
          667772.5572619671,
          691335.4882433248,
          769956.8325237813,
          628250.049070585,
          736907.9720080069,
          879400.1659890304,
          1268406.3462660178,
          1418044.3766252236,
          1942875.7414733435,
          2303985.8765082187,
          1704412.3240288026,
          1701195.4325611384,
          1717370.6729378626,
          725805.2359820156,
          837123.2685656267,
          941042.3469478395,
          1041335.6923222876,
          1284048.209299531,
          1921128.8939880675,
          1698337.8761837531,
          1389535.2036436994,
          1480969.5905899908,
          2135744.8806204554,
          2308613.84598522,
          2263111.6154119,
          2434935.0093239886,
          2781596.768298118,
          3493600.7622288996,
          4260627.2917784825,
          4876792.180647359,
          5099625.217610619,
          6121038.437081325,
          7746165.8468994,
          8135360.8505209265,
          7984915.228466251,
          10678468.591326652,
          9947064.546947759,
          10440119.411566878,
          4666474.715754231,
          5296124.360519129,
          5611945.063858367
         ],
         "yaxis": "y"
        },
        {
         "hovertemplate": "variable=size<br>subset=0<br>timestep=%{x}<br>value=%{y}<extra></extra>",
         "legendgroup": "size",
         "line": {
          "color": "rgb(221,132,82)",
          "dash": "solid"
         },
         "mode": "lines",
         "name": "size",
         "orientation": "v",
         "showlegend": true,
         "type": "scatter",
         "x": [
          0,
          1,
          2,
          3,
          4,
          5,
          6,
          7,
          8,
          9,
          10,
          11,
          12,
          13,
          14,
          15,
          16,
          17,
          18,
          19,
          20,
          21,
          22,
          23,
          24,
          25,
          26,
          27,
          28,
          29,
          30,
          31,
          32,
          33,
          34,
          35,
          36,
          37,
          38,
          39,
          40,
          41,
          42,
          43,
          44,
          45,
          46,
          47,
          48,
          49,
          50,
          51,
          52,
          53,
          54,
          55,
          56,
          57,
          58,
          59,
          60,
          61,
          62,
          63,
          64,
          65,
          66,
          67,
          68,
          69,
          70,
          71,
          72,
          73,
          74,
          75,
          76,
          77,
          78,
          79,
          80,
          81,
          82,
          83,
          84,
          85,
          86,
          87,
          88,
          89,
          90,
          91,
          92,
          93,
          94,
          95,
          96,
          97,
          98,
          99,
          100,
          101,
          102,
          103,
          104,
          105,
          106,
          107,
          108,
          109,
          110,
          111,
          112,
          113,
          114,
          115,
          116,
          117,
          118,
          119,
          120,
          121,
          122,
          123,
          124,
          125,
          126,
          127,
          128,
          129,
          130,
          131,
          132,
          133,
          134,
          135,
          136,
          137,
          138,
          139,
          140,
          141,
          142,
          143,
          144,
          145,
          146,
          147,
          148,
          149,
          150,
          151,
          152,
          153,
          154,
          155,
          156,
          157,
          158,
          159,
          160,
          161,
          162,
          163,
          164,
          165,
          166,
          167,
          168,
          169,
          170,
          171,
          172,
          173,
          174,
          175,
          176,
          177,
          178,
          179,
          180,
          181,
          182,
          183,
          184,
          185,
          186,
          187,
          188,
          189,
          190,
          191,
          192,
          193,
          194,
          195,
          196,
          197,
          198,
          199,
          200,
          201,
          202,
          203,
          204,
          205,
          206,
          207,
          208,
          209,
          210,
          211,
          212,
          213,
          214,
          215,
          216,
          217,
          218,
          219,
          220,
          221,
          222,
          223,
          224,
          225,
          226,
          227,
          228,
          229,
          230,
          231,
          232,
          233,
          234,
          235,
          236,
          237,
          238,
          239,
          240
         ],
         "xaxis": "x",
         "y": [
          100000,
          100000,
          100000,
          100000,
          100000,
          100000,
          100000,
          100000,
          100000,
          100000,
          100000,
          100000,
          100000,
          100000,
          100000,
          100000,
          100000,
          100000,
          100000,
          100000,
          100000,
          100000,
          100000,
          100000,
          100000,
          100000,
          100000,
          100000,
          100000,
          100000,
          100000,
          100000,
          100000,
          100000,
          100000,
          100000,
          100000,
          100000,
          100000,
          100000,
          100000,
          100000,
          100000,
          100000,
          100000,
          100000,
          100000,
          100000,
          100000,
          100000,
          100000,
          100000,
          100000,
          100000,
          100000,
          100000,
          100000,
          100000,
          100000,
          100000,
          100000,
          100000,
          100000,
          100000,
          100000,
          100000,
          100000,
          100000,
          100000,
          100000,
          100000,
          100000,
          100000,
          100000,
          100000,
          100000,
          100000,
          100000,
          100000,
          100000,
          100000,
          100000,
          100000,
          100000,
          100000,
          100000,
          100000,
          100000,
          100000,
          100000,
          100000,
          100000,
          100000,
          100000,
          100000,
          100000,
          100000,
          100000,
          100000,
          100000,
          100000,
          100000,
          100000,
          100000,
          100000,
          100000,
          100000,
          100000,
          100000,
          100000,
          100000,
          100000,
          100000,
          100000,
          100000,
          100000,
          100000,
          100000,
          100000,
          100000,
          100000,
          100000,
          100000,
          100000,
          100000,
          100000,
          100000,
          100000,
          100000,
          100000,
          100000,
          100000,
          100000,
          100000,
          100000,
          100000,
          100000,
          100000,
          100000,
          100000,
          100000,
          100000,
          100000,
          100000,
          100000,
          100000,
          100000,
          100000,
          100000,
          100000,
          100000,
          100000,
          100000,
          100000,
          100000,
          100000,
          100000,
          100000,
          100000,
          100000,
          100000,
          100000,
          100000,
          100000,
          100000,
          100000,
          100000,
          100000,
          100000,
          100000,
          100000,
          100000,
          100000,
          100000,
          100000,
          100000,
          100000,
          100000,
          100000,
          100000,
          100000,
          100000,
          100000,
          100000,
          100000,
          100000,
          100000,
          100000,
          100000,
          100000,
          100000,
          100000,
          100000,
          100000,
          100000,
          100000,
          100000,
          100000,
          100000,
          100000,
          100000,
          100000,
          100000,
          100000,
          100000,
          100000,
          100000,
          100000,
          100000,
          100000,
          100000,
          100000,
          100000,
          100000,
          100000,
          100000,
          100000,
          100000,
          100000,
          100000,
          100000,
          100000,
          100000,
          100000,
          100000,
          100000,
          100000,
          100000,
          100000,
          100000,
          100000,
          100000,
          100000,
          100000,
          100000,
          100000,
          100000,
          100000,
          100000,
          100000,
          100000
         ],
         "yaxis": "y"
        }
       ],
       "layout": {
        "annotations": [
         {
          "font": {},
          "showarrow": false,
          "text": "subset=0",
          "textangle": 90,
          "x": 0.98,
          "xanchor": "left",
          "xref": "paper",
          "y": 0.5,
          "yanchor": "middle",
          "yref": "paper"
         }
        ],
        "height": 800,
        "legend": {
         "title": {
          "text": "variable"
         },
         "tracegroupgap": 0
        },
        "margin": {
         "b": 20,
         "l": 20,
         "r": 20,
         "t": 20
        },
        "template": {
         "data": {
          "bar": [
           {
            "error_x": {
             "color": "rgb(36,36,36)"
            },
            "error_y": {
             "color": "rgb(36,36,36)"
            },
            "marker": {
             "line": {
              "color": "rgb(234,234,242)",
              "width": 0.5
             }
            },
            "type": "bar"
           }
          ],
          "barpolar": [
           {
            "marker": {
             "line": {
              "color": "rgb(234,234,242)",
              "width": 0.5
             }
            },
            "type": "barpolar"
           }
          ],
          "carpet": [
           {
            "aaxis": {
             "endlinecolor": "rgb(36,36,36)",
             "gridcolor": "white",
             "linecolor": "white",
             "minorgridcolor": "white",
             "startlinecolor": "rgb(36,36,36)"
            },
            "baxis": {
             "endlinecolor": "rgb(36,36,36)",
             "gridcolor": "white",
             "linecolor": "white",
             "minorgridcolor": "white",
             "startlinecolor": "rgb(36,36,36)"
            },
            "type": "carpet"
           }
          ],
          "choropleth": [
           {
            "colorbar": {
             "outlinewidth": 0,
             "tickcolor": "rgb(36,36,36)",
             "ticklen": 8,
             "ticks": "outside",
             "tickwidth": 2
            },
            "type": "choropleth"
           }
          ],
          "contour": [
           {
            "colorbar": {
             "outlinewidth": 0,
             "tickcolor": "rgb(36,36,36)",
             "ticklen": 8,
             "ticks": "outside",
             "tickwidth": 2
            },
            "colorscale": [
             [
              0,
              "rgb(2,4,25)"
             ],
             [
              0.06274509803921569,
              "rgb(24,15,41)"
             ],
             [
              0.12549019607843137,
              "rgb(47,23,57)"
             ],
             [
              0.18823529411764706,
              "rgb(71,28,72)"
             ],
             [
              0.25098039215686274,
              "rgb(97,30,82)"
             ],
             [
              0.3137254901960784,
              "rgb(123,30,89)"
             ],
             [
              0.3764705882352941,
              "rgb(150,27,91)"
             ],
             [
              0.4392156862745098,
              "rgb(177,22,88)"
             ],
             [
              0.5019607843137255,
              "rgb(203,26,79)"
             ],
             [
              0.5647058823529412,
              "rgb(223,47,67)"
             ],
             [
              0.6274509803921569,
              "rgb(236,76,61)"
             ],
             [
              0.6901960784313725,
              "rgb(242,107,73)"
             ],
             [
              0.7529411764705882,
              "rgb(244,135,95)"
             ],
             [
              0.8156862745098039,
              "rgb(245,162,122)"
             ],
             [
              0.8784313725490196,
              "rgb(246,188,153)"
             ],
             [
              0.9411764705882353,
              "rgb(247,212,187)"
             ],
             [
              1,
              "rgb(250,234,220)"
             ]
            ],
            "type": "contour"
           }
          ],
          "contourcarpet": [
           {
            "colorbar": {
             "outlinewidth": 0,
             "tickcolor": "rgb(36,36,36)",
             "ticklen": 8,
             "ticks": "outside",
             "tickwidth": 2
            },
            "type": "contourcarpet"
           }
          ],
          "heatmap": [
           {
            "colorbar": {
             "outlinewidth": 0,
             "tickcolor": "rgb(36,36,36)",
             "ticklen": 8,
             "ticks": "outside",
             "tickwidth": 2
            },
            "colorscale": [
             [
              0,
              "rgb(2,4,25)"
             ],
             [
              0.06274509803921569,
              "rgb(24,15,41)"
             ],
             [
              0.12549019607843137,
              "rgb(47,23,57)"
             ],
             [
              0.18823529411764706,
              "rgb(71,28,72)"
             ],
             [
              0.25098039215686274,
              "rgb(97,30,82)"
             ],
             [
              0.3137254901960784,
              "rgb(123,30,89)"
             ],
             [
              0.3764705882352941,
              "rgb(150,27,91)"
             ],
             [
              0.4392156862745098,
              "rgb(177,22,88)"
             ],
             [
              0.5019607843137255,
              "rgb(203,26,79)"
             ],
             [
              0.5647058823529412,
              "rgb(223,47,67)"
             ],
             [
              0.6274509803921569,
              "rgb(236,76,61)"
             ],
             [
              0.6901960784313725,
              "rgb(242,107,73)"
             ],
             [
              0.7529411764705882,
              "rgb(244,135,95)"
             ],
             [
              0.8156862745098039,
              "rgb(245,162,122)"
             ],
             [
              0.8784313725490196,
              "rgb(246,188,153)"
             ],
             [
              0.9411764705882353,
              "rgb(247,212,187)"
             ],
             [
              1,
              "rgb(250,234,220)"
             ]
            ],
            "type": "heatmap"
           }
          ],
          "heatmapgl": [
           {
            "colorbar": {
             "outlinewidth": 0,
             "tickcolor": "rgb(36,36,36)",
             "ticklen": 8,
             "ticks": "outside",
             "tickwidth": 2
            },
            "colorscale": [
             [
              0,
              "rgb(2,4,25)"
             ],
             [
              0.06274509803921569,
              "rgb(24,15,41)"
             ],
             [
              0.12549019607843137,
              "rgb(47,23,57)"
             ],
             [
              0.18823529411764706,
              "rgb(71,28,72)"
             ],
             [
              0.25098039215686274,
              "rgb(97,30,82)"
             ],
             [
              0.3137254901960784,
              "rgb(123,30,89)"
             ],
             [
              0.3764705882352941,
              "rgb(150,27,91)"
             ],
             [
              0.4392156862745098,
              "rgb(177,22,88)"
             ],
             [
              0.5019607843137255,
              "rgb(203,26,79)"
             ],
             [
              0.5647058823529412,
              "rgb(223,47,67)"
             ],
             [
              0.6274509803921569,
              "rgb(236,76,61)"
             ],
             [
              0.6901960784313725,
              "rgb(242,107,73)"
             ],
             [
              0.7529411764705882,
              "rgb(244,135,95)"
             ],
             [
              0.8156862745098039,
              "rgb(245,162,122)"
             ],
             [
              0.8784313725490196,
              "rgb(246,188,153)"
             ],
             [
              0.9411764705882353,
              "rgb(247,212,187)"
             ],
             [
              1,
              "rgb(250,234,220)"
             ]
            ],
            "type": "heatmapgl"
           }
          ],
          "histogram": [
           {
            "marker": {
             "colorbar": {
              "outlinewidth": 0,
              "tickcolor": "rgb(36,36,36)",
              "ticklen": 8,
              "ticks": "outside",
              "tickwidth": 2
             }
            },
            "type": "histogram"
           }
          ],
          "histogram2d": [
           {
            "colorbar": {
             "outlinewidth": 0,
             "tickcolor": "rgb(36,36,36)",
             "ticklen": 8,
             "ticks": "outside",
             "tickwidth": 2
            },
            "colorscale": [
             [
              0,
              "rgb(2,4,25)"
             ],
             [
              0.06274509803921569,
              "rgb(24,15,41)"
             ],
             [
              0.12549019607843137,
              "rgb(47,23,57)"
             ],
             [
              0.18823529411764706,
              "rgb(71,28,72)"
             ],
             [
              0.25098039215686274,
              "rgb(97,30,82)"
             ],
             [
              0.3137254901960784,
              "rgb(123,30,89)"
             ],
             [
              0.3764705882352941,
              "rgb(150,27,91)"
             ],
             [
              0.4392156862745098,
              "rgb(177,22,88)"
             ],
             [
              0.5019607843137255,
              "rgb(203,26,79)"
             ],
             [
              0.5647058823529412,
              "rgb(223,47,67)"
             ],
             [
              0.6274509803921569,
              "rgb(236,76,61)"
             ],
             [
              0.6901960784313725,
              "rgb(242,107,73)"
             ],
             [
              0.7529411764705882,
              "rgb(244,135,95)"
             ],
             [
              0.8156862745098039,
              "rgb(245,162,122)"
             ],
             [
              0.8784313725490196,
              "rgb(246,188,153)"
             ],
             [
              0.9411764705882353,
              "rgb(247,212,187)"
             ],
             [
              1,
              "rgb(250,234,220)"
             ]
            ],
            "type": "histogram2d"
           }
          ],
          "histogram2dcontour": [
           {
            "colorbar": {
             "outlinewidth": 0,
             "tickcolor": "rgb(36,36,36)",
             "ticklen": 8,
             "ticks": "outside",
             "tickwidth": 2
            },
            "colorscale": [
             [
              0,
              "rgb(2,4,25)"
             ],
             [
              0.06274509803921569,
              "rgb(24,15,41)"
             ],
             [
              0.12549019607843137,
              "rgb(47,23,57)"
             ],
             [
              0.18823529411764706,
              "rgb(71,28,72)"
             ],
             [
              0.25098039215686274,
              "rgb(97,30,82)"
             ],
             [
              0.3137254901960784,
              "rgb(123,30,89)"
             ],
             [
              0.3764705882352941,
              "rgb(150,27,91)"
             ],
             [
              0.4392156862745098,
              "rgb(177,22,88)"
             ],
             [
              0.5019607843137255,
              "rgb(203,26,79)"
             ],
             [
              0.5647058823529412,
              "rgb(223,47,67)"
             ],
             [
              0.6274509803921569,
              "rgb(236,76,61)"
             ],
             [
              0.6901960784313725,
              "rgb(242,107,73)"
             ],
             [
              0.7529411764705882,
              "rgb(244,135,95)"
             ],
             [
              0.8156862745098039,
              "rgb(245,162,122)"
             ],
             [
              0.8784313725490196,
              "rgb(246,188,153)"
             ],
             [
              0.9411764705882353,
              "rgb(247,212,187)"
             ],
             [
              1,
              "rgb(250,234,220)"
             ]
            ],
            "type": "histogram2dcontour"
           }
          ],
          "mesh3d": [
           {
            "colorbar": {
             "outlinewidth": 0,
             "tickcolor": "rgb(36,36,36)",
             "ticklen": 8,
             "ticks": "outside",
             "tickwidth": 2
            },
            "type": "mesh3d"
           }
          ],
          "parcoords": [
           {
            "line": {
             "colorbar": {
              "outlinewidth": 0,
              "tickcolor": "rgb(36,36,36)",
              "ticklen": 8,
              "ticks": "outside",
              "tickwidth": 2
             }
            },
            "type": "parcoords"
           }
          ],
          "pie": [
           {
            "automargin": true,
            "type": "pie"
           }
          ],
          "scatter": [
           {
            "marker": {
             "colorbar": {
              "outlinewidth": 0,
              "tickcolor": "rgb(36,36,36)",
              "ticklen": 8,
              "ticks": "outside",
              "tickwidth": 2
             }
            },
            "type": "scatter"
           }
          ],
          "scatter3d": [
           {
            "line": {
             "colorbar": {
              "outlinewidth": 0,
              "tickcolor": "rgb(36,36,36)",
              "ticklen": 8,
              "ticks": "outside",
              "tickwidth": 2
             }
            },
            "marker": {
             "colorbar": {
              "outlinewidth": 0,
              "tickcolor": "rgb(36,36,36)",
              "ticklen": 8,
              "ticks": "outside",
              "tickwidth": 2
             }
            },
            "type": "scatter3d"
           }
          ],
          "scattercarpet": [
           {
            "marker": {
             "colorbar": {
              "outlinewidth": 0,
              "tickcolor": "rgb(36,36,36)",
              "ticklen": 8,
              "ticks": "outside",
              "tickwidth": 2
             }
            },
            "type": "scattercarpet"
           }
          ],
          "scattergeo": [
           {
            "marker": {
             "colorbar": {
              "outlinewidth": 0,
              "tickcolor": "rgb(36,36,36)",
              "ticklen": 8,
              "ticks": "outside",
              "tickwidth": 2
             }
            },
            "type": "scattergeo"
           }
          ],
          "scattergl": [
           {
            "marker": {
             "colorbar": {
              "outlinewidth": 0,
              "tickcolor": "rgb(36,36,36)",
              "ticklen": 8,
              "ticks": "outside",
              "tickwidth": 2
             }
            },
            "type": "scattergl"
           }
          ],
          "scattermapbox": [
           {
            "marker": {
             "colorbar": {
              "outlinewidth": 0,
              "tickcolor": "rgb(36,36,36)",
              "ticklen": 8,
              "ticks": "outside",
              "tickwidth": 2
             }
            },
            "type": "scattermapbox"
           }
          ],
          "scatterpolar": [
           {
            "marker": {
             "colorbar": {
              "outlinewidth": 0,
              "tickcolor": "rgb(36,36,36)",
              "ticklen": 8,
              "ticks": "outside",
              "tickwidth": 2
             }
            },
            "type": "scatterpolar"
           }
          ],
          "scatterpolargl": [
           {
            "marker": {
             "colorbar": {
              "outlinewidth": 0,
              "tickcolor": "rgb(36,36,36)",
              "ticklen": 8,
              "ticks": "outside",
              "tickwidth": 2
             }
            },
            "type": "scatterpolargl"
           }
          ],
          "scatterternary": [
           {
            "marker": {
             "colorbar": {
              "outlinewidth": 0,
              "tickcolor": "rgb(36,36,36)",
              "ticklen": 8,
              "ticks": "outside",
              "tickwidth": 2
             }
            },
            "type": "scatterternary"
           }
          ],
          "surface": [
           {
            "colorbar": {
             "outlinewidth": 0,
             "tickcolor": "rgb(36,36,36)",
             "ticklen": 8,
             "ticks": "outside",
             "tickwidth": 2
            },
            "colorscale": [
             [
              0,
              "rgb(2,4,25)"
             ],
             [
              0.06274509803921569,
              "rgb(24,15,41)"
             ],
             [
              0.12549019607843137,
              "rgb(47,23,57)"
             ],
             [
              0.18823529411764706,
              "rgb(71,28,72)"
             ],
             [
              0.25098039215686274,
              "rgb(97,30,82)"
             ],
             [
              0.3137254901960784,
              "rgb(123,30,89)"
             ],
             [
              0.3764705882352941,
              "rgb(150,27,91)"
             ],
             [
              0.4392156862745098,
              "rgb(177,22,88)"
             ],
             [
              0.5019607843137255,
              "rgb(203,26,79)"
             ],
             [
              0.5647058823529412,
              "rgb(223,47,67)"
             ],
             [
              0.6274509803921569,
              "rgb(236,76,61)"
             ],
             [
              0.6901960784313725,
              "rgb(242,107,73)"
             ],
             [
              0.7529411764705882,
              "rgb(244,135,95)"
             ],
             [
              0.8156862745098039,
              "rgb(245,162,122)"
             ],
             [
              0.8784313725490196,
              "rgb(246,188,153)"
             ],
             [
              0.9411764705882353,
              "rgb(247,212,187)"
             ],
             [
              1,
              "rgb(250,234,220)"
             ]
            ],
            "type": "surface"
           }
          ],
          "table": [
           {
            "cells": {
             "fill": {
              "color": "rgb(231,231,240)"
             },
             "line": {
              "color": "white"
             }
            },
            "header": {
             "fill": {
              "color": "rgb(183,183,191)"
             },
             "line": {
              "color": "white"
             }
            },
            "type": "table"
           }
          ]
         },
         "layout": {
          "annotationdefaults": {
           "arrowcolor": "rgb(67,103,167)"
          },
          "coloraxis": {
           "colorbar": {
            "outlinewidth": 0,
            "tickcolor": "rgb(36,36,36)",
            "ticklen": 8,
            "ticks": "outside",
            "tickwidth": 2
           }
          },
          "colorscale": {
           "sequential": [
            [
             0,
             "rgb(2,4,25)"
            ],
            [
             0.06274509803921569,
             "rgb(24,15,41)"
            ],
            [
             0.12549019607843137,
             "rgb(47,23,57)"
            ],
            [
             0.18823529411764706,
             "rgb(71,28,72)"
            ],
            [
             0.25098039215686274,
             "rgb(97,30,82)"
            ],
            [
             0.3137254901960784,
             "rgb(123,30,89)"
            ],
            [
             0.3764705882352941,
             "rgb(150,27,91)"
            ],
            [
             0.4392156862745098,
             "rgb(177,22,88)"
            ],
            [
             0.5019607843137255,
             "rgb(203,26,79)"
            ],
            [
             0.5647058823529412,
             "rgb(223,47,67)"
            ],
            [
             0.6274509803921569,
             "rgb(236,76,61)"
            ],
            [
             0.6901960784313725,
             "rgb(242,107,73)"
            ],
            [
             0.7529411764705882,
             "rgb(244,135,95)"
            ],
            [
             0.8156862745098039,
             "rgb(245,162,122)"
            ],
            [
             0.8784313725490196,
             "rgb(246,188,153)"
            ],
            [
             0.9411764705882353,
             "rgb(247,212,187)"
            ],
            [
             1,
             "rgb(250,234,220)"
            ]
           ],
           "sequentialminus": [
            [
             0,
             "rgb(2,4,25)"
            ],
            [
             0.06274509803921569,
             "rgb(24,15,41)"
            ],
            [
             0.12549019607843137,
             "rgb(47,23,57)"
            ],
            [
             0.18823529411764706,
             "rgb(71,28,72)"
            ],
            [
             0.25098039215686274,
             "rgb(97,30,82)"
            ],
            [
             0.3137254901960784,
             "rgb(123,30,89)"
            ],
            [
             0.3764705882352941,
             "rgb(150,27,91)"
            ],
            [
             0.4392156862745098,
             "rgb(177,22,88)"
            ],
            [
             0.5019607843137255,
             "rgb(203,26,79)"
            ],
            [
             0.5647058823529412,
             "rgb(223,47,67)"
            ],
            [
             0.6274509803921569,
             "rgb(236,76,61)"
            ],
            [
             0.6901960784313725,
             "rgb(242,107,73)"
            ],
            [
             0.7529411764705882,
             "rgb(244,135,95)"
            ],
            [
             0.8156862745098039,
             "rgb(245,162,122)"
            ],
            [
             0.8784313725490196,
             "rgb(246,188,153)"
            ],
            [
             0.9411764705882353,
             "rgb(247,212,187)"
            ],
            [
             1,
             "rgb(250,234,220)"
            ]
           ]
          },
          "colorway": [
           "rgb(76,114,176)",
           "rgb(221,132,82)",
           "rgb(85,168,104)",
           "rgb(196,78,82)",
           "rgb(129,114,179)",
           "rgb(147,120,96)",
           "rgb(218,139,195)",
           "rgb(140,140,140)",
           "rgb(204,185,116)",
           "rgb(100,181,205)"
          ],
          "font": {
           "color": "rgb(36,36,36)"
          },
          "geo": {
           "bgcolor": "white",
           "lakecolor": "white",
           "landcolor": "rgb(234,234,242)",
           "showlakes": true,
           "showland": true,
           "subunitcolor": "white"
          },
          "hoverlabel": {
           "align": "left"
          },
          "hovermode": "closest",
          "paper_bgcolor": "white",
          "plot_bgcolor": "rgb(234,234,242)",
          "polar": {
           "angularaxis": {
            "gridcolor": "white",
            "linecolor": "white",
            "showgrid": true,
            "ticks": ""
           },
           "bgcolor": "rgb(234,234,242)",
           "radialaxis": {
            "gridcolor": "white",
            "linecolor": "white",
            "showgrid": true,
            "ticks": ""
           }
          },
          "scene": {
           "xaxis": {
            "backgroundcolor": "rgb(234,234,242)",
            "gridcolor": "white",
            "gridwidth": 2,
            "linecolor": "white",
            "showbackground": true,
            "showgrid": true,
            "ticks": "",
            "zerolinecolor": "white"
           },
           "yaxis": {
            "backgroundcolor": "rgb(234,234,242)",
            "gridcolor": "white",
            "gridwidth": 2,
            "linecolor": "white",
            "showbackground": true,
            "showgrid": true,
            "ticks": "",
            "zerolinecolor": "white"
           },
           "zaxis": {
            "backgroundcolor": "rgb(234,234,242)",
            "gridcolor": "white",
            "gridwidth": 2,
            "linecolor": "white",
            "showbackground": true,
            "showgrid": true,
            "ticks": "",
            "zerolinecolor": "white"
           }
          },
          "shapedefaults": {
           "fillcolor": "rgb(67,103,167)",
           "line": {
            "width": 0
           },
           "opacity": 0.5
          },
          "ternary": {
           "aaxis": {
            "gridcolor": "white",
            "linecolor": "white",
            "showgrid": true,
            "ticks": ""
           },
           "baxis": {
            "gridcolor": "white",
            "linecolor": "white",
            "showgrid": true,
            "ticks": ""
           },
           "bgcolor": "rgb(234,234,242)",
           "caxis": {
            "gridcolor": "white",
            "linecolor": "white",
            "showgrid": true,
            "ticks": ""
           }
          },
          "xaxis": {
           "automargin": true,
           "gridcolor": "white",
           "linecolor": "white",
           "showgrid": true,
           "ticks": "",
           "title": {
            "standoff": 15
           },
           "zerolinecolor": "white"
          },
          "yaxis": {
           "automargin": true,
           "gridcolor": "white",
           "linecolor": "white",
           "showgrid": true,
           "ticks": "",
           "title": {
            "standoff": 15
           },
           "zerolinecolor": "white"
          }
         }
        },
        "xaxis": {
         "anchor": "y",
         "domain": [
          0,
          0.98
         ],
         "title": {
          "text": "timestep"
         }
        },
        "yaxis": {
         "anchor": "x",
         "domain": [
          0,
          1
         ],
         "title": {
          "text": "value"
         }
        }
       }
      }
     },
     "metadata": {}
    }
   ],
   "source": [
    "fig = px.line(\n",
    "    simulation_result,\n",
    "    x='timestep',\n",
    "    y=['market_cap', 'size'],\n",
    "    facet_row='subset',\n",
    "    height=800,\n",
    "    template='seaborn'\n",
    ")\n",
    "\n",
    "fig.update_layout(\n",
    "    margin=dict(l=20, r=20, t=20, b=20),\n",
    ")\n",
    "\n",
    "fig.show()"
   ]
  },
  {
   "cell_type": "code",
   "execution_count": 15,
   "metadata": {},
   "outputs": [
    {
     "output_type": "display_data",
     "data": {
      "application/vnd.plotly.v1+json": {
       "config": {
        "plotlyServerURL": "https://plot.ly"
       },
       "data": [
        {
         "hovertemplate": "variable=utility<br>subset=0<br>timestep=%{x}<br>value=%{y}<extra></extra>",
         "legendgroup": "utility",
         "line": {
          "color": "rgb(76,114,176)",
          "dash": "solid"
         },
         "mode": "lines",
         "name": "utility",
         "orientation": "v",
         "showlegend": true,
         "type": "scatter",
         "x": [
          0,
          1,
          2,
          3,
          4,
          5,
          6,
          7,
          8,
          9,
          10,
          11,
          12,
          13,
          14,
          15,
          16,
          17,
          18,
          19,
          20,
          21,
          22,
          23,
          24,
          25,
          26,
          27,
          28,
          29,
          30,
          31,
          32,
          33,
          34,
          35,
          36,
          37,
          38,
          39,
          40,
          41,
          42,
          43,
          44,
          45,
          46,
          47,
          48,
          49,
          50,
          51,
          52,
          53,
          54,
          55,
          56,
          57,
          58,
          59,
          60,
          61,
          62,
          63,
          64,
          65,
          66,
          67,
          68,
          69,
          70,
          71,
          72,
          73,
          74,
          75,
          76,
          77,
          78,
          79,
          80,
          81,
          82,
          83,
          84,
          85,
          86,
          87,
          88,
          89,
          90,
          91,
          92,
          93,
          94,
          95,
          96,
          97,
          98,
          99,
          100,
          101,
          102,
          103,
          104,
          105,
          106,
          107,
          108,
          109,
          110,
          111,
          112,
          113,
          114,
          115,
          116,
          117,
          118,
          119,
          120,
          121,
          122,
          123,
          124,
          125,
          126,
          127,
          128,
          129,
          130,
          131,
          132,
          133,
          134,
          135,
          136,
          137,
          138,
          139,
          140,
          141,
          142,
          143,
          144,
          145,
          146,
          147,
          148,
          149,
          150,
          151,
          152,
          153,
          154,
          155,
          156,
          157,
          158,
          159,
          160,
          161,
          162,
          163,
          164,
          165,
          166,
          167,
          168,
          169,
          170,
          171,
          172,
          173,
          174,
          175,
          176,
          177,
          178,
          179,
          180,
          181,
          182,
          183,
          184,
          185,
          186,
          187,
          188,
          189,
          190,
          191,
          192,
          193,
          194,
          195,
          196,
          197,
          198,
          199,
          200,
          201,
          202,
          203,
          204,
          205,
          206,
          207,
          208,
          209,
          210,
          211,
          212,
          213,
          214,
          215,
          216,
          217,
          218,
          219,
          220,
          221,
          222,
          223,
          224,
          225,
          226,
          227,
          228,
          229,
          230,
          231,
          232,
          233,
          234,
          235,
          236,
          237,
          238,
          239,
          240
         ],
         "xaxis": "x",
         "y": [
          0,
          0.5307289681572088,
          1.0899932122615439,
          1.3880109466557027,
          1.6841357058020243,
          2.031391627603539,
          2.3357977114637687,
          2.668312171546724,
          2.958893285689988,
          3.1278798863788446,
          3.3216617545289413,
          3.35899064706708,
          3.2898338556783755,
          3.2801749456835028,
          3.2782326122095546,
          3.2707631970812003,
          3.2605768224711484,
          3.255116535040584,
          3.330542216974719,
          3.415457494335536,
          3.4842387022079984,
          3.639134219695247,
          3.7677245962239536,
          3.8935013667226115,
          3.9888081278281677,
          4.124145585442219,
          4.1415168948052585,
          4.18627272783126,
          4.349201145120431,
          4.491694377411568,
          4.661530346955706,
          4.901330983940054,
          4.9382222423204,
          4.989593168344267,
          4.917477095985508,
          4.952263713322781,
          4.866823907102482,
          4.88425609234613,
          4.989004987774104,
          5.160098397785473,
          5.281831697767928,
          5.494543516801102,
          5.788420039078341,
          6.234263558446859,
          6.381476782328766,
          6.457878650172896,
          6.420461376745434,
          6.468470692277417,
          6.522587961107135,
          6.471603086957332,
          6.408135512030686,
          6.421930094017214,
          6.437689602802613,
          6.438101370080964,
          6.45408947745382,
          6.473643661256123,
          6.534995244988644,
          6.499137179162945,
          6.506425501831754,
          6.632983314093961,
          6.733745854155135,
          6.832013133508146,
          6.933297000242786,
          6.986346698446846,
          6.983651122985993,
          6.989509913416581,
          7.042436293663737,
          7.132148620062332,
          7.156840754432656,
          7.190871559411317,
          7.23081113374586,
          7.261317642724692,
          7.269751564527801,
          7.291262954111914,
          7.3292195247840635,
          7.364744757139798,
          7.493767572182865,
          7.582137938717381,
          7.613329103668882,
          7.626052787050321,
          7.637008603628183,
          7.671946793285281,
          7.588758964928409,
          7.531257927306786,
          7.4776032087385245,
          7.405380612768419,
          7.325258285402961,
          7.26550793327553,
          7.189920023247914,
          7.14077064526746,
          7.113950984479575,
          7.126093411043578,
          7.160428827132117,
          7.145853285567116,
          7.100456910399772,
          7.047480754954695,
          6.927200917449934,
          6.814522681570939,
          6.710624725978293,
          6.655592234001283,
          6.629819081412323,
          6.617797907435805,
          6.617798033679703,
          6.549376719411834,
          6.514987242008349,
          6.55355903354985,
          6.5091403168445705,
          6.475552194205241,
          6.572666224107808,
          6.613635584952953,
          6.583895355563518,
          6.580182330301693,
          6.637710545836308,
          6.608937254978803,
          6.520223859816416,
          6.451558404676189,
          6.324382884292726,
          6.157425460671327,
          5.998029730081971,
          5.84480123622695,
          5.731335242698941,
          5.5925827283250955,
          5.409506617599948,
          5.2121260600542785,
          5.019792444953162,
          4.862075847318105,
          4.746868628159573,
          4.658032497972385,
          4.599594322479635,
          4.559864762061343,
          4.553367314440148,
          4.5807031399689615,
          4.7261758290210425,
          4.776708943404271,
          4.717312486138758,
          4.7604228603572105,
          4.71033411045587,
          4.7062768124985235,
          4.6753955584623625,
          4.637807428421901,
          4.5737907352588385,
          4.635529231278759,
          4.57459658394937,
          4.584607081453294,
          4.648815937873503,
          4.765919399801599,
          4.793018064813714,
          4.77170923415715,
          4.763080026976058,
          4.65743473687625,
          4.588537771023924,
          4.562950279677853,
          4.555726093001348,
          4.602993260055027,
          4.713702350201491,
          4.8110977672526225,
          4.990212942720893,
          5.054350106677965,
          5.0105850442153725,
          4.986142858951148,
          4.99070929552929,
          5.126680737153802,
          5.385700647865655,
          5.683260936272948,
          5.931539005216045,
          5.9554852582600155,
          5.929609631719214,
          5.865289865818884,
          5.874895866212031,
          5.8231661698097446,
          5.863805641297312,
          5.8805376901487865,
          5.796982810546588,
          5.723258469098852,
          5.6772882749437255,
          5.613267741566262,
          5.629361444444886,
          5.749675721394682,
          5.830244917113391,
          5.849711026530208,
          5.911531819739296,
          6.03281333563369,
          6.043545486677515,
          6.0248611873518545,
          6.029801603833547,
          6.115694476894544,
          6.2942966387188575,
          6.473602330039946,
          6.672547828919724,
          6.59477957691658,
          6.4832170032855645,
          6.401876530182367,
          6.294805111392642,
          6.18803283534076,
          6.1347742572778845,
          6.124689868470818,
          6.145563852983172,
          6.180497635092929,
          6.300786363698229,
          6.413475719296626,
          6.592783441597166,
          6.746997578273646,
          6.875666669257346,
          7.009235293927259,
          7.057350376716254,
          7.138614506467158,
          7.253592674119669,
          7.459988612961561,
          7.6467972541702816,
          7.887695993543057,
          8.1166299439216,
          8.200969459217498,
          8.267991574087953,
          8.324566405326584,
          8.262189466200365,
          8.216357670117237,
          8.186922965924724,
          8.173174270198338,
          8.192585360647929,
          8.286332395913606,
          8.34158774914208,
          8.35329100378971,
          8.372254187805567,
          8.451836762738578,
          8.534140916279078,
          8.594683146413352,
          8.655609457074062,
          8.729707031201814,
          8.826277235736088,
          8.935081199145136,
          9.037795688061212,
          9.11965285992029,
          9.20560209152588,
          9.298677250225758,
          9.369339722366808,
          9.41844000012249,
          9.48180596222516,
          9.520892025032795,
          9.553539313363231,
          9.541336576115288,
          9.534251844127567
         ],
         "yaxis": "y"
        }
       ],
       "layout": {
        "annotations": [
         {
          "font": {},
          "showarrow": false,
          "text": "subset=0",
          "textangle": 90,
          "x": 0.98,
          "xanchor": "left",
          "xref": "paper",
          "y": 0.5,
          "yanchor": "middle",
          "yref": "paper"
         }
        ],
        "height": 800,
        "legend": {
         "title": {
          "text": "variable"
         },
         "tracegroupgap": 0
        },
        "margin": {
         "b": 20,
         "l": 20,
         "r": 20,
         "t": 20
        },
        "template": {
         "data": {
          "bar": [
           {
            "error_x": {
             "color": "rgb(36,36,36)"
            },
            "error_y": {
             "color": "rgb(36,36,36)"
            },
            "marker": {
             "line": {
              "color": "rgb(234,234,242)",
              "width": 0.5
             }
            },
            "type": "bar"
           }
          ],
          "barpolar": [
           {
            "marker": {
             "line": {
              "color": "rgb(234,234,242)",
              "width": 0.5
             }
            },
            "type": "barpolar"
           }
          ],
          "carpet": [
           {
            "aaxis": {
             "endlinecolor": "rgb(36,36,36)",
             "gridcolor": "white",
             "linecolor": "white",
             "minorgridcolor": "white",
             "startlinecolor": "rgb(36,36,36)"
            },
            "baxis": {
             "endlinecolor": "rgb(36,36,36)",
             "gridcolor": "white",
             "linecolor": "white",
             "minorgridcolor": "white",
             "startlinecolor": "rgb(36,36,36)"
            },
            "type": "carpet"
           }
          ],
          "choropleth": [
           {
            "colorbar": {
             "outlinewidth": 0,
             "tickcolor": "rgb(36,36,36)",
             "ticklen": 8,
             "ticks": "outside",
             "tickwidth": 2
            },
            "type": "choropleth"
           }
          ],
          "contour": [
           {
            "colorbar": {
             "outlinewidth": 0,
             "tickcolor": "rgb(36,36,36)",
             "ticklen": 8,
             "ticks": "outside",
             "tickwidth": 2
            },
            "colorscale": [
             [
              0,
              "rgb(2,4,25)"
             ],
             [
              0.06274509803921569,
              "rgb(24,15,41)"
             ],
             [
              0.12549019607843137,
              "rgb(47,23,57)"
             ],
             [
              0.18823529411764706,
              "rgb(71,28,72)"
             ],
             [
              0.25098039215686274,
              "rgb(97,30,82)"
             ],
             [
              0.3137254901960784,
              "rgb(123,30,89)"
             ],
             [
              0.3764705882352941,
              "rgb(150,27,91)"
             ],
             [
              0.4392156862745098,
              "rgb(177,22,88)"
             ],
             [
              0.5019607843137255,
              "rgb(203,26,79)"
             ],
             [
              0.5647058823529412,
              "rgb(223,47,67)"
             ],
             [
              0.6274509803921569,
              "rgb(236,76,61)"
             ],
             [
              0.6901960784313725,
              "rgb(242,107,73)"
             ],
             [
              0.7529411764705882,
              "rgb(244,135,95)"
             ],
             [
              0.8156862745098039,
              "rgb(245,162,122)"
             ],
             [
              0.8784313725490196,
              "rgb(246,188,153)"
             ],
             [
              0.9411764705882353,
              "rgb(247,212,187)"
             ],
             [
              1,
              "rgb(250,234,220)"
             ]
            ],
            "type": "contour"
           }
          ],
          "contourcarpet": [
           {
            "colorbar": {
             "outlinewidth": 0,
             "tickcolor": "rgb(36,36,36)",
             "ticklen": 8,
             "ticks": "outside",
             "tickwidth": 2
            },
            "type": "contourcarpet"
           }
          ],
          "heatmap": [
           {
            "colorbar": {
             "outlinewidth": 0,
             "tickcolor": "rgb(36,36,36)",
             "ticklen": 8,
             "ticks": "outside",
             "tickwidth": 2
            },
            "colorscale": [
             [
              0,
              "rgb(2,4,25)"
             ],
             [
              0.06274509803921569,
              "rgb(24,15,41)"
             ],
             [
              0.12549019607843137,
              "rgb(47,23,57)"
             ],
             [
              0.18823529411764706,
              "rgb(71,28,72)"
             ],
             [
              0.25098039215686274,
              "rgb(97,30,82)"
             ],
             [
              0.3137254901960784,
              "rgb(123,30,89)"
             ],
             [
              0.3764705882352941,
              "rgb(150,27,91)"
             ],
             [
              0.4392156862745098,
              "rgb(177,22,88)"
             ],
             [
              0.5019607843137255,
              "rgb(203,26,79)"
             ],
             [
              0.5647058823529412,
              "rgb(223,47,67)"
             ],
             [
              0.6274509803921569,
              "rgb(236,76,61)"
             ],
             [
              0.6901960784313725,
              "rgb(242,107,73)"
             ],
             [
              0.7529411764705882,
              "rgb(244,135,95)"
             ],
             [
              0.8156862745098039,
              "rgb(245,162,122)"
             ],
             [
              0.8784313725490196,
              "rgb(246,188,153)"
             ],
             [
              0.9411764705882353,
              "rgb(247,212,187)"
             ],
             [
              1,
              "rgb(250,234,220)"
             ]
            ],
            "type": "heatmap"
           }
          ],
          "heatmapgl": [
           {
            "colorbar": {
             "outlinewidth": 0,
             "tickcolor": "rgb(36,36,36)",
             "ticklen": 8,
             "ticks": "outside",
             "tickwidth": 2
            },
            "colorscale": [
             [
              0,
              "rgb(2,4,25)"
             ],
             [
              0.06274509803921569,
              "rgb(24,15,41)"
             ],
             [
              0.12549019607843137,
              "rgb(47,23,57)"
             ],
             [
              0.18823529411764706,
              "rgb(71,28,72)"
             ],
             [
              0.25098039215686274,
              "rgb(97,30,82)"
             ],
             [
              0.3137254901960784,
              "rgb(123,30,89)"
             ],
             [
              0.3764705882352941,
              "rgb(150,27,91)"
             ],
             [
              0.4392156862745098,
              "rgb(177,22,88)"
             ],
             [
              0.5019607843137255,
              "rgb(203,26,79)"
             ],
             [
              0.5647058823529412,
              "rgb(223,47,67)"
             ],
             [
              0.6274509803921569,
              "rgb(236,76,61)"
             ],
             [
              0.6901960784313725,
              "rgb(242,107,73)"
             ],
             [
              0.7529411764705882,
              "rgb(244,135,95)"
             ],
             [
              0.8156862745098039,
              "rgb(245,162,122)"
             ],
             [
              0.8784313725490196,
              "rgb(246,188,153)"
             ],
             [
              0.9411764705882353,
              "rgb(247,212,187)"
             ],
             [
              1,
              "rgb(250,234,220)"
             ]
            ],
            "type": "heatmapgl"
           }
          ],
          "histogram": [
           {
            "marker": {
             "colorbar": {
              "outlinewidth": 0,
              "tickcolor": "rgb(36,36,36)",
              "ticklen": 8,
              "ticks": "outside",
              "tickwidth": 2
             }
            },
            "type": "histogram"
           }
          ],
          "histogram2d": [
           {
            "colorbar": {
             "outlinewidth": 0,
             "tickcolor": "rgb(36,36,36)",
             "ticklen": 8,
             "ticks": "outside",
             "tickwidth": 2
            },
            "colorscale": [
             [
              0,
              "rgb(2,4,25)"
             ],
             [
              0.06274509803921569,
              "rgb(24,15,41)"
             ],
             [
              0.12549019607843137,
              "rgb(47,23,57)"
             ],
             [
              0.18823529411764706,
              "rgb(71,28,72)"
             ],
             [
              0.25098039215686274,
              "rgb(97,30,82)"
             ],
             [
              0.3137254901960784,
              "rgb(123,30,89)"
             ],
             [
              0.3764705882352941,
              "rgb(150,27,91)"
             ],
             [
              0.4392156862745098,
              "rgb(177,22,88)"
             ],
             [
              0.5019607843137255,
              "rgb(203,26,79)"
             ],
             [
              0.5647058823529412,
              "rgb(223,47,67)"
             ],
             [
              0.6274509803921569,
              "rgb(236,76,61)"
             ],
             [
              0.6901960784313725,
              "rgb(242,107,73)"
             ],
             [
              0.7529411764705882,
              "rgb(244,135,95)"
             ],
             [
              0.8156862745098039,
              "rgb(245,162,122)"
             ],
             [
              0.8784313725490196,
              "rgb(246,188,153)"
             ],
             [
              0.9411764705882353,
              "rgb(247,212,187)"
             ],
             [
              1,
              "rgb(250,234,220)"
             ]
            ],
            "type": "histogram2d"
           }
          ],
          "histogram2dcontour": [
           {
            "colorbar": {
             "outlinewidth": 0,
             "tickcolor": "rgb(36,36,36)",
             "ticklen": 8,
             "ticks": "outside",
             "tickwidth": 2
            },
            "colorscale": [
             [
              0,
              "rgb(2,4,25)"
             ],
             [
              0.06274509803921569,
              "rgb(24,15,41)"
             ],
             [
              0.12549019607843137,
              "rgb(47,23,57)"
             ],
             [
              0.18823529411764706,
              "rgb(71,28,72)"
             ],
             [
              0.25098039215686274,
              "rgb(97,30,82)"
             ],
             [
              0.3137254901960784,
              "rgb(123,30,89)"
             ],
             [
              0.3764705882352941,
              "rgb(150,27,91)"
             ],
             [
              0.4392156862745098,
              "rgb(177,22,88)"
             ],
             [
              0.5019607843137255,
              "rgb(203,26,79)"
             ],
             [
              0.5647058823529412,
              "rgb(223,47,67)"
             ],
             [
              0.6274509803921569,
              "rgb(236,76,61)"
             ],
             [
              0.6901960784313725,
              "rgb(242,107,73)"
             ],
             [
              0.7529411764705882,
              "rgb(244,135,95)"
             ],
             [
              0.8156862745098039,
              "rgb(245,162,122)"
             ],
             [
              0.8784313725490196,
              "rgb(246,188,153)"
             ],
             [
              0.9411764705882353,
              "rgb(247,212,187)"
             ],
             [
              1,
              "rgb(250,234,220)"
             ]
            ],
            "type": "histogram2dcontour"
           }
          ],
          "mesh3d": [
           {
            "colorbar": {
             "outlinewidth": 0,
             "tickcolor": "rgb(36,36,36)",
             "ticklen": 8,
             "ticks": "outside",
             "tickwidth": 2
            },
            "type": "mesh3d"
           }
          ],
          "parcoords": [
           {
            "line": {
             "colorbar": {
              "outlinewidth": 0,
              "tickcolor": "rgb(36,36,36)",
              "ticklen": 8,
              "ticks": "outside",
              "tickwidth": 2
             }
            },
            "type": "parcoords"
           }
          ],
          "pie": [
           {
            "automargin": true,
            "type": "pie"
           }
          ],
          "scatter": [
           {
            "marker": {
             "colorbar": {
              "outlinewidth": 0,
              "tickcolor": "rgb(36,36,36)",
              "ticklen": 8,
              "ticks": "outside",
              "tickwidth": 2
             }
            },
            "type": "scatter"
           }
          ],
          "scatter3d": [
           {
            "line": {
             "colorbar": {
              "outlinewidth": 0,
              "tickcolor": "rgb(36,36,36)",
              "ticklen": 8,
              "ticks": "outside",
              "tickwidth": 2
             }
            },
            "marker": {
             "colorbar": {
              "outlinewidth": 0,
              "tickcolor": "rgb(36,36,36)",
              "ticklen": 8,
              "ticks": "outside",
              "tickwidth": 2
             }
            },
            "type": "scatter3d"
           }
          ],
          "scattercarpet": [
           {
            "marker": {
             "colorbar": {
              "outlinewidth": 0,
              "tickcolor": "rgb(36,36,36)",
              "ticklen": 8,
              "ticks": "outside",
              "tickwidth": 2
             }
            },
            "type": "scattercarpet"
           }
          ],
          "scattergeo": [
           {
            "marker": {
             "colorbar": {
              "outlinewidth": 0,
              "tickcolor": "rgb(36,36,36)",
              "ticklen": 8,
              "ticks": "outside",
              "tickwidth": 2
             }
            },
            "type": "scattergeo"
           }
          ],
          "scattergl": [
           {
            "marker": {
             "colorbar": {
              "outlinewidth": 0,
              "tickcolor": "rgb(36,36,36)",
              "ticklen": 8,
              "ticks": "outside",
              "tickwidth": 2
             }
            },
            "type": "scattergl"
           }
          ],
          "scattermapbox": [
           {
            "marker": {
             "colorbar": {
              "outlinewidth": 0,
              "tickcolor": "rgb(36,36,36)",
              "ticklen": 8,
              "ticks": "outside",
              "tickwidth": 2
             }
            },
            "type": "scattermapbox"
           }
          ],
          "scatterpolar": [
           {
            "marker": {
             "colorbar": {
              "outlinewidth": 0,
              "tickcolor": "rgb(36,36,36)",
              "ticklen": 8,
              "ticks": "outside",
              "tickwidth": 2
             }
            },
            "type": "scatterpolar"
           }
          ],
          "scatterpolargl": [
           {
            "marker": {
             "colorbar": {
              "outlinewidth": 0,
              "tickcolor": "rgb(36,36,36)",
              "ticklen": 8,
              "ticks": "outside",
              "tickwidth": 2
             }
            },
            "type": "scatterpolargl"
           }
          ],
          "scatterternary": [
           {
            "marker": {
             "colorbar": {
              "outlinewidth": 0,
              "tickcolor": "rgb(36,36,36)",
              "ticklen": 8,
              "ticks": "outside",
              "tickwidth": 2
             }
            },
            "type": "scatterternary"
           }
          ],
          "surface": [
           {
            "colorbar": {
             "outlinewidth": 0,
             "tickcolor": "rgb(36,36,36)",
             "ticklen": 8,
             "ticks": "outside",
             "tickwidth": 2
            },
            "colorscale": [
             [
              0,
              "rgb(2,4,25)"
             ],
             [
              0.06274509803921569,
              "rgb(24,15,41)"
             ],
             [
              0.12549019607843137,
              "rgb(47,23,57)"
             ],
             [
              0.18823529411764706,
              "rgb(71,28,72)"
             ],
             [
              0.25098039215686274,
              "rgb(97,30,82)"
             ],
             [
              0.3137254901960784,
              "rgb(123,30,89)"
             ],
             [
              0.3764705882352941,
              "rgb(150,27,91)"
             ],
             [
              0.4392156862745098,
              "rgb(177,22,88)"
             ],
             [
              0.5019607843137255,
              "rgb(203,26,79)"
             ],
             [
              0.5647058823529412,
              "rgb(223,47,67)"
             ],
             [
              0.6274509803921569,
              "rgb(236,76,61)"
             ],
             [
              0.6901960784313725,
              "rgb(242,107,73)"
             ],
             [
              0.7529411764705882,
              "rgb(244,135,95)"
             ],
             [
              0.8156862745098039,
              "rgb(245,162,122)"
             ],
             [
              0.8784313725490196,
              "rgb(246,188,153)"
             ],
             [
              0.9411764705882353,
              "rgb(247,212,187)"
             ],
             [
              1,
              "rgb(250,234,220)"
             ]
            ],
            "type": "surface"
           }
          ],
          "table": [
           {
            "cells": {
             "fill": {
              "color": "rgb(231,231,240)"
             },
             "line": {
              "color": "white"
             }
            },
            "header": {
             "fill": {
              "color": "rgb(183,183,191)"
             },
             "line": {
              "color": "white"
             }
            },
            "type": "table"
           }
          ]
         },
         "layout": {
          "annotationdefaults": {
           "arrowcolor": "rgb(67,103,167)"
          },
          "coloraxis": {
           "colorbar": {
            "outlinewidth": 0,
            "tickcolor": "rgb(36,36,36)",
            "ticklen": 8,
            "ticks": "outside",
            "tickwidth": 2
           }
          },
          "colorscale": {
           "sequential": [
            [
             0,
             "rgb(2,4,25)"
            ],
            [
             0.06274509803921569,
             "rgb(24,15,41)"
            ],
            [
             0.12549019607843137,
             "rgb(47,23,57)"
            ],
            [
             0.18823529411764706,
             "rgb(71,28,72)"
            ],
            [
             0.25098039215686274,
             "rgb(97,30,82)"
            ],
            [
             0.3137254901960784,
             "rgb(123,30,89)"
            ],
            [
             0.3764705882352941,
             "rgb(150,27,91)"
            ],
            [
             0.4392156862745098,
             "rgb(177,22,88)"
            ],
            [
             0.5019607843137255,
             "rgb(203,26,79)"
            ],
            [
             0.5647058823529412,
             "rgb(223,47,67)"
            ],
            [
             0.6274509803921569,
             "rgb(236,76,61)"
            ],
            [
             0.6901960784313725,
             "rgb(242,107,73)"
            ],
            [
             0.7529411764705882,
             "rgb(244,135,95)"
            ],
            [
             0.8156862745098039,
             "rgb(245,162,122)"
            ],
            [
             0.8784313725490196,
             "rgb(246,188,153)"
            ],
            [
             0.9411764705882353,
             "rgb(247,212,187)"
            ],
            [
             1,
             "rgb(250,234,220)"
            ]
           ],
           "sequentialminus": [
            [
             0,
             "rgb(2,4,25)"
            ],
            [
             0.06274509803921569,
             "rgb(24,15,41)"
            ],
            [
             0.12549019607843137,
             "rgb(47,23,57)"
            ],
            [
             0.18823529411764706,
             "rgb(71,28,72)"
            ],
            [
             0.25098039215686274,
             "rgb(97,30,82)"
            ],
            [
             0.3137254901960784,
             "rgb(123,30,89)"
            ],
            [
             0.3764705882352941,
             "rgb(150,27,91)"
            ],
            [
             0.4392156862745098,
             "rgb(177,22,88)"
            ],
            [
             0.5019607843137255,
             "rgb(203,26,79)"
            ],
            [
             0.5647058823529412,
             "rgb(223,47,67)"
            ],
            [
             0.6274509803921569,
             "rgb(236,76,61)"
            ],
            [
             0.6901960784313725,
             "rgb(242,107,73)"
            ],
            [
             0.7529411764705882,
             "rgb(244,135,95)"
            ],
            [
             0.8156862745098039,
             "rgb(245,162,122)"
            ],
            [
             0.8784313725490196,
             "rgb(246,188,153)"
            ],
            [
             0.9411764705882353,
             "rgb(247,212,187)"
            ],
            [
             1,
             "rgb(250,234,220)"
            ]
           ]
          },
          "colorway": [
           "rgb(76,114,176)",
           "rgb(221,132,82)",
           "rgb(85,168,104)",
           "rgb(196,78,82)",
           "rgb(129,114,179)",
           "rgb(147,120,96)",
           "rgb(218,139,195)",
           "rgb(140,140,140)",
           "rgb(204,185,116)",
           "rgb(100,181,205)"
          ],
          "font": {
           "color": "rgb(36,36,36)"
          },
          "geo": {
           "bgcolor": "white",
           "lakecolor": "white",
           "landcolor": "rgb(234,234,242)",
           "showlakes": true,
           "showland": true,
           "subunitcolor": "white"
          },
          "hoverlabel": {
           "align": "left"
          },
          "hovermode": "closest",
          "paper_bgcolor": "white",
          "plot_bgcolor": "rgb(234,234,242)",
          "polar": {
           "angularaxis": {
            "gridcolor": "white",
            "linecolor": "white",
            "showgrid": true,
            "ticks": ""
           },
           "bgcolor": "rgb(234,234,242)",
           "radialaxis": {
            "gridcolor": "white",
            "linecolor": "white",
            "showgrid": true,
            "ticks": ""
           }
          },
          "scene": {
           "xaxis": {
            "backgroundcolor": "rgb(234,234,242)",
            "gridcolor": "white",
            "gridwidth": 2,
            "linecolor": "white",
            "showbackground": true,
            "showgrid": true,
            "ticks": "",
            "zerolinecolor": "white"
           },
           "yaxis": {
            "backgroundcolor": "rgb(234,234,242)",
            "gridcolor": "white",
            "gridwidth": 2,
            "linecolor": "white",
            "showbackground": true,
            "showgrid": true,
            "ticks": "",
            "zerolinecolor": "white"
           },
           "zaxis": {
            "backgroundcolor": "rgb(234,234,242)",
            "gridcolor": "white",
            "gridwidth": 2,
            "linecolor": "white",
            "showbackground": true,
            "showgrid": true,
            "ticks": "",
            "zerolinecolor": "white"
           }
          },
          "shapedefaults": {
           "fillcolor": "rgb(67,103,167)",
           "line": {
            "width": 0
           },
           "opacity": 0.5
          },
          "ternary": {
           "aaxis": {
            "gridcolor": "white",
            "linecolor": "white",
            "showgrid": true,
            "ticks": ""
           },
           "baxis": {
            "gridcolor": "white",
            "linecolor": "white",
            "showgrid": true,
            "ticks": ""
           },
           "bgcolor": "rgb(234,234,242)",
           "caxis": {
            "gridcolor": "white",
            "linecolor": "white",
            "showgrid": true,
            "ticks": ""
           }
          },
          "xaxis": {
           "automargin": true,
           "gridcolor": "white",
           "linecolor": "white",
           "showgrid": true,
           "ticks": "",
           "title": {
            "standoff": 15
           },
           "zerolinecolor": "white"
          },
          "yaxis": {
           "automargin": true,
           "gridcolor": "white",
           "linecolor": "white",
           "showgrid": true,
           "ticks": "",
           "title": {
            "standoff": 15
           },
           "zerolinecolor": "white"
          }
         }
        },
        "xaxis": {
         "anchor": "y",
         "domain": [
          0,
          0.98
         ],
         "title": {
          "text": "timestep"
         }
        },
        "yaxis": {
         "anchor": "x",
         "domain": [
          0,
          1
         ],
         "title": {
          "text": "value"
         }
        }
       }
      }
     },
     "metadata": {}
    }
   ],
   "source": [
    "fig = px.line(\n",
    "    simulation_result,\n",
    "    x='timestep',\n",
    "    y=['utility'],\n",
    "    facet_row='subset',\n",
    "    height=800,\n",
    "    template='seaborn'\n",
    ")\n",
    "\n",
    "fig.update_layout(\n",
    "    margin=dict(l=20, r=20, t=20, b=20),\n",
    ")\n",
    "\n",
    "fig.show()"
   ]
  },
  {
   "cell_type": "code",
   "execution_count": null,
   "metadata": {},
   "outputs": [],
   "source": []
  }
 ],
 "metadata": {
  "kernelspec": {
   "display_name": "Python 3",
   "language": "python",
   "name": "python3"
  },
  "language_info": {
   "codemirror_mode": {
    "name": "ipython",
    "version": 3
   },
   "file_extension": ".py",
   "mimetype": "text/x-python",
   "name": "python",
   "nbconvert_exporter": "python",
   "pygments_lexer": "ipython3",
   "version": "3.9.0-final"
  }
 },
 "nbformat": 4,
 "nbformat_minor": 4
}